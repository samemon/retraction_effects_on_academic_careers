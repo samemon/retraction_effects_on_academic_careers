{
 "cells": [
  {
   "cell_type": "markdown",
   "id": "9d9f1a01",
   "metadata": {},
   "source": [
    "## Extract final retraction notices\n",
    "\n",
    "In this notebook, we shall extract retraction notices to be removed from all calculation. \n",
    "\n",
    "We will do so by:\n",
    "\n",
    "1. Extracting retraction notices that were identified based on MAG\n",
    "2. Removing from those that were matched to a record in RW (using our logic in 0e.process_paper_matching.ipynb)\n",
    "3. We will save this difference so that we can:\n",
    "\n",
    "    a. Remove these notices when identifying attrition year of authors\n",
    "    \n",
    "    b. Remove these notices when calculating confounders (as the year of retraction was included)"
   ]
  },
  {
   "cell_type": "code",
   "execution_count": 1,
   "id": "d987ffd0",
   "metadata": {},
   "outputs": [],
   "source": [
    "# Importing relevant packages\n",
    "\n",
    "import pandas as pd\n",
    "import os\n",
    "from config_reader import read_config"
   ]
  },
  {
   "cell_type": "code",
   "execution_count": 2,
   "id": "1b1e5f37",
   "metadata": {},
   "outputs": [],
   "source": [
    "# Reading paths\n",
    "paths = read_config()\n",
    "RETRACTION_NOTICES_LOCAL_PATH = paths['RETRACTION_NOTICES_LOCAL_PATH']\n",
    "PROCESSED_RW_MAG_FINAL_PAPER_MATCHES_LOCAL_PATH = paths['PROCESSED_RW_MAG_FINAL_PAPER_MATCHES_LOCAL_PATH']\n",
    "OUTDIR = paths['PROCESSED_FOLDER_LOCAL']"
   ]
  },
  {
   "cell_type": "code",
   "execution_count": 16,
   "id": "7974300e",
   "metadata": {},
   "outputs": [
    {
     "data": {
      "text/html": [
       "<div>\n",
       "<style scoped>\n",
       "    .dataframe tbody tr th:only-of-type {\n",
       "        vertical-align: middle;\n",
       "    }\n",
       "\n",
       "    .dataframe tbody tr th {\n",
       "        vertical-align: top;\n",
       "    }\n",
       "\n",
       "    .dataframe thead th {\n",
       "        text-align: right;\n",
       "    }\n",
       "</style>\n",
       "<table border=\"1\" class=\"dataframe\">\n",
       "  <thead>\n",
       "    <tr style=\"text-align: right;\">\n",
       "      <th></th>\n",
       "      <th>PID</th>\n",
       "      <th>PaperTitle</th>\n",
       "      <th>OriginalTitle</th>\n",
       "      <th>PubYear</th>\n",
       "      <th>DocSubTypes</th>\n",
       "    </tr>\n",
       "  </thead>\n",
       "  <tbody>\n",
       "    <tr>\n",
       "      <th>0</th>\n",
       "      <td>1591961241</td>\n",
       "      <td>notice of retraction a method of multi dimensi...</td>\n",
       "      <td>Notice of Retraction A method of multi-dimensi...</td>\n",
       "      <td>2010</td>\n",
       "      <td>Retraction Notice</td>\n",
       "    </tr>\n",
       "    <tr>\n",
       "      <th>1</th>\n",
       "      <td>1868656167</td>\n",
       "      <td>notice of retraction effect of asparagus polys...</td>\n",
       "      <td>Notice of Retraction Effect of Asparagus polys...</td>\n",
       "      <td>2010</td>\n",
       "      <td>Retraction Notice</td>\n",
       "    </tr>\n",
       "    <tr>\n",
       "      <th>2</th>\n",
       "      <td>2042025123</td>\n",
       "      <td>retraction note to therapeutic effects of metf...</td>\n",
       "      <td>Retraction Note to: Therapeutic effects of met...</td>\n",
       "      <td>2016</td>\n",
       "      <td>Retraction Notice</td>\n",
       "    </tr>\n",
       "    <tr>\n",
       "      <th>3</th>\n",
       "      <td>2050825760</td>\n",
       "      <td>retraction note to aging decreases rate of doc...</td>\n",
       "      <td>Retraction Note to: Aging decreases rate of do...</td>\n",
       "      <td>2013</td>\n",
       "      <td>Retraction Notice</td>\n",
       "    </tr>\n",
       "    <tr>\n",
       "      <th>4</th>\n",
       "      <td>2770316826</td>\n",
       "      <td>notice of retraction a study of the eye catchi...</td>\n",
       "      <td>Notice of Retraction A study of the eye-catchi...</td>\n",
       "      <td>2017</td>\n",
       "      <td>Retraction Notice</td>\n",
       "    </tr>\n",
       "  </tbody>\n",
       "</table>\n",
       "</div>"
      ],
      "text/plain": [
       "          PID                                         PaperTitle  \\\n",
       "0  1591961241  notice of retraction a method of multi dimensi...   \n",
       "1  1868656167  notice of retraction effect of asparagus polys...   \n",
       "2  2042025123  retraction note to therapeutic effects of metf...   \n",
       "3  2050825760  retraction note to aging decreases rate of doc...   \n",
       "4  2770316826  notice of retraction a study of the eye catchi...   \n",
       "\n",
       "                                       OriginalTitle  PubYear  \\\n",
       "0  Notice of Retraction A method of multi-dimensi...     2010   \n",
       "1  Notice of Retraction Effect of Asparagus polys...     2010   \n",
       "2  Retraction Note to: Therapeutic effects of met...     2016   \n",
       "3  Retraction Note to: Aging decreases rate of do...     2013   \n",
       "4  Notice of Retraction A study of the eye-catchi...     2017   \n",
       "\n",
       "         DocSubTypes  \n",
       "0  Retraction Notice  \n",
       "1  Retraction Notice  \n",
       "2  Retraction Notice  \n",
       "3  Retraction Notice  \n",
       "4  Retraction Notice  "
      ]
     },
     "execution_count": 16,
     "metadata": {},
     "output_type": "execute_result"
    }
   ],
   "source": [
    "df_notices = pd.read_csv(RETRACTION_NOTICES_LOCAL_PATH)\n",
    "df_notices.head()"
   ]
  },
  {
   "cell_type": "code",
   "execution_count": 17,
   "id": "458f9a25",
   "metadata": {},
   "outputs": [
    {
     "data": {
      "text/plain": [
       "16115"
      ]
     },
     "execution_count": 17,
     "metadata": {},
     "output_type": "execute_result"
    }
   ],
   "source": [
    "df_notices['PID'].nunique()"
   ]
  },
  {
   "cell_type": "code",
   "execution_count": 18,
   "id": "338c4225",
   "metadata": {},
   "outputs": [
    {
     "data": {
      "text/plain": [
       "6187"
      ]
     },
     "execution_count": 18,
     "metadata": {},
     "output_type": "execute_result"
    }
   ],
   "source": [
    "magpids_rw_mag_matches = pd.read_csv(PROCESSED_RW_MAG_FINAL_PAPER_MATCHES_LOCAL_PATH)['MAGPID'].unique()\n",
    "len(magpids_rw_mag_matches)"
   ]
  },
  {
   "cell_type": "code",
   "execution_count": 20,
   "id": "be90b56c",
   "metadata": {},
   "outputs": [
    {
     "data": {
      "text/plain": [
       "15892"
      ]
     },
     "execution_count": 20,
     "metadata": {},
     "output_type": "execute_result"
    }
   ],
   "source": [
    "# Now let us remove them\n",
    "\n",
    "df_notices_postfiltering = df_notices[~df_notices['PID'].isin(magpids_rw_mag_matches)]\n",
    "df_notices_postfiltering['PID'].nunique()"
   ]
  },
  {
   "cell_type": "code",
   "execution_count": 22,
   "id": "c3a5a616",
   "metadata": {},
   "outputs": [
    {
     "name": "stdout",
     "output_type": "stream",
     "text": [
      "File saved successfully\n"
     ]
    }
   ],
   "source": [
    "# Saving\n",
    "\n",
    "FILENAME = \"retraction_notices_postfiltering\"\n",
    "\n",
    "# Create a full file path with timestamp\n",
    "file_path = os.path.join(OUTDIR, f\"{FILENAME}.csv\")\n",
    "\n",
    "# Writing DataFrame to CSV with error handling\n",
    "try:\n",
    "    df_notices_postfiltering.to_csv(file_path, index=False)\n",
    "    print(f\"File saved successfully\")\n",
    "except Exception as e:\n",
    "    print(f\"Error saving file: {e}\")"
   ]
  },
  {
   "cell_type": "code",
   "execution_count": null,
   "id": "8f5a932f",
   "metadata": {},
   "outputs": [],
   "source": []
  }
 ],
 "metadata": {
  "kernelspec": {
   "display_name": "Python 3 (ipykernel)",
   "language": "python",
   "name": "python3"
  },
  "language_info": {
   "codemirror_mode": {
    "name": "ipython",
    "version": 3
   },
   "file_extension": ".py",
   "mimetype": "text/x-python",
   "name": "python",
   "nbconvert_exporter": "python",
   "pygments_lexer": "ipython3",
   "version": "3.9.4"
  }
 },
 "nbformat": 4,
 "nbformat_minor": 5
}
