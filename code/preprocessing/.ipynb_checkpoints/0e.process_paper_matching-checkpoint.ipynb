{
 "cells": [
  {
   "cell_type": "markdown",
   "id": "e0c0856f",
   "metadata": {},
   "source": [
    "## Processing Paper Matches\n",
    "\n",
    "In this notebook, we shall process the RW-MAG paper matches, and consolidate the matches based on different criteria into a single csv file. We shall also remove the retraction notices from the MAG matches."
   ]
  },
  {
   "cell_type": "markdown",
   "id": "a7e46c7e",
   "metadata": {},
   "source": [
    "## The process of filtering records, and matches\n",
    "\n",
    "\n",
    "0. **Remove retraction notices in RW**\n",
    "1. **Remove all the bulk retractions**\n",
    "2. **Remove all records with duplicate titles in RW**\n",
    "3. **Remove all records beyond 1990-2015**\n",
    "4. **Paper Matching**\n",
    "       a. Exact DOI\n",
    "       b. Exact Title\n",
    "       c. Exact year fuzzy title\n",
    "           c1. Keep all papers with the same DOI\n",
    "           c2. Matches to hard code: MAGPID: 2418262483 for 4465 and 3011105395 for 24881\n",
    "           c3. Remove all the matches that have \"Retraction Note\" or \"Retraction Notice\"\n",
    "           c4. We will keep all the records with the same retraction year as publication year.\n",
    "       d. Fuzzy year fuzzy matching\n",
    "           d1. Keep all papers with the same DOI\n",
    "           d3. Remove all the matches that have \"Retraction Note\" or \"Retraction Notice\"\n",
    "           d4. We will keep all the records with the same retraction year as publication year.\n",
    "5. Compile all the matches into a single dataframe and save it"
   ]
  },
  {
   "cell_type": "code",
   "execution_count": 1,
   "id": "c98d13a3",
   "metadata": {},
   "outputs": [],
   "source": [
    "# Importing relevant packages\n",
    "\n",
    "import pandas as pd\n",
    "import os\n",
    "from config_reader import read_config"
   ]
  },
  {
   "cell_type": "code",
   "execution_count": 101,
   "id": "b71ec478",
   "metadata": {},
   "outputs": [],
   "source": [
    "# Reading paths\n",
    "paths = read_config()\n",
    "FUZZYMATCH_LOCAL_PATH = paths['FUZZYMATCH_LOCAL_PATH']\n",
    "RW_ORIGINAL_W_YEAR_LOCAL_PATH = paths['RW_ORIGINAL_W_YEAR_LOCAL_PATH']\n",
    "PROCESSED_EXACT_PAPER_MATCH_LOCAL_PATH = paths['PROCESSED_EXACT_PAPER_MATCH_LOCAL_PATH']\n",
    "RETRACTION_NOTICES_LOCAL_PATH = paths['RETRACTION_NOTICES_LOCAL_PATH']\n",
    "OUTDIR = paths['PROCESSED_FOLDER_LOCAL']"
   ]
  },
  {
   "cell_type": "code",
   "execution_count": 3,
   "id": "976a75a4",
   "metadata": {},
   "outputs": [],
   "source": [
    "# Reading list of all files in fuzzy match directory\n",
    "flist = os.listdir(FUZZYMATCH_LOCAL_PATH)"
   ]
  },
  {
   "cell_type": "code",
   "execution_count": 93,
   "id": "f2c6958c",
   "metadata": {},
   "outputs": [
    {
     "data": {
      "text/html": [
       "<div>\n",
       "<style scoped>\n",
       "    .dataframe tbody tr th:only-of-type {\n",
       "        vertical-align: middle;\n",
       "    }\n",
       "\n",
       "    .dataframe tbody tr th {\n",
       "        vertical-align: top;\n",
       "    }\n",
       "\n",
       "    .dataframe thead th {\n",
       "        text-align: right;\n",
       "    }\n",
       "</style>\n",
       "<table border=\"1\" class=\"dataframe\">\n",
       "  <thead>\n",
       "    <tr style=\"text-align: right;\">\n",
       "      <th></th>\n",
       "      <th>Record ID</th>\n",
       "      <th>Title</th>\n",
       "      <th>Journal</th>\n",
       "      <th>ArticleType</th>\n",
       "      <th>RetractionDate</th>\n",
       "      <th>RetractionDOI</th>\n",
       "      <th>RetractionPubMedID</th>\n",
       "      <th>OriginalPaperDOI</th>\n",
       "      <th>OriginalPaperPubMedID</th>\n",
       "      <th>Reason</th>\n",
       "      <th>OriginalPaperYear</th>\n",
       "      <th>RetractionYear</th>\n",
       "    </tr>\n",
       "  </thead>\n",
       "  <tbody>\n",
       "    <tr>\n",
       "      <th>0</th>\n",
       "      <td>28599</td>\n",
       "      <td>TWEAK-Fn14 Influences Neurogenesis Status via ...</td>\n",
       "      <td>Molecular Neurobiology</td>\n",
       "      <td>Research Article;</td>\n",
       "      <td>2021-05-15</td>\n",
       "      <td>10.1007/s12035-021-02424-8</td>\n",
       "      <td>33991321</td>\n",
       "      <td>10.1007/s12035-016-0248-x</td>\n",
       "      <td>27822714</td>\n",
       "      <td>+Duplication of Image;+Unreliable Data;</td>\n",
       "      <td>2016.0</td>\n",
       "      <td>2021.0</td>\n",
       "    </tr>\n",
       "  </tbody>\n",
       "</table>\n",
       "</div>"
      ],
      "text/plain": [
       "   Record ID                                              Title  \\\n",
       "0      28599  TWEAK-Fn14 Influences Neurogenesis Status via ...   \n",
       "\n",
       "                  Journal        ArticleType RetractionDate  \\\n",
       "0  Molecular Neurobiology  Research Article;     2021-05-15   \n",
       "\n",
       "                RetractionDOI RetractionPubMedID           OriginalPaperDOI  \\\n",
       "0  10.1007/s12035-021-02424-8           33991321  10.1007/s12035-016-0248-x   \n",
       "\n",
       "  OriginalPaperPubMedID                                   Reason  \\\n",
       "0              27822714  +Duplication of Image;+Unreliable Data;   \n",
       "\n",
       "   OriginalPaperYear  RetractionYear  \n",
       "0             2016.0          2021.0  "
      ]
     },
     "execution_count": 93,
     "metadata": {},
     "output_type": "execute_result"
    }
   ],
   "source": [
    "# Reading retraction watch dataset\n",
    "df_rw = pd.read_csv(RW_ORIGINAL_W_YEAR_LOCAL_PATH, usecols=['Record ID', 'Title', 'RetractionDate' , \n",
    "                                                            'RetractionYear', 'OriginalPaperYear',\n",
    "                                                           'RetractionDOI','OriginalPaperDOI',\n",
    "                                                            'RetractionPubMedID', 'OriginalPaperPubMedID',\n",
    "                                                           'Journal', 'ArticleType', 'Reason'])\n",
    "df_rw.head(1)"
   ]
  },
  {
   "cell_type": "markdown",
   "id": "f4c9d2b0",
   "metadata": {},
   "source": [
    "# 0. Identifying Retraction Notices RW"
   ]
  },
  {
   "cell_type": "code",
   "execution_count": 5,
   "id": "4adaa416",
   "metadata": {
    "scrolled": true
   },
   "outputs": [
    {
     "name": "stdout",
     "output_type": "stream",
     "text": [
      "Number of records identified as retraction notices in RW: 6\n"
     ]
    }
   ],
   "source": [
    "# We are extracting all articletypes that contain \"Retraction notice\" as a keyword (very few records)\n",
    "records_removed_notices_from_RW = df_rw[~df_rw['ArticleType'].isna() & df_rw['ArticleType']\\\n",
    "                                        .str.contains('Retraction Notice')]['Record ID'].unique()\n",
    "\n",
    "print(f\"Number of records identified as retraction notices in RW: {len(records_removed_notices_from_RW)}\")"
   ]
  },
  {
   "cell_type": "markdown",
   "id": "9e20d1c4",
   "metadata": {},
   "source": [
    "# 1. Identifying bulk retractions"
   ]
  },
  {
   "cell_type": "code",
   "execution_count": 6,
   "id": "50c8fdef",
   "metadata": {},
   "outputs": [
    {
     "name": "stdout",
     "output_type": "stream",
     "text": [
      "Number of records identified in bulk retractions: 11357\n"
     ]
    }
   ],
   "source": [
    "# Identify bulk retreactions\n",
    "df_rw_bulkCounts = df_rw.groupby(['Journal','RetractionDate'])['Record ID'].nunique().reset_index()\\\n",
    "                            .rename(columns={'Record ID':'bulkCounts'})\n",
    "\n",
    "# merging with actual RW \n",
    "df_rw_temp = df_rw.merge(df_rw_bulkCounts, on=['Journal','RetractionDate'], how='left')\n",
    "\n",
    "# Records to be removed due to bulk retractions\n",
    "records_removed_bulk_retractions = df_rw_temp[df_rw_temp['bulkCounts'].ge(5)]['Record ID'].unique()\n",
    "\n",
    "print(f\"Number of records identified in bulk retractions: {len(records_removed_bulk_retractions)}\")"
   ]
  },
  {
   "cell_type": "code",
   "execution_count": 7,
   "id": "6a14dcef",
   "metadata": {},
   "outputs": [
    {
     "data": {
      "text/plain": [
       "11356"
      ]
     },
     "execution_count": 7,
     "metadata": {},
     "output_type": "execute_result"
    }
   ],
   "source": [
    "# printing the difference\n",
    "\n",
    "len(set(records_removed_bulk_retractions)-set(records_removed_notices_from_RW))"
   ]
  },
  {
   "cell_type": "markdown",
   "id": "09a982b1",
   "metadata": {},
   "source": [
    "# 2. Identifying duplicate title records"
   ]
  },
  {
   "cell_type": "code",
   "execution_count": 8,
   "id": "0829eba9",
   "metadata": {},
   "outputs": [
    {
     "name": "stdout",
     "output_type": "stream",
     "text": [
      "Number of records identified in duplicate titles: 123\n"
     ]
    }
   ],
   "source": [
    "# Extracting records with duplicate titles in RW\n",
    "records_removed_duplicate_titles = df_rw[df_rw['Title'].duplicated(keep=False)]\\\n",
    "                                        .sort_values(by=['Title'])['Record ID'].unique()\n",
    "\n",
    "print(f\"Number of records identified in duplicate titles: {len(records_removed_duplicate_titles)}\")"
   ]
  },
  {
   "cell_type": "code",
   "execution_count": 9,
   "id": "9d7ebe2b",
   "metadata": {},
   "outputs": [
    {
     "data": {
      "text/plain": [
       "108"
      ]
     },
     "execution_count": 9,
     "metadata": {},
     "output_type": "execute_result"
    }
   ],
   "source": [
    "# printing the difference\n",
    "\n",
    "len(set(records_removed_duplicate_titles)-set(records_removed_bulk_retractions)-set(records_removed_notices_from_RW))"
   ]
  },
  {
   "cell_type": "markdown",
   "id": "64f452fa",
   "metadata": {},
   "source": [
    "# 3. Identifying records beyond 1990-2015"
   ]
  },
  {
   "cell_type": "code",
   "execution_count": 10,
   "id": "785a29df",
   "metadata": {},
   "outputs": [
    {
     "name": "stdout",
     "output_type": "stream",
     "text": [
      "Number of records identified beyond 1990-2015: 10321\n"
     ]
    }
   ],
   "source": [
    "# extracting records that are not in our window\n",
    "records_removed_1990_2015 = df_rw[df_rw['RetractionYear'].lt(1990) | \n",
    "                                 df_rw['RetractionYear'].gt(2015)]\\\n",
    "                                        ['Record ID'].unique()\n",
    "\n",
    "print(f\"Number of records identified beyond 1990-2015: {len(records_removed_1990_2015)}\")"
   ]
  },
  {
   "cell_type": "code",
   "execution_count": 11,
   "id": "6ac8477f",
   "metadata": {},
   "outputs": [
    {
     "data": {
      "text/plain": [
       "8330"
      ]
     },
     "execution_count": 11,
     "metadata": {},
     "output_type": "execute_result"
    }
   ],
   "source": [
    "# looking at the difference in the number of records due to this specific filter\n",
    "len(set(records_removed_1990_2015)-set(records_removed_duplicate_titles)\\\n",
    "        -set(records_removed_bulk_retractions)-set(records_removed_notices_from_RW))"
   ]
  },
  {
   "cell_type": "markdown",
   "id": "53d9d232",
   "metadata": {},
   "source": [
    "# * Creating big list of records removed so far"
   ]
  },
  {
   "cell_type": "code",
   "execution_count": 12,
   "id": "bee2e9e4",
   "metadata": {},
   "outputs": [
    {
     "name": "stdout",
     "output_type": "stream",
     "text": [
      "Number of records removed due to the above filters 19800\n"
     ]
    }
   ],
   "source": [
    "# Finally creating a big list of records that we just have to remove due to filtering process\n",
    "records_filtered = set(list(records_removed_1990_2015)+list(records_removed_duplicate_titles)\\\n",
    "        +list(records_removed_bulk_retractions)+list(records_removed_notices_from_RW))\n",
    "\n",
    "print(f\"Number of records removed due to the above filters {len(records_filtered)}\")"
   ]
  },
  {
   "cell_type": "markdown",
   "id": "7c99e641",
   "metadata": {},
   "source": [
    "# 4. Paper Matching"
   ]
  },
  {
   "cell_type": "code",
   "execution_count": 13,
   "id": "eac5a8b3",
   "metadata": {},
   "outputs": [],
   "source": [
    "def extract_record_summary(dfi):\n",
    "    \"\"\"\n",
    "    This function shall be used to \n",
    "    give a summary in terms of the \n",
    "    (a) total records in the dataframe (dfi)\n",
    "    as well as the \n",
    "    (b) total records between 1990-2015, as well as \n",
    "    (c) the average number of matches per record for \n",
    "    both (a) and (b) and also the \n",
    "    (d) the max number of matches for (a) and (b), and also\n",
    "    (e) the number of records with more than 1 fuzzy match\n",
    "    \"\"\"\n",
    "    \n",
    "    print(\"Number of unique records:\", dfi['Record ID'].nunique())\n",
    "    print(\"Average number of matches per record\", \n",
    "          dfi.groupby(['Record ID'])['MAGPID'].nunique().mean())\n",
    "    print(\"Max number of matches per record\", \n",
    "          dfi.groupby(['Record ID'])['MAGPID'].nunique().max())\n",
    "    dfj = dfi.groupby(['Record ID'])['MAGPID'].nunique().reset_index()\\\n",
    "                .rename(columns={'MAGPID':'NumMatches'})\n",
    "    print(\"Records with exactly 1 match\", \n",
    "          dfj[dfj['NumMatches'].eq(1)]['Record ID'].nunique())\n",
    "    print(\"Records with more than 1 match\",\n",
    "         dfj[dfj['NumMatches'].gt(1)]['Record ID'].nunique())\n",
    "    \n",
    "    \n",
    "    print(\"###########\")\n",
    "    records_1990_2015 = dfi[dfi['RetractionYear'].ge(1990) & dfi['RetractionYear'].le(2015)]\n",
    "    print(\"Number of unique records retracted between 1990-2015:\", \n",
    "          records_1990_2015['Record ID'].nunique())\n",
    "    print(\"Average number of matches per record for 1990-2015\", \n",
    "          records_1990_2015.groupby(['Record ID'])['MAGPID'].nunique().mean())\n",
    "    print(\"Max number of matches per record for 1990-2015\", \n",
    "          records_1990_2015.groupby(['Record ID'])['MAGPID'].nunique().max())\n",
    "    dfk = records_1990_2015.groupby(['Record ID'])['MAGPID'].nunique().reset_index()\\\n",
    "                .rename(columns={'MAGPID':'NumMatches'})\n",
    "    print(\"Records with exactly 1 match for 1990-2015\", \n",
    "          dfk[dfk['NumMatches'].eq(1)]['Record ID'].nunique())\n",
    "    print(\"Records with more than 1 match for 1990-2015\",\n",
    "         dfk[dfk['NumMatches'].gt(1)]['Record ID'].nunique())\n",
    "    "
   ]
  },
  {
   "cell_type": "markdown",
   "id": "74faeb38",
   "metadata": {},
   "source": [
    "## a. and b. Processing Exact Matching (based on DOI or Title)"
   ]
  },
  {
   "cell_type": "code",
   "execution_count": 14,
   "id": "e602f4fb",
   "metadata": {},
   "outputs": [
    {
     "data": {
      "text/html": [
       "<div>\n",
       "<style scoped>\n",
       "    .dataframe tbody tr th:only-of-type {\n",
       "        vertical-align: middle;\n",
       "    }\n",
       "\n",
       "    .dataframe tbody tr th {\n",
       "        vertical-align: top;\n",
       "    }\n",
       "\n",
       "    .dataframe thead th {\n",
       "        text-align: right;\n",
       "    }\n",
       "</style>\n",
       "<table border=\"1\" class=\"dataframe\">\n",
       "  <thead>\n",
       "    <tr style=\"text-align: right;\">\n",
       "      <th></th>\n",
       "      <th>Record ID</th>\n",
       "      <th>RWTitleNorm</th>\n",
       "      <th>OriginalPaperDOI</th>\n",
       "      <th>MAGPID</th>\n",
       "      <th>MAGTitle</th>\n",
       "      <th>MAGPubYear</th>\n",
       "      <th>Title</th>\n",
       "      <th>Journal</th>\n",
       "      <th>ArticleType</th>\n",
       "      <th>RetractionDate</th>\n",
       "      <th>RetractionDOI</th>\n",
       "      <th>RetractionPubMedID</th>\n",
       "      <th>OriginalPaperPubMedID</th>\n",
       "      <th>Reason</th>\n",
       "      <th>RetractionYear</th>\n",
       "    </tr>\n",
       "  </thead>\n",
       "  <tbody>\n",
       "    <tr>\n",
       "      <th>0</th>\n",
       "      <td>28505</td>\n",
       "      <td>tet1 exerts its tumor suppressor function by r...</td>\n",
       "      <td>10.1042/BSR20160523</td>\n",
       "      <td>2597493214</td>\n",
       "      <td>tet1 exerts its tumour suppressor function by ...</td>\n",
       "      <td>2017.0</td>\n",
       "      <td>TET1 exerts its tumor suppressor function by r...</td>\n",
       "      <td>Bioscience Reports</td>\n",
       "      <td>Research Article;</td>\n",
       "      <td>2021-05-14</td>\n",
       "      <td>10.1042/BSR-20160523_RET</td>\n",
       "      <td>33988682</td>\n",
       "      <td>28341638</td>\n",
       "      <td>+Concerns/Issues About Data;+Duplication of Im...</td>\n",
       "      <td>2021.0</td>\n",
       "    </tr>\n",
       "  </tbody>\n",
       "</table>\n",
       "</div>"
      ],
      "text/plain": [
       "   Record ID                                        RWTitleNorm  \\\n",
       "0      28505  tet1 exerts its tumor suppressor function by r...   \n",
       "\n",
       "      OriginalPaperDOI      MAGPID  \\\n",
       "0  10.1042/BSR20160523  2597493214   \n",
       "\n",
       "                                            MAGTitle  MAGPubYear  \\\n",
       "0  tet1 exerts its tumour suppressor function by ...      2017.0   \n",
       "\n",
       "                                               Title             Journal  \\\n",
       "0  TET1 exerts its tumor suppressor function by r...  Bioscience Reports   \n",
       "\n",
       "         ArticleType RetractionDate             RetractionDOI  \\\n",
       "0  Research Article;     2021-05-14  10.1042/BSR-20160523_RET   \n",
       "\n",
       "  RetractionPubMedID OriginalPaperPubMedID  \\\n",
       "0           33988682              28341638   \n",
       "\n",
       "                                              Reason  RetractionYear  \n",
       "0  +Concerns/Issues About Data;+Duplication of Im...          2021.0  "
      ]
     },
     "execution_count": 14,
     "metadata": {},
     "output_type": "execute_result"
    }
   ],
   "source": [
    "# Let us explore exact matching first\n",
    "\n",
    "# Reading papers that were matched by exact matching\n",
    "df = pd.read_csv(PROCESSED_EXACT_PAPER_MATCH_LOCAL_PATH)\n",
    "df = df.merge(df_rw.drop(columns=['OriginalPaperDOI']), on='Record ID')\n",
    "df.head(1)"
   ]
  },
  {
   "cell_type": "code",
   "execution_count": 15,
   "id": "6d409964",
   "metadata": {},
   "outputs": [
    {
     "name": "stdout",
     "output_type": "stream",
     "text": [
      "Number of unique records: 1625\n",
      "Average number of matches per record 1.0104615384615385\n",
      "Max number of matches per record 4\n",
      "Records with exactly 1 match 1613\n",
      "Records with more than 1 match 12\n",
      "###########\n",
      "Number of unique records retracted between 1990-2015: 1625\n",
      "Average number of matches per record for 1990-2015 1.0104615384615385\n",
      "Max number of matches per record for 1990-2015 4\n",
      "Records with exactly 1 match for 1990-2015 1613\n",
      "Records with more than 1 match for 1990-2015 12\n"
     ]
    }
   ],
   "source": [
    "# Extracting those that were matched only on DOI i.e. their DOI != NaN\n",
    "matched_doi = df[~df['OriginalPaperDOI'].isna()]\n",
    "\n",
    "# Let us remove all the records that were filtered\n",
    "matched_doi = matched_doi[~matched_doi['Record ID'].isin(records_filtered)]\n",
    "\n",
    "extract_record_summary(matched_doi)"
   ]
  },
  {
   "cell_type": "code",
   "execution_count": 17,
   "id": "edd03dc6",
   "metadata": {},
   "outputs": [
    {
     "name": "stdout",
     "output_type": "stream",
     "text": [
      "Number of unique records: 1021\n",
      "Average number of matches per record 1.1547502448579823\n",
      "Max number of matches per record 20\n",
      "Records with exactly 1 match 926\n",
      "Records with more than 1 match 95\n",
      "###########\n",
      "Number of unique records retracted between 1990-2015: 1021\n",
      "Average number of matches per record for 1990-2015 1.1547502448579823\n",
      "Max number of matches per record for 1990-2015 20\n",
      "Records with exactly 1 match for 1990-2015 926\n",
      "Records with more than 1 match for 1990-2015 95\n"
     ]
    }
   ],
   "source": [
    "# Extracting records that were matched on title (coz no DOI)\n",
    "matched_title = df[df.OriginalPaperDOI.isna()]\n",
    "\n",
    "# Let us remove all the records that were filtered\n",
    "matched_title = matched_title[~matched_title['Record ID'].isin(records_filtered)]\n",
    "\n",
    "#matched_title = matched_title[matched_title['Record ID'].isin(matched_doi['Record ID'].unique())]\n",
    "\n",
    "extract_record_summary(matched_title)"
   ]
  },
  {
   "cell_type": "markdown",
   "id": "c8849956",
   "metadata": {},
   "source": [
    "# c. and d. Processing Fuzzy Matching"
   ]
  },
  {
   "cell_type": "code",
   "execution_count": 19,
   "id": "f35ee9d2",
   "metadata": {},
   "outputs": [
    {
     "data": {
      "text/plain": [
       "'/Users/sm9654/desktop/NYUAD/nyuad-research/retraction_openalex/retraction_effects_on_academic_careers/data/processed/fuzzymatch/RW_MAG_exact_paper_matched.csv'"
      ]
     },
     "execution_count": 19,
     "metadata": {},
     "output_type": "execute_result"
    }
   ],
   "source": [
    "PROCESSED_EXACT_PAPER_MATCH_LOCAL_PATH"
   ]
  },
  {
   "cell_type": "code",
   "execution_count": 20,
   "id": "fc903d91",
   "metadata": {},
   "outputs": [],
   "source": [
    "# Initializing the two lists for two ways we did fuzzy matching\n",
    "dfs_exactyear = []\n",
    "dfs_fuzzyyear = []\n",
    "\n",
    "exact_match_fname = PROCESSED_EXACT_PAPER_MATCH_LOCAL_PATH.split(\"/\")[-1]\n",
    "\n",
    "# going through the file list\n",
    "for fname in flist:\n",
    "    # Only reading if it is not exact match\n",
    "    if fname != exact_match_fname:\n",
    "        df = pd.read_csv(FUZZYMATCH_LOCAL_PATH+fname)\n",
    "        # If it is exact year fuzzy matching\n",
    "        if \"exact_year\" in fname:\n",
    "            dfs_exactyear.append(df)\n",
    "        # If it is fuzzy year fuzzy matching\n",
    "        else:\n",
    "            dfs_fuzzyyear.append(df)"
   ]
  },
  {
   "cell_type": "markdown",
   "id": "e4b1c28d",
   "metadata": {},
   "source": [
    "## c. Processing exact year fuzzy matching"
   ]
  },
  {
   "cell_type": "code",
   "execution_count": 21,
   "id": "f8611dff",
   "metadata": {},
   "outputs": [
    {
     "data": {
      "text/html": [
       "<div>\n",
       "<style scoped>\n",
       "    .dataframe tbody tr th:only-of-type {\n",
       "        vertical-align: middle;\n",
       "    }\n",
       "\n",
       "    .dataframe tbody tr th {\n",
       "        vertical-align: top;\n",
       "    }\n",
       "\n",
       "    .dataframe thead th {\n",
       "        text-align: right;\n",
       "    }\n",
       "</style>\n",
       "<table border=\"1\" class=\"dataframe\">\n",
       "  <thead>\n",
       "    <tr style=\"text-align: right;\">\n",
       "      <th></th>\n",
       "      <th>MAGTitle</th>\n",
       "      <th>score</th>\n",
       "      <th>index</th>\n",
       "      <th>MAGPID</th>\n",
       "      <th>MAGTitle.1</th>\n",
       "      <th>MAGPubYear</th>\n",
       "      <th>Record ID</th>\n",
       "      <th>RWTitleNorm</th>\n",
       "      <th>Title</th>\n",
       "      <th>Journal</th>\n",
       "      <th>ArticleType</th>\n",
       "      <th>RetractionDate</th>\n",
       "      <th>RetractionDOI</th>\n",
       "      <th>RetractionPubMedID</th>\n",
       "      <th>OriginalPaperDOI</th>\n",
       "      <th>OriginalPaperPubMedID</th>\n",
       "      <th>Reason</th>\n",
       "      <th>RetractionYear</th>\n",
       "    </tr>\n",
       "  </thead>\n",
       "  <tbody>\n",
       "    <tr>\n",
       "      <th>76</th>\n",
       "      <td>retracted use of upper triangular matrix track...</td>\n",
       "      <td>95.0</td>\n",
       "      <td>7148009</td>\n",
       "      <td>2028375193</td>\n",
       "      <td>retracted use of upper triangular matrix track...</td>\n",
       "      <td>2013.0</td>\n",
       "      <td>18798</td>\n",
       "      <td>use of upper triangular matrix tracking for co...</td>\n",
       "      <td>Use of upper triangular matrix tracking for co...</td>\n",
       "      <td>Signal Processing</td>\n",
       "      <td>Research Article;</td>\n",
       "      <td>2013-09-01</td>\n",
       "      <td>10.1016/j.sigpro.2013.01.002</td>\n",
       "      <td>0</td>\n",
       "      <td>10.1016/j.sigpro.2013.01.002</td>\n",
       "      <td>0</td>\n",
       "      <td>+Date of Retraction/Other Unknown;+Plagiarism ...</td>\n",
       "      <td>2013.0</td>\n",
       "    </tr>\n",
       "    <tr>\n",
       "      <th>198</th>\n",
       "      <td>retracted gamma glutamyl transferase activity ...</td>\n",
       "      <td>95.0</td>\n",
       "      <td>7380434</td>\n",
       "      <td>2003800286</td>\n",
       "      <td>retracted gamma glutamyl transferase activity ...</td>\n",
       "      <td>2013.0</td>\n",
       "      <td>9165</td>\n",
       "      <td>gamma-glutamyl transferase activity in kids bo...</td>\n",
       "      <td>Gamma-Glutamyl Transferase Activity in Kids Bo...</td>\n",
       "      <td>Food and Nutrition Sciences</td>\n",
       "      <td>Research Article;</td>\n",
       "      <td>2015-12-15</td>\n",
       "      <td>10.4236/fns.2013.46A006</td>\n",
       "      <td>0</td>\n",
       "      <td>10.4236/fns.2013.46A006</td>\n",
       "      <td>0</td>\n",
       "      <td>+Falsification/Fabrication of Data;+Falsificat...</td>\n",
       "      <td>2015.0</td>\n",
       "    </tr>\n",
       "  </tbody>\n",
       "</table>\n",
       "</div>"
      ],
      "text/plain": [
       "                                              MAGTitle  score    index  \\\n",
       "76   retracted use of upper triangular matrix track...   95.0  7148009   \n",
       "198  retracted gamma glutamyl transferase activity ...   95.0  7380434   \n",
       "\n",
       "         MAGPID                                         MAGTitle.1  \\\n",
       "76   2028375193  retracted use of upper triangular matrix track...   \n",
       "198  2003800286  retracted gamma glutamyl transferase activity ...   \n",
       "\n",
       "     MAGPubYear Record ID                                        RWTitleNorm  \\\n",
       "76       2013.0     18798  use of upper triangular matrix tracking for co...   \n",
       "198      2013.0      9165  gamma-glutamyl transferase activity in kids bo...   \n",
       "\n",
       "                                                 Title  \\\n",
       "76   Use of upper triangular matrix tracking for co...   \n",
       "198  Gamma-Glutamyl Transferase Activity in Kids Bo...   \n",
       "\n",
       "                         Journal        ArticleType RetractionDate  \\\n",
       "76             Signal Processing  Research Article;     2013-09-01   \n",
       "198  Food and Nutrition Sciences  Research Article;     2015-12-15   \n",
       "\n",
       "                    RetractionDOI RetractionPubMedID  \\\n",
       "76   10.1016/j.sigpro.2013.01.002                  0   \n",
       "198       10.4236/fns.2013.46A006                  0   \n",
       "\n",
       "                 OriginalPaperDOI OriginalPaperPubMedID  \\\n",
       "76   10.1016/j.sigpro.2013.01.002                     0   \n",
       "198       10.4236/fns.2013.46A006                     0   \n",
       "\n",
       "                                                Reason  RetractionYear  \n",
       "76   +Date of Retraction/Other Unknown;+Plagiarism ...          2013.0  \n",
       "198  +Falsification/Fabrication of Data;+Falsificat...          2015.0  "
      ]
     },
     "execution_count": 21,
     "metadata": {},
     "output_type": "execute_result"
    }
   ],
   "source": [
    "# Processing exact year fuzzy matching\n",
    "df_exactyear = pd.concat(dfs_exactyear)\n",
    "df_exactyear = df_exactyear.merge(df_rw, on='Record ID')\n",
    "\n",
    "# Removing records that were filtered\n",
    "df_exactyear = df_exactyear[~df_exactyear['Record ID'].isin(records_filtered)]\n",
    "\n",
    "df_exactyear.head(2)"
   ]
  },
  {
   "cell_type": "code",
   "execution_count": 22,
   "id": "41c24913",
   "metadata": {},
   "outputs": [
    {
     "name": "stdout",
     "output_type": "stream",
     "text": [
      "Number of unique records: 3137\n",
      "Average number of matches per record 1.1976410583359898\n",
      "Max number of matches per record 3\n",
      "Records with exactly 1 match 2596\n",
      "Records with more than 1 match 541\n",
      "###########\n",
      "Number of unique records retracted between 1990-2015: 3137\n",
      "Average number of matches per record for 1990-2015 1.1976410583359898\n",
      "Max number of matches per record for 1990-2015 3\n",
      "Records with exactly 1 match for 1990-2015 2596\n",
      "Records with more than 1 match for 1990-2015 541\n"
     ]
    }
   ],
   "source": [
    "# summarizing exact year fuzzy matching\n",
    "extract_record_summary(df_exactyear)"
   ]
  },
  {
   "cell_type": "code",
   "execution_count": 24,
   "id": "c0725919",
   "metadata": {},
   "outputs": [
    {
     "name": "stdout",
     "output_type": "stream",
     "text": [
      "Number of unique records: 472\n",
      "Average number of matches per record 1.1398305084745763\n",
      "Max number of matches per record 3\n",
      "Records with exactly 1 match 412\n",
      "Records with more than 1 match 60\n",
      "###########\n",
      "Number of unique records retracted between 1990-2015: 472\n",
      "Average number of matches per record for 1990-2015 1.1398305084745763\n",
      "Max number of matches per record for 1990-2015 3\n",
      "Records with exactly 1 match for 1990-2015 412\n",
      "Records with more than 1 match for 1990-2015 60\n"
     ]
    }
   ],
   "source": [
    "# Let us now define a list of papers to keep\n",
    "# These will be those that are \n",
    "# a) in df_exactyear and have retraction doi same as original paper doi\n",
    "# b) in df_exactyear and do not have \"Retraction Note\" or \"Retraction Notice\" in their title\n",
    "# c) in df_exactyear and have publication year same as retraction year\n",
    "\n",
    "# extracting records that have same paper doi as retraction doi\n",
    "records_same_doi = df_rw[df_rw['OriginalPaperDOI'].eq(df_rw['RetractionDOI']) & \n",
    "                         ~df_rw['RetractionDOI'].isin(['unavailable','Unavailable'])]['Record ID'].unique()\n",
    "\n",
    "# extracting the dataframe/matches for those\n",
    "df_exactyear2 = df_exactyear[df_exactyear['Record ID'].isin(records_same_doi)]\n",
    "\n",
    "extract_record_summary(df_exactyear2)\n"
   ]
  },
  {
   "cell_type": "code",
   "execution_count": 25,
   "id": "fa012890",
   "metadata": {},
   "outputs": [
    {
     "name": "stdout",
     "output_type": "stream",
     "text": [
      "Number of unique records: 3029\n",
      "Average number of matches per record 1.2040277319247277\n",
      "Max number of matches per record 3\n",
      "Records with exactly 1 match 2490\n",
      "Records with more than 1 match 539\n",
      "###########\n",
      "Number of unique records retracted between 1990-2015: 3029\n",
      "Average number of matches per record for 1990-2015 1.2040277319247277\n",
      "Max number of matches per record for 1990-2015 3\n",
      "Records with exactly 1 match for 1990-2015 2490\n",
      "Records with more than 1 match for 1990-2015 539\n"
     ]
    }
   ],
   "source": [
    "# Adding records that were not in retraction notices\n",
    "\n",
    "\n",
    "# Now let us read retraction notices and remove them from matches\n",
    "df_retraction_notices = pd.read_csv(RETRACTION_NOTICES_LOCAL_PATH)\n",
    "\n",
    "# extracting records that were fuzyy matched but were not in retraction notices\n",
    "records_not_in_notices = df_exactyear[~df_exactyear['MAGPID'].\\\n",
    "                                        isin(df_retraction_notices['PID'])]['Record ID'].unique()\n",
    "\n",
    "# extracting records that either have same doi or are in retraction notice\n",
    "df_exactyear22 = df_exactyear[df_exactyear['Record ID'].isin(records_same_doi) | \n",
    "                             df_exactyear['Record ID'].isin(records_not_in_notices)]\n",
    "\n",
    "extract_record_summary(df_exactyear22)"
   ]
  },
  {
   "cell_type": "code",
   "execution_count": 26,
   "id": "d2b3081e",
   "metadata": {},
   "outputs": [
    {
     "name": "stdout",
     "output_type": "stream",
     "text": [
      "Number of unique records: 3097\n",
      "Average number of matches per record 1.2001937358734258\n",
      "Max number of matches per record 3\n",
      "Records with exactly 1 match 2556\n",
      "Records with more than 1 match 541\n",
      "###########\n",
      "Number of unique records retracted between 1990-2015: 3097\n",
      "Average number of matches per record for 1990-2015 1.2001937358734258\n",
      "Max number of matches per record for 1990-2015 3\n",
      "Records with exactly 1 match for 1990-2015 2556\n",
      "Records with more than 1 match for 1990-2015 541\n"
     ]
    }
   ],
   "source": [
    "# Adding records with same pubyear as retraction year\n",
    "records_same_pubyear_ryear = df_exactyear[df_exactyear['MAGPubYear'].eq(df_exactyear['RetractionYear'])]\\\n",
    "                                ['Record ID'].unique()\n",
    "\n",
    "# Extracting all records matched fuzzily, but have same doi OR same year OR not in retraction notice\n",
    "# All these records are valid\n",
    "df_exactyear3 = df_exactyear[df_exactyear['Record ID'].isin(records_same_doi) | \n",
    "                            df_exactyear['Record ID'].isin(records_same_pubyear_ryear) | \n",
    "                            df_exactyear['Record ID'].isin(records_not_in_notices)]\n",
    "\n",
    "extract_record_summary(df_exactyear3)"
   ]
  },
  {
   "cell_type": "code",
   "execution_count": 29,
   "id": "9bd8bf52",
   "metadata": {},
   "outputs": [
    {
     "name": "stdout",
     "output_type": "stream",
     "text": [
      "Number of unique records: 3097\n",
      "Average number of matches per record 1.2001937358734258\n",
      "Max number of matches per record 3\n",
      "Records with exactly 1 match 2556\n",
      "Records with more than 1 match 541\n",
      "###########\n",
      "Number of unique records retracted between 1990-2015: 3097\n",
      "Average number of matches per record for 1990-2015 1.2001937358734258\n",
      "Max number of matches per record for 1990-2015 3\n",
      "Records with exactly 1 match for 1990-2015 2556\n",
      "Records with more than 1 match for 1990-2015 541\n"
     ]
    }
   ],
   "source": [
    "# removing those with retraction notice keywords\n",
    "\n",
    "df_exactyear4 = df_exactyear3[~df_exactyear3['MAGTitle'].str.contains('Retraction Notice') & \n",
    "                             ~df_exactyear3['MAGTitle'].str.contains('Retraction Note')]\n",
    "\n",
    "extract_record_summary(df_exactyear4)"
   ]
  },
  {
   "cell_type": "code",
   "execution_count": 34,
   "id": "afd9d8d0",
   "metadata": {},
   "outputs": [
    {
     "name": "stdout",
     "output_type": "stream",
     "text": [
      "# Records for which we are not sure 40\n"
     ]
    }
   ],
   "source": [
    "# Checking those that were removed\n",
    "\n",
    "df_exactyear_remaining = df_exactyear[~df_exactyear['Record ID'].isin(df_exactyear4['Record ID'])]\n",
    "\n",
    "print(f\"# Records for which we are not sure {df_exactyear_remaining['Record ID'].nunique()}\")"
   ]
  },
  {
   "cell_type": "markdown",
   "id": "a9d24da6",
   "metadata": {},
   "source": [
    "## d. Processing fuzzy year fuzzy matching"
   ]
  },
  {
   "cell_type": "code",
   "execution_count": 35,
   "id": "00390cfe",
   "metadata": {},
   "outputs": [
    {
     "data": {
      "text/html": [
       "<div>\n",
       "<style scoped>\n",
       "    .dataframe tbody tr th:only-of-type {\n",
       "        vertical-align: middle;\n",
       "    }\n",
       "\n",
       "    .dataframe tbody tr th {\n",
       "        vertical-align: top;\n",
       "    }\n",
       "\n",
       "    .dataframe thead th {\n",
       "        text-align: right;\n",
       "    }\n",
       "</style>\n",
       "<table border=\"1\" class=\"dataframe\">\n",
       "  <thead>\n",
       "    <tr style=\"text-align: right;\">\n",
       "      <th></th>\n",
       "      <th>RWTitleNorm</th>\n",
       "      <th>MAGTitle</th>\n",
       "      <th>score</th>\n",
       "      <th>index</th>\n",
       "      <th>MAGPID</th>\n",
       "      <th>MAGTitle.1</th>\n",
       "      <th>MAGPubYear</th>\n",
       "      <th>Record ID</th>\n",
       "      <th>Title</th>\n",
       "      <th>Journal</th>\n",
       "      <th>ArticleType</th>\n",
       "      <th>RetractionDate</th>\n",
       "      <th>RetractionDOI</th>\n",
       "      <th>RetractionPubMedID</th>\n",
       "      <th>OriginalPaperDOI</th>\n",
       "      <th>OriginalPaperPubMedID</th>\n",
       "      <th>Reason</th>\n",
       "      <th>RetractionYear</th>\n",
       "    </tr>\n",
       "  </thead>\n",
       "  <tbody>\n",
       "    <tr>\n",
       "      <th>198</th>\n",
       "      <td>protective effects of bazedoxifene paired with...</td>\n",
       "      <td>retraction protective effects of bazedoxifene ...</td>\n",
       "      <td>92.636816</td>\n",
       "      <td>7060760</td>\n",
       "      <td>2179077735</td>\n",
       "      <td>retraction protective effects of bazedoxifene ...</td>\n",
       "      <td>2016.0</td>\n",
       "      <td>17304</td>\n",
       "      <td>Protective effects of bazedoxifene paired with...</td>\n",
       "      <td>Biological &amp; Pharmaceutical Bulletin</td>\n",
       "      <td>Research Article;</td>\n",
       "      <td>2015-11-06</td>\n",
       "      <td>10.1248/bpb.b15-00585</td>\n",
       "      <td>26548420</td>\n",
       "      <td>10.1248/bpb.b15-00585</td>\n",
       "      <td>26548420</td>\n",
       "      <td>+Concerns/Issues About Authorship;+Conflict of...</td>\n",
       "      <td>2015.0</td>\n",
       "    </tr>\n",
       "    <tr>\n",
       "      <th>208</th>\n",
       "      <td>overexpression of thaumatin gene confers enhan...</td>\n",
       "      <td>retracted article overexpression of thaumatin ...</td>\n",
       "      <td>93.215339</td>\n",
       "      <td>4739624</td>\n",
       "      <td>1925258414</td>\n",
       "      <td>retracted article overexpression of thaumatin ...</td>\n",
       "      <td>2016.0</td>\n",
       "      <td>8766</td>\n",
       "      <td>Overexpression of thaumatin gene confers enhan...</td>\n",
       "      <td>Plant Cell, Tissue and Organ Culture (PCTOC)</td>\n",
       "      <td>Research Article;</td>\n",
       "      <td>2015-08-20</td>\n",
       "      <td>10.1007/s11240-015-0846-8</td>\n",
       "      <td>0</td>\n",
       "      <td>10.1007/s11240-015-0846-8</td>\n",
       "      <td>0</td>\n",
       "      <td>+Lack of Approval from Author;</td>\n",
       "      <td>2015.0</td>\n",
       "    </tr>\n",
       "  </tbody>\n",
       "</table>\n",
       "</div>"
      ],
      "text/plain": [
       "                                           RWTitleNorm  \\\n",
       "198  protective effects of bazedoxifene paired with...   \n",
       "208  overexpression of thaumatin gene confers enhan...   \n",
       "\n",
       "                                              MAGTitle      score    index  \\\n",
       "198  retraction protective effects of bazedoxifene ...  92.636816  7060760   \n",
       "208  retracted article overexpression of thaumatin ...  93.215339  4739624   \n",
       "\n",
       "         MAGPID                                         MAGTitle.1  \\\n",
       "198  2179077735  retraction protective effects of bazedoxifene ...   \n",
       "208  1925258414  retracted article overexpression of thaumatin ...   \n",
       "\n",
       "     MAGPubYear Record ID                                              Title  \\\n",
       "198      2016.0     17304  Protective effects of bazedoxifene paired with...   \n",
       "208      2016.0      8766  Overexpression of thaumatin gene confers enhan...   \n",
       "\n",
       "                                          Journal        ArticleType  \\\n",
       "198          Biological & Pharmaceutical Bulletin  Research Article;   \n",
       "208  Plant Cell, Tissue and Organ Culture (PCTOC)  Research Article;   \n",
       "\n",
       "    RetractionDate              RetractionDOI RetractionPubMedID  \\\n",
       "198     2015-11-06      10.1248/bpb.b15-00585           26548420   \n",
       "208     2015-08-20  10.1007/s11240-015-0846-8                  0   \n",
       "\n",
       "              OriginalPaperDOI OriginalPaperPubMedID  \\\n",
       "198      10.1248/bpb.b15-00585              26548420   \n",
       "208  10.1007/s11240-015-0846-8                     0   \n",
       "\n",
       "                                                Reason  RetractionYear  \n",
       "198  +Concerns/Issues About Authorship;+Conflict of...          2015.0  \n",
       "208                     +Lack of Approval from Author;          2015.0  "
      ]
     },
     "execution_count": 35,
     "metadata": {},
     "output_type": "execute_result"
    }
   ],
   "source": [
    "# processing fuzzy year fuzzy matching\n",
    "df_fuzzyyear = pd.concat(dfs_fuzzyyear)\n",
    "df_fuzzyyear = df_fuzzyyear.merge(df_rw, on='Record ID')\n",
    "\n",
    "# removing those records that were in exact match\n",
    "df_fuzzyyear = df_fuzzyyear[~df_fuzzyyear['Record ID'].isin(df_exactyear['Record ID'])]\n",
    "\n",
    "# removing those records that were filtered\n",
    "df_fuzzyyear = df_fuzzyyear[~df_fuzzyyear['Record ID'].isin(records_filtered)]\n",
    "\n",
    "df_fuzzyyear.head(2)"
   ]
  },
  {
   "cell_type": "code",
   "execution_count": 36,
   "id": "ae0f5c0e",
   "metadata": {},
   "outputs": [
    {
     "name": "stdout",
     "output_type": "stream",
     "text": [
      "Number of unique records: 542\n",
      "Average number of matches per record 1.2250922509225093\n",
      "Max number of matches per record 3\n",
      "Records with exactly 1 match 433\n",
      "Records with more than 1 match 109\n",
      "###########\n",
      "Number of unique records retracted between 1990-2015: 542\n",
      "Average number of matches per record for 1990-2015 1.2250922509225093\n",
      "Max number of matches per record for 1990-2015 3\n",
      "Records with exactly 1 match for 1990-2015 433\n",
      "Records with more than 1 match for 1990-2015 109\n"
     ]
    }
   ],
   "source": [
    "# summarizing fuzzy year fuzzy matching\n",
    "extract_record_summary(df_fuzzyyear)"
   ]
  },
  {
   "cell_type": "code",
   "execution_count": 38,
   "id": "0b4ce10a",
   "metadata": {},
   "outputs": [
    {
     "name": "stdout",
     "output_type": "stream",
     "text": [
      "Number of unique records: 149\n",
      "Average number of matches per record 1.1208053691275168\n",
      "Max number of matches per record 3\n",
      "Records with exactly 1 match 132\n",
      "Records with more than 1 match 17\n",
      "###########\n",
      "Number of unique records retracted between 1990-2015: 149\n",
      "Average number of matches per record for 1990-2015 1.1208053691275168\n",
      "Max number of matches per record for 1990-2015 3\n",
      "Records with exactly 1 match for 1990-2015 132\n",
      "Records with more than 1 match for 1990-2015 17\n"
     ]
    }
   ],
   "source": [
    "# Let us first keep those that have the same doi\n",
    "# We already have a variable called 'records_same_doi'\n",
    "\n",
    "# extracting the dataframe/matches for those\n",
    "df_fuzzyyear2 = df_fuzzyyear[df_fuzzyyear['Record ID'].isin(records_same_doi)]\n",
    "\n",
    "extract_record_summary(df_fuzzyyear2)"
   ]
  },
  {
   "cell_type": "code",
   "execution_count": 39,
   "id": "6457cf29",
   "metadata": {},
   "outputs": [
    {
     "name": "stdout",
     "output_type": "stream",
     "text": [
      "Number of unique records: 522\n",
      "Average number of matches per record 1.2318007662835249\n",
      "Max number of matches per record 3\n",
      "Records with exactly 1 match 414\n",
      "Records with more than 1 match 108\n",
      "###########\n",
      "Number of unique records retracted between 1990-2015: 522\n",
      "Average number of matches per record for 1990-2015 1.2318007662835249\n",
      "Max number of matches per record for 1990-2015 3\n",
      "Records with exactly 1 match for 1990-2015 414\n",
      "Records with more than 1 match for 1990-2015 108\n"
     ]
    }
   ],
   "source": [
    "#Extracting records not in retraction notices\n",
    "\n",
    "# extracting records that were fuzyy matched but were not in retraction notices\n",
    "records_not_in_notices = df_fuzzyyear[~df_fuzzyyear['MAGPID'].\\\n",
    "                                        isin(df_retraction_notices['PID'])]['Record ID'].unique()\n",
    "\n",
    "# extracting records that either have same doi or are in retraction notice\n",
    "df_fuzzyyear22 = df_fuzzyyear[df_fuzzyyear['Record ID'].isin(records_same_doi) | \n",
    "                             df_fuzzyyear['Record ID'].isin(records_not_in_notices)]\n",
    "\n",
    "extract_record_summary(df_fuzzyyear22)"
   ]
  },
  {
   "cell_type": "code",
   "execution_count": 40,
   "id": "88225e65",
   "metadata": {},
   "outputs": [
    {
     "name": "stdout",
     "output_type": "stream",
     "text": [
      "Number of unique records: 522\n",
      "Average number of matches per record 1.2318007662835249\n",
      "Max number of matches per record 3\n",
      "Records with exactly 1 match 414\n",
      "Records with more than 1 match 108\n",
      "###########\n",
      "Number of unique records retracted between 1990-2015: 522\n",
      "Average number of matches per record for 1990-2015 1.2318007662835249\n",
      "Max number of matches per record for 1990-2015 3\n",
      "Records with exactly 1 match for 1990-2015 414\n",
      "Records with more than 1 match for 1990-2015 108\n"
     ]
    }
   ],
   "source": [
    "# removing those with retraction notice keywords\n",
    "\n",
    "df_fuzzyyear3 = df_fuzzyyear22[~df_fuzzyyear22['MAGTitle'].str.contains('Retraction Notice') & \n",
    "                             ~df_fuzzyyear22['MAGTitle'].str.contains('Retraction Note')]\n",
    "\n",
    "extract_record_summary(df_fuzzyyear3)"
   ]
  },
  {
   "cell_type": "markdown",
   "id": "e90015c9",
   "metadata": {},
   "source": [
    "# Compilation\n",
    "\n",
    "Let us now compile a dataframe of all the possible matches b/w RW and MAG.\n",
    "\n",
    "We shall also remove all the matches that were identified as retraction notices or contained the \n",
    "words 'Retraction Notice' or 'Retraction Note'. \n",
    "\n",
    "The columns we are interested in are:\n",
    "\n",
    "1) Record ID\n",
    "\n",
    "2) MAGPID\n",
    "\n",
    "3) RW Title\n",
    "\n",
    "4) MAG Title\n",
    "\n",
    "5) Retraction Year\n",
    "\n",
    "6) Fuzzy match score if applicable\n",
    "\n",
    "7) Method of matching (doi, title, exactYearFuzzyTitle, fuzzyYearfuzzyTitle)\n",
    "\n",
    "8) MAGPubYear\n",
    "\n",
    "9) RWOriginalPubYear"
   ]
  },
  {
   "cell_type": "code",
   "execution_count": 87,
   "id": "02489d48",
   "metadata": {},
   "outputs": [
    {
     "name": "stdout",
     "output_type": "stream",
     "text": [
      "Number of unique records: 6265\n",
      "Average number of matches per record 1.1297685554668795\n",
      "Max number of matches per record 20\n",
      "Records with exactly 1 match 5595\n",
      "Records with more than 1 match 670\n",
      "###########\n",
      "Number of unique records retracted between 1990-2015: 6265\n",
      "Average number of matches per record for 1990-2015 1.1297685554668795\n",
      "Max number of matches per record for 1990-2015 20\n",
      "Records with exactly 1 match for 1990-2015 5595\n",
      "Records with more than 1 match for 1990-2015 670\n"
     ]
    }
   ],
   "source": [
    "# processing doi matched dataframe\n",
    "imp_cols = ['Record ID', 'RWTitleNorm', 'MAGPID', 'MAGTitle', 'RetractionYear','MAGPubYear']\n",
    "df_matched_doi = matched_doi[imp_cols].drop_duplicates()\\\n",
    "                                    .reset_index(drop=True)\n",
    "df_matched_doi['RecordMatchingMethod'] = 'doi'\n",
    "\n",
    "# processing title matched dataframe\n",
    "df_matched_title = matched_title[imp_cols].drop_duplicates()\\\n",
    "                                    .reset_index(drop=True)\n",
    "df_matched_title['RecordMatchingMethod'] = 'title'\n",
    "\n",
    "\n",
    "######## Start of block ########\n",
    "\n",
    "# processing exact year fuzzy title matched dataframe\n",
    "df_matched_exactyear_fuzzytitle = df_exactyear4[imp_cols+['score']].drop_duplicates()\\\n",
    "                                    .rename(columns={'score':'FuzzyScore'})\n",
    "\n",
    "df_matched_exactyear_fuzzytitle['RecordMatchingMethod'] = 'exactYearfuzzyTitle'\n",
    "\n",
    "\"\"\"\n",
    "Let us spell out what is happening in this block.\n",
    "\n",
    "While we have identified records that we will keep based on \n",
    "if they have same retraction and paper doi OR\n",
    "if they have same retraction year as original paper year OR\n",
    "if they are not part of retraction notices.\n",
    "\n",
    "What is missing is that in the matches, we haven't removed matches \n",
    "that were retraction notices. So we should remove the matches if \n",
    "they are for sure retraction notices and don't fall in either of the above \n",
    "criteria. This is only for records where there are more than 1 match. \n",
    "\n",
    "So we are removing them below.\n",
    "\n",
    "\"\"\"\n",
    "\n",
    "# Let me separate this dataframe into 2, those that have same original paper doi as retraction doi, and others\n",
    "df_matched_exactyear_fuzzytitle_samedoiOryear = df_matched_exactyear_fuzzytitle[df_matched_exactyear_fuzzytitle['Record ID'].\\\n",
    "                                                                            isin(records_same_doi) | \n",
    "                                                                               df_matched_exactyear_fuzzytitle['Record ID'].\\\n",
    "                                                                            isin(records_same_pubyear_ryear)]\n",
    "\n",
    "df_matched_exactyear_fuzzytitle_diffdoiAndYear = df_matched_exactyear_fuzzytitle[~df_matched_exactyear_fuzzytitle['Record ID'].\\\n",
    "                                                                            isin(df_matched_exactyear_fuzzytitle_samedoiOryear['Record ID'])]\n",
    "\n",
    "# Those that have same doi will not be filtered except manually, those that have different, we will remove retraction notices.\n",
    "# Let us remove matches that were identified as retraction notices 3717\n",
    "df_matched_exactyear_fuzzytitle_diffdoiAndYear = df_matched_exactyear_fuzzytitle_diffdoiAndYear[~df_matched_exactyear_fuzzytitle_diffdoiAndYear['MAGPID'].isin(df_retraction_notices['PID']) & \n",
    "                                               ~df_matched_exactyear_fuzzytitle_diffdoiAndYear['MAGTitle'].str.contains('Retraction Notice') & \n",
    "                                               ~df_matched_exactyear_fuzzytitle_diffdoiAndYear['MAGTitle'].str.contains('Retraction Note')]\n",
    "\n",
    "\n",
    "# Now let us merge the two dataframes back\n",
    "df_matched_exactyear_fuzzytitle = pd.concat([df_matched_exactyear_fuzzytitle_samedoiOryear,\n",
    "                                            df_matched_exactyear_fuzzytitle_diffdoiAndYear])\\\n",
    "                                    .reset_index(drop=True)\n",
    "\n",
    "######## End of Block ########\n",
    "\n",
    "\n",
    "# Finally processing the fuzzy year fuzzy match\n",
    "df_matched_fuzzyyear_fuzzytitle_samedoi = df_fuzzyyear2.copy()\n",
    "\n",
    "df_matched_fuzzyyear_fuzzytitle_diffdoi = df_fuzzyyear3[~df_fuzzyyear3['Record ID'].isin(df_matched_fuzzyyear_fuzzytitle_samedoi['Record ID'])]\n",
    "\n",
    "\n",
    "df_matched_fuzzyyear_fuzzytitle_diffdoi = df_matched_fuzzyyear_fuzzytitle_diffdoi[~df_matched_fuzzyyear_fuzzytitle_diffdoi['MAGPID'].isin(df_retraction_notices['PID']) &\n",
    "                                                                                 ~df_matched_fuzzyyear_fuzzytitle_diffdoi['MAGTitle'].str.contains('Retraction Notice') & \n",
    "                                                                                 ~df_matched_fuzzyyear_fuzzytitle_diffdoi['MAGTitle'].str.contains('Retraction Note')]\n",
    "\n",
    "df_matched_fuzzyyear_fuzzytitle = pd.concat([df_matched_fuzzyyear_fuzzytitle_samedoi,\n",
    "                                            df_matched_fuzzyyear_fuzzytitle_diffdoi])\\\n",
    "                                    .reset_index(drop=True)\n",
    "\n",
    "df_matched_fuzzyyear_fuzzytitle = df_matched_fuzzyyear_fuzzytitle[imp_cols+['score']].drop_duplicates()\\\n",
    "                                    .rename(columns={'score':'FuzzyScore'})\n",
    "\n",
    "df_matched_fuzzyyear_fuzzytitle['RecordMatchingMethod'] = 'fuzzyYearfuzzyTitle'\n",
    "\n",
    "\n",
    "df_matched_fuzzyyear_fuzzytitle\n",
    "# Now we merge the four dataframes\n",
    "\n",
    "df_paper_matching = pd.concat([df_matched_doi,\n",
    "                              df_matched_title,\n",
    "                              df_matched_exactyear_fuzzytitle,\n",
    "                              df_matched_fuzzyyear_fuzzytitle])\n",
    "\n",
    "extract_record_summary(df_paper_matching)"
   ]
  },
  {
   "cell_type": "markdown",
   "id": "64f2f4a3",
   "metadata": {},
   "source": [
    "# Removing anomalies: If Retraction year is less than MAG publication year"
   ]
  },
  {
   "cell_type": "code",
   "execution_count": 88,
   "id": "2fbbb581",
   "metadata": {},
   "outputs": [
    {
     "name": "stdout",
     "output_type": "stream",
     "text": [
      "Number of unique records: 6199\n",
      "Average number of matches per record 1.1269559606388126\n",
      "Max number of matches per record 18\n",
      "Records with exactly 1 match 5541\n",
      "Records with more than 1 match 658\n",
      "###########\n",
      "Number of unique records retracted between 1990-2015: 6199\n",
      "Average number of matches per record for 1990-2015 1.1269559606388126\n",
      "Max number of matches per record for 1990-2015 18\n",
      "Records with exactly 1 match for 1990-2015 5541\n",
      "Records with more than 1 match for 1990-2015 658\n"
     ]
    }
   ],
   "source": [
    "df_paper_matching_filtered = df_paper_matching[~df_paper_matching['RetractionYear']\\\n",
    "                                                   .lt(df_paper_matching['MAGPubYear'])]\n",
    "\n",
    "extract_record_summary(df_paper_matching_filtered)"
   ]
  },
  {
   "cell_type": "code",
   "execution_count": 90,
   "id": "5190b606",
   "metadata": {},
   "outputs": [
    {
     "data": {
      "text/html": [
       "<div>\n",
       "<style scoped>\n",
       "    .dataframe tbody tr th:only-of-type {\n",
       "        vertical-align: middle;\n",
       "    }\n",
       "\n",
       "    .dataframe tbody tr th {\n",
       "        vertical-align: top;\n",
       "    }\n",
       "\n",
       "    .dataframe thead th {\n",
       "        text-align: right;\n",
       "    }\n",
       "</style>\n",
       "<table border=\"1\" class=\"dataframe\">\n",
       "  <thead>\n",
       "    <tr style=\"text-align: right;\">\n",
       "      <th></th>\n",
       "      <th>Record ID</th>\n",
       "      <th>RWTitleNorm</th>\n",
       "      <th>MAGPID</th>\n",
       "      <th>MAGTitle</th>\n",
       "      <th>RetractionYear</th>\n",
       "      <th>MAGPubYear</th>\n",
       "      <th>RecordMatchingMethod</th>\n",
       "      <th>FuzzyScore</th>\n",
       "    </tr>\n",
       "  </thead>\n",
       "  <tbody>\n",
       "    <tr>\n",
       "      <th>0</th>\n",
       "      <td>6582</td>\n",
       "      <td>a study on chinaâ€™s petroleum enterprise soci...</td>\n",
       "      <td>2025784643</td>\n",
       "      <td>retraction note a study on china s petroleum e...</td>\n",
       "      <td>2015.0</td>\n",
       "      <td>2015.0</td>\n",
       "      <td>doi</td>\n",
       "      <td>NaN</td>\n",
       "    </tr>\n",
       "    <tr>\n",
       "      <th>1</th>\n",
       "      <td>6579</td>\n",
       "      <td>behavior analysis on the security object of th...</td>\n",
       "      <td>2219765734</td>\n",
       "      <td>behavior analysis on the security object of th...</td>\n",
       "      <td>2015.0</td>\n",
       "      <td>2015.0</td>\n",
       "      <td>doi</td>\n",
       "      <td>NaN</td>\n",
       "    </tr>\n",
       "  </tbody>\n",
       "</table>\n",
       "</div>"
      ],
      "text/plain": [
       "  Record ID                                        RWTitleNorm      MAGPID  \\\n",
       "0      6582  a study on chinaâ€™s petroleum enterprise soci...  2025784643   \n",
       "1      6579  behavior analysis on the security object of th...  2219765734   \n",
       "\n",
       "                                            MAGTitle  RetractionYear  \\\n",
       "0  retraction note a study on china s petroleum e...          2015.0   \n",
       "1  behavior analysis on the security object of th...          2015.0   \n",
       "\n",
       "   MAGPubYear RecordMatchingMethod  FuzzyScore  \n",
       "0      2015.0                  doi         NaN  \n",
       "1      2015.0                  doi         NaN  "
      ]
     },
     "execution_count": 90,
     "metadata": {},
     "output_type": "execute_result"
    }
   ],
   "source": [
    "df_paper_matching_filtered.head(2)"
   ]
  },
  {
   "cell_type": "markdown",
   "id": "5887c794",
   "metadata": {},
   "source": [
    "# Adding an extra column on original paper year from RW"
   ]
  },
  {
   "cell_type": "code",
   "execution_count": 98,
   "id": "49cff2b4",
   "metadata": {},
   "outputs": [
    {
     "data": {
      "text/html": [
       "<div>\n",
       "<style scoped>\n",
       "    .dataframe tbody tr th:only-of-type {\n",
       "        vertical-align: middle;\n",
       "    }\n",
       "\n",
       "    .dataframe tbody tr th {\n",
       "        vertical-align: top;\n",
       "    }\n",
       "\n",
       "    .dataframe thead th {\n",
       "        text-align: right;\n",
       "    }\n",
       "</style>\n",
       "<table border=\"1\" class=\"dataframe\">\n",
       "  <thead>\n",
       "    <tr style=\"text-align: right;\">\n",
       "      <th></th>\n",
       "      <th>Record ID</th>\n",
       "      <th>RWTitleNorm</th>\n",
       "      <th>MAGPID</th>\n",
       "      <th>MAGTitle</th>\n",
       "      <th>RetractionYear</th>\n",
       "      <th>MAGPubYear</th>\n",
       "      <th>RecordMatchingMethod</th>\n",
       "      <th>FuzzyScore</th>\n",
       "      <th>RWPubYear</th>\n",
       "    </tr>\n",
       "  </thead>\n",
       "  <tbody>\n",
       "    <tr>\n",
       "      <th>0</th>\n",
       "      <td>6582</td>\n",
       "      <td>a study on chinaâ€™s petroleum enterprise soci...</td>\n",
       "      <td>2025784643</td>\n",
       "      <td>retraction note a study on china s petroleum e...</td>\n",
       "      <td>2015.0</td>\n",
       "      <td>2015.0</td>\n",
       "      <td>doi</td>\n",
       "      <td>NaN</td>\n",
       "      <td>2015.0</td>\n",
       "    </tr>\n",
       "    <tr>\n",
       "      <th>1</th>\n",
       "      <td>6579</td>\n",
       "      <td>behavior analysis on the security object of th...</td>\n",
       "      <td>2219765734</td>\n",
       "      <td>behavior analysis on the security object of th...</td>\n",
       "      <td>2015.0</td>\n",
       "      <td>2015.0</td>\n",
       "      <td>doi</td>\n",
       "      <td>NaN</td>\n",
       "      <td>2015.0</td>\n",
       "    </tr>\n",
       "    <tr>\n",
       "      <th>2</th>\n",
       "      <td>6580</td>\n",
       "      <td>communication arising from relationship orient...</td>\n",
       "      <td>2290303548</td>\n",
       "      <td>communication arising from relationship orient...</td>\n",
       "      <td>2015.0</td>\n",
       "      <td>2015.0</td>\n",
       "      <td>doi</td>\n",
       "      <td>NaN</td>\n",
       "      <td>2015.0</td>\n",
       "    </tr>\n",
       "    <tr>\n",
       "      <th>3</th>\n",
       "      <td>6581</td>\n",
       "      <td>prediction model of karstic large spring water...</td>\n",
       "      <td>2230565940</td>\n",
       "      <td>study on prediction model of karstic large spr...</td>\n",
       "      <td>2015.0</td>\n",
       "      <td>2015.0</td>\n",
       "      <td>doi</td>\n",
       "      <td>NaN</td>\n",
       "      <td>2015.0</td>\n",
       "    </tr>\n",
       "    <tr>\n",
       "      <th>4</th>\n",
       "      <td>8450</td>\n",
       "      <td>unilaterally blocking the muscarinic receptors...</td>\n",
       "      <td>1913783002</td>\n",
       "      <td>unilaterally blocking the muscarinic receptors...</td>\n",
       "      <td>2015.0</td>\n",
       "      <td>2015.0</td>\n",
       "      <td>doi</td>\n",
       "      <td>NaN</td>\n",
       "      <td>2015.0</td>\n",
       "    </tr>\n",
       "  </tbody>\n",
       "</table>\n",
       "</div>"
      ],
      "text/plain": [
       "  Record ID                                        RWTitleNorm      MAGPID  \\\n",
       "0      6582  a study on chinaâ€™s petroleum enterprise soci...  2025784643   \n",
       "1      6579  behavior analysis on the security object of th...  2219765734   \n",
       "2      6580  communication arising from relationship orient...  2290303548   \n",
       "3      6581  prediction model of karstic large spring water...  2230565940   \n",
       "4      8450  unilaterally blocking the muscarinic receptors...  1913783002   \n",
       "\n",
       "                                            MAGTitle  RetractionYear  \\\n",
       "0  retraction note a study on china s petroleum e...          2015.0   \n",
       "1  behavior analysis on the security object of th...          2015.0   \n",
       "2  communication arising from relationship orient...          2015.0   \n",
       "3  study on prediction model of karstic large spr...          2015.0   \n",
       "4  unilaterally blocking the muscarinic receptors...          2015.0   \n",
       "\n",
       "   MAGPubYear RecordMatchingMethod  FuzzyScore  RWPubYear  \n",
       "0      2015.0                  doi         NaN     2015.0  \n",
       "1      2015.0                  doi         NaN     2015.0  \n",
       "2      2015.0                  doi         NaN     2015.0  \n",
       "3      2015.0                  doi         NaN     2015.0  \n",
       "4      2015.0                  doi         NaN     2015.0  "
      ]
     },
     "execution_count": 98,
     "metadata": {},
     "output_type": "execute_result"
    }
   ],
   "source": [
    "df_paper_matching_extended = df_paper_matching_filtered.merge(df_rw[['Record ID', 'OriginalPaperYear']], \n",
    "                                                              on='Record ID')\\\n",
    "                                                        .rename(columns={'OriginalPaperYear': 'RWPubYear'})\n",
    "df_paper_matching_extended.head()"
   ]
  },
  {
   "cell_type": "markdown",
   "id": "bcc6ddc8",
   "metadata": {},
   "source": [
    "# Saving"
   ]
  },
  {
   "cell_type": "code",
   "execution_count": 104,
   "id": "fc74f747",
   "metadata": {},
   "outputs": [
    {
     "name": "stdout",
     "output_type": "stream",
     "text": [
      "File saved successfully at /Users/sm9654/desktop/NYUAD/nyuad-research/retraction_openalex/retraction_effects_on_academic_careers/data/processed/paper_matching_20240129.csv\n"
     ]
    }
   ],
   "source": [
    "# Let us first organize columns\n",
    "\n",
    "col_order = ['Record ID', 'MAGPID', 'RWTitleNorm', 'MAGTitle', 'RecordMatchingMethod',\n",
    "            'FuzzyScore', 'RWPubYear', 'MAGPubYear' , 'RetractionYear']\n",
    "\n",
    "import os\n",
    "from datetime import datetime\n",
    "\n",
    "# Constants\n",
    "OUTPUT_DIRECTORY = OUTDIR\n",
    "FILENAME = \"paper_matching\"\n",
    "\n",
    "# Create a full file path with timestamp\n",
    "timestamp = datetime.now().strftime(\"%Y%m%d\")\n",
    "file_path = os.path.join(OUTPUT_DIRECTORY, f\"{FILENAME}_{timestamp}.csv\")\n",
    "\n",
    "# Writing DataFrame to CSV with error handling\n",
    "try:\n",
    "    df_paper_matching_extended[col_order].to_csv(file_path, index=False)\n",
    "    print(f\"File saved successfully at {file_path}\")\n",
    "except Exception as e:\n",
    "    print(f\"Error saving file: {e}\")\n",
    "    \n"
   ]
  },
  {
   "cell_type": "code",
   "execution_count": 118,
   "id": "ec3dd697",
   "metadata": {},
   "outputs": [
    {
     "name": "stdout",
     "output_type": "stream",
     "text": [
      "File saved successfully at /Users/sm9654/desktop/NYUAD/nyuad-research/retraction_openalex/retraction_effects_on_academic_careers/data/processed/paper_matching_multipleMatches_20240129.csv\n"
     ]
    }
   ],
   "source": [
    "# Let us also save the dataframe with duplicates i.e. more than 1 match (to be decided manually)\n",
    "\n",
    "df_duplicates = df_paper_matching_extended[df_paper_matching_extended['Record ID'].duplicated(keep=False)]\\\n",
    "                .sort_values(by=['Record ID','FuzzyScore'])\n",
    "\n",
    "FILENAME = \"paper_matching_multipleMatches\"\n",
    "\n",
    "# Create a full file path with timestamp\n",
    "timestamp = datetime.now().strftime(\"%Y%m%d\")\n",
    "file_path = os.path.join(OUTPUT_DIRECTORY, f\"{FILENAME}_{timestamp}.csv\")\n",
    "\n",
    "# Writing DataFrame to CSV with error handling\n",
    "try:\n",
    "    df_duplicates[col_order].to_csv(file_path, index=False)\n",
    "    print(f\"File saved successfully at {file_path}\")\n",
    "except Exception as e:\n",
    "    print(f\"Error saving file: {e}\")"
   ]
  },
  {
   "cell_type": "code",
   "execution_count": null,
   "id": "d3a2b695",
   "metadata": {},
   "outputs": [],
   "source": []
  }
 ],
 "metadata": {
  "kernelspec": {
   "display_name": "Python 3 (ipykernel)",
   "language": "python",
   "name": "python3"
  },
  "language_info": {
   "codemirror_mode": {
    "name": "ipython",
    "version": 3
   },
   "file_extension": ".py",
   "mimetype": "text/x-python",
   "name": "python",
   "nbconvert_exporter": "python",
   "pygments_lexer": "ipython3",
   "version": "3.9.4"
  }
 },
 "nbformat": 4,
 "nbformat_minor": 5
}
