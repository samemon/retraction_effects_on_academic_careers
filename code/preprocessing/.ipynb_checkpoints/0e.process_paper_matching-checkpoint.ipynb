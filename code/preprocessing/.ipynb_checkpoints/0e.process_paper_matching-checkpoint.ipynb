{
 "cells": [
  {
   "cell_type": "markdown",
   "id": "dacc51e5",
   "metadata": {},
   "source": [
    "## Processing Paper Matches\n",
    "\n",
    "In this notebook, we shall process the RW-MAG paper matches, and consolidate the matches based on different criteria into a single csv file. We shall also remove the retraction notices from the MAG matches."
   ]
  },
  {
   "cell_type": "code",
   "execution_count": 71,
   "id": "6fd21d95",
   "metadata": {},
   "outputs": [],
   "source": [
    "# Importing relevant packages\n",
    "\n",
    "import pandas as pd\n",
    "import os\n",
    "from config_reader import read_config"
   ]
  },
  {
   "cell_type": "code",
   "execution_count": 72,
   "id": "3b055ca8",
   "metadata": {},
   "outputs": [],
   "source": [
    "# Reading paths\n",
    "paths = read_config()\n",
    "FUZZYMATCH_LOCAL_PATH = paths['FUZZYMATCH_LOCAL_PATH']\n",
    "RW_ORIGINAL_W_YEAR_LOCAL_PATH = paths['RW_ORIGINAL_W_YEAR_LOCAL_PATH']\n",
    "PROCESSED_EXACT_PAPER_MATCH_LOCAL_PATH = paths['PROCESSED_EXACT_PAPER_MATCH_LOCAL_PATH']"
   ]
  },
  {
   "cell_type": "code",
   "execution_count": 75,
   "id": "1f928756",
   "metadata": {},
   "outputs": [],
   "source": [
    "# Reading list of all files in fuzzy match directory\n",
    "flist = os.listdir(FUZZYMATCH_LOCAL_PATH)"
   ]
  },
  {
   "cell_type": "code",
   "execution_count": 76,
   "id": "e5459356",
   "metadata": {},
   "outputs": [
    {
     "data": {
      "text/html": [
       "<div>\n",
       "<style scoped>\n",
       "    .dataframe tbody tr th:only-of-type {\n",
       "        vertical-align: middle;\n",
       "    }\n",
       "\n",
       "    .dataframe tbody tr th {\n",
       "        vertical-align: top;\n",
       "    }\n",
       "\n",
       "    .dataframe thead th {\n",
       "        text-align: right;\n",
       "    }\n",
       "</style>\n",
       "<table border=\"1\" class=\"dataframe\">\n",
       "  <thead>\n",
       "    <tr style=\"text-align: right;\">\n",
       "      <th></th>\n",
       "      <th>Record ID</th>\n",
       "      <th>RetractionYear</th>\n",
       "    </tr>\n",
       "  </thead>\n",
       "  <tbody>\n",
       "    <tr>\n",
       "      <th>0</th>\n",
       "      <td>28599</td>\n",
       "      <td>2021.0</td>\n",
       "    </tr>\n",
       "    <tr>\n",
       "      <th>1</th>\n",
       "      <td>28504</td>\n",
       "      <td>2021.0</td>\n",
       "    </tr>\n",
       "    <tr>\n",
       "      <th>2</th>\n",
       "      <td>28506</td>\n",
       "      <td>2021.0</td>\n",
       "    </tr>\n",
       "    <tr>\n",
       "      <th>3</th>\n",
       "      <td>28505</td>\n",
       "      <td>2021.0</td>\n",
       "    </tr>\n",
       "    <tr>\n",
       "      <th>4</th>\n",
       "      <td>28502</td>\n",
       "      <td>2021.0</td>\n",
       "    </tr>\n",
       "  </tbody>\n",
       "</table>\n",
       "</div>"
      ],
      "text/plain": [
       "   Record ID  RetractionYear\n",
       "0      28599          2021.0\n",
       "1      28504          2021.0\n",
       "2      28506          2021.0\n",
       "3      28505          2021.0\n",
       "4      28502          2021.0"
      ]
     },
     "execution_count": 76,
     "metadata": {},
     "output_type": "execute_result"
    }
   ],
   "source": [
    "# Reading retraction watch dataset\n",
    "df_rw = pd.read_csv(RW_ORIGINAL_W_YEAR_LOCAL_PATH, usecols=['Record ID','RetractionYear'])\n",
    "df_rw.head()"
   ]
  },
  {
   "cell_type": "markdown",
   "id": "947beaed",
   "metadata": {},
   "source": [
    "### Processing Exact Matching (based on DOI or Title)"
   ]
  },
  {
   "cell_type": "code",
   "execution_count": 77,
   "id": "773e7aad",
   "metadata": {},
   "outputs": [
    {
     "data": {
      "text/html": [
       "<div>\n",
       "<style scoped>\n",
       "    .dataframe tbody tr th:only-of-type {\n",
       "        vertical-align: middle;\n",
       "    }\n",
       "\n",
       "    .dataframe tbody tr th {\n",
       "        vertical-align: top;\n",
       "    }\n",
       "\n",
       "    .dataframe thead th {\n",
       "        text-align: right;\n",
       "    }\n",
       "</style>\n",
       "<table border=\"1\" class=\"dataframe\">\n",
       "  <thead>\n",
       "    <tr style=\"text-align: right;\">\n",
       "      <th></th>\n",
       "      <th>Record ID</th>\n",
       "      <th>RWTitleNorm</th>\n",
       "      <th>OriginalPaperDOI</th>\n",
       "      <th>MAGPID</th>\n",
       "      <th>MAGTitle</th>\n",
       "      <th>MAGPubYear</th>\n",
       "      <th>RetractionYear</th>\n",
       "    </tr>\n",
       "  </thead>\n",
       "  <tbody>\n",
       "    <tr>\n",
       "      <th>0</th>\n",
       "      <td>28505</td>\n",
       "      <td>tet1 exerts its tumor suppressor function by r...</td>\n",
       "      <td>10.1042/BSR20160523</td>\n",
       "      <td>2597493214</td>\n",
       "      <td>tet1 exerts its tumour suppressor function by ...</td>\n",
       "      <td>2017.0</td>\n",
       "      <td>2021.0</td>\n",
       "    </tr>\n",
       "    <tr>\n",
       "      <th>1</th>\n",
       "      <td>28498</td>\n",
       "      <td>upregulation of oxidative stress-responsive 1(...</td>\n",
       "      <td>10.1080/21655979.2020.1814659</td>\n",
       "      <td>3081313700</td>\n",
       "      <td>upregulation of oxidative stress responsive 1 ...</td>\n",
       "      <td>2020.0</td>\n",
       "      <td>2021.0</td>\n",
       "    </tr>\n",
       "    <tr>\n",
       "      <th>2</th>\n",
       "      <td>28596</td>\n",
       "      <td>the facets of gender inequality and homicide: ...</td>\n",
       "      <td>10.1080/08974454.2019.1632773</td>\n",
       "      <td>2958272459</td>\n",
       "      <td>retracted article the facets of gender inequal...</td>\n",
       "      <td>2019.0</td>\n",
       "      <td>2021.0</td>\n",
       "    </tr>\n",
       "    <tr>\n",
       "      <th>3</th>\n",
       "      <td>28351</td>\n",
       "      <td>opioid-sparing effect of modified intercostal ...</td>\n",
       "      <td>10.1097/EJA.0000000000001394</td>\n",
       "      <td>3104158721</td>\n",
       "      <td>opioid sparing effect of modified intercostal ...</td>\n",
       "      <td>2020.0</td>\n",
       "      <td>2021.0</td>\n",
       "    </tr>\n",
       "    <tr>\n",
       "      <th>4</th>\n",
       "      <td>28302</td>\n",
       "      <td>beijing as the hub of crf07_bc transmission fr...</td>\n",
       "      <td>10.1089/AID.2020.0147</td>\n",
       "      <td>3112479964</td>\n",
       "      <td>beijing as the hub of crf07_bc transmission fr...</td>\n",
       "      <td>2020.0</td>\n",
       "      <td>2021.0</td>\n",
       "    </tr>\n",
       "  </tbody>\n",
       "</table>\n",
       "</div>"
      ],
      "text/plain": [
       "   Record ID                                        RWTitleNorm  \\\n",
       "0      28505  tet1 exerts its tumor suppressor function by r...   \n",
       "1      28498  upregulation of oxidative stress-responsive 1(...   \n",
       "2      28596  the facets of gender inequality and homicide: ...   \n",
       "3      28351  opioid-sparing effect of modified intercostal ...   \n",
       "4      28302  beijing as the hub of crf07_bc transmission fr...   \n",
       "\n",
       "                OriginalPaperDOI      MAGPID  \\\n",
       "0            10.1042/BSR20160523  2597493214   \n",
       "1  10.1080/21655979.2020.1814659  3081313700   \n",
       "2  10.1080/08974454.2019.1632773  2958272459   \n",
       "3   10.1097/EJA.0000000000001394  3104158721   \n",
       "4          10.1089/AID.2020.0147  3112479964   \n",
       "\n",
       "                                            MAGTitle  MAGPubYear  \\\n",
       "0  tet1 exerts its tumour suppressor function by ...      2017.0   \n",
       "1  upregulation of oxidative stress responsive 1 ...      2020.0   \n",
       "2  retracted article the facets of gender inequal...      2019.0   \n",
       "3  opioid sparing effect of modified intercostal ...      2020.0   \n",
       "4  beijing as the hub of crf07_bc transmission fr...      2020.0   \n",
       "\n",
       "   RetractionYear  \n",
       "0          2021.0  \n",
       "1          2021.0  \n",
       "2          2021.0  \n",
       "3          2021.0  \n",
       "4          2021.0  "
      ]
     },
     "execution_count": 77,
     "metadata": {},
     "output_type": "execute_result"
    }
   ],
   "source": [
    "# Let us explore exact matching first\n",
    "\n",
    "df = pd.read_csv(PROCESSED_EXACT_PAPER_MATCH_LOCAL_PATH)\n",
    "df = df.merge(df_rw, on='Record ID')\n",
    "df.head()"
   ]
  },
  {
   "cell_type": "code",
   "execution_count": 78,
   "id": "d9f710ad",
   "metadata": {},
   "outputs": [
    {
     "data": {
      "text/plain": [
       "7906"
      ]
     },
     "execution_count": 78,
     "metadata": {},
     "output_type": "execute_result"
    }
   ],
   "source": [
    "# Extracting those that were matched only on DOI\n",
    "\n",
    "matched_doi = df[~df.OriginalPaperDOI.isna()]\n",
    "matched_doi['Record ID'].nunique()"
   ]
  },
  {
   "cell_type": "code",
   "execution_count": 80,
   "id": "88b46338",
   "metadata": {},
   "outputs": [
    {
     "data": {
      "text/plain": [
       "5593"
      ]
     },
     "execution_count": 80,
     "metadata": {},
     "output_type": "execute_result"
    }
   ],
   "source": [
    "# Extracting those matched on DOI but retracted between years 1990-2015 \n",
    "\n",
    "matched_doi[matched_doi['RetractionYear'].le(2015) & matched_doi['RetractionYear'].ge(1990)]\\\n",
    "        ['Record ID'].nunique()"
   ]
  },
  {
   "cell_type": "code",
   "execution_count": 81,
   "id": "5f1c0774",
   "metadata": {},
   "outputs": [
    {
     "data": {
      "text/plain": [
       "count    7906.000000\n",
       "mean        1.010372\n",
       "std         0.331204\n",
       "min         1.000000\n",
       "25%         1.000000\n",
       "50%         1.000000\n",
       "75%         1.000000\n",
       "max        21.000000\n",
       "Name: MAGPID, dtype: float64"
      ]
     },
     "execution_count": 81,
     "metadata": {},
     "output_type": "execute_result"
    }
   ],
   "source": [
    "# Checking the number of matches per record\n",
    "matched_doi[['Record ID','MAGPID']].groupby('Record ID')['MAGPID'].nunique().describe()\n",
    "# Most have 1 match, except a few"
   ]
  },
  {
   "cell_type": "code",
   "execution_count": 82,
   "id": "f7af182d",
   "metadata": {},
   "outputs": [
    {
     "data": {
      "text/plain": [
       "2687"
      ]
     },
     "execution_count": 82,
     "metadata": {},
     "output_type": "execute_result"
    }
   ],
   "source": [
    "# Extracting records that were matched on title (coz no DOI)\n",
    "matched_title = df[df.OriginalPaperDOI.isna()]\n",
    "matched_title['Record ID'].nunique()"
   ]
  },
  {
   "cell_type": "code",
   "execution_count": 83,
   "id": "e4ef6a90",
   "metadata": {},
   "outputs": [
    {
     "data": {
      "text/plain": [
       "1272"
      ]
     },
     "execution_count": 83,
     "metadata": {},
     "output_type": "execute_result"
    }
   ],
   "source": [
    "# Extracting only those records that were between 1990-2015\n",
    "matched_title[matched_title['RetractionYear'].le(2015) & matched_title['RetractionYear'].ge(1990)]\\\n",
    "        ['Record ID'].nunique()"
   ]
  },
  {
   "cell_type": "code",
   "execution_count": 85,
   "id": "5d02379b",
   "metadata": {},
   "outputs": [
    {
     "data": {
      "text/plain": [
       "count    2687.000000\n",
       "mean        1.222181\n",
       "std         3.533815\n",
       "min         1.000000\n",
       "25%         1.000000\n",
       "50%         1.000000\n",
       "75%         1.000000\n",
       "max       137.000000\n",
       "Name: MAGPID, dtype: float64"
      ]
     },
     "execution_count": 85,
     "metadata": {},
     "output_type": "execute_result"
    }
   ],
   "source": [
    "# Also counting the number of matches per record.\n",
    "\n",
    "matched_title[['Record ID','MAGPID']].groupby('Record ID')['MAGPID'].nunique().describe()\n",
    "# most have 1, but 208 have more than 1 matches."
   ]
  },
  {
   "cell_type": "code",
   "execution_count": 86,
   "id": "97f66fa4",
   "metadata": {},
   "outputs": [
    {
     "data": {
      "text/html": [
       "<div>\n",
       "<style scoped>\n",
       "    .dataframe tbody tr th:only-of-type {\n",
       "        vertical-align: middle;\n",
       "    }\n",
       "\n",
       "    .dataframe tbody tr th {\n",
       "        vertical-align: top;\n",
       "    }\n",
       "\n",
       "    .dataframe thead th {\n",
       "        text-align: right;\n",
       "    }\n",
       "</style>\n",
       "<table border=\"1\" class=\"dataframe\">\n",
       "  <thead>\n",
       "    <tr style=\"text-align: right;\">\n",
       "      <th></th>\n",
       "      <th>Record ID</th>\n",
       "      <th>RWTitleNorm</th>\n",
       "      <th>OriginalPaperDOI</th>\n",
       "      <th>MAGPID</th>\n",
       "      <th>MAGTitle</th>\n",
       "      <th>MAGPubYear</th>\n",
       "      <th>RetractionYear</th>\n",
       "    </tr>\n",
       "  </thead>\n",
       "  <tbody>\n",
       "    <tr>\n",
       "      <th>10645</th>\n",
       "      <td>7568</td>\n",
       "      <td>total quality management</td>\n",
       "      <td>NaN</td>\n",
       "      <td>2623010252</td>\n",
       "      <td>total quality management</td>\n",
       "      <td>2016.0</td>\n",
       "      <td>2009.0</td>\n",
       "    </tr>\n",
       "    <tr>\n",
       "      <th>10646</th>\n",
       "      <td>7568</td>\n",
       "      <td>total quality management</td>\n",
       "      <td>NaN</td>\n",
       "      <td>3151953841</td>\n",
       "      <td>total quality management</td>\n",
       "      <td>2007.0</td>\n",
       "      <td>2009.0</td>\n",
       "    </tr>\n",
       "    <tr>\n",
       "      <th>10647</th>\n",
       "      <td>7568</td>\n",
       "      <td>total quality management</td>\n",
       "      <td>NaN</td>\n",
       "      <td>3148102789</td>\n",
       "      <td>total quality management</td>\n",
       "      <td>2004.0</td>\n",
       "      <td>2009.0</td>\n",
       "    </tr>\n",
       "    <tr>\n",
       "      <th>10648</th>\n",
       "      <td>7568</td>\n",
       "      <td>total quality management</td>\n",
       "      <td>NaN</td>\n",
       "      <td>2622801231</td>\n",
       "      <td>total quality management</td>\n",
       "      <td>2017.0</td>\n",
       "      <td>2009.0</td>\n",
       "    </tr>\n",
       "    <tr>\n",
       "      <th>10649</th>\n",
       "      <td>7568</td>\n",
       "      <td>total quality management</td>\n",
       "      <td>NaN</td>\n",
       "      <td>1979626407</td>\n",
       "      <td>total quality management</td>\n",
       "      <td>1990.0</td>\n",
       "      <td>2009.0</td>\n",
       "    </tr>\n",
       "    <tr>\n",
       "      <th>...</th>\n",
       "      <td>...</td>\n",
       "      <td>...</td>\n",
       "      <td>...</td>\n",
       "      <td>...</td>\n",
       "      <td>...</td>\n",
       "      <td>...</td>\n",
       "      <td>...</td>\n",
       "    </tr>\n",
       "    <tr>\n",
       "      <th>10777</th>\n",
       "      <td>7568</td>\n",
       "      <td>total quality management</td>\n",
       "      <td>NaN</td>\n",
       "      <td>2929231812</td>\n",
       "      <td>total quality management</td>\n",
       "      <td>2018.0</td>\n",
       "      <td>2009.0</td>\n",
       "    </tr>\n",
       "    <tr>\n",
       "      <th>10778</th>\n",
       "      <td>7568</td>\n",
       "      <td>total quality management</td>\n",
       "      <td>NaN</td>\n",
       "      <td>2418132854</td>\n",
       "      <td>total quality management</td>\n",
       "      <td>1992.0</td>\n",
       "      <td>2009.0</td>\n",
       "    </tr>\n",
       "    <tr>\n",
       "      <th>10779</th>\n",
       "      <td>7568</td>\n",
       "      <td>total quality management</td>\n",
       "      <td>NaN</td>\n",
       "      <td>3144737536</td>\n",
       "      <td>total quality management</td>\n",
       "      <td>2013.0</td>\n",
       "      <td>2009.0</td>\n",
       "    </tr>\n",
       "    <tr>\n",
       "      <th>10780</th>\n",
       "      <td>7568</td>\n",
       "      <td>total quality management</td>\n",
       "      <td>NaN</td>\n",
       "      <td>3148878130</td>\n",
       "      <td>total quality management</td>\n",
       "      <td>2006.0</td>\n",
       "      <td>2009.0</td>\n",
       "    </tr>\n",
       "    <tr>\n",
       "      <th>10781</th>\n",
       "      <td>7568</td>\n",
       "      <td>total quality management</td>\n",
       "      <td>NaN</td>\n",
       "      <td>2515561862</td>\n",
       "      <td>total quality management</td>\n",
       "      <td>1997.0</td>\n",
       "      <td>2009.0</td>\n",
       "    </tr>\n",
       "  </tbody>\n",
       "</table>\n",
       "<p>137 rows × 7 columns</p>\n",
       "</div>"
      ],
      "text/plain": [
       "       Record ID               RWTitleNorm OriginalPaperDOI      MAGPID  \\\n",
       "10645       7568  total quality management              NaN  2623010252   \n",
       "10646       7568  total quality management              NaN  3151953841   \n",
       "10647       7568  total quality management              NaN  3148102789   \n",
       "10648       7568  total quality management              NaN  2622801231   \n",
       "10649       7568  total quality management              NaN  1979626407   \n",
       "...          ...                       ...              ...         ...   \n",
       "10777       7568  total quality management              NaN  2929231812   \n",
       "10778       7568  total quality management              NaN  2418132854   \n",
       "10779       7568  total quality management              NaN  3144737536   \n",
       "10780       7568  total quality management              NaN  3148878130   \n",
       "10781       7568  total quality management              NaN  2515561862   \n",
       "\n",
       "                       MAGTitle  MAGPubYear  RetractionYear  \n",
       "10645  total quality management      2016.0          2009.0  \n",
       "10646  total quality management      2007.0          2009.0  \n",
       "10647  total quality management      2004.0          2009.0  \n",
       "10648  total quality management      2017.0          2009.0  \n",
       "10649  total quality management      1990.0          2009.0  \n",
       "...                         ...         ...             ...  \n",
       "10777  total quality management      2018.0          2009.0  \n",
       "10778  total quality management      1992.0          2009.0  \n",
       "10779  total quality management      2013.0          2009.0  \n",
       "10780  total quality management      2006.0          2009.0  \n",
       "10781  total quality management      1997.0          2009.0  \n",
       "\n",
       "[137 rows x 7 columns]"
      ]
     },
     "execution_count": 86,
     "metadata": {},
     "output_type": "execute_result"
    }
   ],
   "source": [
    "# Looking at the one with too many matches\n",
    "matched_title[matched_title['Record ID']==7568]"
   ]
  },
  {
   "cell_type": "markdown",
   "id": "3ef5bd9a",
   "metadata": {},
   "source": [
    "### Processing Fuzzy Matching"
   ]
  },
  {
   "cell_type": "code",
   "execution_count": 87,
   "id": "00cc9f77",
   "metadata": {},
   "outputs": [],
   "source": [
    "# Initializing the two lists for two ways we did fuzzy matching\n",
    "dfs_exactyear = []\n",
    "dfs_fuzzyyear = []\n",
    "\n",
    "\n",
    "# going through the file list\n",
    "for fname in flist:\n",
    "    # Only reading if it is not exact match\n",
    "    if fname != exact_match_fname:\n",
    "        df = pd.read_csv(FUZZYMATCH_LOCAL_PATH+fname)\n",
    "        # If it is exact year fuzzy matching\n",
    "        if \"exact_year\" in fname:\n",
    "            dfs_exactyear.append(df)\n",
    "        # If it is fuzzy year fuzzy matching\n",
    "        else:\n",
    "            dfs_fuzzyyear.append(df)"
   ]
  },
  {
   "cell_type": "code",
   "execution_count": null,
   "id": "b3eaa7e7",
   "metadata": {},
   "outputs": [],
   "source": [
    "def extract_record_summary(dfi):\n",
    "    \"\"\"\n",
    "    This function shall be used to \n",
    "    give a summary in terms of the \n",
    "    (a) total records in the dataframe (dfi)\n",
    "    as well as the \n",
    "    (b) total records between 1990-2015, as well as \n",
    "    (c) the average number of matches per record for \n",
    "    both (a) and (b) and also the \n",
    "    (d) the max number of matches for (a) and (b), and also\n",
    "    (e) the number of records with more than 1 fuzzy match\n",
    "    \"\"\"\n",
    "    \n",
    "    print(\"Number of unique records:\", dfi['Record ID'].nunique())\n",
    "    print(\"Average number of matches per record\", \n",
    "          dfi.groupby(['Record ID'])['MAGPID'].nunique().mean())\n",
    "    print(\"Max number of matches per record\", \n",
    "          dfi.groupby(['Record ID'])['MAGPID'].nunique().max())\n",
    "    \n",
    "    \n",
    "    \n",
    "    print(\"###########\")\n",
    "    records_1990_2015 = dfi[dfi['RetractionYear'].ge(1990) & dfi['RetractionYear'].le(2015)]\n",
    "    print(\"Number of unique records retracted between 1990-2015:\", \n",
    "          records_1990_2015['Record ID'].nunique())\n",
    "    print(\"Average number of matches per record for 1990-2015\", \n",
    "          dfi.groupby(['Record ID'])['MAGPID'].nunique().mean())\n",
    "    print(\"Max number of matches per record for 1990-2015\", \n",
    "          dfi.groupby(['Record ID'])['MAGPID'].nunique().max())\n",
    "    \n",
    "    \n",
    "    \n",
    "    "
   ]
  },
  {
   "cell_type": "code",
   "execution_count": 88,
   "id": "c93ff0a3",
   "metadata": {},
   "outputs": [
    {
     "data": {
      "text/html": [
       "<div>\n",
       "<style scoped>\n",
       "    .dataframe tbody tr th:only-of-type {\n",
       "        vertical-align: middle;\n",
       "    }\n",
       "\n",
       "    .dataframe tbody tr th {\n",
       "        vertical-align: top;\n",
       "    }\n",
       "\n",
       "    .dataframe thead th {\n",
       "        text-align: right;\n",
       "    }\n",
       "</style>\n",
       "<table border=\"1\" class=\"dataframe\">\n",
       "  <thead>\n",
       "    <tr style=\"text-align: right;\">\n",
       "      <th></th>\n",
       "      <th>MAGTitle</th>\n",
       "      <th>score</th>\n",
       "      <th>index</th>\n",
       "      <th>MAGPID</th>\n",
       "      <th>MAGTitle.1</th>\n",
       "      <th>MAGPubYear</th>\n",
       "      <th>Record ID</th>\n",
       "      <th>RWTitleNorm</th>\n",
       "      <th>RetractionYear</th>\n",
       "    </tr>\n",
       "  </thead>\n",
       "  <tbody>\n",
       "    <tr>\n",
       "      <th>0</th>\n",
       "      <td>vitamin d supplementation affects serum high s...</td>\n",
       "      <td>99.324324</td>\n",
       "      <td>4317227</td>\n",
       "      <td>2112332874</td>\n",
       "      <td>vitamin d supplementation affects serum high s...</td>\n",
       "      <td>2013.0</td>\n",
       "      <td>28372</td>\n",
       "      <td>vitamin d supplementation affects serum high-s...</td>\n",
       "      <td>2021.0</td>\n",
       "    </tr>\n",
       "    <tr>\n",
       "      <th>1</th>\n",
       "      <td>vitamin d supplementation affects serum high s...</td>\n",
       "      <td>95.000000</td>\n",
       "      <td>3035336</td>\n",
       "      <td>2188639929</td>\n",
       "      <td>vitamin d supplementation affects serum high s...</td>\n",
       "      <td>2013.0</td>\n",
       "      <td>28372</td>\n",
       "      <td>vitamin d supplementation affects serum high-s...</td>\n",
       "      <td>2021.0</td>\n",
       "    </tr>\n",
       "  </tbody>\n",
       "</table>\n",
       "</div>"
      ],
      "text/plain": [
       "                                            MAGTitle      score    index  \\\n",
       "0  vitamin d supplementation affects serum high s...  99.324324  4317227   \n",
       "1  vitamin d supplementation affects serum high s...  95.000000  3035336   \n",
       "\n",
       "       MAGPID                                         MAGTitle.1  MAGPubYear  \\\n",
       "0  2112332874  vitamin d supplementation affects serum high s...      2013.0   \n",
       "1  2188639929  vitamin d supplementation affects serum high s...      2013.0   \n",
       "\n",
       "  Record ID                                        RWTitleNorm  RetractionYear  \n",
       "0     28372  vitamin d supplementation affects serum high-s...          2021.0  \n",
       "1     28372  vitamin d supplementation affects serum high-s...          2021.0  "
      ]
     },
     "execution_count": 88,
     "metadata": {},
     "output_type": "execute_result"
    }
   ],
   "source": [
    "# Processing exact year fuzzy matching\n",
    "df_exactyear = pd.concat(dfs_exactyear)\n",
    "df_exactyear = df_exactyear.merge(df_rw, on='Record ID')\n",
    "df_exactyear.head(2)\n"
   ]
  },
  {
   "cell_type": "code",
   "execution_count": 53,
   "id": "b5d71ce2",
   "metadata": {},
   "outputs": [
    {
     "data": {
      "text/plain": [
       "12429"
      ]
     },
     "execution_count": 53,
     "metadata": {},
     "output_type": "execute_result"
    }
   ],
   "source": [
    "\n",
    "df_exactyear['Record ID'].nunique()"
   ]
  },
  {
   "cell_type": "code",
   "execution_count": 54,
   "id": "5d2f0661",
   "metadata": {},
   "outputs": [
    {
     "data": {
      "text/plain": [
       "8090"
      ]
     },
     "execution_count": 54,
     "metadata": {},
     "output_type": "execute_result"
    }
   ],
   "source": [
    "df_exactyear[df_exactyear['RetractionYear'].ge(1990) & df_exactyear['RetractionYear'].le(2015)]['Record ID'].nunique()"
   ]
  },
  {
   "cell_type": "code",
   "execution_count": 55,
   "id": "1ede3ba6",
   "metadata": {},
   "outputs": [
    {
     "data": {
      "text/plain": [
       "count    12429.000000\n",
       "mean         1.148202\n",
       "std          0.396417\n",
       "min          1.000000\n",
       "25%          1.000000\n",
       "50%          1.000000\n",
       "75%          1.000000\n",
       "max          3.000000\n",
       "Name: MAGPID, dtype: float64"
      ]
     },
     "execution_count": 55,
     "metadata": {},
     "output_type": "execute_result"
    }
   ],
   "source": [
    "df_exactyear.groupby(['Record ID'])['MAGPID'].nunique().describe()"
   ]
  },
  {
   "cell_type": "code",
   "execution_count": 58,
   "id": "012466cf",
   "metadata": {},
   "outputs": [
    {
     "data": {
      "text/html": [
       "<div>\n",
       "<style scoped>\n",
       "    .dataframe tbody tr th:only-of-type {\n",
       "        vertical-align: middle;\n",
       "    }\n",
       "\n",
       "    .dataframe tbody tr th {\n",
       "        vertical-align: top;\n",
       "    }\n",
       "\n",
       "    .dataframe thead th {\n",
       "        text-align: right;\n",
       "    }\n",
       "</style>\n",
       "<table border=\"1\" class=\"dataframe\">\n",
       "  <thead>\n",
       "    <tr style=\"text-align: right;\">\n",
       "      <th></th>\n",
       "      <th>RWTitleNorm</th>\n",
       "      <th>MAGTitle</th>\n",
       "      <th>score</th>\n",
       "      <th>index</th>\n",
       "      <th>MAGPID</th>\n",
       "      <th>MAGTitle.1</th>\n",
       "      <th>MAGPubYear</th>\n",
       "      <th>Record ID</th>\n",
       "      <th>RetractionYear</th>\n",
       "    </tr>\n",
       "  </thead>\n",
       "  <tbody>\n",
       "    <tr>\n",
       "      <th>0</th>\n",
       "      <td>evaluation of the predictive performance of th...</td>\n",
       "      <td>retracted evaluation of the predictive perform...</td>\n",
       "      <td>95.000000</td>\n",
       "      <td>11141080</td>\n",
       "      <td>2806309149</td>\n",
       "      <td>retracted evaluation of the predictive perform...</td>\n",
       "      <td>2019.0</td>\n",
       "      <td>21458</td>\n",
       "      <td>2019.0</td>\n",
       "    </tr>\n",
       "    <tr>\n",
       "      <th>2</th>\n",
       "      <td>an in vitro model for quantifying chemical tra...</td>\n",
       "      <td>retracted article an in vitro model for quanti...</td>\n",
       "      <td>95.000000</td>\n",
       "      <td>12932717</td>\n",
       "      <td>2806662748</td>\n",
       "      <td>retracted article an in vitro model for quanti...</td>\n",
       "      <td>2019.0</td>\n",
       "      <td>21491</td>\n",
       "      <td>2019.0</td>\n",
       "    </tr>\n",
       "    <tr>\n",
       "      <th>3</th>\n",
       "      <td>advances in diagnosis of endometrial hyperplasia</td>\n",
       "      <td>retracted article advances in diagnosis of end...</td>\n",
       "      <td>95.000000</td>\n",
       "      <td>4419696</td>\n",
       "      <td>2793142489</td>\n",
       "      <td>retracted article advances in diagnosis of end...</td>\n",
       "      <td>2019.0</td>\n",
       "      <td>21563</td>\n",
       "      <td>2019.0</td>\n",
       "    </tr>\n",
       "    <tr>\n",
       "      <th>4</th>\n",
       "      <td>vitamin d supplementation affects the beck dep...</td>\n",
       "      <td>vitamin d supplementation affects the beck dep...</td>\n",
       "      <td>99.004975</td>\n",
       "      <td>16028362</td>\n",
       "      <td>2177838021</td>\n",
       "      <td>vitamin d supplementation affects the beck dep...</td>\n",
       "      <td>2016.0</td>\n",
       "      <td>28440</td>\n",
       "      <td>2021.0</td>\n",
       "    </tr>\n",
       "    <tr>\n",
       "      <th>5</th>\n",
       "      <td>the highly efficient adsorption of pb(ii) on g...</td>\n",
       "      <td>the highly efficient adsorption of pb ii on gr...</td>\n",
       "      <td>99.193548</td>\n",
       "      <td>1573833</td>\n",
       "      <td>2218482279</td>\n",
       "      <td>the highly efficient adsorption of pb ii on gr...</td>\n",
       "      <td>2016.0</td>\n",
       "      <td>27717</td>\n",
       "      <td>2021.0</td>\n",
       "    </tr>\n",
       "    <tr>\n",
       "      <th>...</th>\n",
       "      <td>...</td>\n",
       "      <td>...</td>\n",
       "      <td>...</td>\n",
       "      <td>...</td>\n",
       "      <td>...</td>\n",
       "      <td>...</td>\n",
       "      <td>...</td>\n",
       "      <td>...</td>\n",
       "      <td>...</td>\n",
       "    </tr>\n",
       "    <tr>\n",
       "      <th>3135</th>\n",
       "      <td>acclimation of 2-chlorophenol-biodegrading act...</td>\n",
       "      <td>acclimation of 2 chlorophenol biodegrading act...</td>\n",
       "      <td>100.000000</td>\n",
       "      <td>14532241</td>\n",
       "      <td>2903597653</td>\n",
       "      <td>acclimation of 2 chlorophenol biodegrading act...</td>\n",
       "      <td>2018.0</td>\n",
       "      <td>20722</td>\n",
       "      <td>2019.0</td>\n",
       "    </tr>\n",
       "    <tr>\n",
       "      <th>3136</th>\n",
       "      <td>optimization of planning and design of urban s...</td>\n",
       "      <td>retracted optimization of planning and design ...</td>\n",
       "      <td>95.000000</td>\n",
       "      <td>8610842</td>\n",
       "      <td>2802356270</td>\n",
       "      <td>retracted optimization of planning and design ...</td>\n",
       "      <td>2018.0</td>\n",
       "      <td>20410</td>\n",
       "      <td>2019.0</td>\n",
       "    </tr>\n",
       "    <tr>\n",
       "      <th>3140</th>\n",
       "      <td>can baseline endocrinological examination and ...</td>\n",
       "      <td>retracted article can baseline endocrinologica...</td>\n",
       "      <td>95.000000</td>\n",
       "      <td>14919396</td>\n",
       "      <td>2921607107</td>\n",
       "      <td>retracted article can baseline endocrinologica...</td>\n",
       "      <td>2020.0</td>\n",
       "      <td>21361</td>\n",
       "      <td>2019.0</td>\n",
       "    </tr>\n",
       "    <tr>\n",
       "      <th>3141</th>\n",
       "      <td>iot based prudent automatic falls detection fo...</td>\n",
       "      <td>retracted article iot based prudent automatic ...</td>\n",
       "      <td>95.000000</td>\n",
       "      <td>7339830</td>\n",
       "      <td>2922321837</td>\n",
       "      <td>retracted article iot based prudent automatic ...</td>\n",
       "      <td>2020.0</td>\n",
       "      <td>28354</td>\n",
       "      <td>2019.0</td>\n",
       "    </tr>\n",
       "    <tr>\n",
       "      <th>3144</th>\n",
       "      <td>changes in lipid metabolism, tissue cations, a...</td>\n",
       "      <td>changes in lipid metabolism tissue cations and...</td>\n",
       "      <td>99.186992</td>\n",
       "      <td>3046243</td>\n",
       "      <td>2414498731</td>\n",
       "      <td>changes in lipid metabolism tissue cations and...</td>\n",
       "      <td>1989.0</td>\n",
       "      <td>4021</td>\n",
       "      <td>1989.0</td>\n",
       "    </tr>\n",
       "  </tbody>\n",
       "</table>\n",
       "<p>1706 rows × 9 columns</p>\n",
       "</div>"
      ],
      "text/plain": [
       "                                            RWTitleNorm  \\\n",
       "0     evaluation of the predictive performance of th...   \n",
       "2     an in vitro model for quantifying chemical tra...   \n",
       "3      advances in diagnosis of endometrial hyperplasia   \n",
       "4     vitamin d supplementation affects the beck dep...   \n",
       "5     the highly efficient adsorption of pb(ii) on g...   \n",
       "...                                                 ...   \n",
       "3135  acclimation of 2-chlorophenol-biodegrading act...   \n",
       "3136  optimization of planning and design of urban s...   \n",
       "3140  can baseline endocrinological examination and ...   \n",
       "3141  iot based prudent automatic falls detection fo...   \n",
       "3144  changes in lipid metabolism, tissue cations, a...   \n",
       "\n",
       "                                               MAGTitle       score     index  \\\n",
       "0     retracted evaluation of the predictive perform...   95.000000  11141080   \n",
       "2     retracted article an in vitro model for quanti...   95.000000  12932717   \n",
       "3     retracted article advances in diagnosis of end...   95.000000   4419696   \n",
       "4     vitamin d supplementation affects the beck dep...   99.004975  16028362   \n",
       "5     the highly efficient adsorption of pb ii on gr...   99.193548   1573833   \n",
       "...                                                 ...         ...       ...   \n",
       "3135  acclimation of 2 chlorophenol biodegrading act...  100.000000  14532241   \n",
       "3136  retracted optimization of planning and design ...   95.000000   8610842   \n",
       "3140  retracted article can baseline endocrinologica...   95.000000  14919396   \n",
       "3141  retracted article iot based prudent automatic ...   95.000000   7339830   \n",
       "3144  changes in lipid metabolism tissue cations and...   99.186992   3046243   \n",
       "\n",
       "          MAGPID                                         MAGTitle.1  \\\n",
       "0     2806309149  retracted evaluation of the predictive perform...   \n",
       "2     2806662748  retracted article an in vitro model for quanti...   \n",
       "3     2793142489  retracted article advances in diagnosis of end...   \n",
       "4     2177838021  vitamin d supplementation affects the beck dep...   \n",
       "5     2218482279  the highly efficient adsorption of pb ii on gr...   \n",
       "...          ...                                                ...   \n",
       "3135  2903597653  acclimation of 2 chlorophenol biodegrading act...   \n",
       "3136  2802356270  retracted optimization of planning and design ...   \n",
       "3140  2921607107  retracted article can baseline endocrinologica...   \n",
       "3141  2922321837  retracted article iot based prudent automatic ...   \n",
       "3144  2414498731  changes in lipid metabolism tissue cations and...   \n",
       "\n",
       "      MAGPubYear Record ID  RetractionYear  \n",
       "0         2019.0     21458          2019.0  \n",
       "2         2019.0     21491          2019.0  \n",
       "3         2019.0     21563          2019.0  \n",
       "4         2016.0     28440          2021.0  \n",
       "5         2016.0     27717          2021.0  \n",
       "...          ...       ...             ...  \n",
       "3135      2018.0     20722          2019.0  \n",
       "3136      2018.0     20410          2019.0  \n",
       "3140      2020.0     21361          2019.0  \n",
       "3141      2020.0     28354          2019.0  \n",
       "3144      1989.0      4021          1989.0  \n",
       "\n",
       "[1706 rows x 9 columns]"
      ]
     },
     "execution_count": 58,
     "metadata": {},
     "output_type": "execute_result"
    }
   ],
   "source": [
    "df_fuzzyyear = pd.concat(dfs_fuzzyyear)\n",
    "df_fuzzyyear = df_fuzzyyear.merge(df_rw, on='Record ID')\n",
    "df_fuzzyyear = df_fuzzyyear[~df_fuzzyyear['Record ID'].isin(df_exactyear['Record ID'])]\n",
    "df_fuzzyyear"
   ]
  },
  {
   "cell_type": "code",
   "execution_count": 59,
   "id": "d89b7709",
   "metadata": {},
   "outputs": [
    {
     "data": {
      "text/plain": [
       "1414"
      ]
     },
     "execution_count": 59,
     "metadata": {},
     "output_type": "execute_result"
    }
   ],
   "source": [
    "df_fuzzyyear['Record ID'].nunique()"
   ]
  },
  {
   "cell_type": "code",
   "execution_count": 61,
   "id": "9c3c695c",
   "metadata": {},
   "outputs": [
    {
     "data": {
      "text/plain": [
       "600"
      ]
     },
     "execution_count": 61,
     "metadata": {},
     "output_type": "execute_result"
    }
   ],
   "source": [
    "df_fuzzyyear[df_fuzzyyear['RetractionYear'].ge(1990) & df_fuzzyyear['RetractionYear'].le(2015)]['Record ID'].nunique()"
   ]
  },
  {
   "cell_type": "code",
   "execution_count": 62,
   "id": "8e04604e",
   "metadata": {},
   "outputs": [
    {
     "data": {
      "text/plain": [
       "count    1414.000000\n",
       "mean        1.206506\n",
       "std         0.457462\n",
       "min         1.000000\n",
       "25%         1.000000\n",
       "50%         1.000000\n",
       "75%         1.000000\n",
       "max         3.000000\n",
       "Name: MAGPID, dtype: float64"
      ]
     },
     "execution_count": 62,
     "metadata": {},
     "output_type": "execute_result"
    }
   ],
   "source": [
    "df_fuzzyyear.groupby('Record ID')['MAGPID'].nunique().describe()"
   ]
  },
  {
   "cell_type": "code",
   "execution_count": null,
   "id": "1d6ba445",
   "metadata": {},
   "outputs": [],
   "source": []
  }
 ],
 "metadata": {
  "kernelspec": {
   "display_name": "Python 3 (ipykernel)",
   "language": "python",
   "name": "python3"
  },
  "language_info": {
   "codemirror_mode": {
    "name": "ipython",
    "version": 3
   },
   "file_extension": ".py",
   "mimetype": "text/x-python",
   "name": "python",
   "nbconvert_exporter": "python",
   "pygments_lexer": "ipython3",
   "version": "3.9.4"
  }
 },
 "nbformat": 4,
 "nbformat_minor": 5
}
