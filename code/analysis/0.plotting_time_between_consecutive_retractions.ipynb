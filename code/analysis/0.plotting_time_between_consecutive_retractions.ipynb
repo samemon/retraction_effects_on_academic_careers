{
 "cells": [
  {
   "cell_type": "markdown",
   "id": "3b91572f",
   "metadata": {},
   "source": [
    "## Plotting time interval between consecutive retractions.\n",
    "\n",
    "Update (12/3/24): This is an old file that we shall modify to plot the time between consecutive retractions. Earlier version of the file was named: validating_removing_repeated_offenders_choice.ipynb\n",
    "\n",
    "------\n",
    "\n",
    "In this notebook, we shall validate this choice by plotting the number of days between consecutive retractions of multiple offenders. "
   ]
  },
  {
   "cell_type": "code",
   "execution_count": 1,
   "id": "d517b5a0",
   "metadata": {},
   "outputs": [],
   "source": [
    "# Importing relevant packages\n",
    "\n",
    "import pandas as pd\n",
    "import os\n",
    "from config_reader import read_config\n",
    "import matplotlib.pyplot as plt"
   ]
  },
  {
   "cell_type": "code",
   "execution_count": 2,
   "id": "d2643589",
   "metadata": {},
   "outputs": [],
   "source": [
    "# Reading paths\n",
    "paths = read_config()\n",
    "# Reading repeated offenders\n",
    "PROCESSED_REPEATED_OFFENDERS = paths['PROCESSED_REPEATED_OFFENDERS']\n",
    "# Path to the original RW papers \n",
    "RW_ORIGINAL_W_YEAR_LOCAL_PATH = paths['RW_ORIGINAL_W_YEAR_LOCAL_PATH']\n",
    "# Path to where we will save our processed files\n",
    "OUTDIR = paths['PLOTS_FOLDER_LOCAL']"
   ]
  },
  {
   "cell_type": "code",
   "execution_count": 3,
   "id": "3996ad5a",
   "metadata": {},
   "outputs": [
    {
     "data": {
      "text/html": [
       "<div>\n",
       "<style scoped>\n",
       "    .dataframe tbody tr th:only-of-type {\n",
       "        vertical-align: middle;\n",
       "    }\n",
       "\n",
       "    .dataframe tbody tr th {\n",
       "        vertical-align: top;\n",
       "    }\n",
       "\n",
       "    .dataframe thead th {\n",
       "        text-align: right;\n",
       "    }\n",
       "</style>\n",
       "<table border=\"1\" class=\"dataframe\">\n",
       "  <thead>\n",
       "    <tr style=\"text-align: right;\">\n",
       "      <th></th>\n",
       "      <th>Record ID</th>\n",
       "      <th>AuthorName</th>\n",
       "      <th>NumPapers</th>\n",
       "      <th>FirstRetractionYear</th>\n",
       "      <th>OffenseSameYear</th>\n",
       "      <th>RetractionDate</th>\n",
       "    </tr>\n",
       "  </thead>\n",
       "  <tbody>\n",
       "    <tr>\n",
       "      <th>0</th>\n",
       "      <td>25214</td>\n",
       "      <td>a a nesterenko</td>\n",
       "      <td>3</td>\n",
       "      <td>2020</td>\n",
       "      <td>True</td>\n",
       "      <td>2020-09-25</td>\n",
       "    </tr>\n",
       "    <tr>\n",
       "      <th>3</th>\n",
       "      <td>25101</td>\n",
       "      <td>a a nesterenko</td>\n",
       "      <td>3</td>\n",
       "      <td>2020</td>\n",
       "      <td>True</td>\n",
       "      <td>2020-12-07</td>\n",
       "    </tr>\n",
       "    <tr>\n",
       "      <th>4</th>\n",
       "      <td>25083</td>\n",
       "      <td>a a nesterenko</td>\n",
       "      <td>3</td>\n",
       "      <td>2020</td>\n",
       "      <td>True</td>\n",
       "      <td>2020-12-08</td>\n",
       "    </tr>\n",
       "    <tr>\n",
       "      <th>12720</th>\n",
       "      <td>16742</td>\n",
       "      <td>a a zafar</td>\n",
       "      <td>2</td>\n",
       "      <td>2011</td>\n",
       "      <td>False</td>\n",
       "      <td>2011-02-22</td>\n",
       "    </tr>\n",
       "    <tr>\n",
       "      <th>12723</th>\n",
       "      <td>8462</td>\n",
       "      <td>a a zafar</td>\n",
       "      <td>2</td>\n",
       "      <td>2011</td>\n",
       "      <td>False</td>\n",
       "      <td>2016-03-02</td>\n",
       "    </tr>\n",
       "  </tbody>\n",
       "</table>\n",
       "</div>"
      ],
      "text/plain": [
       "       Record ID      AuthorName  NumPapers  FirstRetractionYear  \\\n",
       "0          25214  a a nesterenko          3                 2020   \n",
       "3          25101  a a nesterenko          3                 2020   \n",
       "4          25083  a a nesterenko          3                 2020   \n",
       "12720      16742       a a zafar          2                 2011   \n",
       "12723       8462       a a zafar          2                 2011   \n",
       "\n",
       "       OffenseSameYear RetractionDate  \n",
       "0                 True     2020-09-25  \n",
       "3                 True     2020-12-07  \n",
       "4                 True     2020-12-08  \n",
       "12720            False     2011-02-22  \n",
       "12723            False     2016-03-02  "
      ]
     },
     "execution_count": 3,
     "metadata": {},
     "output_type": "execute_result"
    }
   ],
   "source": [
    "\n",
    "df_offenders = pd.read_csv(PROCESSED_REPEATED_OFFENDERS)\n",
    "df_papers = pd.read_csv(RW_ORIGINAL_W_YEAR_LOCAL_PATH, \n",
    "                        usecols=['Record ID','RetractionDate'])\n",
    "\n",
    "# Removing an anomaly\n",
    "df_papers = df_papers[~df_papers.RetractionDate.eq('6/24/1756 12:00:00 AM')].copy()\n",
    "\n",
    "# Converting Retraction Date to datetime format\n",
    "df_papers['RetractionDate'] = pd.to_datetime(df_papers['RetractionDate'], \n",
    "                                               format='%Y-%m-%d')\n",
    "\n",
    "\n",
    "# Merging authors with retraction date of records\n",
    "df_offenders_w_rdate = df_offenders.merge(df_papers, on='Record ID')\n",
    "\n",
    "# # Grouping by author name\n",
    "# df_numpapers = df_offenders_w_rdate.groupby('AuthorName')['Record ID']\\\n",
    "#                 .nunique().reset_index().rename(columns={'Record ID':'NumPapers'})\n",
    "\n",
    "# Merging with number of papers\n",
    "df_offenders_w_numpapers = df_offenders_w_rdate.copy()\\\n",
    "                                .rename(columns={'nRetracted':'NumPapers'})\n",
    "\n",
    "# Removing authors that were not properly merged and those that are >20\n",
    "df_offenders_w_numpapers = df_offenders_w_numpapers[df_offenders_w_numpapers.NumPapers.le(20) &\n",
    "                                                   df_offenders_w_numpapers.NumPapers.ge(2)]\n",
    "\n",
    "# Sorting by date\n",
    "df_offenders_w_numpapers_sorted = df_offenders_w_numpapers.\\\n",
    "                                            sort_values(by=['AuthorName','RetractionDate'])\n",
    "\n",
    "df_offenders_w_numpapers_sorted.head()"
   ]
  },
  {
   "cell_type": "code",
   "execution_count": 4,
   "id": "6fba54fa",
   "metadata": {},
   "outputs": [
    {
     "data": {
      "text/plain": [
       "count    13049.000000\n",
       "mean       421.366618\n",
       "std        840.140353\n",
       "min          0.000000\n",
       "25%          4.000000\n",
       "50%         88.000000\n",
       "75%        416.000000\n",
       "max      17043.000000\n",
       "Name: RetractionDate, dtype: float64"
      ]
     },
     "execution_count": 4,
     "metadata": {},
     "output_type": "execute_result"
    }
   ],
   "source": [
    "df_offenders_w_numpapers_sorted.groupby(['AuthorName'])\\\n",
    "                            ['RetractionDate'].diff().dt.days.reset_index().RetractionDate.describe()"
   ]
  },
  {
   "cell_type": "code",
   "execution_count": 5,
   "id": "369a5a1b",
   "metadata": {},
   "outputs": [
    {
     "data": {
      "text/html": [
       "<div>\n",
       "<style scoped>\n",
       "    .dataframe tbody tr th:only-of-type {\n",
       "        vertical-align: middle;\n",
       "    }\n",
       "\n",
       "    .dataframe tbody tr th {\n",
       "        vertical-align: top;\n",
       "    }\n",
       "\n",
       "    .dataframe thead th {\n",
       "        text-align: right;\n",
       "    }\n",
       "</style>\n",
       "<table border=\"1\" class=\"dataframe\">\n",
       "  <thead>\n",
       "    <tr style=\"text-align: right;\">\n",
       "      <th></th>\n",
       "      <th>NumPapers</th>\n",
       "      <th>FirstRetractionYear</th>\n",
       "      <th>OffenseSameYear</th>\n",
       "      <th>RetractionDate</th>\n",
       "      <th>Record ID 1</th>\n",
       "      <th>Record ID 2</th>\n",
       "      <th>RetractionDate1</th>\n",
       "      <th>RetractionDate2</th>\n",
       "      <th>Number of days</th>\n",
       "    </tr>\n",
       "  </thead>\n",
       "  <tbody>\n",
       "    <tr>\n",
       "      <th>0</th>\n",
       "      <td>3</td>\n",
       "      <td>2020</td>\n",
       "      <td>True</td>\n",
       "      <td>2020-12-07</td>\n",
       "      <td>25214.0</td>\n",
       "      <td>25101</td>\n",
       "      <td>2020-09-25</td>\n",
       "      <td>2020-12-07</td>\n",
       "      <td>73.0</td>\n",
       "    </tr>\n",
       "    <tr>\n",
       "      <th>1</th>\n",
       "      <td>3</td>\n",
       "      <td>2020</td>\n",
       "      <td>True</td>\n",
       "      <td>2020-12-08</td>\n",
       "      <td>25101.0</td>\n",
       "      <td>25083</td>\n",
       "      <td>2020-12-07</td>\n",
       "      <td>2020-12-08</td>\n",
       "      <td>1.0</td>\n",
       "    </tr>\n",
       "  </tbody>\n",
       "</table>\n",
       "</div>"
      ],
      "text/plain": [
       "   NumPapers  FirstRetractionYear  OffenseSameYear RetractionDate  \\\n",
       "0          3                 2020             True     2020-12-07   \n",
       "1          3                 2020             True     2020-12-08   \n",
       "\n",
       "   Record ID 1  Record ID 2 RetractionDate1 RetractionDate2  Number of days  \n",
       "0      25214.0        25101      2020-09-25      2020-12-07            73.0  \n",
       "1      25101.0        25083      2020-12-07      2020-12-08             1.0  "
      ]
     },
     "execution_count": 5,
     "metadata": {},
     "output_type": "execute_result"
    }
   ],
   "source": [
    "df_offenders_w_numpapers_sorted\n",
    "\n",
    "df_offenders_w_numpapers_sorted['Record ID 1'] = df_offenders_w_numpapers_sorted.groupby('AuthorName')['Record ID'].shift()\n",
    "df_offenders_w_numpapers_sorted['Record ID 2'] = df_offenders_w_numpapers_sorted['Record ID']\n",
    "df_offenders_w_numpapers_sorted['RetractionDate1'] = df_offenders_w_numpapers_sorted.groupby('AuthorName')['RetractionDate'].shift()\n",
    "df_offenders_w_numpapers_sorted['RetractionDate2'] = df_offenders_w_numpapers_sorted['RetractionDate']\n",
    "df_offenders_w_numpapers_sorted['Number of days'] = (df_offenders_w_numpapers_sorted['RetractionDate2'] - df_offenders_w_numpapers_sorted['RetractionDate1']).dt.days\n",
    "\n",
    "# Drop rows where Record ID 1 is missing (last exam for each student)\n",
    "new_df = df_offenders_w_numpapers_sorted.dropna(subset=['Record ID 1'])\n",
    "\n",
    "# Reset the index of the new dataframe\n",
    "new_df.reset_index(drop=True, inplace=True)\n",
    "\n",
    "new_df = new_df.drop(columns=['AuthorName','Record ID'])\n",
    "\n",
    "new_df.head(2)"
   ]
  },
  {
   "cell_type": "code",
   "execution_count": 6,
   "id": "195b126e",
   "metadata": {},
   "outputs": [
    {
     "data": {
      "text/plain": [
       "count    13049.000000\n",
       "mean       421.366618\n",
       "std        840.140353\n",
       "min          0.000000\n",
       "25%          4.000000\n",
       "50%         88.000000\n",
       "75%        416.000000\n",
       "max      17043.000000\n",
       "Name: Number of days, dtype: float64"
      ]
     },
     "execution_count": 6,
     "metadata": {},
     "output_type": "execute_result"
    }
   ],
   "source": [
    "new_df['Number of days'].describe()"
   ]
  },
  {
   "cell_type": "code",
   "execution_count": 7,
   "id": "52b9b7d7",
   "metadata": {},
   "outputs": [
    {
     "data": {
      "text/plain": [
       "count    13049.000000\n",
       "mean       421.366618\n",
       "std        840.140353\n",
       "min          0.000000\n",
       "25%          4.000000\n",
       "50%         88.000000\n",
       "75%        416.000000\n",
       "max      17043.000000\n",
       "Name: Number of days, dtype: float64"
      ]
     },
     "execution_count": 7,
     "metadata": {},
     "output_type": "execute_result"
    }
   ],
   "source": [
    "new_df['Number of days'].describe()"
   ]
  },
  {
   "cell_type": "code",
   "execution_count": 8,
   "id": "ea224aff",
   "metadata": {},
   "outputs": [],
   "source": [
    "# Define the bins and labels\n",
    "bins = [0, 30, 60, 90, 180, 365, 730, 1095, 2190, 3650, float('inf')]\n",
    "labels = ['0-1 month', '1-2 months', '2-3 months', '3-6 months', '6-12 months', '1-2 years',\n",
    "          '2-3 years', '3-6 years', '6-10 years', '> 10 years']\n",
    "\n",
    "# Apply the cut function to create the 'bins' column\n",
    "new_df['bins'] = pd.cut(new_df['Number of days'], bins=bins, labels=labels)\n",
    "new_df.loc[new_df['Number of days'] == 0, 'bins'] = '0-1 month'"
   ]
  },
  {
   "cell_type": "code",
   "execution_count": 9,
   "id": "15b1471c",
   "metadata": {},
   "outputs": [
    {
     "data": {
      "text/plain": [
       "bins\n",
       "0-1 month      36.493218\n",
       "6-12 months    12.161851\n",
       "3-6 months     10.997011\n",
       "1-2 years       9.625259\n",
       "1-2 months      8.138555\n",
       "3-6 years       7.096329\n",
       "2-3 months      5.663269\n",
       "2-3 years       5.234118\n",
       "6-10 years      3.310599\n",
       "> 10 years      1.279792\n",
       "Name: count, dtype: float64"
      ]
     },
     "execution_count": 9,
     "metadata": {},
     "output_type": "execute_result"
    }
   ],
   "source": [
    "new_df['bins'].value_counts()*100/new_df.shape[0]"
   ]
  },
  {
   "cell_type": "code",
   "execution_count": 10,
   "id": "6a302b21",
   "metadata": {},
   "outputs": [
    {
     "data": {
      "text/plain": [
       "bins\n",
       "0-1 month      4762\n",
       "6-12 months    1587\n",
       "3-6 months     1435\n",
       "1-2 years      1256\n",
       "1-2 months     1062\n",
       "3-6 years       926\n",
       "2-3 months      739\n",
       "2-3 years       683\n",
       "6-10 years      432\n",
       "> 10 years      167\n",
       "Name: count, dtype: int64"
      ]
     },
     "execution_count": 10,
     "metadata": {},
     "output_type": "execute_result"
    }
   ],
   "source": [
    "new_df['bins'].value_counts()"
   ]
  },
  {
   "cell_type": "code",
   "execution_count": 12,
   "id": "e9932347",
   "metadata": {},
   "outputs": [
    {
     "data": {
      "text/plain": [
       "<Figure size 597.6x72 with 0 Axes>"
      ]
     },
     "metadata": {},
     "output_type": "display_data"
    },
    {
     "data": {
      "image/png": "[encoded data removed]",
      "text/plain": [
       "<Figure size 720x432 with 1 Axes>"
      ]
     },
     "metadata": {},
     "output_type": "display_data"
    }
   ],
   "source": [
    "# Adjusting the plot style\n",
    "plt.style.use('seaborn-whitegrid')\n",
    "\n",
    "\n",
    "# Stretch the plot\n",
    "plt.figure(figsize=(8.3, 1))\n",
    "\n",
    "\n",
    "# Define the bar colors\n",
    "colors = ['#7E1717'] * len(labels)\n",
    "\n",
    "hatch_color = colors[0]\n",
    "hatch_pattern = 'x'\n",
    "\n",
    "# colors = ['#7fc97f', '#74c476', '#41ab5d', '#238b45', '#006d2c', '#00441b',\n",
    "#           '#eff3ff', '#bdd7e7', '#6baed6', '#2171b5']\n",
    "\n",
    "# Count the occurrences of each bin\n",
    "bin_counts = new_df['bins'].value_counts().reindex(labels, fill_value=0)\n",
    "\n",
    "# Calculate the percentage\n",
    "percentage = bin_counts / bin_counts.sum() * 100\n",
    "\n",
    "\n",
    "fig, ax = plt.subplots(figsize=(10, 6))\n",
    "\n",
    "bars = ax.bar(percentage.index, percentage.values, color='none',linewidth=2.5,\n",
    "              edgecolor = hatch_color, hatch=hatch_pattern)\n",
    "\n",
    "# bars = ax.bar(bin_counts.index, bin_counts.values, color='none',linewidth=2.5,\n",
    "#               edgecolor = hatch_color, hatch=hatch_pattern)\n",
    "\n",
    "# Remove y-axis\n",
    "ax.yaxis.set_visible(False)\n",
    "\n",
    "# Increase font size of x-axis tick labels\n",
    "plt.xticks(rotation=45, fontsize=13)\n",
    "\n",
    "# Convert x tick labels to the desired format\n",
    "# Convert x tick labels to the desired format\n",
    "formatted_labels = {\n",
    "    '0-1 month': '0-1\\nmonth',\n",
    "    '1-2 months': '1-2\\nmonths',\n",
    "    '2-3 months': '2-3\\nmonths',\n",
    "    '3-6 months': '3-6\\nmonths',\n",
    "    '6-12 months': '6-12\\nmonths',\n",
    "    '1-2 years': '1-2\\nyears',\n",
    "    '2-3 years': '2-3\\nyears',\n",
    "    '3-6 years': '3-6\\nyears',\n",
    "    '6-10 years': '6-10\\nyears',\n",
    "    '> 10 years': '> 10\\nyears'\n",
    "}\n",
    "\n",
    "wrapped_labels = [formatted_labels.get(label, label) for label in percentage.index]\n",
    "plt.xticks(range(len(percentage.index)), wrapped_labels, rotation=0)\n",
    "\n",
    "\n",
    "# Add annotations on top of each bar\n",
    "for bar in bars:\n",
    "    height = bar.get_height()\n",
    "    ax.annotate(f'{height:.1f}%', xy=(bar.get_x() + bar.get_width() / 2, height),\n",
    "                xytext=(0, 3), textcoords='offset points', ha='center', va='bottom',\n",
    "                    weight='bold',\n",
    "                   fontsize=13)\n",
    "\n",
    "# plt.xlabel('Percentage distribution of the time interval \\nbetween consecutive retractions for authors with multiple retractions', \n",
    "#            fontsize=14, labelpad=15)\n",
    "# plt.title('Percentage distribution of the time interval between consecutive retractions', fontsize=12)\n",
    "# plt.xticks(rotation=60)\n",
    "plt.grid(True)\n",
    "\n",
    "# Remove top and right spines\n",
    "plt.gca().spines['top'].set_visible(False)\n",
    "plt.gca().spines['right'].set_visible(False)\n",
    "plt.gca().spines['left'].set_visible(False)\n",
    "plt.grid(False)\n",
    "plt.tight_layout()\n",
    "\n",
    "\n",
    "# Constants\n",
    "OUTPUT_DIRECTORY = OUTDIR\n",
    "FILENAME = \"multiple_retraction_interval_percentage_distribution_new\"\n",
    "\n",
    "file_path = os.path.join(OUTPUT_DIRECTORY, f\"{FILENAME}.pdf\")\n",
    "\n",
    "plt.savefig(file_path,format='pdf')\n",
    "\n"
   ]
  },
  {
   "cell_type": "code",
   "execution_count": null,
   "id": "c02e27a2",
   "metadata": {},
   "outputs": [],
   "source": []
  }
 ],
 "metadata": {
  "kernelspec": {
   "display_name": "Python 3 (ipykernel)",
   "language": "python",
   "name": "python3"
  },
  "language_info": {
   "codemirror_mode": {
    "name": "ipython",
    "version": 3
   },
   "file_extension": ".py",
   "mimetype": "text/x-python",
   "name": "python",
   "nbconvert_exporter": "python",
   "pygments_lexer": "ipython3",
   "version": "3.9.4"
  }
 },
 "nbformat": 4,
 "nbformat_minor": 5
}
