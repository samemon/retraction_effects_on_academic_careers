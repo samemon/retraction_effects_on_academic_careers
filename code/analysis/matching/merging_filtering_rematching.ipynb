{
 "cells": [
  {
   "cell_type": "markdown",
   "id": "80ae5384",
   "metadata": {},
   "source": [
    "# Merging - Filtering\n",
    "\n",
    "We shall do the following tasks in this notebook:\n",
    "0. Read original dataset.\n",
    "1. Correct the merging process, and remove papers which were not merged to MAG properly.\n",
    "2. Check/Validate that the authors extracted from MAG are actually retracted authors using fuzzy matching.\n",
    "3. Remove authors with multiple offences.\n",
    "4. Filter papers retracted in bulk.\n",
    "5. Filter papers retracted beyond 1990-2015. \n",
    "6. Remove papers with anomalies (date problems or author matching issues).\n",
    "7. Removing authors without certain fields (affiliations, disciplines)\n"
   ]
  },
  {
   "cell_type": "code",
   "execution_count": 1,
   "id": "e490286d",
   "metadata": {},
   "outputs": [],
   "source": [
    "import pandas as pd\n",
    "import numpy as np\n",
    "from thefuzz import fuzz"
   ]
  },
  {
   "cell_type": "code",
   "execution_count": 2,
   "id": "ed23451a",
   "metadata": {},
   "outputs": [],
   "source": [
    "indir = \"../../data/main/\""
   ]
  },
  {
   "cell_type": "code",
   "execution_count": 3,
   "id": "15ab7d0d",
   "metadata": {},
   "outputs": [
    {
     "name": "stderr",
     "output_type": "stream",
     "text": [
      "/usr/local/lib/python3.9/site-packages/IPython/core/interactiveshell.py:3169: DtypeWarning: Columns (12,22) have mixed types.Specify dtype option on import or set low_memory=False.\n",
      "  has_raised = await self.run_ast_nodes(code_ast.body, cell_name,\n"
     ]
    },
    {
     "data": {
      "text/plain": [
       "Index(['Record ID', 'Title', 'Subject', 'Institution', 'Journal', 'Publisher',\n",
       "       'Country', 'Author', 'URLS', 'ArticleType', 'RetractionDate',\n",
       "       'RetractionDOI', 'RetractionPubMedID', 'OriginalPaperDate',\n",
       "       'OriginalPaperDOI', 'OriginalPaperPubMedID', 'RetractionNature',\n",
       "       'Reason', 'Paywalled', 'Notes', 'RWMAGFuzzyMatchMakerScore',\n",
       "       'MAGPIDMatchedByFuzzy', 'MAGTitleMatchedByFuzzy',\n",
       "       'MAGYearMatchedByFuzzy', 'RWMAGMatchedBy', 'RWMAGSameWordsRatio',\n",
       "       'RWMAGFuzzyWuzzyScore', 'RWMAGFuzzyWuzzyPartialScore',\n",
       "       'MAGPIDMatchedByDOI', 'MAGTitleMatchedByDOI', 'MAGYearMatchedByDOI',\n",
       "       'MAGPID', 'RWJournalNorm', 'MAGJCNameByPID', 'MAGJCIDByPID',\n",
       "       'MAGJournalType', 'MAGJCID', 'MAGJCName', 'OriginalPaperYear',\n",
       "       'RetractionYear'],\n",
       "      dtype='object')"
      ]
     },
     "execution_count": 3,
     "metadata": {},
     "output_type": "execute_result"
    }
   ],
   "source": [
    "# Let us read df_papers first\n",
    "df_papers = pd.read_csv(indir+\"RW_papers.csv\")\n",
    "\n",
    "df_papers.head(2)\n",
    "\n",
    "# converting dates to proper format\n",
    "df_papers['OriginalPaperDate'] = df_papers['OriginalPaperDate'].str.split().str[0]\n",
    "\n",
    "# Converting Retraction Date to datetime format\n",
    "df_papers['OriginalPaperDate'] = pd.to_datetime(df_papers['OriginalPaperDate'], \n",
    "                                                  format='%d/%m/%Y')\n",
    "# Extracting year\n",
    "df_papers['OriginalPaperYear'] = df_papers['OriginalPaperDate'].dt.year\n",
    "\n",
    "# Removing an anomaous entry of 1976\n",
    "df_papers = df_papers[~df_papers.RetractionDate.eq('6/24/1756 12:00:00 AM')].copy()\n",
    "\n",
    "df_papers['RetractionDate'] = df_papers['RetractionDate'].str.split().str[0]\n",
    "\n",
    "# Converting Retraction Date to datetime format\n",
    "df_papers['RetractionDate'] = pd.to_datetime(df_papers['RetractionDate'], \n",
    "                                               format='%d/%m/%Y')\n",
    "\n",
    "df_papers['RetractionYear'] = df_papers['RetractionDate'].dt.year\n",
    "\n",
    "df_papers.columns"
   ]
  },
  {
   "cell_type": "code",
   "execution_count": 4,
   "id": "16830354",
   "metadata": {},
   "outputs": [],
   "source": [
    "# Creating Matchedby column\n",
    "def mergedby(row):\n",
    "    if pd.isnull(row['MAGTitleMatchedByDOI']):\n",
    "        assert(not pd.isnull(row['MAGTitleMatchedByFuzzy']))\n",
    "        return \"Title\"\n",
    "    elif pd.isnull(row['MAGTitleMatchedByFuzzy']):\n",
    "        assert(not pd.isnull(row['MAGTitleMatchedByDOI']))\n",
    "        return \"DOI\"\n",
    "\n",
    "df_papers['MergingMethod'] = df_papers.apply(lambda row: mergedby(row), axis=1)"
   ]
  },
  {
   "cell_type": "code",
   "execution_count": 5,
   "id": "2271d112",
   "metadata": {},
   "outputs": [
    {
     "data": {
      "text/html": [
       "<div>\n",
       "<style scoped>\n",
       "    .dataframe tbody tr th:only-of-type {\n",
       "        vertical-align: middle;\n",
       "    }\n",
       "\n",
       "    .dataframe tbody tr th {\n",
       "        vertical-align: top;\n",
       "    }\n",
       "\n",
       "    .dataframe thead th {\n",
       "        text-align: right;\n",
       "    }\n",
       "</style>\n",
       "<table border=\"1\" class=\"dataframe\">\n",
       "  <thead>\n",
       "    <tr style=\"text-align: right;\">\n",
       "      <th></th>\n",
       "      <th>Record ID</th>\n",
       "      <th>Title</th>\n",
       "      <th>Subject</th>\n",
       "      <th>Institution</th>\n",
       "      <th>Journal</th>\n",
       "      <th>Publisher</th>\n",
       "      <th>Country</th>\n",
       "      <th>Author</th>\n",
       "      <th>URLS</th>\n",
       "      <th>ArticleType</th>\n",
       "      <th>...</th>\n",
       "      <th>MAGJCNameByPID</th>\n",
       "      <th>MAGJCIDByPID</th>\n",
       "      <th>MAGJournalType</th>\n",
       "      <th>MAGJCID</th>\n",
       "      <th>MAGJCName</th>\n",
       "      <th>OriginalPaperYear</th>\n",
       "      <th>RetractionYear</th>\n",
       "      <th>MergingMethod</th>\n",
       "      <th>FuzzRatio</th>\n",
       "      <th>PartialFuzzRatio</th>\n",
       "    </tr>\n",
       "  </thead>\n",
       "  <tbody>\n",
       "    <tr>\n",
       "      <th>0</th>\n",
       "      <td>28599</td>\n",
       "      <td>TWEAK-Fn14 Influences Neurogenesis Status via ...</td>\n",
       "      <td>(BLS) Biochemistry;(BLS) Biology - Cellular;(B...</td>\n",
       "      <td>Department of Otolaryngology-Head and Neck Sur...</td>\n",
       "      <td>Molecular Neurobiology</td>\n",
       "      <td>Springer</td>\n",
       "      <td>China</td>\n",
       "      <td>Jing Xu;Jian He;Huang He;Renjun Peng;Jian Xi</td>\n",
       "      <td>NaN</td>\n",
       "      <td>Research Article;</td>\n",
       "      <td>...</td>\n",
       "      <td>molecular neurobiology</td>\n",
       "      <td>194681035.0</td>\n",
       "      <td>journal</td>\n",
       "      <td>194681035.0</td>\n",
       "      <td>molecular neurobiology</td>\n",
       "      <td>2016.0</td>\n",
       "      <td>2021</td>\n",
       "      <td>Title</td>\n",
       "      <td>96</td>\n",
       "      <td>96</td>\n",
       "    </tr>\n",
       "    <tr>\n",
       "      <th>1</th>\n",
       "      <td>28504</td>\n",
       "      <td>Efficacy of vitamin C for the prevention and t...</td>\n",
       "      <td>(HSC) Medicine - Infectious Disease;(HSC) Medi...</td>\n",
       "      <td>Department of General Practice, Clermont Auver...</td>\n",
       "      <td>European Journal of Clinical Pharmacology</td>\n",
       "      <td>Springer</td>\n",
       "      <td>France</td>\n",
       "      <td>Philippe Vorilhon;Bastien Arpajou;HÃ©lÃ¨ne Vai...</td>\n",
       "      <td>NaN</td>\n",
       "      <td>Meta-Analysis;</td>\n",
       "      <td>...</td>\n",
       "      <td>european journal of clinical pharmacology</td>\n",
       "      <td>31780008.0</td>\n",
       "      <td>journal</td>\n",
       "      <td>31780008.0</td>\n",
       "      <td>european journal of clinical pharmacology</td>\n",
       "      <td>2018.0</td>\n",
       "      <td>2021</td>\n",
       "      <td>Title</td>\n",
       "      <td>99</td>\n",
       "      <td>98</td>\n",
       "    </tr>\n",
       "  </tbody>\n",
       "</table>\n",
       "<p>2 rows × 43 columns</p>\n",
       "</div>"
      ],
      "text/plain": [
       "   Record ID                                              Title  \\\n",
       "0      28599  TWEAK-Fn14 Influences Neurogenesis Status via ...   \n",
       "1      28504  Efficacy of vitamin C for the prevention and t...   \n",
       "\n",
       "                                             Subject  \\\n",
       "0  (BLS) Biochemistry;(BLS) Biology - Cellular;(B...   \n",
       "1  (HSC) Medicine - Infectious Disease;(HSC) Medi...   \n",
       "\n",
       "                                         Institution  \\\n",
       "0  Department of Otolaryngology-Head and Neck Sur...   \n",
       "1  Department of General Practice, Clermont Auver...   \n",
       "\n",
       "                                     Journal Publisher Country  \\\n",
       "0                     Molecular Neurobiology  Springer   China   \n",
       "1  European Journal of Clinical Pharmacology  Springer  France   \n",
       "\n",
       "                                              Author URLS        ArticleType  \\\n",
       "0       Jing Xu;Jian He;Huang He;Renjun Peng;Jian Xi  NaN  Research Article;   \n",
       "1  Philippe Vorilhon;Bastien Arpajou;HÃ©lÃ¨ne Vai...  NaN     Meta-Analysis;   \n",
       "\n",
       "   ...                             MAGJCNameByPID MAGJCIDByPID MAGJournalType  \\\n",
       "0  ...                     molecular neurobiology  194681035.0        journal   \n",
       "1  ...  european journal of clinical pharmacology   31780008.0        journal   \n",
       "\n",
       "       MAGJCID                                  MAGJCName  OriginalPaperYear  \\\n",
       "0  194681035.0                     molecular neurobiology             2016.0   \n",
       "1   31780008.0  european journal of clinical pharmacology             2018.0   \n",
       "\n",
       "  RetractionYear MergingMethod FuzzRatio PartialFuzzRatio  \n",
       "0           2021         Title        96               96  \n",
       "1           2021         Title        99               98  \n",
       "\n",
       "[2 rows x 43 columns]"
      ]
     },
     "execution_count": 5,
     "metadata": {},
     "output_type": "execute_result"
    }
   ],
   "source": [
    "def compute_fuzz_ratio(row, ratioType='full'):\n",
    "    if pd.isnull(row['MAGTitleMatchedByDOI']):\n",
    "        assert(not pd.isnull(row['MAGTitleMatchedByFuzzy']))\n",
    "        if ratioType == 'partial':\n",
    "            return fuzz.partial_ratio(row['MAGTitleMatchedByFuzzy'],row['Title'].lower())\n",
    "        else:\n",
    "            return fuzz.ratio(row['MAGTitleMatchedByFuzzy'],row['Title'].lower())\n",
    "    \n",
    "    elif pd.isnull(row['MAGTitleMatchedByFuzzy']):\n",
    "        assert(not pd.isnull(row['MAGTitleMatchedByDOI']))\n",
    "        if ratioType == 'partial':\n",
    "            return fuzz.partial_ratio(row['MAGTitleMatchedByDOI'],row['Title'].lower())\n",
    "        else:\n",
    "            return fuzz.ratio(row['MAGTitleMatchedByDOI'],row['Title'].lower())\n",
    "\n",
    "df_papers['FuzzRatio'] = df_papers.apply(lambda row: compute_fuzz_ratio(row), axis=1)\n",
    "\n",
    "df_papers['PartialFuzzRatio'] = df_papers.apply(lambda row: compute_fuzz_ratio(row,\n",
    "                                                                    ratioType='partial'), axis=1)\n",
    "\n",
    "df_papers.head(2)"
   ]
  },
  {
   "cell_type": "code",
   "execution_count": 6,
   "id": "07175777",
   "metadata": {},
   "outputs": [
    {
     "data": {
      "text/plain": [
       "24187"
      ]
     },
     "execution_count": 6,
     "metadata": {},
     "output_type": "execute_result"
    }
   ],
   "source": [
    "# These articles are matched to wrong records in MAG and need to be removed.\n",
    "wrongLst_validation = [446,9042,16825]\n",
    "wrongLst_correction = [3524,17581,2412,\n",
    "                      3137,7893,4158,3648,\n",
    "                      3160,5821,16936,\n",
    "                      2264,5371,16705,\n",
    "                      4565,2659,6487,\n",
    "                      16197, 18696,22181,\n",
    "                      919, 1517, 25026, 17617,\n",
    "                      1779, 6229, 6489, 23072, \n",
    "                      5402, 2498, 2748, 22371,\n",
    "                      4517, 6486, 10347, 5710, \n",
    "                      9860, 8518, 4883, 3852, \n",
    "                      16943, 28, 6471, 17127, 4861,\n",
    "                      2715, 17736, 4566, 2756, 1791, \n",
    "                      4969, 18913, 4379, 5845, 6122,\n",
    "                      3731, 3051, 8129, 19452, 18536,\n",
    "                      16942, 2812, 4783, 1734, 14819, \n",
    "                      18818, 15305, 8001, 1919, 3436, \n",
    "                      4174, 492, 16721,]\n",
    "\n",
    "df_papers_filtered = df_papers[~df_papers['Record ID'].\\\n",
    "                                   isin(wrongLst_correction+wrongLst_validation)]\n",
    "\n",
    "\n",
    "\"\"\"\n",
    "Note: This number is the number of papers after merging and filtering based on manual checking. \n",
    "But this number includes the papers to be removed for anomalies.\n",
    "\"\"\"\n",
    "\n",
    "df_papers_filtered['Record ID'].nunique()"
   ]
  },
  {
   "cell_type": "code",
   "execution_count": 7,
   "id": "5e9c9e7c",
   "metadata": {},
   "outputs": [
    {
     "name": "stdout",
     "output_type": "stream",
     "text": [
      "(23269, 1)\n"
     ]
    },
    {
     "data": {
      "text/plain": [
       "Index(['Record ID', 'MAGPID', 'RetractionYear', 'OriginalPaperYear',\n",
       "       'MAGAffID', 'MAGRetractedPIDYear', 'MAGAffiliationRank', 'MAGFirstName',\n",
       "       'GenderizeGender', 'GenderizeConfidence', 'GenderizeCount',\n",
       "       'FinalGender', 'MAGFirstPubYear', 'OriginalPaperYearMethod1',\n",
       "       'OriginalPaperYearMethod2', 'MAGCumPapersYear', 'MAGCumPapers',\n",
       "       'MAGCumCitationsYear', 'MAGCumCitations', 'MAGCumCollaboratorsYear',\n",
       "       'MAGCumCollaborators', 'MAGCumCollaborationsYear',\n",
       "       'MAGCumCollaborations', 'MAGFirstAffID', 'MAGFirstYear',\n",
       "       'MAGFirstAffiliationRank', 'MAGAIDSequence', 'MAGAIDSequenceMax',\n",
       "       'MAGFirstAuthorFlag', 'MAGLastAuthorFlag', 'MAGRetractionYearAffID',\n",
       "       'MAGRetractionYearAffYear', 'MAGRetractionYearAffRank', 'MAGAID',\n",
       "       'MAGrootFID', 'MAGrootFIDMaxPercent'],\n",
       "      dtype='object')"
      ]
     },
     "execution_count": 7,
     "metadata": {},
     "output_type": "execute_result"
    }
   ],
   "source": [
    "# Now we read df_authors\n",
    "df_authors = pd.read_csv(indir+\"RW_authors_method2_nonanomalous_w_fields.csv\")\n",
    "\n",
    "\n",
    "\"\"\"\n",
    "Note: This number includes the number of papers after merging and filtering based on manual checking.\n",
    "It also includes the papers removed for anomalies. But it does not include papers \n",
    "to be removed for papers preceded by \"retraction notices\". It, however, does include papers \n",
    "with authors with no disciplines, and does not include papers beyond 1990-2020. These \n",
    "were earlier filters.\n",
    "\"\"\"\n",
    "print(df_authors[~df_authors['Record ID'].isin(wrongLst_correction+wrongLst_validation)]\\\n",
    "            [['Record ID']].drop_duplicates().shape)\n",
    "\n",
    "\n",
    "df_authors = df_authors[~df_authors['Record ID'].isin(wrongLst_correction+wrongLst_validation)]\n",
    "\n",
    "\"\"\"\n",
    "Now let us merge df_authors and df_papers to (a) get fuzzy scores for each title, and \n",
    "(b) also to compare the author names between MAG and RW for papers whose MAG titles \n",
    "have a \"retraction notice\" as a prefix. But to be able to do that, we would need \n",
    "author full names which we can extract from ethnicity file as we used names to \n",
    "extract ethnicity.\n",
    "\"\"\"\n",
    "\n",
    "df_authors.columns"
   ]
  },
  {
   "cell_type": "code",
   "execution_count": 8,
   "id": "82fdef70",
   "metadata": {},
   "outputs": [],
   "source": [
    "df_authors.to_csv(indir+\"/merged_sample.csv\",index=False)"
   ]
  },
  {
   "cell_type": "code",
   "execution_count": 8,
   "id": "64773df1",
   "metadata": {},
   "outputs": [
    {
     "name": "stdout",
     "output_type": "stream",
     "text": [
      "Merged Shape: (210041, 43)\n"
     ]
    },
    {
     "data": {
      "text/plain": [
       "(Index(['Record ID', 'MAGPID', 'RetractionYear', 'OriginalPaperYear',\n",
       "        'MAGAffID', 'MAGRetractedPIDYear', 'MAGAffiliationRank', 'MAGFirstName',\n",
       "        'GenderizeGender', 'GenderizeConfidence', 'GenderizeCount',\n",
       "        'FinalGender', 'MAGFirstPubYear', 'OriginalPaperYearMethod1',\n",
       "        'OriginalPaperYearMethod2', 'MAGCumPapersYear', 'MAGCumPapers',\n",
       "        'MAGCumCitationsYear', 'MAGCumCitations', 'MAGCumCollaboratorsYear',\n",
       "        'MAGCumCollaborators', 'MAGCumCollaborationsYear',\n",
       "        'MAGCumCollaborations', 'MAGFirstAffID', 'MAGFirstYear',\n",
       "        'MAGFirstAffiliationRank', 'MAGAIDSequence', 'MAGAIDSequenceMax',\n",
       "        'MAGFirstAuthorFlag', 'MAGLastAuthorFlag', 'MAGRetractionYearAffID',\n",
       "        'MAGRetractionYearAffYear', 'MAGRetractionYearAffRank', 'MAGAID',\n",
       "        'MAGrootFID', 'MAGrootFIDMaxPercent', 'Title', 'MAGJCID', 'Author',\n",
       "        'MAGTitleMatchedByFuzzy', 'FuzzRatio', 'OriginalPaperDOI',\n",
       "        'MAGTitleMatchedByDOI', 'NormalizedName'],\n",
       "       dtype='object'),\n",
       " 72594)"
      ]
     },
     "execution_count": 8,
     "metadata": {},
     "output_type": "execute_result"
    }
   ],
   "source": [
    "df_papers_relevant = df_papers_filtered[['Record ID','MAGPID','Title','MAGJCID','Author',\n",
    "                                        'MAGTitleMatchedByFuzzy','FuzzRatio',\n",
    "                                        'OriginalPaperDOI','MAGTitleMatchedByDOI']].\\\n",
    "                                        drop_duplicates()\n",
    "\n",
    "df_papers_authors = df_authors.merge(df_papers_relevant, on=['Record ID','MAGPID'], how='left')\n",
    "print(\"Merged Shape:\",df_papers_authors.shape)\n",
    "\n",
    "# Let us now extract names of authors\n",
    "# For that we will read the ethnicity file\n",
    "df_author_names = pd.read_csv(\"../../data/ethnicity/MAGAID_ethnicity_retracted.csv\",\n",
    "                             usecols=['MAGAID','NormalizedName'])\n",
    "\n",
    "df_papers_authors_w_names = df_papers_authors.merge(df_author_names, on='MAGAID')\n",
    "df_papers_authors_w_names.columns, df_papers_authors_w_names['MAGAID'].nunique()"
   ]
  },
  {
   "cell_type": "code",
   "execution_count": 9,
   "id": "8d7b13b4",
   "metadata": {},
   "outputs": [
    {
     "data": {
      "text/plain": [
       "220"
      ]
     },
     "execution_count": 9,
     "metadata": {},
     "output_type": "execute_result"
    }
   ],
   "source": [
    "# Let us now do validation to check that author names match\n",
    "\"\"\"\n",
    "The reason we are doing this validation is because many papers we have merged \n",
    "in MAG have a prefix \"retraction notice\", and we want to check if we are \n",
    "merging right because a retraction notice could be from an editor, and \n",
    "so we would then be studying the editor instead of the retracted author.\n",
    "\"\"\"\n",
    "\n",
    "df_validation = df_papers_authors_w_names[~df_papers_authors_w_names.MAGTitleMatchedByFuzzy.isna() & \n",
    "                                        ~df_papers_authors_w_names.Author.isna() & \n",
    "                                        ~df_papers_authors_w_names.NormalizedName.isna()]\\\n",
    "    [['Record ID','Title','MAGTitleMatchedByFuzzy',\n",
    "      'FuzzRatio','Author','NormalizedName','RetractionYear','MAGAID']].drop_duplicates()\n",
    "\n",
    "def compute_author_partial_fuzz_ratio(row):\n",
    "    ratio1 = fuzz.partial_ratio(row['Author'].lower(), row['NormalizedName'])\n",
    "    ratio2 = 0\n",
    "    normalizedName = row['NormalizedName'].split()\n",
    "    normalizedName.reverse()\n",
    "    if(ratio1 < 90):\n",
    "        ratio2 = fuzz.partial_ratio(row['Author'].lower(), \n",
    "                                    \" \".join(normalizedName))\n",
    "    return max(ratio1, ratio2)\n",
    "\n",
    "df_validation['AuthorFuzzRatio'] = df_validation.\\\n",
    "                    apply(lambda row:compute_author_partial_fuzz_ratio(row),\n",
    "                    axis=1)\n",
    "\n",
    "def contains_prefix(row):\n",
    "    if 'notice of retraction' in row['MAGTitleMatchedByFuzzy']:\n",
    "        return True\n",
    "    if 'retraction notice' in row['MAGTitleMatchedByFuzzy']:\n",
    "        return True\n",
    "    if 'retraction' in row['MAGTitleMatchedByFuzzy']:\n",
    "        return True\n",
    "    else:\n",
    "        return False\n",
    "\n",
    "df_validation['ContainsPrefix'] = df_validation.apply(lambda row: contains_prefix(row),\n",
    "                                                     axis=1)\n",
    "\n",
    "pd.set_option('display.max_rows', 1000)\n",
    "pd.set_option('display.max_colwidth', None)\n",
    "\n",
    "lst_rids_validated = df_validation[df_validation.AuthorFuzzRatio.ge(80)]['Record ID']\n",
    "\n",
    "df_validation[~df_validation['Record ID'].isin(lst_rids_validated) & \n",
    "              df_validation.RetractionYear.isin(range(1990,2016))][['Author','NormalizedName','MAGAID',\n",
    "                                                                   'AuthorFuzzRatio','Record ID']]\\\n",
    "                ['Record ID'].nunique()\n"
   ]
  },
  {
   "cell_type": "code",
   "execution_count": 11,
   "id": "9f53897b",
   "metadata": {},
   "outputs": [
    {
     "data": {
      "text/plain": [
       "23269"
      ]
     },
     "execution_count": 11,
     "metadata": {},
     "output_type": "execute_result"
    }
   ],
   "source": [
    "df_papers_authors_w_names['Record ID']"
   ]
  },
  {
   "cell_type": "code",
   "execution_count": 12,
   "id": "2164b5f0",
   "metadata": {},
   "outputs": [
    {
     "name": "stdout",
     "output_type": "stream",
     "text": [
      "Number of unique authors after removing repeated offenders: 64995\n",
      "Number of papers after removing repeated offenders: 20338\n"
     ]
    },
    {
     "data": {
      "text/plain": [
       "72594"
      ]
     },
     "execution_count": 12,
     "metadata": {},
     "output_type": "execute_result"
    }
   ],
   "source": [
    "## Let us first remove authors that occur multiple times\n",
    "\n",
    "df1_temp_1 = df_papers_authors_w_names.groupby('MAGAID')['MAGPID'].nunique().\\\n",
    "                    reset_index().rename(columns={'MAGPID':'NumMAGPIDRetractedByMAGAID'})\n",
    "\n",
    "df1_temp_2 = df_papers_authors_w_names.groupby('MAGAID')['Record ID'].nunique().\\\n",
    "                reset_index().rename(columns={'Record ID':'NumRecordsRetractedByMAGAID'})\n",
    "\n",
    "\n",
    "lst_offenders = df1_temp_1[df1_temp_1.NumMAGPIDRetractedByMAGAID.gt(1)].MAGAID.unique().tolist() + \\\n",
    "                df1_temp_2[df1_temp_2.NumRecordsRetractedByMAGAID.gt(1)].MAGAID.unique().tolist()\n",
    "\n",
    "# Now let us remove the offenders from the list\n",
    "\n",
    "df_authors_f1 = df_papers_authors_w_names[~df_papers_authors_w_names.MAGAID.isin(lst_offenders)]\n",
    "\n",
    "print(\"Number of unique authors after removing repeated offenders:\", df_authors_f1.MAGAID.unique().shape[0])\n",
    "print(\"Number of papers after removing repeated offenders:\", df_authors_f1['Record ID'].nunique())\n",
    "df_papers_authors_w_names.MAGAID.nunique()"
   ]
  },
  {
   "cell_type": "code",
   "execution_count": 49,
   "id": "984174b9",
   "metadata": {},
   "outputs": [
    {
     "data": {
      "text/html": [
       "<div>\n",
       "<style scoped>\n",
       "    .dataframe tbody tr th:only-of-type {\n",
       "        vertical-align: middle;\n",
       "    }\n",
       "\n",
       "    .dataframe tbody tr th {\n",
       "        vertical-align: top;\n",
       "    }\n",
       "\n",
       "    .dataframe thead th {\n",
       "        text-align: right;\n",
       "    }\n",
       "</style>\n",
       "<table border=\"1\" class=\"dataframe\">\n",
       "  <thead>\n",
       "    <tr style=\"text-align: right;\">\n",
       "      <th></th>\n",
       "      <th>Record ID</th>\n",
       "      <th>MAGPID</th>\n",
       "    </tr>\n",
       "    <tr>\n",
       "      <th>MAGAID</th>\n",
       "      <th></th>\n",
       "      <th></th>\n",
       "    </tr>\n",
       "  </thead>\n",
       "  <tbody>\n",
       "    <tr>\n",
       "      <th>1.939220e+05</th>\n",
       "      <td>2</td>\n",
       "      <td>2</td>\n",
       "    </tr>\n",
       "    <tr>\n",
       "      <th>2.306160e+09</th>\n",
       "      <td>2</td>\n",
       "      <td>2</td>\n",
       "    </tr>\n",
       "    <tr>\n",
       "      <th>2.306148e+09</th>\n",
       "      <td>2</td>\n",
       "      <td>2</td>\n",
       "    </tr>\n",
       "    <tr>\n",
       "      <th>2.306114e+09</th>\n",
       "      <td>2</td>\n",
       "      <td>2</td>\n",
       "    </tr>\n",
       "    <tr>\n",
       "      <th>2.306114e+09</th>\n",
       "      <td>2</td>\n",
       "      <td>2</td>\n",
       "    </tr>\n",
       "    <tr>\n",
       "      <th>...</th>\n",
       "      <td>...</td>\n",
       "      <td>...</td>\n",
       "    </tr>\n",
       "    <tr>\n",
       "      <th>2.156775e+09</th>\n",
       "      <td>62</td>\n",
       "      <td>62</td>\n",
       "    </tr>\n",
       "    <tr>\n",
       "      <th>2.051380e+09</th>\n",
       "      <td>74</td>\n",
       "      <td>74</td>\n",
       "    </tr>\n",
       "    <tr>\n",
       "      <th>2.128683e+09</th>\n",
       "      <td>82</td>\n",
       "      <td>82</td>\n",
       "    </tr>\n",
       "    <tr>\n",
       "      <th>2.099656e+09</th>\n",
       "      <td>106</td>\n",
       "      <td>106</td>\n",
       "    </tr>\n",
       "    <tr>\n",
       "      <th>2.109271e+09</th>\n",
       "      <td>162</td>\n",
       "      <td>162</td>\n",
       "    </tr>\n",
       "  </tbody>\n",
       "</table>\n",
       "<p>7600 rows × 2 columns</p>\n",
       "</div>"
      ],
      "text/plain": [
       "              Record ID  MAGPID\n",
       "MAGAID                         \n",
       "1.939220e+05          2       2\n",
       "2.306160e+09          2       2\n",
       "2.306148e+09          2       2\n",
       "2.306114e+09          2       2\n",
       "2.306114e+09          2       2\n",
       "...                 ...     ...\n",
       "2.156775e+09         62      62\n",
       "2.051380e+09         74      74\n",
       "2.128683e+09         82      82\n",
       "2.099656e+09        106     106\n",
       "2.109271e+09        162     162\n",
       "\n",
       "[7600 rows x 2 columns]"
      ]
     },
     "execution_count": 49,
     "metadata": {},
     "output_type": "execute_result"
    }
   ],
   "source": [
    "# Let us look at the rows removed. \n",
    "df_papers_authors_w_names[df_papers_authors_w_names.MAGAID.isin(lst_offenders)][['Record ID','MAGAID']]\\\n",
    "    .drop_duplicates().groupby('MAGAID')['Record ID'].nunique()\n",
    "\n",
    "df_papers_authors_w_names[df_papers_authors_w_names.MAGAID.isin(lst_offenders)]\\\n",
    "    [['Record ID', 'MAGAID', 'MAGPID']].drop_duplicates().groupby('MAGAID').count().sort_values(by='Record ID')"
   ]
  },
  {
   "cell_type": "code",
   "execution_count": 57,
   "id": "edd91594",
   "metadata": {},
   "outputs": [],
   "source": [
    "# Let us save the list of offenders for our analysis later\n",
    "df_papers_authors_w_names[df_papers_authors_w_names.MAGAID.isin(lst_offenders)]\\\n",
    "        [['MAGAID','Record ID','MAGPID','Title']].drop_duplicates().\\\n",
    "        to_csv(indir+\"/authors_w_multiple_retractions.csv\", index=False)"
   ]
  },
  {
   "cell_type": "code",
   "execution_count": 11,
   "id": "35a7f6f2",
   "metadata": {},
   "outputs": [
    {
     "name": "stdout",
     "output_type": "stream",
     "text": [
      "Papers left: 10355\n",
      "Authors left: 41430\n"
     ]
    }
   ],
   "source": [
    "## Removing papers that retracted in bulk\n",
    "df2_temp = df_papers.groupby(['MAGJCID','RetractionDate'])['MAGPID'].nunique().reset_index().\\\n",
    "            rename(columns={'MAGPID':'NumPapersRetractedInBulk'}).sort_values(by='NumPapersRetractedInBulk')\n",
    "\n",
    "# Merging the above with papers\n",
    "df_papers_merged = df_papers.merge(df2_temp, on=['MAGJCID','RetractionDate'])\n",
    "\n",
    "# These are the valid papers after this filter\n",
    "lst_valid_papers = df_papers_merged[df_papers_merged.NumPapersRetractedInBulk.le(5)].MAGPID.unique().tolist()\n",
    "\n",
    "# Now let us create a new data frame for authors with only these papers\n",
    "\n",
    "df_authors_f2 = df_authors_f1[df_authors_f1.MAGPID.isin(lst_valid_papers)]\n",
    "\n",
    "print(\"Papers left:\",df_authors_f2['Record ID'].nunique())\n",
    "print(\"Authors left:\",df_authors_f2['MAGAID'].nunique())"
   ]
  },
  {
   "cell_type": "code",
   "execution_count": null,
   "id": "8c7db8ef",
   "metadata": {},
   "outputs": [],
   "source": []
  },
  {
   "cell_type": "code",
   "execution_count": 12,
   "id": "9a43e548",
   "metadata": {},
   "outputs": [
    {
     "name": "stdout",
     "output_type": "stream",
     "text": [
      "Papers left: 5291\n",
      "Authors left: 19769\n"
     ]
    }
   ],
   "source": [
    "# Now let us remove papers beyond [1990,2015]\n",
    "\n",
    "df_authors_f3 = df_authors_f2[df_authors_f2.RetractionYear.le(2015) & \\\n",
    "                                  df_authors_f2.RetractionYear.ge(1990)]\n",
    "\n",
    "print(\"Papers left:\",df_authors_f3['Record ID'].nunique())\n",
    "print(\"Authors left:\",df_authors_f3['MAGAID'].nunique())"
   ]
  },
  {
   "cell_type": "code",
   "execution_count": 13,
   "id": "c35a7f87",
   "metadata": {},
   "outputs": [
    {
     "data": {
      "text/plain": [
       "count    44512.000000\n",
       "mean         1.944195\n",
       "std          2.877742\n",
       "min          0.000000\n",
       "25%          0.000000\n",
       "50%          1.000000\n",
       "75%          2.000000\n",
       "max         35.000000\n",
       "dtype: float64"
      ]
     },
     "execution_count": 13,
     "metadata": {},
     "output_type": "execute_result"
    }
   ],
   "source": [
    "# Let us do some sensiblity checks\n",
    "\n",
    "(df_authors_f3['RetractionYear']-df_authors_f3['OriginalPaperYearMethod2']).describe()"
   ]
  },
  {
   "cell_type": "code",
   "execution_count": 14,
   "id": "24f9151e",
   "metadata": {},
   "outputs": [
    {
     "data": {
      "text/plain": [
       "count    37567.000000\n",
       "mean         0.926026\n",
       "std          2.162793\n",
       "min          0.000000\n",
       "25%          0.000000\n",
       "50%          0.000000\n",
       "75%          1.000000\n",
       "max         45.000000\n",
       "dtype: float64"
      ]
     },
     "execution_count": 14,
     "metadata": {},
     "output_type": "execute_result"
    }
   ],
   "source": [
    "(df_authors_f3['RetractionYear']-df_authors_f3['MAGRetractionYearAffYear']).describe()"
   ]
  },
  {
   "cell_type": "code",
   "execution_count": 15,
   "id": "8bb40e04",
   "metadata": {},
   "outputs": [
    {
     "data": {
      "text/plain": [
       "count    37567.000000\n",
       "mean         8.245481\n",
       "std         10.100575\n",
       "min          0.000000\n",
       "25%          1.000000\n",
       "50%          4.000000\n",
       "75%         12.000000\n",
       "max        213.000000\n",
       "dtype: float64"
      ]
     },
     "execution_count": 15,
     "metadata": {},
     "output_type": "execute_result"
    }
   ],
   "source": [
    "(df_authors_f3['RetractionYear']-df_authors_f3['MAGFirstYear']).describe()"
   ]
  },
  {
   "cell_type": "code",
   "execution_count": 18,
   "id": "6e81575f",
   "metadata": {},
   "outputs": [
    {
     "data": {
      "text/plain": [
       "Index(['Record ID', 'MAGPID', 'RetractionYear', 'OriginalPaperYear',\n",
       "       'MAGAffID', 'MAGRetractedPIDYear', 'MAGAffiliationRank', 'MAGFirstName',\n",
       "       'GenderizeGender', 'GenderizeConfidence', 'GenderizeCount',\n",
       "       'FinalGender', 'MAGFirstPubYear', 'OriginalPaperYearMethod1',\n",
       "       'OriginalPaperYearMethod2', 'MAGCumPapersYear', 'MAGCumPapers',\n",
       "       'MAGCumCitationsYear', 'MAGCumCitations', 'MAGCumCollaboratorsYear',\n",
       "       'MAGCumCollaborators', 'MAGCumCollaborationsYear',\n",
       "       'MAGCumCollaborations', 'MAGFirstAffID', 'MAGFirstYear',\n",
       "       'MAGFirstAffiliationRank', 'MAGAIDSequence', 'MAGAIDSequenceMax',\n",
       "       'MAGFirstAuthorFlag', 'MAGLastAuthorFlag', 'MAGRetractionYearAffID',\n",
       "       'MAGRetractionYearAffYear', 'MAGRetractionYearAffRank', 'MAGAID',\n",
       "       'MAGrootFID', 'MAGrootFIDMaxPercent', 'Title', 'MAGJCID', 'Author',\n",
       "       'MAGTitleMatchedByFuzzy', 'FuzzRatio', 'OriginalPaperDOI',\n",
       "       'MAGTitleMatchedByDOI', 'NormalizedName'],\n",
       "      dtype='object')"
      ]
     },
     "execution_count": 18,
     "metadata": {},
     "output_type": "execute_result"
    }
   ],
   "source": [
    "df_authors_f3.MAGAID.columns"
   ]
  },
  {
   "cell_type": "code",
   "execution_count": 49,
   "id": "067888c9",
   "metadata": {},
   "outputs": [
    {
     "name": "stdout",
     "output_type": "stream",
     "text": [
      "Papers left: 4749\n",
      "Authors left: 16757\n"
     ]
    }
   ],
   "source": [
    "# Removing authors without first affiliation ID\n",
    "df_authors_f4 = df_authors_f3[~df_authors_f3.MAGFirstAffID.isna()]\n",
    "\n",
    "print(\"Papers left:\",df_authors_f4['Record ID'].nunique())\n",
    "print(\"Authors left:\",df_authors_f4['MAGAID'].nunique())"
   ]
  },
  {
   "cell_type": "code",
   "execution_count": 50,
   "id": "7d31991b",
   "metadata": {},
   "outputs": [
    {
     "name": "stdout",
     "output_type": "stream",
     "text": [
      "Papers left: 4749\n",
      "Authors left: 16757\n"
     ]
    }
   ],
   "source": [
    "# Removing authors without retraction year affiliation ID\n",
    "df_authors_f5 = df_authors_f4[~df_authors_f4.MAGRetractionYearAffID.isna()]\n",
    "\n",
    "print(\"Papers left:\",df_authors_f5['Record ID'].nunique())\n",
    "print(\"Authors left:\",df_authors_f5['MAGAID'].nunique())"
   ]
  },
  {
   "cell_type": "code",
   "execution_count": 51,
   "id": "28aa2ed7",
   "metadata": {},
   "outputs": [
    {
     "name": "stdout",
     "output_type": "stream",
     "text": [
      "Papers left: 4747\n",
      "Authors left: 16724\n"
     ]
    }
   ],
   "source": [
    "# Removing authors without retraction year affiliation ID\n",
    "df_authors_f6 = df_authors_f5[~df_authors_f5.MAGrootFID.isna()]\n",
    "\n",
    "print(\"Papers left:\",df_authors_f6['Record ID'].nunique())\n",
    "print(\"Authors left:\",df_authors_f6['MAGAID'].nunique())"
   ]
  },
  {
   "cell_type": "code",
   "execution_count": 86,
   "id": "e90778b1",
   "metadata": {},
   "outputs": [
    {
     "name": "stdout",
     "output_type": "stream",
     "text": [
      "Papers left: 4675\n",
      "Authors left: 15672\n"
     ]
    }
   ],
   "source": [
    "# Removing authors without retraction year affiliation ID\n",
    "df_authors_f7 = df_authors_f6[df_authors_f6.GenderizeConfidence.gt(0.50)].copy()\n",
    "\n",
    "print(\"Papers left:\",df_authors_f7['Record ID'].nunique())\n",
    "print(\"Authors left:\",df_authors_f7['MAGAID'].nunique())"
   ]
  },
  {
   "cell_type": "code",
   "execution_count": 87,
   "id": "d3a3928d",
   "metadata": {},
   "outputs": [],
   "source": [
    "# Let us impute MAG Afffiliation Rank 1001- for those with no affiliation rank\n",
    "\n",
    "df_authors_f7['MAGFirstAffiliationRank'] = \\\n",
    "    df_authors_f7['MAGFirstAffiliationRank'].fillna('1001-')\n",
    "\n",
    "df_authors_f7['MAGRetractionYearAffRank'] = \\\n",
    "    df_authors_f7['MAGRetractionYearAffRank'].fillna('1001-')"
   ]
  },
  {
   "cell_type": "code",
   "execution_count": 96,
   "id": "33949159",
   "metadata": {},
   "outputs": [],
   "source": [
    "df_authors_f7.to_csv(indir+\"/filtered_sample.csv\",index=False)"
   ]
  },
  {
   "cell_type": "code",
   "execution_count": null,
   "id": "eda8967c",
   "metadata": {},
   "outputs": [],
   "source": []
  }
 ],
 "metadata": {
  "kernelspec": {
   "display_name": "Python 3 (ipykernel)",
   "language": "python",
   "name": "python3"
  },
  "language_info": {
   "codemirror_mode": {
    "name": "ipython",
    "version": 3
   },
   "file_extension": ".py",
   "mimetype": "text/x-python",
   "name": "python",
   "nbconvert_exporter": "python",
   "pygments_lexer": "ipython3",
   "version": "3.9.4"
  }
 },
 "nbformat": 4,
 "nbformat_minor": 5
}
