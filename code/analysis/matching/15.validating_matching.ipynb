{
 "cells": [
  {
   "cell_type": "markdown",
   "id": "fc9f392d",
   "metadata": {},
   "source": [
    "# Validating Matching\n",
    "\n",
    "Now that matching is done, we shall validate it to check everything makes sense."
   ]
  },
  {
   "cell_type": "code",
   "execution_count": 8,
   "id": "4cd9ecc8",
   "metadata": {},
   "outputs": [],
   "source": [
    "import pandas as pd"
   ]
  },
  {
   "cell_type": "code",
   "execution_count": 9,
   "id": "6cae99d1",
   "metadata": {},
   "outputs": [
    {
     "name": "stderr",
     "output_type": "stream",
     "text": [
      "/usr/local/lib/python3.9/site-packages/IPython/core/interactiveshell.py:3169: DtypeWarning: Columns (10) have mixed types.Specify dtype option on import or set low_memory=False.\n",
      "  has_raised = await self.run_ast_nodes(code_ast.body, cell_name,\n"
     ]
    }
   ],
   "source": [
    "df = pd.read_csv(\"../../data/main/RWMatched_intersection.csv\")"
   ]
  },
  {
   "cell_type": "code",
   "execution_count": 10,
   "id": "4ce03dc2",
   "metadata": {},
   "outputs": [
    {
     "data": {
      "text/plain": [
       "Index(['MAGAID', 'MatchMAGAID', 'Record ID', 'MAGPID', 'RetractionYear',\n",
       "       'MAGRetractionYearAffID', 'MAGRetractionYearAffYear',\n",
       "       'MAGRetractionYearAffRank', 'MatchMAGRetractionYearAffID',\n",
       "       'MatchMAGRetractionYearAffYear', 'MatchMAGRetractionYearAffRank',\n",
       "       'MatchMAGMaxRetractionYear', 'MAGrootFID', 'MAGrootFIDMaxPercent',\n",
       "       'MatchMAGrootFID', 'MatchMAGrootFIDMaxPercent', 'MAGCumPapers',\n",
       "       'MAGCumPapersBins', 'MatchMAGCumPapersYear', 'MatchMAGCumPapers',\n",
       "       'MatchMAGCumPapersBins', 'MAGCumCitations', 'MAGCumCitationsBins',\n",
       "       'MatchMAGCumCitationsYear', 'MatchMAGCumCitations',\n",
       "       'MatchMAGCumCitationsBins', 'MAGCumCollaborators',\n",
       "       'MAGCumCollaboratorsBins', 'MatchMAGCumCollaboratorsYear',\n",
       "       'MatchMAGCumCollaborators', 'MatchMAGCumCollaboratorsBins',\n",
       "       'GenderizeGender', 'MAGFirstPubYear', 'MAGFirstAffID',\n",
       "       'MAGFirstAffiliationRank', 'MatchMAGFirstAffID', 'MatchMAGFirstAffYear',\n",
       "       'MatchMAGFirstAffiliationRank'],\n",
       "      dtype='object')"
      ]
     },
     "execution_count": 10,
     "metadata": {},
     "output_type": "execute_result"
    }
   ],
   "source": [
    "df.columns"
   ]
  },
  {
   "cell_type": "code",
   "execution_count": 23,
   "id": "9f20ca45",
   "metadata": {},
   "outputs": [],
   "source": [
    "# Validating discipline\n",
    "assert(df.shape[0] == df[df.MAGrootFID.eq(df.MatchMAGrootFID)].shape[0])"
   ]
  },
  {
   "cell_type": "code",
   "execution_count": 20,
   "id": "c56c5eca",
   "metadata": {},
   "outputs": [],
   "source": [
    "# Validating Papers\n",
    "assert(df.shape[0] == df[df.MAGCumPapersBins.eq(df.MatchMAGCumPapersBins)].shape[0])"
   ]
  },
  {
   "cell_type": "code",
   "execution_count": 19,
   "id": "ca8e6888",
   "metadata": {},
   "outputs": [],
   "source": [
    "# Validating Citations\n",
    "assert(df.shape[0] == df[df.MAGCumCitationsBins.eq(df.MatchMAGCumCitationsBins)].shape[0])"
   ]
  },
  {
   "cell_type": "code",
   "execution_count": 21,
   "id": "a07f5f6b",
   "metadata": {},
   "outputs": [],
   "source": [
    "# Validating Collaborators\n",
    "assert(df.shape[0] == df[df.MAGCumCollaboratorsBins.eq(df.MatchMAGCumCollaboratorsBins)].shape[0])"
   ]
  },
  {
   "cell_type": "code",
   "execution_count": 42,
   "id": "98b8f2a9",
   "metadata": {},
   "outputs": [
    {
     "data": {
      "text/html": [
       "<div>\n",
       "<style scoped>\n",
       "    .dataframe tbody tr th:only-of-type {\n",
       "        vertical-align: middle;\n",
       "    }\n",
       "\n",
       "    .dataframe tbody tr th {\n",
       "        vertical-align: top;\n",
       "    }\n",
       "\n",
       "    .dataframe thead th {\n",
       "        text-align: right;\n",
       "    }\n",
       "</style>\n",
       "<table border=\"1\" class=\"dataframe\">\n",
       "  <thead>\n",
       "    <tr style=\"text-align: right;\">\n",
       "      <th></th>\n",
       "      <th>MAGAID</th>\n",
       "      <th>MatchMAGAID</th>\n",
       "      <th>Record ID</th>\n",
       "      <th>MAGPID</th>\n",
       "      <th>RetractionYear</th>\n",
       "      <th>MAGRetractionYearAffID</th>\n",
       "      <th>MAGRetractionYearAffYear</th>\n",
       "      <th>MAGRetractionYearAffRank</th>\n",
       "      <th>MatchMAGRetractionYearAffID</th>\n",
       "      <th>MatchMAGRetractionYearAffYear</th>\n",
       "      <th>...</th>\n",
       "      <th>MatchMAGCumCollaboratorsYear</th>\n",
       "      <th>MatchMAGCumCollaborators</th>\n",
       "      <th>MatchMAGCumCollaboratorsBins</th>\n",
       "      <th>GenderizeGender</th>\n",
       "      <th>MAGFirstPubYear</th>\n",
       "      <th>MAGFirstAffID</th>\n",
       "      <th>MAGFirstAffiliationRank</th>\n",
       "      <th>MatchMAGFirstAffID</th>\n",
       "      <th>MatchMAGFirstAffYear</th>\n",
       "      <th>MatchMAGFirstAffiliationRank</th>\n",
       "    </tr>\n",
       "  </thead>\n",
       "  <tbody>\n",
       "  </tbody>\n",
       "</table>\n",
       "<p>0 rows × 38 columns</p>\n",
       "</div>"
      ],
      "text/plain": [
       "Empty DataFrame\n",
       "Columns: [MAGAID, MatchMAGAID, Record ID, MAGPID, RetractionYear, MAGRetractionYearAffID, MAGRetractionYearAffYear, MAGRetractionYearAffRank, MatchMAGRetractionYearAffID, MatchMAGRetractionYearAffYear, MatchMAGRetractionYearAffRank, MatchMAGMaxRetractionYear, MAGrootFID, MAGrootFIDMaxPercent, MatchMAGrootFID, MatchMAGrootFIDMaxPercent, MAGCumPapers, MAGCumPapersBins, MatchMAGCumPapersYear, MatchMAGCumPapers, MatchMAGCumPapersBins, MAGCumCitations, MAGCumCitationsBins, MatchMAGCumCitationsYear, MatchMAGCumCitations, MatchMAGCumCitationsBins, MAGCumCollaborators, MAGCumCollaboratorsBins, MatchMAGCumCollaboratorsYear, MatchMAGCumCollaborators, MatchMAGCumCollaboratorsBins, GenderizeGender, MAGFirstPubYear, MAGFirstAffID, MAGFirstAffiliationRank, MatchMAGFirstAffID, MatchMAGFirstAffYear, MatchMAGFirstAffiliationRank]\n",
       "Index: []\n",
       "\n",
       "[0 rows x 38 columns]"
      ]
     },
     "execution_count": 42,
     "metadata": {},
     "output_type": "execute_result"
    }
   ],
   "source": [
    "# Validating First Affiliation Rank\n",
    "\n",
    "dftemp1 = df[~df.MAGFirstAffID.eq(df.MatchMAGFirstAffID) & \n",
    "             ~df.MAGFirstAffiliationRank.eq(df.MatchMAGFirstAffiliationRank)]\n",
    "\n",
    "dftemp1[~((dftemp1.MAGFirstAffiliationRank.astype(int)-dftemp1.MatchMAGFirstAffiliationRank.astype(int)).\\\n",
    "                            abs().le(2))]\n"
   ]
  },
  {
   "cell_type": "code",
   "execution_count": 53,
   "id": "8991f929",
   "metadata": {},
   "outputs": [
    {
     "data": {
      "text/html": [
       "<div>\n",
       "<style scoped>\n",
       "    .dataframe tbody tr th:only-of-type {\n",
       "        vertical-align: middle;\n",
       "    }\n",
       "\n",
       "    .dataframe tbody tr th {\n",
       "        vertical-align: top;\n",
       "    }\n",
       "\n",
       "    .dataframe thead th {\n",
       "        text-align: right;\n",
       "    }\n",
       "</style>\n",
       "<table border=\"1\" class=\"dataframe\">\n",
       "  <thead>\n",
       "    <tr style=\"text-align: right;\">\n",
       "      <th></th>\n",
       "      <th>MAGRetractionYearAffRank</th>\n",
       "      <th>MatchMAGRetractionYearAffRank</th>\n",
       "    </tr>\n",
       "  </thead>\n",
       "  <tbody>\n",
       "    <tr>\n",
       "      <th>0</th>\n",
       "      <td>5</td>\n",
       "      <td>3</td>\n",
       "    </tr>\n",
       "    <tr>\n",
       "      <th>2</th>\n",
       "      <td>9</td>\n",
       "      <td>11</td>\n",
       "    </tr>\n",
       "    <tr>\n",
       "      <th>3</th>\n",
       "      <td>6</td>\n",
       "      <td>8</td>\n",
       "    </tr>\n",
       "    <tr>\n",
       "      <th>6</th>\n",
       "      <td>20</td>\n",
       "      <td>18</td>\n",
       "    </tr>\n",
       "    <tr>\n",
       "      <th>7</th>\n",
       "      <td>20</td>\n",
       "      <td>22</td>\n",
       "    </tr>\n",
       "    <tr>\n",
       "      <th>...</th>\n",
       "      <td>...</td>\n",
       "      <td>...</td>\n",
       "    </tr>\n",
       "    <tr>\n",
       "      <th>42044</th>\n",
       "      <td>49</td>\n",
       "      <td>48</td>\n",
       "    </tr>\n",
       "    <tr>\n",
       "      <th>42045</th>\n",
       "      <td>49</td>\n",
       "      <td>48</td>\n",
       "    </tr>\n",
       "    <tr>\n",
       "      <th>42046</th>\n",
       "      <td>28</td>\n",
       "      <td>30</td>\n",
       "    </tr>\n",
       "    <tr>\n",
       "      <th>42047</th>\n",
       "      <td>28</td>\n",
       "      <td>26</td>\n",
       "    </tr>\n",
       "    <tr>\n",
       "      <th>42057</th>\n",
       "      <td>82</td>\n",
       "      <td>80</td>\n",
       "    </tr>\n",
       "  </tbody>\n",
       "</table>\n",
       "<p>25313 rows × 2 columns</p>\n",
       "</div>"
      ],
      "text/plain": [
       "      MAGRetractionYearAffRank MatchMAGRetractionYearAffRank\n",
       "0                            5                             3\n",
       "2                            9                            11\n",
       "3                            6                             8\n",
       "6                           20                            18\n",
       "7                           20                            22\n",
       "...                        ...                           ...\n",
       "42044                       49                            48\n",
       "42045                       49                            48\n",
       "42046                       28                            30\n",
       "42047                       28                            26\n",
       "42057                       82                            80\n",
       "\n",
       "[25313 rows x 2 columns]"
      ]
     },
     "execution_count": 53,
     "metadata": {},
     "output_type": "execute_result"
    }
   ],
   "source": [
    "# Validating Retraction Year Affiliation Rank\n",
    "\n",
    "dftemp2 = df[~df.MAGRetractionYearAffID.eq(df.MatchMAGRetractionYearAffID) & \n",
    "             ~df.MAGRetractionYearAffRank.eq(df.MatchMAGRetractionYearAffRank)]\n",
    "\n",
    "dftemp2[['MAGRetractionYearAffRank','MatchMAGRetractionYearAffRank']]"
   ]
  },
  {
   "cell_type": "code",
   "execution_count": 52,
   "id": "523c2a81",
   "metadata": {},
   "outputs": [
    {
     "data": {
      "text/html": [
       "<div>\n",
       "<style scoped>\n",
       "    .dataframe tbody tr th:only-of-type {\n",
       "        vertical-align: middle;\n",
       "    }\n",
       "\n",
       "    .dataframe tbody tr th {\n",
       "        vertical-align: top;\n",
       "    }\n",
       "\n",
       "    .dataframe thead th {\n",
       "        text-align: right;\n",
       "    }\n",
       "</style>\n",
       "<table border=\"1\" class=\"dataframe\">\n",
       "  <thead>\n",
       "    <tr style=\"text-align: right;\">\n",
       "      <th></th>\n",
       "      <th>MAGAID</th>\n",
       "      <th>MatchMAGAID</th>\n",
       "      <th>Record ID</th>\n",
       "      <th>MAGPID</th>\n",
       "      <th>RetractionYear</th>\n",
       "      <th>MAGRetractionYearAffID</th>\n",
       "      <th>MAGRetractionYearAffYear</th>\n",
       "      <th>MAGRetractionYearAffRank</th>\n",
       "      <th>MatchMAGRetractionYearAffID</th>\n",
       "      <th>MatchMAGRetractionYearAffYear</th>\n",
       "      <th>...</th>\n",
       "      <th>MatchMAGCumCollaboratorsYear</th>\n",
       "      <th>MatchMAGCumCollaborators</th>\n",
       "      <th>MatchMAGCumCollaboratorsBins</th>\n",
       "      <th>GenderizeGender</th>\n",
       "      <th>MAGFirstPubYear</th>\n",
       "      <th>MAGFirstAffID</th>\n",
       "      <th>MAGFirstAffiliationRank</th>\n",
       "      <th>MatchMAGFirstAffID</th>\n",
       "      <th>MatchMAGFirstAffYear</th>\n",
       "      <th>MatchMAGFirstAffiliationRank</th>\n",
       "    </tr>\n",
       "  </thead>\n",
       "  <tbody>\n",
       "  </tbody>\n",
       "</table>\n",
       "<p>0 rows × 38 columns</p>\n",
       "</div>"
      ],
      "text/plain": [
       "Empty DataFrame\n",
       "Columns: [MAGAID, MatchMAGAID, Record ID, MAGPID, RetractionYear, MAGRetractionYearAffID, MAGRetractionYearAffYear, MAGRetractionYearAffRank, MatchMAGRetractionYearAffID, MatchMAGRetractionYearAffYear, MatchMAGRetractionYearAffRank, MatchMAGMaxRetractionYear, MAGrootFID, MAGrootFIDMaxPercent, MatchMAGrootFID, MatchMAGrootFIDMaxPercent, MAGCumPapers, MAGCumPapersBins, MatchMAGCumPapersYear, MatchMAGCumPapers, MatchMAGCumPapersBins, MAGCumCitations, MAGCumCitationsBins, MatchMAGCumCitationsYear, MatchMAGCumCitations, MatchMAGCumCitationsBins, MAGCumCollaborators, MAGCumCollaboratorsBins, MatchMAGCumCollaboratorsYear, MatchMAGCumCollaborators, MatchMAGCumCollaboratorsBins, GenderizeGender, MAGFirstPubYear, MAGFirstAffID, MAGFirstAffiliationRank, MatchMAGFirstAffID, MatchMAGFirstAffYear, MatchMAGFirstAffiliationRank]\n",
       "Index: []\n",
       "\n",
       "[0 rows x 38 columns]"
      ]
     },
     "execution_count": 52,
     "metadata": {},
     "output_type": "execute_result"
    }
   ],
   "source": [
    "dftemp2[~((dftemp2.MAGRetractionYearAffRank.astype(int)-dftemp2.MatchMAGRetractionYearAffRank.astype(int)).\\\n",
    "                            abs().le(2))]"
   ]
  },
  {
   "cell_type": "code",
   "execution_count": 54,
   "id": "e36d4908",
   "metadata": {},
   "outputs": [
    {
     "data": {
      "text/html": [
       "<div>\n",
       "<style scoped>\n",
       "    .dataframe tbody tr th:only-of-type {\n",
       "        vertical-align: middle;\n",
       "    }\n",
       "\n",
       "    .dataframe tbody tr th {\n",
       "        vertical-align: top;\n",
       "    }\n",
       "\n",
       "    .dataframe thead th {\n",
       "        text-align: right;\n",
       "    }\n",
       "</style>\n",
       "<table border=\"1\" class=\"dataframe\">\n",
       "  <thead>\n",
       "    <tr style=\"text-align: right;\">\n",
       "      <th></th>\n",
       "      <th>MAGAID</th>\n",
       "      <th>MatchMAGAID</th>\n",
       "      <th>Record ID</th>\n",
       "      <th>MAGPID</th>\n",
       "      <th>RetractionYear</th>\n",
       "      <th>MAGRetractionYearAffID</th>\n",
       "      <th>MAGRetractionYearAffYear</th>\n",
       "      <th>MAGRetractionYearAffRank</th>\n",
       "      <th>MatchMAGRetractionYearAffID</th>\n",
       "      <th>MatchMAGRetractionYearAffYear</th>\n",
       "      <th>...</th>\n",
       "      <th>MatchMAGCumCollaboratorsYear</th>\n",
       "      <th>MatchMAGCumCollaborators</th>\n",
       "      <th>MatchMAGCumCollaboratorsBins</th>\n",
       "      <th>GenderizeGender</th>\n",
       "      <th>MAGFirstPubYear</th>\n",
       "      <th>MAGFirstAffID</th>\n",
       "      <th>MAGFirstAffiliationRank</th>\n",
       "      <th>MatchMAGFirstAffID</th>\n",
       "      <th>MatchMAGFirstAffYear</th>\n",
       "      <th>MatchMAGFirstAffiliationRank</th>\n",
       "    </tr>\n",
       "  </thead>\n",
       "  <tbody>\n",
       "  </tbody>\n",
       "</table>\n",
       "<p>0 rows × 38 columns</p>\n",
       "</div>"
      ],
      "text/plain": [
       "Empty DataFrame\n",
       "Columns: [MAGAID, MatchMAGAID, Record ID, MAGPID, RetractionYear, MAGRetractionYearAffID, MAGRetractionYearAffYear, MAGRetractionYearAffRank, MatchMAGRetractionYearAffID, MatchMAGRetractionYearAffYear, MatchMAGRetractionYearAffRank, MatchMAGMaxRetractionYear, MAGrootFID, MAGrootFIDMaxPercent, MatchMAGrootFID, MatchMAGrootFIDMaxPercent, MAGCumPapers, MAGCumPapersBins, MatchMAGCumPapersYear, MatchMAGCumPapers, MatchMAGCumPapersBins, MAGCumCitations, MAGCumCitationsBins, MatchMAGCumCitationsYear, MatchMAGCumCitations, MatchMAGCumCitationsBins, MAGCumCollaborators, MAGCumCollaboratorsBins, MatchMAGCumCollaboratorsYear, MatchMAGCumCollaborators, MatchMAGCumCollaboratorsBins, GenderizeGender, MAGFirstPubYear, MAGFirstAffID, MAGFirstAffiliationRank, MatchMAGFirstAffID, MatchMAGFirstAffYear, MatchMAGFirstAffiliationRank]\n",
       "Index: []\n",
       "\n",
       "[0 rows x 38 columns]"
      ]
     },
     "execution_count": 54,
     "metadata": {},
     "output_type": "execute_result"
    }
   ],
   "source": [
    "df[df.MAGAID.eq(df.MatchMAGAID)]"
   ]
  },
  {
   "cell_type": "code",
   "execution_count": null,
   "id": "ef6dfbb2",
   "metadata": {},
   "outputs": [],
   "source": []
  }
 ],
 "metadata": {
  "kernelspec": {
   "display_name": "Python 3 (ipykernel)",
   "language": "python",
   "name": "python3"
  },
  "language_info": {
   "codemirror_mode": {
    "name": "ipython",
    "version": 3
   },
   "file_extension": ".py",
   "mimetype": "text/x-python",
   "name": "python",
   "nbconvert_exporter": "python",
   "pygments_lexer": "ipython3",
   "version": "3.9.4"
  }
 },
 "nbformat": 4,
 "nbformat_minor": 5
}
