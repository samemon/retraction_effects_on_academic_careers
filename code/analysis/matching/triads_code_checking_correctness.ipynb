{
 "cells": [
  {
   "cell_type": "markdown",
   "id": "2377c111",
   "metadata": {},
   "source": [
    "# Checks for the correctness of the triadic closure code. "
   ]
  },
  {
   "cell_type": "code",
   "execution_count": 9,
   "id": "4bca9a79",
   "metadata": {},
   "outputs": [],
   "source": [
    "import pandas as pd\n",
    "import os"
   ]
  },
  {
   "cell_type": "code",
   "execution_count": 4,
   "id": "f68b9c6f",
   "metadata": {},
   "outputs": [
    {
     "data": {
      "text/plain": [
       "6540"
      ]
     },
     "execution_count": 4,
     "metadata": {},
     "output_type": "execute_result"
    }
   ],
   "source": [
    "# Let us first read the filtered_sample file for reading RetractionYear\n",
    "indir = \"/Users/sm9654/desktop/NYUAD/nyuad-research/retraction_openalex/retraction_effects_on_academic_careers/data/processed/\"\n",
    "indir_matching = indir+\"/author_matching/\"\n",
    "\n",
    "df_filtered = pd.read_csv(indir+\"RW_authors_w_confounders_filteredSample_postNHB_BedoorsCorrections_Augmented.csv\",\n",
    "                        usecols=['Record ID','RetractionYear']).\\\n",
    "                            drop_duplicates()\n",
    "\n",
    "# Now let us read the MAGAIDs (and MatchMAGAIDs)\n",
    "df10_magaids = pd.read_csv(indir_matching+\"/closestAverageMatch_tolerance_0.1_w_0.8.csv\",\n",
    "                        usecols=['MAGAID','MatchMAGAID','Record ID']).\\\n",
    "                            drop_duplicates().\\\n",
    "                                merge(df_filtered, on='Record ID')\n",
    "\n",
    "df20_magaids = pd.read_csv(indir_matching+\"/closestAverageMatch_tolerance_0.2_w_0.8.csv\",\n",
    "                        usecols=['MAGAID','MatchMAGAID','Record ID']).\\\n",
    "                            drop_duplicates().\\\n",
    "                                merge(df_filtered, on='Record ID')\n",
    "\n",
    "df30_magaids = pd.read_csv(indir_matching+\"/closestAverageMatch_tolerance_0.3_w_0.8.csv\",\n",
    "                        usecols=['MAGAID','MatchMAGAID','Record ID']).\\\n",
    "                            drop_duplicates().\\\n",
    "                                merge(df_filtered, on='Record ID')\n",
    "\n",
    "# Processing 10%\n",
    "df10_magaids_t = df10_magaids[['MAGAID','RetractionYear','Record ID']].drop_duplicates()\n",
    "df10_magaids_c = df10_magaids[['MatchMAGAID','RetractionYear','Record ID']].drop_duplicates().\\\n",
    "                                    rename(columns={'MatchMAGAID':'MAGAID'})\n",
    "\n",
    "df10_magaids_t['ScientistType'] = 'retracted'\n",
    "df10_magaids_c['ScientistType'] = 'matched'\n",
    "\n",
    "# Processing 20%\n",
    "df20_magaids_t = df20_magaids[['MAGAID','RetractionYear','Record ID']].drop_duplicates()\n",
    "df20_magaids_c = df20_magaids[['MatchMAGAID','RetractionYear','Record ID']].drop_duplicates().\\\n",
    "                                    rename(columns={'MatchMAGAID':'MAGAID'})\n",
    "\n",
    "df20_magaids_t['ScientistType'] = 'retracted'\n",
    "df20_magaids_c['ScientistType'] = 'matched'\n",
    "\n",
    "# Processing 30%\n",
    "df30_magaids_t = df30_magaids[['MAGAID','RetractionYear','Record ID']].drop_duplicates()\n",
    "df30_magaids_c = df30_magaids[['MatchMAGAID','RetractionYear','Record ID']].drop_duplicates().\\\n",
    "                                    rename(columns={'MatchMAGAID':'MAGAID'})\n",
    "\n",
    "df30_magaids_t['ScientistType'] = 'retracted'\n",
    "df30_magaids_c['ScientistType'] = 'matched'\n",
    "\n",
    "# Now we have list of all matched treatment and control alongside retraction year\n",
    "# Note: Control can be one to many i.e. one matched to multiple \n",
    "# Note: This is now sorted in ascending order\n",
    "df_matched = pd.concat([df10_magaids_t,df10_magaids_c,\n",
    "                        df20_magaids_t,df20_magaids_c,\n",
    "                        df30_magaids_t,df30_magaids_c]).\\\n",
    "                                        drop_duplicates().\\\n",
    "                                            sort_values(by='MAGAID')\n",
    "\n",
    "df_matched.MAGAID.nunique()"
   ]
  },
  {
   "cell_type": "code",
   "execution_count": 6,
   "id": "aa81a719",
   "metadata": {},
   "outputs": [
    {
     "data": {
      "text/html": [
       "<div>\n",
       "<style scoped>\n",
       "    .dataframe tbody tr th:only-of-type {\n",
       "        vertical-align: middle;\n",
       "    }\n",
       "\n",
       "    .dataframe tbody tr th {\n",
       "        vertical-align: top;\n",
       "    }\n",
       "\n",
       "    .dataframe thead th {\n",
       "        text-align: right;\n",
       "    }\n",
       "</style>\n",
       "<table border=\"1\" class=\"dataframe\">\n",
       "  <thead>\n",
       "    <tr style=\"text-align: right;\">\n",
       "      <th></th>\n",
       "      <th>MAGAID</th>\n",
       "      <th>RetractionYear</th>\n",
       "      <th>Record ID</th>\n",
       "      <th>ScientistType</th>\n",
       "    </tr>\n",
       "  </thead>\n",
       "  <tbody>\n",
       "    <tr>\n",
       "      <th>275</th>\n",
       "      <td>1.936235e+06</td>\n",
       "      <td>2012.0</td>\n",
       "      <td>4934.0</td>\n",
       "      <td>matched</td>\n",
       "    </tr>\n",
       "    <tr>\n",
       "      <th>0</th>\n",
       "      <td>2.184860e+06</td>\n",
       "      <td>2008.0</td>\n",
       "      <td>15835.0</td>\n",
       "      <td>retracted</td>\n",
       "    </tr>\n",
       "    <tr>\n",
       "      <th>3166</th>\n",
       "      <td>5.440459e+06</td>\n",
       "      <td>2010.0</td>\n",
       "      <td>702.0</td>\n",
       "      <td>matched</td>\n",
       "    </tr>\n",
       "    <tr>\n",
       "      <th>853</th>\n",
       "      <td>7.534684e+06</td>\n",
       "      <td>2014.0</td>\n",
       "      <td>3349.0</td>\n",
       "      <td>matched</td>\n",
       "    </tr>\n",
       "    <tr>\n",
       "      <th>2</th>\n",
       "      <td>8.197726e+06</td>\n",
       "      <td>2012.0</td>\n",
       "      <td>3444.0</td>\n",
       "      <td>retracted</td>\n",
       "    </tr>\n",
       "    <tr>\n",
       "      <th>...</th>\n",
       "      <td>...</td>\n",
       "      <td>...</td>\n",
       "      <td>...</td>\n",
       "      <td>...</td>\n",
       "    </tr>\n",
       "    <tr>\n",
       "      <th>4051</th>\n",
       "      <td>3.174844e+09</td>\n",
       "      <td>2014.0</td>\n",
       "      <td>17239.0</td>\n",
       "      <td>retracted</td>\n",
       "    </tr>\n",
       "    <tr>\n",
       "      <th>3395</th>\n",
       "      <td>3.175436e+09</td>\n",
       "      <td>2015.0</td>\n",
       "      <td>18203.0</td>\n",
       "      <td>retracted</td>\n",
       "    </tr>\n",
       "    <tr>\n",
       "      <th>2415</th>\n",
       "      <td>3.176126e+09</td>\n",
       "      <td>2004.0</td>\n",
       "      <td>4333.0</td>\n",
       "      <td>retracted</td>\n",
       "    </tr>\n",
       "    <tr>\n",
       "      <th>1376</th>\n",
       "      <td>3.176346e+09</td>\n",
       "      <td>2011.0</td>\n",
       "      <td>4464.0</td>\n",
       "      <td>matched</td>\n",
       "    </tr>\n",
       "    <tr>\n",
       "      <th>261</th>\n",
       "      <td>3.176753e+09</td>\n",
       "      <td>2012.0</td>\n",
       "      <td>1173.0</td>\n",
       "      <td>matched</td>\n",
       "    </tr>\n",
       "  </tbody>\n",
       "</table>\n",
       "<p>6548 rows × 4 columns</p>\n",
       "</div>"
      ],
      "text/plain": [
       "            MAGAID  RetractionYear  Record ID ScientistType\n",
       "275   1.936235e+06          2012.0     4934.0       matched\n",
       "0     2.184860e+06          2008.0    15835.0     retracted\n",
       "3166  5.440459e+06          2010.0      702.0       matched\n",
       "853   7.534684e+06          2014.0     3349.0       matched\n",
       "2     8.197726e+06          2012.0     3444.0     retracted\n",
       "...            ...             ...        ...           ...\n",
       "4051  3.174844e+09          2014.0    17239.0     retracted\n",
       "3395  3.175436e+09          2015.0    18203.0     retracted\n",
       "2415  3.176126e+09          2004.0     4333.0     retracted\n",
       "1376  3.176346e+09          2011.0     4464.0       matched\n",
       "261   3.176753e+09          2012.0     1173.0       matched\n",
       "\n",
       "[6548 rows x 4 columns]"
      ]
     },
     "execution_count": 6,
     "metadata": {},
     "output_type": "execute_result"
    }
   ],
   "source": [
    "df_matched"
   ]
  },
  {
   "cell_type": "code",
   "execution_count": 7,
   "id": "a8b2488f",
   "metadata": {},
   "outputs": [
    {
     "data": {
      "text/plain": [
       "4192"
      ]
     },
     "execution_count": 7,
     "metadata": {},
     "output_type": "execute_result"
    }
   ],
   "source": [
    "df_matched[df_matched['ScientistType']=='matched']['MAGAID'].nunique()"
   ]
  },
  {
   "cell_type": "code",
   "execution_count": 8,
   "id": "643e3d33",
   "metadata": {},
   "outputs": [
    {
     "data": {
      "text/plain": [
       "2348"
      ]
     },
     "execution_count": 8,
     "metadata": {},
     "output_type": "execute_result"
    }
   ],
   "source": [
    "df_matched[df_matched['ScientistType']=='retracted']['MAGAID'].nunique()"
   ]
  },
  {
   "cell_type": "code",
   "execution_count": 11,
   "id": "b54c7f40",
   "metadata": {},
   "outputs": [
    {
     "data": {
      "text/html": [
       "<div>\n",
       "<style scoped>\n",
       "    .dataframe tbody tr th:only-of-type {\n",
       "        vertical-align: middle;\n",
       "    }\n",
       "\n",
       "    .dataframe tbody tr th {\n",
       "        vertical-align: top;\n",
       "    }\n",
       "\n",
       "    .dataframe thead th {\n",
       "        text-align: right;\n",
       "    }\n",
       "</style>\n",
       "<table border=\"1\" class=\"dataframe\">\n",
       "  <thead>\n",
       "    <tr style=\"text-align: right;\">\n",
       "      <th></th>\n",
       "      <th>MAGAID</th>\n",
       "      <th>RetractionYear</th>\n",
       "      <th>NumOpenTriads</th>\n",
       "      <th>NumTriadsClosed</th>\n",
       "      <th>NC</th>\n",
       "    </tr>\n",
       "  </thead>\n",
       "  <tbody>\n",
       "    <tr>\n",
       "      <th>0</th>\n",
       "      <td>2.643648e+09</td>\n",
       "      <td>2013.0</td>\n",
       "      <td>20</td>\n",
       "      <td>0</td>\n",
       "      <td>0.0</td>\n",
       "    </tr>\n",
       "    <tr>\n",
       "      <th>1</th>\n",
       "      <td>2.643749e+09</td>\n",
       "      <td>2014.0</td>\n",
       "      <td>33</td>\n",
       "      <td>0</td>\n",
       "      <td>0.0</td>\n",
       "    </tr>\n",
       "    <tr>\n",
       "      <th>2</th>\n",
       "      <td>2.643908e+09</td>\n",
       "      <td>2015.0</td>\n",
       "      <td>119</td>\n",
       "      <td>0</td>\n",
       "      <td>0.0</td>\n",
       "    </tr>\n",
       "    <tr>\n",
       "      <th>3</th>\n",
       "      <td>2.644173e+09</td>\n",
       "      <td>2015.0</td>\n",
       "      <td>79</td>\n",
       "      <td>0</td>\n",
       "      <td>0.0</td>\n",
       "    </tr>\n",
       "    <tr>\n",
       "      <th>4</th>\n",
       "      <td>2.644200e+09</td>\n",
       "      <td>2010.0</td>\n",
       "      <td>147</td>\n",
       "      <td>0</td>\n",
       "      <td>0.0</td>\n",
       "    </tr>\n",
       "  </tbody>\n",
       "</table>\n",
       "</div>"
      ],
      "text/plain": [
       "         MAGAID  RetractionYear  NumOpenTriads  NumTriadsClosed   NC\n",
       "0  2.643648e+09          2013.0             20                0  0.0\n",
       "1  2.643749e+09          2014.0             33                0  0.0\n",
       "2  2.643908e+09          2015.0            119                0  0.0\n",
       "3  2.644173e+09          2015.0             79                0  0.0\n",
       "4  2.644200e+09          2010.0            147                0  0.0"
      ]
     },
     "execution_count": 11,
     "metadata": {},
     "output_type": "execute_result"
    }
   ],
   "source": [
    "# Now let us read triadic closure files\n",
    "\n",
    "triadic_closure_path = indir_matching+\"/triadic_closure/\"\n",
    "\n",
    "flist = os.listdir(triadic_closure_path)\n",
    "\n",
    "dfs = []\n",
    "for f in flist:\n",
    "    df = pd.read_csv(triadic_closure_path+f, usecols=['MAGAID','NumOpenTriads','RetractionYear','NumTriadsClosed','NC'])\n",
    "    dfs.append(df)\n",
    "    \n",
    "df_triads = pd.concat(dfs)\n",
    "\n",
    "df_triads.head()\n"
   ]
  },
  {
   "cell_type": "code",
   "execution_count": 19,
   "id": "8983e02d",
   "metadata": {},
   "outputs": [
    {
     "data": {
      "text/plain": [
       "count    6542.000000\n",
       "mean        0.020032\n",
       "std         0.066726\n",
       "min         0.000000\n",
       "25%         0.000000\n",
       "50%         0.000000\n",
       "75%         0.008256\n",
       "max         1.000000\n",
       "Name: NC, dtype: float64"
      ]
     },
     "execution_count": 19,
     "metadata": {},
     "output_type": "execute_result"
    }
   ],
   "source": [
    "df_triads['NC'].describe()"
   ]
  },
  {
   "cell_type": "code",
   "execution_count": 21,
   "id": "de2ccfd2",
   "metadata": {},
   "outputs": [
    {
     "data": {
      "text/plain": [
       "count    6542.000000\n",
       "mean        0.020032\n",
       "std         0.066726\n",
       "min         0.000000\n",
       "25%         0.000000\n",
       "50%         0.000000\n",
       "75%         0.008256\n",
       "max         1.000000\n",
       "Name: NC, dtype: float64"
      ]
     },
     "execution_count": 21,
     "metadata": {},
     "output_type": "execute_result"
    }
   ],
   "source": [
    "df_triads['NC'].describe()"
   ]
  },
  {
   "cell_type": "code",
   "execution_count": 25,
   "id": "46901f30",
   "metadata": {},
   "outputs": [
    {
     "data": {
      "image/png": "[encoded data removed]",
      "text/plain": [
       "<Figure size 864x432 with 2 Axes>"
      ]
     },
     "metadata": {
      "needs_background": "light"
     },
     "output_type": "display_data"
    }
   ],
   "source": [
    "import pandas as pd\n",
    "import matplotlib.pyplot as plt\n",
    "\n",
    "# Sample data - replace this with your actual DataFrame\n",
    "data = {\n",
    "    'DifferencePublicationAndRetractionYear': [0, 1, 2, 3, 6, 10, 4, 1, 2, 3, 7, 5, 0, 0]\n",
    "}\n",
    "df = pd.DataFrame(data)\n",
    "\n",
    "# Function to categorize the years into bins\n",
    "def categorize_years(year):\n",
    "    if year <= 1:\n",
    "        return '0-1 year'\n",
    "    elif 2 <= year <= 5:\n",
    "        return '2-5 years'\n",
    "    else:\n",
    "        return '> 5 years'\n",
    "\n",
    "# Apply categorization\n",
    "df['Category'] = df['DifferencePublicationAndRetractionYear'].apply(categorize_years)\n",
    "\n",
    "# Define colors for each category\n",
    "colors = ['#ff9999', '#99ccff', '#66cc66']  # Light red, light blue, light green\n",
    "\n",
    "# Plotting\n",
    "fig, axs = plt.subplots(nrows=1, ncols=2, figsize=(12, 6))  # Adjust size as needed\n",
    "\n",
    "for i, ax in enumerate(axs):\n",
    "    # Count the occurrences of each category\n",
    "    category_counts = df['Category'].value_counts().reindex(['0-1 year', '2-5 years', '> 5 years'], fill_value=0)\n",
    "    category_counts.plot(kind='bar', ax=ax, color=colors)\n",
    "\n",
    "    # Removing top and right borders\n",
    "    ax.spines['top'].set_visible(False)\n",
    "    ax.spines['right'].set_visible(False)\n",
    "\n",
    "    ax.set_title(f'Subplot {i+1}')\n",
    "    ax.set_xlabel('Years from Publication to Retraction')\n",
    "    ax.set_ylabel('Count')\n",
    "\n",
    "plt.tight_layout()\n",
    "plt.show()\n"
   ]
  },
  {
   "cell_type": "code",
   "execution_count": null,
   "id": "1eea9f59",
   "metadata": {},
   "outputs": [],
   "source": []
  }
 ],
 "metadata": {
  "kernelspec": {
   "display_name": "Python 3 (ipykernel)",
   "language": "python",
   "name": "python3"
  },
  "language_info": {
   "codemirror_mode": {
    "name": "ipython",
    "version": 3
   },
   "file_extension": ".py",
   "mimetype": "text/x-python",
   "name": "python",
   "nbconvert_exporter": "python",
   "pygments_lexer": "ipython3",
   "version": "3.9.4"
  }
 },
 "nbformat": 4,
 "nbformat_minor": 5
}
