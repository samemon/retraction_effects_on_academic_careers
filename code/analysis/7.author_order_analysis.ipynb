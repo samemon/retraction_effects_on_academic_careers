{
 "cells": [
  {
   "cell_type": "code",
   "execution_count": 2,
   "id": "c55db698",
   "metadata": {},
   "outputs": [],
   "source": [
    "import pandas as pd\n",
    "from scipy.spatial import distance\n",
    "import numpy as np\n",
    "\n",
    "# Reading paths\n",
    "INDIR = \"../../plot_data/5/\"\n",
    "# Path to where we will save our processed files\n",
    "OUTDIR = \"../../plots/\""
   ]
  },
  {
   "cell_type": "code",
   "execution_count": 3,
   "id": "f5a5751f",
   "metadata": {},
   "outputs": [],
   "source": [
    "df_treatment = pd.read_csv(INDIR+\"/treatment_field_order_prepost.csv\",\n",
    "                              usecols=['MAGAID','RetractionYear','MAGPID','numAuthors',\n",
    "                                       'MAGAuthorOrder',\n",
    "                                      'MAGAffYear'])\\\n",
    "                            .drop_duplicates()\\\n",
    "                            .rename(columns={'MAGAffYear':'MAGPubYear'})\n",
    "\n",
    "df_control = pd.read_csv(INDIR+\"/control_field_order_prepost.csv\",\n",
    "                            usecols=['MAGAID','MatchMAGAID','RetractionYear','MAGPID','numAuthors',\n",
    "                                     'MAGAuthorOrder', \n",
    "                                    'MAGAffYear'])\\\n",
    "                            .drop_duplicates()\\\n",
    "                            .rename(columns={'MAGAffYear':'MAGPubYear'})"
   ]
  },
  {
   "cell_type": "code",
   "execution_count": 4,
   "id": "61c8724f",
   "metadata": {},
   "outputs": [],
   "source": [
    "df_treatment['PreOrPost'] = df_treatment\\\n",
    "                            .apply(lambda row: 'Pre' if row['RetractionYear'] >= row['MAGPubYear'] else 'Post', axis=1)"
   ]
  },
  {
   "cell_type": "code",
   "execution_count": 5,
   "id": "6512ec01",
   "metadata": {},
   "outputs": [],
   "source": [
    "df_control['PreOrPost'] = df_control\\\n",
    "                        .apply(lambda row: 'Pre' if row['RetractionYear'] >= row['MAGPubYear'] else 'Post', axis=1)"
   ]
  },
  {
   "cell_type": "code",
   "execution_count": 6,
   "id": "500777c2",
   "metadata": {},
   "outputs": [],
   "source": [
    "# Filtering post retraction\n",
    "df_treatment = df_treatment[df_treatment['PreOrPost']=='Pre']\n",
    "df_control = df_control[df_control['PreOrPost']=='Pre']"
   ]
  },
  {
   "cell_type": "code",
   "execution_count": 7,
   "id": "946b20e8",
   "metadata": {},
   "outputs": [
    {
     "data": {
      "text/plain": [
       "(2348, 2348)"
      ]
     },
     "execution_count": 7,
     "metadata": {},
     "output_type": "execute_result"
    }
   ],
   "source": [
    "df_treatment['MAGAID'].nunique(), df_control['MAGAID'].nunique()"
   ]
  },
  {
   "cell_type": "code",
   "execution_count": 8,
   "id": "3810c10c",
   "metadata": {},
   "outputs": [],
   "source": [
    "# Processing author sequence order in the paper\n",
    "\n",
    "def extract_author_order(row):\n",
    "    if(row['numAuthors'] == row['MAGAuthorOrder']):\n",
    "        return 'First or Last or Only Author'\n",
    "    if(row['MAGAuthorOrder'] == 1):\n",
    "        return 'First or Last or Only Author'\n",
    "    else:\n",
    "        return 'Middle Author'\n",
    "\n",
    "df_treatment['AuthorOrderCategorical'] = \\\n",
    "            df_treatment.apply(lambda row: extract_author_order(row), axis=1)\n",
    "\n",
    "\n",
    "df_control['AuthorOrderCategorical'] = \\\n",
    "            df_control.apply(lambda row: extract_author_order(row), axis=1)"
   ]
  },
  {
   "cell_type": "code",
   "execution_count": 9,
   "id": "8f60096f",
   "metadata": {},
   "outputs": [
    {
     "data": {
      "text/plain": [
       "2348"
      ]
     },
     "execution_count": 9,
     "metadata": {},
     "output_type": "execute_result"
    }
   ],
   "source": [
    "df_control['MAGAID'].nunique()"
   ]
  },
  {
   "cell_type": "code",
   "execution_count": 10,
   "id": "de314ccf",
   "metadata": {},
   "outputs": [],
   "source": [
    "def calculate_percentages(df, author_key):\n",
    "    # Calculate the total number of papers per author\n",
    "    total_papers = df.groupby(author_key)['MAGPID'].count().reset_index()\n",
    "    total_papers.columns = author_key + ['TotalPapers']\n",
    "    \n",
    "    # Calculate the number of papers per author for each category\n",
    "    category_counts = df.groupby(author_key+['AuthorOrderCategorical'])['MAGPID']\\\n",
    "                            .count().unstack(fill_value=0).reset_index()\n",
    "    \n",
    "    # Merge the two dataframes\n",
    "    merged = pd.merge(total_papers, category_counts, on=author_key)\n",
    "    \n",
    "    # Calculate percentages\n",
    "    merged['First_Last_Only_Percent'] = merged['First or Last or Only Author'] / merged['TotalPapers'] * 100\n",
    "    merged['Middle_Percent'] = merged['Middle Author'] / merged['TotalPapers'] * 100\n",
    "    \n",
    "    return merged[author_key+['First_Last_Only_Percent', 'Middle_Percent']]\n",
    "\n",
    "# Calculate percentages for treatment and control\n",
    "percentages_treatment = calculate_percentages(df_treatment,['MAGAID'])\n",
    "percentages_control = calculate_percentages(df_control,['MAGAID','MatchMAGAID'])"
   ]
  },
  {
   "cell_type": "code",
   "execution_count": 11,
   "id": "e3183f50",
   "metadata": {},
   "outputs": [
    {
     "data": {
      "text/plain": [
       "count    2348.000000\n",
       "mean       40.182764\n",
       "std        28.099072\n",
       "min         0.000000\n",
       "25%        18.181818\n",
       "50%        38.709677\n",
       "75%        59.573413\n",
       "max       100.000000\n",
       "Name: First_Last_Only_Percent, dtype: float64"
      ]
     },
     "execution_count": 11,
     "metadata": {},
     "output_type": "execute_result"
    }
   ],
   "source": [
    "percentages_treatment['First_Last_Only_Percent'].describe()"
   ]
  },
  {
   "cell_type": "code",
   "execution_count": 12,
   "id": "539be4e2",
   "metadata": {},
   "outputs": [
    {
     "data": {
      "text/plain": [
       "count    2348.000000\n",
       "mean       40.716454\n",
       "std        26.083926\n",
       "min         0.000000\n",
       "25%        21.260477\n",
       "50%        39.159812\n",
       "75%        58.727621\n",
       "max       100.000000\n",
       "Name: First_Last_Only_Percent, dtype: float64"
      ]
     },
     "execution_count": 12,
     "metadata": {},
     "output_type": "execute_result"
    }
   ],
   "source": [
    "percentages_control.groupby('MAGAID')['First_Last_Only_Percent'].mean().describe()"
   ]
  },
  {
   "cell_type": "code",
   "execution_count": 13,
   "id": "46a536e2",
   "metadata": {},
   "outputs": [
    {
     "data": {
      "text/plain": [
       "count    2348.000000\n",
       "mean       59.817236\n",
       "std        28.099072\n",
       "min         0.000000\n",
       "25%        40.426587\n",
       "50%        61.290323\n",
       "75%        81.818182\n",
       "max       100.000000\n",
       "Name: Middle_Percent, dtype: float64"
      ]
     },
     "execution_count": 13,
     "metadata": {},
     "output_type": "execute_result"
    }
   ],
   "source": [
    "percentages_treatment['Middle_Percent'].describe()"
   ]
  },
  {
   "cell_type": "code",
   "execution_count": 14,
   "id": "77db0e9a",
   "metadata": {},
   "outputs": [
    {
     "data": {
      "text/plain": [
       "count    2348.000000\n",
       "mean       59.283546\n",
       "std        26.083926\n",
       "min         0.000000\n",
       "25%        41.272379\n",
       "50%        60.840188\n",
       "75%        78.739523\n",
       "max       100.000000\n",
       "Name: Middle_Percent, dtype: float64"
      ]
     },
     "execution_count": 14,
     "metadata": {},
     "output_type": "execute_result"
    }
   ],
   "source": [
    "percentages_control.groupby('MAGAID')['Middle_Percent'].mean().describe()"
   ]
  },
  {
   "cell_type": "code",
   "execution_count": 15,
   "id": "50d35510",
   "metadata": {},
   "outputs": [],
   "source": [
    "average_control = percentages_control.groupby(['MAGAID'])[['First_Last_Only_Percent','Middle_Percent']].mean()\\\n",
    "                        .reset_index()"
   ]
  },
  {
   "cell_type": "code",
   "execution_count": 17,
   "id": "e1df0b62",
   "metadata": {},
   "outputs": [],
   "source": [
    "from statsmodels.stats.contingency_tables import mcnemar\n",
    "\n",
    "df = percentages_treatment.merge(average_control, on='MAGAID')\n",
    "\n",
    "# Calculate the differences\n",
    "df['First_Last_Diff'] = (df['First_Last_Only_Percent_x'] > df['First_Last_Only_Percent_x'].mean()).astype(int) - (df['First_Last_Only_Percent_y'] > df['First_Last_Only_Percent_y'].mean()).astype(int)\n",
    "df['Middle_Diff'] = (df['Middle_Percent_x'] > df['Middle_Percent_x'].mean()).astype(int) - (df['Middle_Percent_y'] > df['Middle_Percent_y'].mean()).astype(int)\n",
    "\n",
    "# Construct contingency tables for McNemar test\n",
    "# First-Last author percentage\n",
    "contingency_first_last = pd.crosstab(df['First_Last_Only_Percent_x'] > df['First_Last_Only_Percent_x'].mean(), df['First_Last_Only_Percent_y'] > df['First_Last_Only_Percent_y'].mean())\n",
    "# Middle author percentage\n",
    "contingency_middle = pd.crosstab(df['Middle_Percent_x'] > df['Middle_Percent_x'].mean(), df['Middle_Percent_y'] > df['Middle_Percent_y'].mean())\n",
    "\n",
    "# Perform McNemar test\n",
    "mcnemar_first_last = mcnemar(contingency_first_last, exact=True)\n",
    "mcnemar_middle = mcnemar(contingency_middle, exact=True)\n",
    "\n",
    "# Display results\n",
    "mcnemar_results = {\n",
    "    'First_Last': {'p-value': mcnemar_first_last.pvalue, 'statistic': mcnemar_first_last.statistic},\n",
    "    'Middle': {'p-value': mcnemar_middle.pvalue, 'statistic': mcnemar_middle.statistic}\n",
    "}"
   ]
  },
  {
   "cell_type": "code",
   "execution_count": 18,
   "id": "253e129b",
   "metadata": {},
   "outputs": [
    {
     "name": "stdout",
     "output_type": "stream",
     "text": [
      "ci_data keys: dict_keys(['First_Last_Only_Percent_x', 'Middle_Percent_x', 'First_Last_Only_Percent_y', 'Middle_Percent_y'])\n"
     ]
    },
    {
     "data": {
      "text/plain": [
       "<Figure size 720x432 with 0 Axes>"
      ]
     },
     "metadata": {},
     "output_type": "display_data"
    },
    {
     "data": {
      "image/png": "[encoded data removed]",
      "text/plain": [
       "<Figure size 432x288 with 1 Axes>"
      ]
     },
     "metadata": {},
     "output_type": "display_data"
    }
   ],
   "source": [
    "from scipy import stats\n",
    "import matplotlib.pyplot as plt\n",
    "import seaborn as sns\n",
    "import statsmodels.stats.api as sms\n",
    "plt.figure(figsize=(10, 6))\n",
    "fontsize=12\n",
    "\n",
    "confidence = 0.95\n",
    "    \n",
    "# Confidence intervals\n",
    "ci_data = {}\n",
    "\n",
    "for col in df.columns[1:5]:  # Ensure columns are correctly iterated\n",
    "    \n",
    "    mean = np.mean(df[col])\n",
    "    \n",
    "    # These are two points defining an interval\n",
    "    ci = sms.DescrStatsW(df[col]).tconfint_mean(alpha=1-confidence)\n",
    "\n",
    "    ci_data[col] = {'mean': mean, 'error': mean-ci[0]}\n",
    "\n",
    "# Check the keys in ci_data to ensure correct columns\n",
    "print(\"ci_data keys:\", ci_data.keys())\n",
    "\n",
    "# Prepare data for plotting\n",
    "labels = ['First or last author', 'Middle author']\n",
    "treatment_means = [ci_data['First_Last_Only_Percent_x']['mean'], ci_data['Middle_Percent_x']['mean']]\n",
    "treatment_errors = [ci_data['First_Last_Only_Percent_x']['error'], ci_data['Middle_Percent_x']['error']]\n",
    "control_means = [ci_data['First_Last_Only_Percent_y']['mean'], ci_data['Middle_Percent_y']['mean']]\n",
    "control_errors = [ci_data['First_Last_Only_Percent_y']['error'], ci_data['Middle_Percent_y']['error']]\n",
    "\n",
    "x = np.arange(len(labels))  # label locations\n",
    "width = 0.35  # width of the bars\n",
    "\n",
    "color_treatment = '#fb7285'\n",
    "color_control = '#62ccaa'\n",
    "\n",
    "fig, ax = plt.subplots()\n",
    "bars1 = ax.bar(x - width/2, treatment_means, width, yerr=treatment_errors, color=color_treatment, \n",
    "               label='Retracted', capsize=5)\n",
    "bars2 = ax.bar(x + width/2, control_means, width, yerr=control_errors, color=color_control,\n",
    "               label='Non-retracted', capsize=5)\n",
    "\n",
    "\n",
    "# Set background color to white\n",
    "fig.patch.set_facecolor('white')\n",
    "ax.set_facecolor('white')\n",
    "\n",
    "# Remove top and right spines\n",
    "ax.spines['top'].set_visible(False)\n",
    "ax.spines['right'].set_visible(False)\n",
    "# Hide grid lines\n",
    "ax.grid(False)\n",
    "ax.set_ylabel('Average percentage',fontsize=fontsize)\n",
    "ax.set_xticks(x)\n",
    "ax.set_xticklabels(labels,fontsize=fontsize)\n",
    "ax.legend(fontsize=fontsize)\n",
    "\n",
    "#plt.text(-0.15, 1.05, 'c', transform=plt.gca().transAxes, fontsize=18, fontweight='bold', ha='left')\n",
    "\n",
    "plt.savefig(OUTDIR+\"author_order_analysis_new.pdf\", format='pdf')"
   ]
  },
  {
   "cell_type": "code",
   "execution_count": null,
   "id": "2e610271",
   "metadata": {},
   "outputs": [],
   "source": []
  }
 ],
 "metadata": {
  "kernelspec": {
   "display_name": "Python 3 (ipykernel)",
   "language": "python",
   "name": "python3"
  },
  "language_info": {
   "codemirror_mode": {
    "name": "ipython",
    "version": 3
   },
   "file_extension": ".py",
   "mimetype": "text/x-python",
   "name": "python",
   "nbconvert_exporter": "python",
   "pygments_lexer": "ipython3",
   "version": "3.9.4"
  }
 },
 "nbformat": 4,
 "nbformat_minor": 5
}
