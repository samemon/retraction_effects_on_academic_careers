{
 "cells": [
  {
   "cell_type": "markdown",
   "id": "05b39de9",
   "metadata": {},
   "source": [
    "## Plotting characteristics of authors who left publishing versus when they did not\n",
    "\n",
    "Update (1/6/24): This is an old file that I am now updating to create the new plot\n",
    "\n",
    "------"
   ]
  },
  {
   "cell_type": "code",
   "execution_count": 1,
   "id": "be3df43a",
   "metadata": {},
   "outputs": [
    {
     "name": "stderr",
     "output_type": "stream",
     "text": [
      "/usr/local/lib/python3.9/site-packages/scipy/__init__.py:138: UserWarning: A NumPy version >=1.16.5 and <1.23.0 is required for this version of SciPy (detected version 1.25.2)\n",
      "  warnings.warn(f\"A NumPy version >={np_minversion} and <{np_maxversion} is required for this version of \"\n"
     ]
    }
   ],
   "source": [
    "# Importing relevant libraries\n",
    "import pandas as pd\n",
    "import matplotlib.pyplot as plt\n",
    "import seaborn as sns\n",
    "from scipy.stats import ttest_ind\n",
    "from matplotlib.patches import Rectangle\n",
    "\n",
    "# Importing relevant packages\n",
    "\n",
    "import os\n",
    "import numpy as np\n",
    "\n",
    "from config_reader import read_config"
   ]
  },
  {
   "cell_type": "code",
   "execution_count": 3,
   "id": "dbe42966",
   "metadata": {},
   "outputs": [],
   "source": [
    "# Reading paths\n",
    "paths = read_config()\n",
    "# Path to where we will save our processed files\n",
    "INDIR = paths['PROCESSED_FOLDER_LOCAL']\n",
    "# Path to where we will save our processed files\n",
    "OUTDIR = paths['PLOTS_FOLDER_LOCAL']"
   ]
  },
  {
   "cell_type": "code",
   "execution_count": 4,
   "id": "a937fdb8",
   "metadata": {},
   "outputs": [
    {
     "name": "stderr",
     "output_type": "stream",
     "text": [
      "/var/folders/bf/_6xjm2bn2_n17hfhskyq1pmw0000gp/T/ipykernel_77567/406725600.py:4: DtypeWarning: Columns (10) have mixed types. Specify dtype option on import or set low_memory=False.\n",
      "  df_main = pd.read_csv(INDIR+\"RW_authors_w_confounders_filteredSample_postNHB_BedoorsCorrections_Augmented.csv\")\n"
     ]
    },
    {
     "data": {
      "text/plain": [
       "['MAGAID',\n",
       " 'MAGAuthorName',\n",
       " 'Record ID',\n",
       " 'MAGPID',\n",
       " 'RetractionYear',\n",
       " 'nRetracted',\n",
       " 'dateobject',\n",
       " 'JID',\n",
       " 'CSID',\n",
       " 'JournalName',\n",
       " 'ConferenceSeriesName',\n",
       " 'ReasonPropagatedMajorityOfMajority',\n",
       " 'NumAuthorsInRetractedPaper',\n",
       " 'GenderizeGender',\n",
       " 'GenderizeConfidence',\n",
       " 'MAGAuthorOrder',\n",
       " 'FirstPubMAGPID',\n",
       " 'MAGFirstPubYear',\n",
       " 'AcademicAgeAtRetraction',\n",
       " 'MAGCumPapersYearAtRetraction',\n",
       " 'MAGCumPapersAtRetraction',\n",
       " 'MAGCumCitationsYearAtRetraction',\n",
       " 'MAGCumCitationsAtRetraction',\n",
       " 'MAGCumCollaboratorsYearAtRetraction',\n",
       " 'MAGCumCollaboratorsAtRetraction',\n",
       " 'MAGRetractionYearAffID',\n",
       " 'MAGRetractionYearAffRank',\n",
       " 'MAGRetractionYearAffYear',\n",
       " 'MAGrootFID',\n",
       " 'MAGrootFIDMaxPercent',\n",
       " 'YearsActive',\n",
       " 'OriginalPaperDate',\n",
       " 'OriginalPaperYear',\n",
       " 'AttritedClass',\n",
       " 'AttritedClassRobust',\n",
       " 'MAGJCName',\n",
       " 'MAGJournalType',\n",
       " 'SJRScoreRetractedPaperYear',\n",
       " 'SJRQuartileRetractedPaperYear',\n",
       " 'DemiDecade',\n",
       " 'MAGAuthorOrderCategorical',\n",
       " 'MAGFieldName',\n",
       " 'Field_art',\n",
       " 'Field_biology',\n",
       " 'Field_business',\n",
       " 'Field_chemistry',\n",
       " 'Field_computerscience',\n",
       " 'Field_economics',\n",
       " 'Field_engineering',\n",
       " 'Field_environmentalscience',\n",
       " 'Field_geography',\n",
       " 'Field_geology',\n",
       " 'Field_history',\n",
       " 'Field_materialsscience',\n",
       " 'Field_mathematics',\n",
       " 'Field_medicine',\n",
       " 'Field_philosophy',\n",
       " 'Field_physics',\n",
       " 'Field_politicalscience',\n",
       " 'Field_psychology',\n",
       " 'Field_sociology',\n",
       " 'MAGRetractionYearAffRankOrdinal',\n",
       " 'LogMAGCumCitationsAtRetraction',\n",
       " 'LogMAGCumCollaboratorsAtRetraction',\n",
       " 'BlogMentionsAtRetraction',\n",
       " 'F1000MentionsAtRetraction',\n",
       " 'FacebookMentionsAtRetraction',\n",
       " 'Google+MentionsAtRetraction',\n",
       " 'LinkedInMentionsAtRetraction',\n",
       " 'NewsMentionsAtRetraction',\n",
       " 'PatentMentionsAtRetraction',\n",
       " 'Peer reviewMentionsAtRetraction',\n",
       " 'PinterestMentionsAtRetraction',\n",
       " 'PolicyMentionsAtRetraction',\n",
       " 'Q&AMentionsAtRetraction',\n",
       " 'RedditMentionsAtRetraction',\n",
       " 'TwitterMentionsAtRetraction',\n",
       " 'VideoMentionsAtRetraction',\n",
       " 'WeiboMentionsAtRetraction',\n",
       " 'WikipediaMentionsAtRetraction',\n",
       " 'TotalMentionsAtRetraction',\n",
       " 'AggregateSocialMediaMentionsAtRetraction',\n",
       " 'AggregateNewsMediaMentionsAtRetraction',\n",
       " 'AggregateBlogsMentionsAtRetraction',\n",
       " 'AggregateKnowledgeRepositoriesMentionsAtRetraction',\n",
       " 'BlogMentionsPreRetraction',\n",
       " 'F1000MentionsPreRetraction',\n",
       " 'FacebookMentionsPreRetraction',\n",
       " 'Google+MentionsPreRetraction',\n",
       " 'LinkedInMentionsPreRetraction',\n",
       " 'NewsMentionsPreRetraction',\n",
       " 'PatentMentionsPreRetraction',\n",
       " 'Peer reviewMentionsPreRetraction',\n",
       " 'PinterestMentionsPreRetraction',\n",
       " 'PolicyMentionsPreRetraction',\n",
       " 'Q&AMentionsPreRetraction',\n",
       " 'RedditMentionsPreRetraction',\n",
       " 'TwitterMentionsPreRetraction',\n",
       " 'VideoMentionsPreRetraction',\n",
       " 'WeiboMentionsPreRetraction',\n",
       " 'WikipediaMentionsPreRetraction',\n",
       " 'TotalMentionsPreRetraction',\n",
       " 'AggregateSocialMediaMentionsPreRetraction',\n",
       " 'AggregateNewsMediaMentionsPreRetraction',\n",
       " 'AggregateBlogsMentionsPreRetraction',\n",
       " 'AggregateKnowledgeRepositoriesMentionsPreRetraction',\n",
       " 'BlogMentionsPostRetraction',\n",
       " 'F1000MentionsPostRetraction',\n",
       " 'FacebookMentionsPostRetraction',\n",
       " 'Google+MentionsPostRetraction',\n",
       " 'LinkedInMentionsPostRetraction',\n",
       " 'NewsMentionsPostRetraction',\n",
       " 'PatentMentionsPostRetraction',\n",
       " 'Peer reviewMentionsPostRetraction',\n",
       " 'PinterestMentionsPostRetraction',\n",
       " 'PolicyMentionsPostRetraction',\n",
       " 'Q&AMentionsPostRetraction',\n",
       " 'RedditMentionsPostRetraction',\n",
       " 'TwitterMentionsPostRetraction',\n",
       " 'VideoMentionsPostRetraction',\n",
       " 'WeiboMentionsPostRetraction',\n",
       " 'WikipediaMentionsPostRetraction',\n",
       " 'TotalMentionsPostRetraction',\n",
       " 'AggregateSocialMediaMentionsPostRetraction',\n",
       " 'AggregateNewsMediaMentionsPostRetraction',\n",
       " 'AggregateBlogsMentionsPostRetraction',\n",
       " 'AggregateKnowledgeRepositoriesMentionsPostRetraction',\n",
       " 'AltmetricScoreAtRetraction',\n",
       " 'AltmetricScorePreRetraction',\n",
       " 'AltmetricScorePostRetraction',\n",
       " 'MAGFirstAffID',\n",
       " 'FirstAffRank',\n",
       " 'FirstAffRankCorrected',\n",
       " 'YearOfAttrition',\n",
       " 'MAGFirstAffiliationRank',\n",
       " 'RetractorMajority',\n",
       " 'Attrition']"
      ]
     },
     "execution_count": 4,
     "metadata": {},
     "output_type": "execute_result"
    }
   ],
   "source": [
    "# Reading relevant files\n",
    "\n",
    "# Reading authors in our new filtered sample\n",
    "df_main = pd.read_csv(INDIR+\"RW_authors_w_confounders_filteredSample_postNHB_BedoorsCorrections_Augmented.csv\")\n",
    "\n",
    "# Only extracting those with single retraction\n",
    "df_main = df_main[df_main['nRetracted']==1]\n",
    "\n",
    "# Just because ..\n",
    "df_main['Attrition'] = df_main['AttritedClass']\n",
    "\n",
    "df_main.columns.tolist()"
   ]
  },
  {
   "cell_type": "code",
   "execution_count": 5,
   "id": "00ad1a53",
   "metadata": {},
   "outputs": [],
   "source": [
    "df_main['MAGAID'] = df_main['MAGAID'].astype(int)"
   ]
  },
  {
   "cell_type": "code",
   "execution_count": 7,
   "id": "97cac1fc",
   "metadata": {},
   "outputs": [
    {
     "data": {
      "text/html": [
       "<div>\n",
       "<style scoped>\n",
       "    .dataframe tbody tr th:only-of-type {\n",
       "        vertical-align: middle;\n",
       "    }\n",
       "\n",
       "    .dataframe tbody tr th {\n",
       "        vertical-align: top;\n",
       "    }\n",
       "\n",
       "    .dataframe thead th {\n",
       "        text-align: right;\n",
       "    }\n",
       "</style>\n",
       "<table border=\"1\" class=\"dataframe\">\n",
       "  <thead>\n",
       "    <tr style=\"text-align: right;\">\n",
       "      <th></th>\n",
       "      <th>MAGAID</th>\n",
       "      <th>MAGAuthorName</th>\n",
       "      <th>Record ID</th>\n",
       "      <th>MAGPID</th>\n",
       "      <th>RetractionYear</th>\n",
       "      <th>nRetracted</th>\n",
       "      <th>dateobject</th>\n",
       "      <th>JID</th>\n",
       "      <th>CSID</th>\n",
       "      <th>JournalName</th>\n",
       "      <th>...</th>\n",
       "      <th>AltmetricScoreAtRetraction</th>\n",
       "      <th>AltmetricScorePreRetraction</th>\n",
       "      <th>AltmetricScorePostRetraction</th>\n",
       "      <th>MAGFirstAffID</th>\n",
       "      <th>FirstAffRank</th>\n",
       "      <th>FirstAffRankCorrected</th>\n",
       "      <th>YearOfAttrition</th>\n",
       "      <th>MAGFirstAffiliationRank</th>\n",
       "      <th>RetractorMajority</th>\n",
       "      <th>Attrition</th>\n",
       "    </tr>\n",
       "  </thead>\n",
       "  <tbody>\n",
       "    <tr>\n",
       "      <th>0</th>\n",
       "      <td>2127983451</td>\n",
       "      <td>william r jacobs</td>\n",
       "      <td>2343</td>\n",
       "      <td>1790891469</td>\n",
       "      <td>1997.0</td>\n",
       "      <td>1</td>\n",
       "      <td>1994-07-01</td>\n",
       "      <td>133274750.0</td>\n",
       "      <td>NaN</td>\n",
       "      <td>journal of bacteriology</td>\n",
       "      <td>...</td>\n",
       "      <td>0.0</td>\n",
       "      <td>3.0</td>\n",
       "      <td>6.0</td>\n",
       "      <td>204465549.0</td>\n",
       "      <td>22.0</td>\n",
       "      <td>22.0</td>\n",
       "      <td>-1.0</td>\n",
       "      <td>22</td>\n",
       "      <td>NaN</td>\n",
       "      <td>0</td>\n",
       "    </tr>\n",
       "  </tbody>\n",
       "</table>\n",
       "<p>1 rows × 137 columns</p>\n",
       "</div>"
      ],
      "text/plain": [
       "       MAGAID     MAGAuthorName  Record ID      MAGPID  RetractionYear  \\\n",
       "0  2127983451  william r jacobs       2343  1790891469          1997.0   \n",
       "\n",
       "   nRetracted  dateobject          JID  CSID              JournalName  ...  \\\n",
       "0           1  1994-07-01  133274750.0   NaN  journal of bacteriology  ...   \n",
       "\n",
       "  AltmetricScoreAtRetraction AltmetricScorePreRetraction  \\\n",
       "0                        0.0                         3.0   \n",
       "\n",
       "   AltmetricScorePostRetraction MAGFirstAffID  FirstAffRank  \\\n",
       "0                           6.0   204465549.0          22.0   \n",
       "\n",
       "   FirstAffRankCorrected  YearOfAttrition  MAGFirstAffiliationRank  \\\n",
       "0                   22.0             -1.0                       22   \n",
       "\n",
       "   RetractorMajority  Attrition  \n",
       "0                NaN          0  \n",
       "\n",
       "[1 rows x 137 columns]"
      ]
     },
     "execution_count": 7,
     "metadata": {},
     "output_type": "execute_result"
    }
   ],
   "source": [
    "# Computing Years Active \n",
    "df_main['YearsActive'] = df_main['YearOfAttrition']-df_main['RetractionYear']\n",
    "\n",
    "# When year of attrition == -1, we do not know the years active, so we won't plot them\n",
    "df_main.loc[df_main['YearOfAttrition'] == -1, 'YearsActive'] = np.nan\n",
    "\n",
    "df_main.head(1)"
   ]
  },
  {
   "cell_type": "code",
   "execution_count": 8,
   "id": "bd1ab92b",
   "metadata": {},
   "outputs": [
    {
     "data": {
      "text/plain": [
       "YearsActive\n",
       " NaN     9354\n",
       " 0.0     1516\n",
       "-1.0      884\n",
       "-2.0      426\n",
       " 1.0      352\n",
       "         ... \n",
       "-59.0       1\n",
       " 12.0       1\n",
       "-65.0       1\n",
       "-64.0       1\n",
       "-60.0       1\n",
       "Name: count, Length: 83, dtype: int64"
      ]
     },
     "execution_count": 8,
     "metadata": {},
     "output_type": "execute_result"
    }
   ],
   "source": [
    "# Checking number of NaNs\n",
    "df_main[['MAGAID','YearsActive']].drop_duplicates()['YearsActive'].value_counts(dropna=False)"
   ]
  },
  {
   "cell_type": "code",
   "execution_count": 9,
   "id": "ca5404a0",
   "metadata": {},
   "outputs": [
    {
     "data": {
      "text/plain": [
       "Attrition\n",
       " 0    10342\n",
       " 1     2400\n",
       "-1     1837\n",
       "Name: count, dtype: int64"
      ]
     },
     "execution_count": 9,
     "metadata": {},
     "output_type": "execute_result"
    }
   ],
   "source": [
    "# Checking how many attrited\n",
    "df_main[['MAGAID','Attrition']].drop_duplicates()['Attrition'].value_counts()"
   ]
  },
  {
   "cell_type": "code",
   "execution_count": 10,
   "id": "46027f71",
   "metadata": {},
   "outputs": [
    {
     "data": {
      "text/plain": [
       "Index(['MAGAID', 'MAGAuthorName', 'Record ID', 'MAGPID', 'RetractionYear',\n",
       "       'nRetracted', 'dateobject', 'JID', 'CSID', 'JournalName',\n",
       "       ...\n",
       "       'AltmetricScoreAtRetraction', 'AltmetricScorePreRetraction',\n",
       "       'AltmetricScorePostRetraction', 'MAGFirstAffID', 'FirstAffRank',\n",
       "       'FirstAffRankCorrected', 'YearOfAttrition', 'MAGFirstAffiliationRank',\n",
       "       'RetractorMajority', 'Attrition'],\n",
       "      dtype='object', length=137)"
      ]
     },
     "execution_count": 10,
     "metadata": {},
     "output_type": "execute_result"
    }
   ],
   "source": [
    "df_main.columns"
   ]
  },
  {
   "cell_type": "code",
   "execution_count": 12,
   "id": "7849776b",
   "metadata": {},
   "outputs": [
    {
     "data": {
      "text/plain": [
       "AttritionNew\n",
       " 0    10342\n",
       " 1     2400\n",
       "-1     1837\n",
       "Name: count, dtype: int64"
      ]
     },
     "execution_count": 12,
     "metadata": {},
     "output_type": "execute_result"
    }
   ],
   "source": [
    "# Renaming columns\n",
    "df_main = df_main.rename(columns={'RetractedPaperMAGPID':'MAGPID',\n",
    "                                 'FieldName':'MAGFieldName',\n",
    "                                 'AcademicAge': 'AcademicAgeAtRetraction',\n",
    "                                 'AffRank': 'MAGRetractionYearAffRank',\n",
    "                                 'NumAuthorsInRetractedPaperRW':'NumAuthorsInRetractedPaper',\n",
    "                                 'cumPapers':'MAGCumPapersAtRetraction',\n",
    "                                 'cumCitations':'MAGCumCitationsAtRetraction',\n",
    "                                 'cumCollaborators':'MAGCumCollaboratorsAtRetraction',\n",
    "                                 'SJR':'SJRScoreRetractedPaperYear',\n",
    "                                 'SJR Best Quartile':'SJRQuartileRetractedPaperYear'})\n",
    "\n",
    "# I did this as I did not want to replace and rewrite the code\n",
    "df_main['YearsActiveNew'] = df_main['YearsActive']\n",
    "# Same here..\n",
    "df_main['AttritionNew'] = df_main['Attrition']\n",
    "\n",
    "# Only extracting relevant columns\n",
    "relevant_columns = ['Record ID', 'MAGPID', 'MAGAID', 'MAGFieldName', \n",
    "                   'GenderizeGender', 'AcademicAgeAtRetraction', 'MAGRetractionYearAffRank',\n",
    "                   'ReasonPropagatedMajorityOfMajority', 'NumAuthorsInRetractedPaper', \n",
    "                   'MAGAuthorOrderCategorical', 'RetractionYear', 'DemiDecade',\n",
    "                   'MAGJournalType', 'MAGCumPapersAtRetraction', 'MAGCumCitationsAtRetraction',\n",
    "                   'MAGCumCollaboratorsAtRetraction', 'SJRQuartileRetractedPaperYear','SJRScoreRetractedPaperYear',\n",
    "                   'Attrition','AttritionNew', 'YearsActiveNew',\n",
    "                   'YearOfAttrition']\n",
    "\n",
    "df_relevant = df_main[relevant_columns].drop_duplicates()\n",
    "\n",
    "\n",
    "\n",
    "df_relevant_w_lastactivity = df_relevant\n",
    "\n",
    "# 0 means non-attrited, 1 means attrited, -1 means attrited due to something else\n",
    "df_relevant[['MAGAID','AttritionNew']].drop_duplicates()['AttritionNew'].value_counts() "
   ]
  },
  {
   "cell_type": "code",
   "execution_count": 13,
   "id": "2784871d",
   "metadata": {},
   "outputs": [
    {
     "data": {
      "text/html": [
       "<div>\n",
       "<style scoped>\n",
       "    .dataframe tbody tr th:only-of-type {\n",
       "        vertical-align: middle;\n",
       "    }\n",
       "\n",
       "    .dataframe tbody tr th {\n",
       "        vertical-align: top;\n",
       "    }\n",
       "\n",
       "    .dataframe thead th {\n",
       "        text-align: right;\n",
       "    }\n",
       "</style>\n",
       "<table border=\"1\" class=\"dataframe\">\n",
       "  <thead>\n",
       "    <tr style=\"text-align: right;\">\n",
       "      <th></th>\n",
       "      <th>Record ID</th>\n",
       "      <th>MAGPID</th>\n",
       "      <th>MAGAID</th>\n",
       "      <th>MAGFieldName</th>\n",
       "      <th>GenderizeGender</th>\n",
       "      <th>AcademicAgeAtRetraction</th>\n",
       "      <th>MAGRetractionYearAffRank</th>\n",
       "      <th>ReasonPropagatedMajorityOfMajority</th>\n",
       "      <th>NumAuthorsInRetractedPaper</th>\n",
       "      <th>MAGAuthorOrderCategorical</th>\n",
       "      <th>...</th>\n",
       "      <th>MAGJournalType</th>\n",
       "      <th>MAGCumPapersAtRetraction</th>\n",
       "      <th>MAGCumCitationsAtRetraction</th>\n",
       "      <th>MAGCumCollaboratorsAtRetraction</th>\n",
       "      <th>SJRQuartileRetractedPaperYear</th>\n",
       "      <th>SJRScoreRetractedPaperYear</th>\n",
       "      <th>Attrition</th>\n",
       "      <th>AttritionNew</th>\n",
       "      <th>YearsActiveNew</th>\n",
       "      <th>YearOfAttrition</th>\n",
       "    </tr>\n",
       "  </thead>\n",
       "  <tbody>\n",
       "    <tr>\n",
       "      <th>0</th>\n",
       "      <td>2343</td>\n",
       "      <td>1790891469</td>\n",
       "      <td>2127983451</td>\n",
       "      <td>biology</td>\n",
       "      <td>male</td>\n",
       "      <td>21.0</td>\n",
       "      <td>&gt;1000</td>\n",
       "      <td>mistake</td>\n",
       "      <td>5.0</td>\n",
       "      <td>First or Last or Only Author</td>\n",
       "      <td>...</td>\n",
       "      <td>journal</td>\n",
       "      <td>109</td>\n",
       "      <td>2441.0</td>\n",
       "      <td>266.0</td>\n",
       "      <td>NA</td>\n",
       "      <td>NaN</td>\n",
       "      <td>0</td>\n",
       "      <td>0</td>\n",
       "      <td>NaN</td>\n",
       "      <td>-1.0</td>\n",
       "    </tr>\n",
       "    <tr>\n",
       "      <th>1</th>\n",
       "      <td>2343</td>\n",
       "      <td>1790891469</td>\n",
       "      <td>2127983451</td>\n",
       "      <td>biology</td>\n",
       "      <td>male</td>\n",
       "      <td>21.0</td>\n",
       "      <td>101-500</td>\n",
       "      <td>mistake</td>\n",
       "      <td>5.0</td>\n",
       "      <td>First or Last or Only Author</td>\n",
       "      <td>...</td>\n",
       "      <td>journal</td>\n",
       "      <td>109</td>\n",
       "      <td>2441.0</td>\n",
       "      <td>266.0</td>\n",
       "      <td>NA</td>\n",
       "      <td>NaN</td>\n",
       "      <td>0</td>\n",
       "      <td>0</td>\n",
       "      <td>NaN</td>\n",
       "      <td>-1.0</td>\n",
       "    </tr>\n",
       "    <tr>\n",
       "      <th>3</th>\n",
       "      <td>2343</td>\n",
       "      <td>1790891469</td>\n",
       "      <td>2127983451</td>\n",
       "      <td>biology</td>\n",
       "      <td>male</td>\n",
       "      <td>21.0</td>\n",
       "      <td>1-100</td>\n",
       "      <td>mistake</td>\n",
       "      <td>5.0</td>\n",
       "      <td>First or Last or Only Author</td>\n",
       "      <td>...</td>\n",
       "      <td>journal</td>\n",
       "      <td>109</td>\n",
       "      <td>2441.0</td>\n",
       "      <td>266.0</td>\n",
       "      <td>NA</td>\n",
       "      <td>NaN</td>\n",
       "      <td>0</td>\n",
       "      <td>0</td>\n",
       "      <td>NaN</td>\n",
       "      <td>-1.0</td>\n",
       "    </tr>\n",
       "    <tr>\n",
       "      <th>5</th>\n",
       "      <td>3294</td>\n",
       "      <td>2339456987</td>\n",
       "      <td>1986180616</td>\n",
       "      <td>biology</td>\n",
       "      <td>male</td>\n",
       "      <td>17.0</td>\n",
       "      <td>&gt;1000</td>\n",
       "      <td>misconduct</td>\n",
       "      <td>5.0</td>\n",
       "      <td>First or Last or Only Author</td>\n",
       "      <td>...</td>\n",
       "      <td>journal</td>\n",
       "      <td>109</td>\n",
       "      <td>1478.0</td>\n",
       "      <td>246.0</td>\n",
       "      <td>NA</td>\n",
       "      <td>NaN</td>\n",
       "      <td>0</td>\n",
       "      <td>0</td>\n",
       "      <td>NaN</td>\n",
       "      <td>-1.0</td>\n",
       "    </tr>\n",
       "    <tr>\n",
       "      <th>6</th>\n",
       "      <td>3294</td>\n",
       "      <td>2339456987</td>\n",
       "      <td>1986180616</td>\n",
       "      <td>biology</td>\n",
       "      <td>male</td>\n",
       "      <td>17.0</td>\n",
       "      <td>101-500</td>\n",
       "      <td>misconduct</td>\n",
       "      <td>5.0</td>\n",
       "      <td>First or Last or Only Author</td>\n",
       "      <td>...</td>\n",
       "      <td>journal</td>\n",
       "      <td>109</td>\n",
       "      <td>1478.0</td>\n",
       "      <td>246.0</td>\n",
       "      <td>NA</td>\n",
       "      <td>NaN</td>\n",
       "      <td>0</td>\n",
       "      <td>0</td>\n",
       "      <td>NaN</td>\n",
       "      <td>-1.0</td>\n",
       "    </tr>\n",
       "    <tr>\n",
       "      <th>...</th>\n",
       "      <td>...</td>\n",
       "      <td>...</td>\n",
       "      <td>...</td>\n",
       "      <td>...</td>\n",
       "      <td>...</td>\n",
       "      <td>...</td>\n",
       "      <td>...</td>\n",
       "      <td>...</td>\n",
       "      <td>...</td>\n",
       "      <td>...</td>\n",
       "      <td>...</td>\n",
       "      <td>...</td>\n",
       "      <td>...</td>\n",
       "      <td>...</td>\n",
       "      <td>...</td>\n",
       "      <td>...</td>\n",
       "      <td>...</td>\n",
       "      <td>...</td>\n",
       "      <td>...</td>\n",
       "      <td>...</td>\n",
       "      <td>...</td>\n",
       "    </tr>\n",
       "    <tr>\n",
       "      <th>28857</th>\n",
       "      <td>4885</td>\n",
       "      <td>2078164144</td>\n",
       "      <td>1826158756</td>\n",
       "      <td>other STEM fields</td>\n",
       "      <td>male</td>\n",
       "      <td>3.0</td>\n",
       "      <td>&gt;1000</td>\n",
       "      <td>mistake</td>\n",
       "      <td>4.0</td>\n",
       "      <td>Middle Author</td>\n",
       "      <td>...</td>\n",
       "      <td>journal</td>\n",
       "      <td>2</td>\n",
       "      <td>9.0</td>\n",
       "      <td>4.0</td>\n",
       "      <td>Q1</td>\n",
       "      <td>0.785</td>\n",
       "      <td>1</td>\n",
       "      <td>1</td>\n",
       "      <td>-1.0</td>\n",
       "      <td>2012.0</td>\n",
       "    </tr>\n",
       "    <tr>\n",
       "      <th>28858</th>\n",
       "      <td>16929</td>\n",
       "      <td>1970421558</td>\n",
       "      <td>268272321</td>\n",
       "      <td>other STEM fields</td>\n",
       "      <td>male</td>\n",
       "      <td>0.0</td>\n",
       "      <td>101-500</td>\n",
       "      <td>misconduct</td>\n",
       "      <td>4.0</td>\n",
       "      <td>Middle Author</td>\n",
       "      <td>...</td>\n",
       "      <td>journal</td>\n",
       "      <td>1</td>\n",
       "      <td>1.0</td>\n",
       "      <td>3.0</td>\n",
       "      <td>NA</td>\n",
       "      <td>NaN</td>\n",
       "      <td>1</td>\n",
       "      <td>1</td>\n",
       "      <td>0.0</td>\n",
       "      <td>2012.0</td>\n",
       "    </tr>\n",
       "    <tr>\n",
       "      <th>28859</th>\n",
       "      <td>2071</td>\n",
       "      <td>2108644616</td>\n",
       "      <td>2768061868</td>\n",
       "      <td>other STEM fields</td>\n",
       "      <td>male</td>\n",
       "      <td>1.0</td>\n",
       "      <td>&gt;1000</td>\n",
       "      <td>misconduct</td>\n",
       "      <td>3.0</td>\n",
       "      <td>Middle Author</td>\n",
       "      <td>...</td>\n",
       "      <td>journal</td>\n",
       "      <td>1</td>\n",
       "      <td>1.0</td>\n",
       "      <td>2.0</td>\n",
       "      <td>Q1</td>\n",
       "      <td>1.772</td>\n",
       "      <td>0</td>\n",
       "      <td>0</td>\n",
       "      <td>NaN</td>\n",
       "      <td>-1.0</td>\n",
       "    </tr>\n",
       "    <tr>\n",
       "      <th>28860</th>\n",
       "      <td>8363</td>\n",
       "      <td>1420593637</td>\n",
       "      <td>2639980879</td>\n",
       "      <td>other STEM fields</td>\n",
       "      <td>male</td>\n",
       "      <td>1.0</td>\n",
       "      <td>&gt;1000</td>\n",
       "      <td>plagiarism</td>\n",
       "      <td>3.0</td>\n",
       "      <td>First or Last or Only Author</td>\n",
       "      <td>...</td>\n",
       "      <td>NaN</td>\n",
       "      <td>2</td>\n",
       "      <td>0.0</td>\n",
       "      <td>5.0</td>\n",
       "      <td>NA</td>\n",
       "      <td>NaN</td>\n",
       "      <td>1</td>\n",
       "      <td>1</td>\n",
       "      <td>0.0</td>\n",
       "      <td>2014.0</td>\n",
       "    </tr>\n",
       "    <tr>\n",
       "      <th>28861</th>\n",
       "      <td>4986</td>\n",
       "      <td>1993246470</td>\n",
       "      <td>2480409022</td>\n",
       "      <td>other STEM fields</td>\n",
       "      <td>male</td>\n",
       "      <td>1.0</td>\n",
       "      <td>&gt;1000</td>\n",
       "      <td>misconduct</td>\n",
       "      <td>2.0</td>\n",
       "      <td>First or Last or Only Author</td>\n",
       "      <td>...</td>\n",
       "      <td>journal</td>\n",
       "      <td>1</td>\n",
       "      <td>2.0</td>\n",
       "      <td>1.0</td>\n",
       "      <td>Q1</td>\n",
       "      <td>0.738</td>\n",
       "      <td>1</td>\n",
       "      <td>1</td>\n",
       "      <td>-1.0</td>\n",
       "      <td>2014.0</td>\n",
       "    </tr>\n",
       "  </tbody>\n",
       "</table>\n",
       "<p>25415 rows × 22 columns</p>\n",
       "</div>"
      ],
      "text/plain": [
       "       Record ID      MAGPID      MAGAID       MAGFieldName GenderizeGender  \\\n",
       "0           2343  1790891469  2127983451            biology            male   \n",
       "1           2343  1790891469  2127983451            biology            male   \n",
       "3           2343  1790891469  2127983451            biology            male   \n",
       "5           3294  2339456987  1986180616            biology            male   \n",
       "6           3294  2339456987  1986180616            biology            male   \n",
       "...          ...         ...         ...                ...             ...   \n",
       "28857       4885  2078164144  1826158756  other STEM fields            male   \n",
       "28858      16929  1970421558   268272321  other STEM fields            male   \n",
       "28859       2071  2108644616  2768061868  other STEM fields            male   \n",
       "28860       8363  1420593637  2639980879  other STEM fields            male   \n",
       "28861       4986  1993246470  2480409022  other STEM fields            male   \n",
       "\n",
       "       AcademicAgeAtRetraction MAGRetractionYearAffRank  \\\n",
       "0                         21.0                    >1000   \n",
       "1                         21.0                  101-500   \n",
       "3                         21.0                    1-100   \n",
       "5                         17.0                    >1000   \n",
       "6                         17.0                  101-500   \n",
       "...                        ...                      ...   \n",
       "28857                      3.0                    >1000   \n",
       "28858                      0.0                  101-500   \n",
       "28859                      1.0                    >1000   \n",
       "28860                      1.0                    >1000   \n",
       "28861                      1.0                    >1000   \n",
       "\n",
       "      ReasonPropagatedMajorityOfMajority  NumAuthorsInRetractedPaper  \\\n",
       "0                                mistake                         5.0   \n",
       "1                                mistake                         5.0   \n",
       "3                                mistake                         5.0   \n",
       "5                             misconduct                         5.0   \n",
       "6                             misconduct                         5.0   \n",
       "...                                  ...                         ...   \n",
       "28857                            mistake                         4.0   \n",
       "28858                         misconduct                         4.0   \n",
       "28859                         misconduct                         3.0   \n",
       "28860                         plagiarism                         3.0   \n",
       "28861                         misconduct                         2.0   \n",
       "\n",
       "          MAGAuthorOrderCategorical  ...  MAGJournalType  \\\n",
       "0      First or Last or Only Author  ...         journal   \n",
       "1      First or Last or Only Author  ...         journal   \n",
       "3      First or Last or Only Author  ...         journal   \n",
       "5      First or Last or Only Author  ...         journal   \n",
       "6      First or Last or Only Author  ...         journal   \n",
       "...                             ...  ...             ...   \n",
       "28857                 Middle Author  ...         journal   \n",
       "28858                 Middle Author  ...         journal   \n",
       "28859                 Middle Author  ...         journal   \n",
       "28860  First or Last or Only Author  ...             NaN   \n",
       "28861  First or Last or Only Author  ...         journal   \n",
       "\n",
       "      MAGCumPapersAtRetraction MAGCumCitationsAtRetraction  \\\n",
       "0                          109                      2441.0   \n",
       "1                          109                      2441.0   \n",
       "3                          109                      2441.0   \n",
       "5                          109                      1478.0   \n",
       "6                          109                      1478.0   \n",
       "...                        ...                         ...   \n",
       "28857                        2                         9.0   \n",
       "28858                        1                         1.0   \n",
       "28859                        1                         1.0   \n",
       "28860                        2                         0.0   \n",
       "28861                        1                         2.0   \n",
       "\n",
       "       MAGCumCollaboratorsAtRetraction  SJRQuartileRetractedPaperYear  \\\n",
       "0                                266.0                             NA   \n",
       "1                                266.0                             NA   \n",
       "3                                266.0                             NA   \n",
       "5                                246.0                             NA   \n",
       "6                                246.0                             NA   \n",
       "...                                ...                            ...   \n",
       "28857                              4.0                             Q1   \n",
       "28858                              3.0                             NA   \n",
       "28859                              2.0                             Q1   \n",
       "28860                              5.0                             NA   \n",
       "28861                              1.0                             Q1   \n",
       "\n",
       "       SJRScoreRetractedPaperYear Attrition  AttritionNew  YearsActiveNew  \\\n",
       "0                             NaN         0             0             NaN   \n",
       "1                             NaN         0             0             NaN   \n",
       "3                             NaN         0             0             NaN   \n",
       "5                             NaN         0             0             NaN   \n",
       "6                             NaN         0             0             NaN   \n",
       "...                           ...       ...           ...             ...   \n",
       "28857                       0.785         1             1            -1.0   \n",
       "28858                         NaN         1             1             0.0   \n",
       "28859                       1.772         0             0             NaN   \n",
       "28860                         NaN         1             1             0.0   \n",
       "28861                       0.738         1             1            -1.0   \n",
       "\n",
       "       YearOfAttrition  \n",
       "0                 -1.0  \n",
       "1                 -1.0  \n",
       "3                 -1.0  \n",
       "5                 -1.0  \n",
       "6                 -1.0  \n",
       "...                ...  \n",
       "28857           2012.0  \n",
       "28858           2012.0  \n",
       "28859             -1.0  \n",
       "28860           2014.0  \n",
       "28861           2014.0  \n",
       "\n",
       "[25415 rows x 22 columns]"
      ]
     },
     "execution_count": 13,
     "metadata": {},
     "output_type": "execute_result"
    }
   ],
   "source": [
    "# Some Pre-processing\n",
    "\n",
    "# Processing fields so that we only plot those with >= 5 % population\n",
    "\n",
    "# Classifying fields with < 5% as other stem and non-stem\n",
    "other_stem_fields = ['materials science', 'computer science',\n",
    "                'engineering', 'mathematics', 'psychology',\n",
    "                'economics', 'environmental science', 'geography','sociology',\n",
    "                'political science', 'geology']\n",
    "\n",
    "\n",
    "non_stem_fields = ['philosophy','business',\n",
    "                  'history','art']\n",
    "\n",
    "df_relevant_w_lastactivity['MAGFieldName'] = df_relevant_w_lastactivity['MAGFieldName']\\\n",
    "                                                   .replace(dict.fromkeys(other_stem_fields, 'other STEM fields'))\\\n",
    "                                                    .replace(dict.fromkeys(non_stem_fields,'non-STEM fields'))\n",
    "\n",
    "\n",
    "# Preprocessing affiliation ranks\n",
    "df_relevant_w_lastactivity['MAGRetractionYearAffRank'] = df_relevant_w_lastactivity['MAGRetractionYearAffRank']\\\n",
    "                                                .replace([str(rank) for rank in range(101)], '1-100')\\\n",
    "                                                .replace(['101-150','151-200','201-300','301-400','401-500'], \n",
    "                                                         '101-500')\\\n",
    "                                                .replace(['501-600','601-700','701-800','801-900','901-1000'], \n",
    "                                                         '501-1000')\\\n",
    "                                                .replace('1001-', '>1000')\n",
    "\n",
    "# Preprocessing Journal Quartile\n",
    "df_relevant_w_lastactivity['SJRQuartileRetractedPaperYear'] = df_relevant_w_lastactivity['SJRQuartileRetractedPaperYear']\\\n",
    "                                        .replace({1.0:'Q1',\n",
    "                                                 2.0:'Q2',\n",
    "                                                 3.0:'Q3',\n",
    "                                                 4.0:'Q4'})\\\n",
    "                                        .fillna('NA')\n",
    "\n",
    "\n",
    "df_attrited = df_relevant_w_lastactivity[df_relevant_w_lastactivity['AttritionNew'] == 1]\n",
    "\n",
    "df_nonattrited = df_relevant_w_lastactivity[df_relevant_w_lastactivity['AttritionNew'] == 0]\n",
    "\n",
    "\n",
    "df_relevant_w_lastactivity\n"
   ]
  },
  {
   "cell_type": "code",
   "execution_count": 14,
   "id": "6904cdfc",
   "metadata": {},
   "outputs": [
    {
     "data": {
      "text/plain": [
       "5225"
      ]
     },
     "execution_count": 14,
     "metadata": {},
     "output_type": "execute_result"
    }
   ],
   "source": [
    "df_relevant_w_lastactivity[~df_relevant_w_lastactivity.YearsActiveNew.isna()].MAGAID.nunique()"
   ]
  },
  {
   "cell_type": "code",
   "execution_count": 15,
   "id": "ff48433b",
   "metadata": {},
   "outputs": [
    {
     "data": {
      "text/plain": [
       "9354"
      ]
     },
     "execution_count": 15,
     "metadata": {},
     "output_type": "execute_result"
    }
   ],
   "source": [
    "df_relevant_w_lastactivity[df_relevant_w_lastactivity.YearsActiveNew.isna()].MAGAID.nunique()"
   ]
  },
  {
   "cell_type": "code",
   "execution_count": 16,
   "id": "3c49525e",
   "metadata": {},
   "outputs": [
    {
     "data": {
      "text/plain": [
       "2400"
      ]
     },
     "execution_count": 16,
     "metadata": {},
     "output_type": "execute_result"
    }
   ],
   "source": [
    "df_attrited.MAGAID.nunique()"
   ]
  },
  {
   "cell_type": "code",
   "execution_count": 17,
   "id": "c466d1b9",
   "metadata": {},
   "outputs": [
    {
     "data": {
      "text/plain": [
       "10342"
      ]
     },
     "execution_count": 17,
     "metadata": {},
     "output_type": "execute_result"
    }
   ],
   "source": [
    "df_nonattrited.MAGAID.nunique()"
   ]
  },
  {
   "cell_type": "code",
   "execution_count": 18,
   "id": "38fcf07a",
   "metadata": {},
   "outputs": [
    {
     "data": {
      "text/plain": [
       "count    2400.000000\n",
       "mean       43.695417\n",
       "std       203.497055\n",
       "min         0.000000\n",
       "25%         0.000000\n",
       "50%         2.000000\n",
       "75%        16.000000\n",
       "max      4769.000000\n",
       "Name: MAGCumCitationsAtRetraction, dtype: float64"
      ]
     },
     "execution_count": 18,
     "metadata": {},
     "output_type": "execute_result"
    }
   ],
   "source": [
    "df_attrited[['MAGAID','MAGCumCitationsAtRetraction']].drop_duplicates()['MAGCumCitationsAtRetraction'].describe()"
   ]
  },
  {
   "cell_type": "code",
   "execution_count": 19,
   "id": "48c56ee1",
   "metadata": {},
   "outputs": [
    {
     "data": {
      "text/plain": [
       "count    10342.000000\n",
       "mean      1180.049023\n",
       "std       3094.166664\n",
       "min          0.000000\n",
       "25%         31.000000\n",
       "50%        210.000000\n",
       "75%        955.750000\n",
       "max      66877.000000\n",
       "Name: MAGCumCitationsAtRetraction, dtype: float64"
      ]
     },
     "execution_count": 19,
     "metadata": {},
     "output_type": "execute_result"
    }
   ],
   "source": [
    "df_nonattrited[['MAGAID','MAGCumCitationsAtRetraction']].drop_duplicates()['MAGCumCitationsAtRetraction'].describe()"
   ]
  },
  {
   "cell_type": "code",
   "execution_count": 20,
   "id": "584a1bce",
   "metadata": {},
   "outputs": [
    {
     "data": {
      "text/plain": [
       "count    2400.000000\n",
       "mean        4.756250\n",
       "std        11.107426\n",
       "min         1.000000\n",
       "25%         1.000000\n",
       "50%         2.000000\n",
       "75%         4.000000\n",
       "max       218.000000\n",
       "Name: MAGCumPapersAtRetraction, dtype: float64"
      ]
     },
     "execution_count": 20,
     "metadata": {},
     "output_type": "execute_result"
    }
   ],
   "source": [
    "df_attrited[['MAGAID','MAGCumPapersAtRetraction']].drop_duplicates()['MAGCumPapersAtRetraction'].describe()"
   ]
  },
  {
   "cell_type": "code",
   "execution_count": 21,
   "id": "295c194e",
   "metadata": {},
   "outputs": [
    {
     "data": {
      "text/plain": [
       "count    10342.000000\n",
       "mean        69.285245\n",
       "std        111.715943\n",
       "min          1.000000\n",
       "25%         10.000000\n",
       "50%         30.000000\n",
       "75%         79.000000\n",
       "max       1518.000000\n",
       "Name: MAGCumPapersAtRetraction, dtype: float64"
      ]
     },
     "execution_count": 21,
     "metadata": {},
     "output_type": "execute_result"
    }
   ],
   "source": [
    "df_nonattrited[['MAGAID','MAGCumPapersAtRetraction']].drop_duplicates()['MAGCumPapersAtRetraction'].describe()"
   ]
  },
  {
   "cell_type": "code",
   "execution_count": 22,
   "id": "e79ba8b8",
   "metadata": {},
   "outputs": [
    {
     "data": {
      "text/plain": [
       "count    2400.000000\n",
       "mean       13.633333\n",
       "std        40.423876\n",
       "min         0.000000\n",
       "25%         3.000000\n",
       "50%         6.000000\n",
       "75%        12.250000\n",
       "max      1158.000000\n",
       "Name: MAGCumCollaboratorsAtRetraction, dtype: float64"
      ]
     },
     "execution_count": 22,
     "metadata": {},
     "output_type": "execute_result"
    }
   ],
   "source": [
    "df_attrited[['MAGAID','MAGCumCollaboratorsAtRetraction']].drop_duplicates()['MAGCumCollaboratorsAtRetraction'].describe()"
   ]
  },
  {
   "cell_type": "code",
   "execution_count": 23,
   "id": "9ea8c08d",
   "metadata": {},
   "outputs": [
    {
     "data": {
      "text/plain": [
       "count    10342.000000\n",
       "mean       197.564881\n",
       "std        605.611923\n",
       "min          0.000000\n",
       "25%         23.000000\n",
       "50%         65.000000\n",
       "75%        177.000000\n",
       "max      20543.000000\n",
       "Name: MAGCumCollaboratorsAtRetraction, dtype: float64"
      ]
     },
     "execution_count": 23,
     "metadata": {},
     "output_type": "execute_result"
    }
   ],
   "source": [
    "df_nonattrited[['MAGAID','MAGCumCollaboratorsAtRetraction']].drop_duplicates()['MAGCumCollaboratorsAtRetraction'].describe()\n",
    "\n"
   ]
  },
  {
   "cell_type": "code",
   "execution_count": 24,
   "id": "c2726fc9",
   "metadata": {},
   "outputs": [
    {
     "data": {
      "text/plain": [
       "1837"
      ]
     },
     "execution_count": 24,
     "metadata": {},
     "output_type": "execute_result"
    }
   ],
   "source": [
    "df_main[df_main['AttritedClass'].eq(-1)]['MAGAID'].nunique()"
   ]
  },
  {
   "cell_type": "code",
   "execution_count": 25,
   "id": "bb697143",
   "metadata": {},
   "outputs": [
    {
     "data": {
      "text/plain": [
       "YearsActiveNew\n",
       " 0.0    3412\n",
       "-1.0    2071\n",
       "Name: count, dtype: int64"
      ]
     },
     "execution_count": 25,
     "metadata": {},
     "output_type": "execute_result"
    }
   ],
   "source": [
    "df_attrited['YearsActiveNew'].value_counts()"
   ]
  },
  {
   "cell_type": "code",
   "execution_count": 26,
   "id": "ef97bf3d",
   "metadata": {},
   "outputs": [
    {
     "data": {
      "text/plain": [
       "14579"
      ]
     },
     "execution_count": 26,
     "metadata": {},
     "output_type": "execute_result"
    }
   ],
   "source": [
    "df_main['MAGAID'].nunique()"
   ]
  },
  {
   "cell_type": "markdown",
   "id": "e24eb507",
   "metadata": {},
   "source": [
    "# Author related features"
   ]
  },
  {
   "cell_type": "markdown",
   "id": "974d3539",
   "metadata": {},
   "source": [
    "## Distribution of authors' last activity"
   ]
  },
  {
   "cell_type": "code",
   "execution_count": 41,
   "id": "c01e17f1",
   "metadata": {},
   "outputs": [],
   "source": [
    "# Code for creating the bar plot\n",
    "\n",
    "def create_attrition_barplot(axesi, ticksize, labelsize, attrited_color,\n",
    "                        nonattrited_color, other_color):\n",
    "    \n",
    "    # Only extracting relevant dataframe\n",
    "    \n",
    "    # Computing the groups\n",
    "    df_grouped_values_treatment = df_relevant_w_lastactivity[['MAGAID','YearsActiveNew']]\\\n",
    "                .drop_duplicates()\\\n",
    "                .groupby('YearsActiveNew')['MAGAID'].nunique().reset_index()\n",
    "    \n",
    "    # Computing number of authors in our set\n",
    "    num_authors = df_relevant_w_lastactivity[~df_relevant_w_lastactivity.YearsActiveNew.isna()]\\\n",
    "                            .MAGAID.nunique()\n",
    "    \n",
    "    # Getting Percentage of retracted scientists\n",
    "    df_grouped_values_treatment['Percentage of Retracted Scientists'] = \\\n",
    "        round(df_grouped_values_treatment['MAGAID']*100.0/num_authors,10)\n",
    "    \n",
    "    print(\"Percentage outside of range\",df_grouped_values_treatment[df_grouped_values_treatment['YearsActiveNew'].lt(-10)\n",
    "                                     | df_grouped_values_treatment['YearsActiveNew'].gt(10)]\n",
    "         ['Percentage of Retracted Scientists'].sum())\n",
    "    \n",
    "    # Filtering to only include authors within certain years range\n",
    "    df_grouped_values_treatment = df_grouped_values_treatment[\\\n",
    "                                df_grouped_values_treatment['Percentage of Retracted Scientists'].gt(0) & \n",
    "                                df_grouped_values_treatment['YearsActiveNew'].ge(-10) & \n",
    "                                df_grouped_values_treatment['YearsActiveNew'].le(10)]\n",
    "    \n",
    "    df_grouped_values_treatment['YearsActiveNew'] = df_grouped_values_treatment['YearsActiveNew'].astype(int)\n",
    "\n",
    "    # Setting colors for bars\n",
    "    \n",
    "    colors = [other_color if (x < -1) else (nonattrited_color if (x > 0) else attrited_color) \\\n",
    "                  for x in df_grouped_values_treatment['YearsActiveNew'].tolist()]\n",
    "\n",
    "\n",
    "    barplot_treatment = sns.barplot(data=df_grouped_values_treatment, ax=axesi,\n",
    "                            x='YearsActiveNew', y=\"Percentage of Retracted Scientists\", palette=colors,\n",
    "                                   saturation=1)\n",
    "\n",
    "    barplot_treatment.tick_params(labelsize=ticksize)\n",
    "\n",
    "    for item in barplot_treatment.get_xticklabels():\n",
    "        item.set_rotation(60)\n",
    "\n",
    "    for patch in barplot_treatment.patches:\n",
    "        \n",
    "        value = patch.get_height()\n",
    "        if(value >= 1.5):\n",
    "            barplot_treatment.annotate(format(value, '.1f'), \n",
    "                           (patch.get_x() + patch.get_width() / 2., patch.get_height()+1), \n",
    "                           ha = 'center', va = 'center', fontsize=labelsize, weight='regular',\n",
    "                           xytext = (0, 9), \n",
    "                           textcoords = 'offset points')\n",
    "\n",
    "    barplot_treatment.set_xlabel('year of last publication since retraction (year 0)', \n",
    "                          fontsize=labelsize)\n",
    "\n",
    "    barplot_treatment.set_ylabel('% of retracted \\nauthors who left', fontsize=labelsize)\n",
    "    \n",
    "    barplot_treatment.axvline(10, ymax=0.80, color='black', lw=2, linestyle='--')\n",
    "    \n",
    "    barplot_treatment.set_ylim(0,35)\n",
    "    \n",
    "    sns.despine()"
   ]
  },
  {
   "cell_type": "code",
   "execution_count": 42,
   "id": "f99d06a0",
   "metadata": {},
   "outputs": [
    {
     "name": "stdout",
     "output_type": "stream",
     "text": [
      "Percentage outside of range 11.081339713000002\n"
     ]
    },
    {
     "data": {
      "image/png": "[encoded data removed]",
      "text/plain": [
       "<Figure size 597.6x122.4 with 1 Axes>"
      ]
     },
     "metadata": {
      "needs_background": "light"
     },
     "output_type": "display_data"
    }
   ],
   "source": [
    "import matplotlib.patches as patches\n",
    "\n",
    "attrited_color = '#8EA7E9'#'#FFD93D'\n",
    "nonattrited_color = \"#fb7285\"\n",
    "other_color = 'gray'\n",
    "\n",
    "plt.rcParams[\"figure.figsize\"] = (8.3,1.7)\n",
    "\n",
    "fig, axesi = plt.subplots()\n",
    "\n",
    "ticksize = 8\n",
    "labelsize = 9\n",
    "\n",
    "create_attrition_barplot(axesi, ticksize, labelsize, attrited_color,\n",
    "                        nonattrited_color, other_color)\n",
    "\n",
    "# Create a custom legend with two squares\n",
    "blue_square = plt.Line2D([], [], color=attrited_color, marker='s', markersize=10, label='left publishing at time of retraction')\n",
    "red_square = plt.Line2D([], [], color=nonattrited_color, marker='s', markersize=10, label='did not leave publishing at time of retraction')\n",
    "\n",
    "rect = Rectangle((0, 0), 1, 1.1, transform=fig.transFigure, fill=False, edgecolor='black')\n",
    "\n",
    "fig.patches.append(rect)\n",
    "\n",
    "\n",
    "legend_handles = [patches.Rectangle((0,0),1,1, color=attrited_color),\n",
    "                  patches.Rectangle((0,0),1,1, color=nonattrited_color)]\n",
    "\n",
    "legend_labels = ['left publishing at time of retraction', 'did not leave publishing at time of retraction']\n",
    "\n",
    "fig.legend(handles=legend_handles, labels=legend_labels, loc='upper center', ncol=2,\n",
    "          bbox_to_anchor=(0.55, 1.3), frameon=False)\n",
    "\n",
    "plt.tight_layout()\n",
    "\n",
    "plt.savefig('attrition_barplot_postNHB.pdf',format='pdf', bbox_inches='tight')\n"
   ]
  },
  {
   "cell_type": "code",
   "execution_count": 43,
   "id": "f4da884c",
   "metadata": {},
   "outputs": [
    {
     "data": {
      "text/plain": [
       "10342"
      ]
     },
     "execution_count": 43,
     "metadata": {},
     "output_type": "execute_result"
    }
   ],
   "source": [
    "df_nonattrited['MAGAID'].nunique()"
   ]
  },
  {
   "cell_type": "code",
   "execution_count": 44,
   "id": "b83b1bde",
   "metadata": {},
   "outputs": [
    {
     "data": {
      "text/plain": [
       "2400"
      ]
     },
     "execution_count": 44,
     "metadata": {},
     "output_type": "execute_result"
    }
   ],
   "source": [
    "df_attrited['MAGAID'].nunique()"
   ]
  },
  {
   "cell_type": "markdown",
   "id": "fbe84ac8",
   "metadata": {},
   "source": [
    "## Distribution of authors' disciplines"
   ]
  },
  {
   "cell_type": "code",
   "execution_count": 29,
   "id": "feed75c6",
   "metadata": {},
   "outputs": [],
   "source": [
    "def create_discipline_plot(axesi, barwidth, ticksize, labelsize, \n",
    "                           attrited_color, nonattrited_color, other_color):\n",
    "    \n",
    "    \n",
    "    field_of_interest = 'MAGFieldName'\n",
    "    # Extracting number of authors and their percentage in each discipline\n",
    "    # For attrited\n",
    "    num_authors_discipline_attrited = df_attrited[['MAGAID','MAGFieldName']]\\\n",
    "                                    .drop_duplicates().shape[0]\n",
    "\n",
    "    df_attrited_discipline_percent = (df_attrited[['MAGAID','MAGFieldName']]\\\n",
    "        .drop_duplicates().MAGFieldName.value_counts()*100/num_authors_discipline_attrited)\\\n",
    "        .reset_index().rename(columns={'index':'MAGFieldName','count':'Percentage'})\n",
    "    # For nonattrited\n",
    "    num_authors_discipline_nonattrited = df_nonattrited[['MAGAID','MAGFieldName']]\\\n",
    "                                    .drop_duplicates().shape[0]\n",
    "    \n",
    "    df_nonattrited_discipline_percent = (df_nonattrited[['MAGAID','MAGFieldName']]\\\n",
    "            .drop_duplicates().MAGFieldName.value_counts()*100/num_authors_discipline_nonattrited)\\\n",
    "            .reset_index().rename(columns={'index':'MAGFieldName','count':'Percentage'})\n",
    "    \n",
    "    \n",
    "    # Creating an order\n",
    "    elements = ['biology','chemistry','medicine','physics', 'other STEM fields', 'non-STEM fields']\n",
    "    #elements = df_attrited['MAGFieldName'].unique().tolist()\n",
    "    mapping = {elem: i for i, elem in enumerate(elements)}\n",
    "    key_attrited = df_attrited_discipline_percent[field_of_interest].map(mapping)\n",
    "    key_nonattrited = df_nonattrited_discipline_percent[field_of_interest].map(mapping)\n",
    "    \n",
    "    df_attrited_discipline_percent = df_attrited_discipline_percent.iloc[key_attrited.argsort()]\n",
    "    df_nonattrited_discipline_percent = df_nonattrited_discipline_percent.iloc[key_nonattrited.argsort()]\n",
    "    \n",
    "    print(df_attrited_discipline_percent)\n",
    "    \n",
    "    # set the position of the bars on the x-axis\n",
    "    # For attrited\n",
    "    r1 = np.arange(df_nonattrited_discipline_percent.MAGFieldName.nunique())\n",
    "    # For non attrited\n",
    "    r2 = [x + barwidth for x in r1]\n",
    "    \n",
    "    # plotting the bars\n",
    "    # for attrited\n",
    "    rects1 = axesi.barh(r1, df_attrited_discipline_percent['Percentage'], \n",
    "                     height=barwidth, color = attrited_color, \n",
    "                     )\n",
    "\n",
    "    rects2 = axesi.barh(r2, df_nonattrited_discipline_percent['Percentage'], \n",
    "                     height=barwidth, color = nonattrited_color, \n",
    "                     )\n",
    "    \n",
    "    def add_annotations():\n",
    "        # Set up variables for the annotations\n",
    "        precision = 1  # number of decimal places for the annotations\n",
    "        offset = 3  # distance of the annotation from the bar\n",
    "\n",
    "        # Add annotations to the first set of bars\n",
    "        for rect in rects1:\n",
    "            width = rect.get_width()\n",
    "            text = f\"{width:.{precision}f}\"\n",
    "            x = width + offset\n",
    "            y = rect.get_y() + rect.get_height() / 2\n",
    "            axesi.text(x, y, text, ha='left', va='center', fontsize=ticksize)\n",
    "\n",
    "        # Add annotations to the second set of bars\n",
    "        for rect in rects2:\n",
    "            width = rect.get_width()\n",
    "            text = f\"{width:.{precision}f}\"\n",
    "            x = width + offset\n",
    "            y = rect.get_y() + rect.get_height() / 2\n",
    "            axesi.text(x, y, text, ha='left', va='center', fontsize=ticksize)\n",
    "            \n",
    "    add_annotations()\n",
    "    \n",
    "    # Add some text for labels, title and custom x-axis tick labels, etc.\n",
    "    axesi.set_ylabel('discipline', fontsize=labelsize)\n",
    "    axesi.set_xlabel('% authors', fontsize=labelsize)\n",
    "\n",
    "    #axesi.set_title('Impact for the last 5 years (2015-2019)', fontsize=20, pad=15)\n",
    "\n",
    "    #ax.set_xticks(x, labels)\n",
    "    # ax.legend()\n",
    "    axesi.set_facecolor('white')\n",
    "\n",
    "    yticks = [(yi+yj)/2 for (yi,yj) in zip(r1,r2)]\n",
    "\n",
    "    axesi.set_yticks(yticks)\n",
    "    \n",
    "    axesi.set_xticks([0,15,30,45])\n",
    "    \n",
    "    axesi.tick_params(labelsize=ticksize)\n",
    "    \n",
    "    axesi.set_yticklabels(elements)\n",
    "\n",
    "    #axesi.set_yticklabels(['biology','chemistry','medicine','physics', 'other STEM\\n fields', 'non-STEM\\n fields'])\n",
    "    \n",
    "    axesi.spines[['right', 'top', 'left']].set_visible(False)\n",
    "\n",
    "    axesi.invert_yaxis()\n",
    "    \n",
    "    plt.tight_layout()"
   ]
  },
  {
   "cell_type": "code",
   "execution_count": 30,
   "id": "743ea133",
   "metadata": {},
   "outputs": [
    {
     "name": "stdout",
     "output_type": "stream",
     "text": [
      "        MAGFieldName  Percentage\n",
      "0            biology   28.965517\n",
      "2          chemistry   20.041797\n",
      "1           medicine   22.528736\n",
      "4            physics    8.213166\n",
      "3  other STEM fields   18.307210\n",
      "5    non-STEM fields    1.943574\n"
     ]
    },
    {
     "data": {
      "image/png": "[encoded data removed]",
      "text/plain": [
       "<Figure size 360x720 with 1 Axes>"
      ]
     },
     "metadata": {
      "needs_background": "light"
     },
     "output_type": "display_data"
    }
   ],
   "source": [
    "attrited_color = '#8EA7E9'#'#FFD93D'\n",
    "nonattrited_color = \"#fb7285\"\n",
    "other_color = 'gray'\n",
    "\n",
    "plt.rcParams[\"figure.figsize\"] = (5,10)\n",
    "\n",
    "fig, axesi = plt.subplots()\n",
    "\n",
    "ticksize = 8\n",
    "labelsize = 9\n",
    "\n",
    "barwidth = 0.35\n",
    "\n",
    "create_discipline_plot(axesi, barwidth, ticksize, labelsize,\n",
    "                       attrited_color, nonattrited_color, other_color)"
   ]
  },
  {
   "cell_type": "code",
   "execution_count": 31,
   "id": "636d6fc1",
   "metadata": {},
   "outputs": [
    {
     "data": {
      "text/html": [
       "<div>\n",
       "<style scoped>\n",
       "    .dataframe tbody tr th:only-of-type {\n",
       "        vertical-align: middle;\n",
       "    }\n",
       "\n",
       "    .dataframe tbody tr th {\n",
       "        vertical-align: top;\n",
       "    }\n",
       "\n",
       "    .dataframe thead th {\n",
       "        text-align: right;\n",
       "    }\n",
       "</style>\n",
       "<table border=\"1\" class=\"dataframe\">\n",
       "  <thead>\n",
       "    <tr style=\"text-align: right;\">\n",
       "      <th></th>\n",
       "      <th>Percentage</th>\n",
       "      <th>count</th>\n",
       "    </tr>\n",
       "  </thead>\n",
       "  <tbody>\n",
       "    <tr>\n",
       "      <th>0</th>\n",
       "      <td>biology</td>\n",
       "      <td>35.251353</td>\n",
       "    </tr>\n",
       "    <tr>\n",
       "      <th>1</th>\n",
       "      <td>medicine</td>\n",
       "      <td>27.902390</td>\n",
       "    </tr>\n",
       "    <tr>\n",
       "      <th>2</th>\n",
       "      <td>chemistry</td>\n",
       "      <td>16.298467</td>\n",
       "    </tr>\n",
       "    <tr>\n",
       "      <th>3</th>\n",
       "      <td>other STEM fields</td>\n",
       "      <td>12.781785</td>\n",
       "    </tr>\n",
       "    <tr>\n",
       "      <th>4</th>\n",
       "      <td>physics</td>\n",
       "      <td>6.807935</td>\n",
       "    </tr>\n",
       "    <tr>\n",
       "      <th>5</th>\n",
       "      <td>non-STEM fields</td>\n",
       "      <td>0.958070</td>\n",
       "    </tr>\n",
       "  </tbody>\n",
       "</table>\n",
       "</div>"
      ],
      "text/plain": [
       "          Percentage      count\n",
       "0            biology  35.251353\n",
       "1           medicine  27.902390\n",
       "2          chemistry  16.298467\n",
       "3  other STEM fields  12.781785\n",
       "4            physics   6.807935\n",
       "5    non-STEM fields   0.958070"
      ]
     },
     "execution_count": 31,
     "metadata": {},
     "output_type": "execute_result"
    }
   ],
   "source": [
    "df_concatenated = pd.concat([df_attrited, df_nonattrited])\n",
    "\n",
    "num_authors_discipline_concatenated = df_concatenated[['MAGAID','MAGFieldName']]\\\n",
    "                                    .drop_duplicates().shape[0]\n",
    "\n",
    "(df_concatenated[['MAGAID','MAGFieldName']]\\\n",
    "            .drop_duplicates().MAGFieldName.value_counts()*100/num_authors_discipline_concatenated)\\\n",
    "            .reset_index().rename(columns={'index':'MAGFieldName','MAGFieldName':'Percentage'})"
   ]
  },
  {
   "cell_type": "markdown",
   "id": "9bddc891",
   "metadata": {},
   "source": [
    "## Distribution of authors' gender"
   ]
  },
  {
   "cell_type": "code",
   "execution_count": 32,
   "id": "c1356c9d",
   "metadata": {},
   "outputs": [],
   "source": [
    "def create_gender_plot(axesi, barwidth, ticksize, labelsize, \n",
    "                           attrited_color, nonattrited_color, other_color):\n",
    "    \n",
    "    field_of_interest = 'GenderizeGender'\n",
    "    \n",
    "    # Extracting number of authors and their percentage in each gender\n",
    "    # For attrited\n",
    "    num_authors_attrited = df_attrited[['MAGAID',field_of_interest]]\\\n",
    "                                    .drop_duplicates().shape[0]\n",
    "\n",
    "    df_attrited_percent = (df_attrited[['MAGAID',field_of_interest]]\\\n",
    "        .drop_duplicates()[field_of_interest].value_counts()*100/num_authors_attrited)\\\n",
    "        .reset_index().rename(columns={'index':field_of_interest,'count':'Percentage'})\n",
    "    # For nonattrited\n",
    "    num_authors_nonattrited = df_nonattrited[['MAGAID',field_of_interest]]\\\n",
    "                                    .drop_duplicates().shape[0]\n",
    "    \n",
    "    df_nonattrited_percent = (df_nonattrited[['MAGAID',field_of_interest]]\\\n",
    "            .drop_duplicates()[field_of_interest].value_counts()*100/num_authors_nonattrited)\\\n",
    "            .reset_index().rename(columns={'index':field_of_interest,'count':'Percentage'})\n",
    "    \n",
    "    # set the position of the bars on the x-axis\n",
    "    # For attrited\n",
    "    r1 = np.arange(df_nonattrited_percent[field_of_interest].nunique())\n",
    "    # For non attrited\n",
    "    r2 = [x + barwidth for x in r1]\n",
    "    \n",
    "    # plotting the bars\n",
    "    # for attrited\n",
    "    rects1 = axesi.barh(r1, df_attrited_percent['Percentage'], \n",
    "                     height=barwidth, color = attrited_color, \n",
    "                     )\n",
    "\n",
    "    rects2 = axesi.barh(r2, df_nonattrited_percent['Percentage'], \n",
    "                     height=barwidth, color = nonattrited_color, \n",
    "                     )\n",
    "    \n",
    "    \n",
    "    def add_annotations():\n",
    "        # Set up variables for the annotations\n",
    "        precision = 1  # number of decimal places for the annotations\n",
    "        offset = 3  # distance of the annotation from the bar\n",
    "\n",
    "        # Add annotations to the first set of bars\n",
    "        for rect in rects1:\n",
    "            width = rect.get_width()\n",
    "            text = f\"{width:.{precision}f}\"\n",
    "            x = width + offset\n",
    "            y = rect.get_y() + rect.get_height() / 2\n",
    "            axesi.text(x, y, text, ha='left', va='center', fontsize=ticksize)\n",
    "\n",
    "        # Add annotations to the second set of bars\n",
    "        for rect in rects2:\n",
    "            width = rect.get_width()\n",
    "            text = f\"{width:.{precision}f}\"\n",
    "            x = width + offset\n",
    "            y = rect.get_y() + rect.get_height() / 2\n",
    "            axesi.text(x, y, text, ha='left', va='center', fontsize=ticksize)\n",
    "            \n",
    "    add_annotations()\n",
    "    \n",
    "    \n",
    "    # Add some text for labels, title and custom x-axis tick labels, etc.\n",
    "    axesi.set_ylabel('gender', fontsize=labelsize)\n",
    "    axesi.set_xlabel('% authors', fontsize=labelsize)\n",
    "\n",
    "    #axesi.set_title('Impact for the last 5 years (2015-2019)', fontsize=20, pad=15)\n",
    "\n",
    "    #ax.set_xticks(x, labels)\n",
    "    # ax.legend()\n",
    "    axesi.set_facecolor('white')\n",
    "\n",
    "    yticks = [(yi+yj)/2 for (yi,yj) in zip(r1,r2)]\n",
    "\n",
    "    axesi.set_yticks(yticks)\n",
    "    \n",
    "    axesi.set_xticks([0,20,40,60,80])\n",
    "    \n",
    "    axesi.tick_params(labelsize=ticksize)\n",
    "\n",
    "    axesi.set_yticklabels(df_nonattrited_percent[field_of_interest].tolist())\n",
    "    \n",
    "    axesi.spines[['right', 'top', 'left']].set_visible(False)\n",
    "\n",
    "    axesi.invert_yaxis()\n",
    "    \n",
    "    plt.tight_layout()\n",
    "    #plt.savefig('gender.pdf',format='pdf')\n"
   ]
  },
  {
   "cell_type": "code",
   "execution_count": 33,
   "id": "a53d9a05",
   "metadata": {},
   "outputs": [
    {
     "data": {
      "image/png": "[encoded data removed]",
      "text/plain": [
       "<Figure size 182.16x108 with 1 Axes>"
      ]
     },
     "metadata": {
      "needs_background": "light"
     },
     "output_type": "display_data"
    }
   ],
   "source": [
    "attrited_color = '#8EA7E9'#'#FFD93D'\n",
    "nonattrited_color = \"#fb7285\"\n",
    "other_color = 'gray'\n",
    "\n",
    "plt.rcParams[\"figure.figsize\"] = (2.53,1.5)\n",
    "\n",
    "fig, axesi = plt.subplots()\n",
    "\n",
    "ticksize = 8\n",
    "labelsize = 9\n",
    "\n",
    "barwidth = 0.35\n",
    "\n",
    "\n",
    "create_gender_plot(axesi, barwidth, ticksize, labelsize,\n",
    "                       attrited_color, nonattrited_color, other_color)"
   ]
  },
  {
   "cell_type": "markdown",
   "id": "f7ab5693",
   "metadata": {},
   "source": [
    "## Distribution of authors' order"
   ]
  },
  {
   "cell_type": "code",
   "execution_count": 34,
   "id": "469a0550",
   "metadata": {},
   "outputs": [],
   "source": [
    "def create_authororder_plot(axesi, barwidth, ticksize, labelsize, \n",
    "                           attrited_color, nonattrited_color, other_color):\n",
    "    \n",
    "    field_of_interest = 'MAGAIDRankTypeInRetractedPaper'\n",
    "    \n",
    "    # Extracting number of authors and their percentage in each gender\n",
    "    # For attrited\n",
    "    num_authors_attrited = df_attrited[['MAGAID',field_of_interest]]\\\n",
    "                                    .drop_duplicates().shape[0]\n",
    "\n",
    "    df_attrited_percent = (df_attrited[['MAGAID',field_of_interest]]\\\n",
    "        .drop_duplicates()[field_of_interest].value_counts()*100/num_authors_attrited)\\\n",
    "        .reset_index().rename(columns={'index':field_of_interest,'count':'Percentage'})\n",
    "    # For nonattrited\n",
    "    num_authors_nonattrited = df_nonattrited[['MAGAID',field_of_interest]]\\\n",
    "                                    .drop_duplicates().shape[0]\n",
    "    \n",
    "    df_nonattrited_percent = (df_nonattrited[['MAGAID',field_of_interest]]\\\n",
    "            .drop_duplicates()[field_of_interest].value_counts()*100/num_authors_nonattrited)\\\n",
    "            .reset_index().rename(columns={'index':field_of_interest,'count':'Percentage'})\n",
    "    \n",
    "    \n",
    "    \n",
    "    \n",
    "    # set the position of the bars on the x-axis\n",
    "    # For attrited\n",
    "    r1 = np.arange(df_nonattrited_percent[field_of_interest].nunique())\n",
    "    # For non attrited\n",
    "    r2 = [x + barwidth for x in r1]\n",
    "    \n",
    "    # plotting the bars\n",
    "    # for attrited\n",
    "    rects1 = axesi.barh(r1, df_attrited_percent['Percentage'], \n",
    "                     height=barwidth, color = attrited_color, \n",
    "                     )\n",
    "\n",
    "    rects2 = axesi.barh(r2, df_nonattrited_percent['Percentage'], \n",
    "                     height=barwidth, color = nonattrited_color, \n",
    "                     )\n",
    "    \n",
    "    def add_annotations():\n",
    "        # Set up variables for the annotations\n",
    "        precision = 1  # number of decimal places for the annotations\n",
    "        offset = 3  # distance of the annotation from the bar\n",
    "\n",
    "        # Add annotations to the first set of bars\n",
    "        for rect in rects1:\n",
    "            width = rect.get_width()\n",
    "            text = f\"{width:.{precision}f}\"\n",
    "            x = width + offset\n",
    "            y = rect.get_y() + rect.get_height() / 2\n",
    "            axesi.text(x, y, text, ha='left', va='center', fontsize=ticksize)\n",
    "\n",
    "        # Add annotations to the second set of bars\n",
    "        for rect in rects2:\n",
    "            width = rect.get_width()\n",
    "            text = f\"{width:.{precision}f}\"\n",
    "            x = width + offset\n",
    "            y = rect.get_y() + rect.get_height() / 2\n",
    "            axesi.text(x, y, text, ha='left', va='center', fontsize=ticksize)\n",
    "            \n",
    "    add_annotations()\n",
    "    \n",
    "    # Add some text for labels, title and custom x-axis tick labels, etc.\n",
    "    axesi.set_ylabel('author order', fontsize=labelsize)\n",
    "    axesi.set_xlabel('% authors', fontsize=labelsize)\n",
    "\n",
    "    #axesi.set_title('Impact for the last 5 years (2015-2019)', fontsize=20, pad=15)\n",
    "\n",
    "    #ax.set_xticks(x, labels)\n",
    "    # ax.legend()\n",
    "    axesi.set_facecolor('white')\n",
    "\n",
    "    yticks = [(yi+yj)/2 for (yi,yj) in zip(r1,r2)]\n",
    "\n",
    "    axesi.set_yticks(yticks)\n",
    "    \n",
    "    axesi.set_xticks([0,20,40,60,80])\n",
    "    \n",
    "    axesi.tick_params(labelsize=ticksize)\n",
    "    \n",
    "    ytick_dict = {'First or Last or Only Author': 'first or last\\nauthor',\n",
    "                 'Middle Author': 'middle\\nauthor'}\n",
    "    \n",
    "    yticklabels = [ytick_dict.get(item, item) for item in df_nonattrited_percent[field_of_interest].tolist()]\n",
    "    \n",
    "#     yticklabels = list(map(lambda x: x.replace([,'Middle author'],\n",
    "#                                                [,'middle author']), \n",
    "#                            df_nonattrited_percent[field_of_interest].tolist()))\n",
    "    \n",
    "    axesi.set_yticklabels(yticklabels)\n",
    "    \n",
    "    axesi.spines[['right', 'top', 'left']].set_visible(False)\n",
    "\n",
    "    axesi.invert_yaxis()\n",
    "    \n",
    "    plt.tight_layout()\n",
    "    #plt.savefig('authororder.pdf',format='pdf')"
   ]
  },
  {
   "cell_type": "code",
   "execution_count": 35,
   "id": "5ecd9b72",
   "metadata": {},
   "outputs": [
    {
     "data": {
      "image/png": "[encoded data removed]",
      "text/plain": [
       "<Figure size 182.16x108 with 1 Axes>"
      ]
     },
     "metadata": {
      "needs_background": "light"
     },
     "output_type": "display_data"
    }
   ],
   "source": [
    "attrited_color = '#8EA7E9'#'#FFD93D'\n",
    "nonattrited_color = \"#fb7285\"\n",
    "other_color = 'gray'\n",
    "\n",
    "plt.rcParams[\"figure.figsize\"] = (2.53,1.5)\n",
    "\n",
    "fig, axesi = plt.subplots()\n",
    "\n",
    "ticksize = 8\n",
    "labelsize = 9\n",
    "\n",
    "barwidth = 0.35\n",
    "\n",
    "create_authororder_plot(axesi, barwidth, ticksize, labelsize,\n",
    "                       attrited_color, nonattrited_color, other_color)"
   ]
  },
  {
   "cell_type": "markdown",
   "id": "91404455",
   "metadata": {},
   "source": [
    "## Distribution of authors' affiliation ranking"
   ]
  },
  {
   "cell_type": "code",
   "execution_count": 36,
   "id": "de301270",
   "metadata": {},
   "outputs": [],
   "source": [
    "def create_affrank_plot(axesi, barwidth, ticksize, labelsize, \n",
    "                           attrited_color, nonattrited_color, other_color):\n",
    "    \n",
    "    field_of_interest = 'MAGRetractionYearAffRank'\n",
    "    \n",
    "    # Extracting number of authors and their percentage in each gender\n",
    "    # For attrited\n",
    "    num_authors_attrited = df_attrited[['MAGAID',field_of_interest]]\\\n",
    "                                    .drop_duplicates().shape[0]\n",
    "\n",
    "    df_attrited_percent = (df_attrited[['MAGAID',field_of_interest]]\\\n",
    "        .drop_duplicates()[field_of_interest].value_counts()*100/num_authors_attrited)\\\n",
    "        .reset_index().rename(columns={'index':field_of_interest,'count':'Percentage'})\n",
    "    # For nonattrited\n",
    "    num_authors_nonattrited = df_nonattrited[['MAGAID',field_of_interest]]\\\n",
    "                                    .drop_duplicates().shape[0]\n",
    "    \n",
    "    df_nonattrited_percent = (df_nonattrited[['MAGAID',field_of_interest]]\\\n",
    "            .drop_duplicates()[field_of_interest].value_counts()*100/num_authors_nonattrited)\\\n",
    "            .reset_index().rename(columns={'index':field_of_interest,'count':'Percentage'})\n",
    "    \n",
    "    # Creating an order\n",
    "    affranks = ['1-100','101-500','501-1000','>1000']\n",
    "    mapping = {affrank: i for i, affrank in enumerate(affranks)}\n",
    "    key_attrited = df_attrited_percent[field_of_interest].map(mapping)\n",
    "    key_nonattrited = df_nonattrited_percent[field_of_interest].map(mapping)\n",
    "    \n",
    "    df_attrited_percent = df_attrited_percent.iloc[key_attrited.argsort()]\n",
    "    df_nonattrited_percent = df_nonattrited_percent.iloc[key_nonattrited.argsort()]\n",
    "    \n",
    "    \n",
    "    # set the position of the bars on the x-axis\n",
    "    # For attrited\n",
    "    r1 = np.arange(df_nonattrited_percent[field_of_interest].nunique())\n",
    "    # For non attrited\n",
    "    r2 = [x + barwidth for x in r1]\n",
    "    \n",
    "    # plotting the bars\n",
    "    # for attrited\n",
    "    rects1 = axesi.barh(r1, df_attrited_percent['Percentage'], \n",
    "                     height=barwidth, color = attrited_color, \n",
    "                     )\n",
    "\n",
    "    rects2 = axesi.barh(r2, df_nonattrited_percent['Percentage'], \n",
    "                     height=barwidth, color = nonattrited_color, \n",
    "                     )\n",
    "    \n",
    "    \n",
    "    def add_annotations():\n",
    "        # Set up variables for the annotations\n",
    "        precision = 1  # number of decimal places for the annotations\n",
    "        offset = 3  # distance of the annotation from the bar\n",
    "\n",
    "        # Add annotations to the first set of bars\n",
    "        for rect in rects1:\n",
    "            width = rect.get_width()\n",
    "            text = f\"{width:.{precision}f}\"\n",
    "            x = width + offset\n",
    "            y = rect.get_y() + rect.get_height() / 2\n",
    "            axesi.text(x, y, text, ha='left', va='center', fontsize=ticksize)\n",
    "\n",
    "        # Add annotations to the second set of bars\n",
    "        for rect in rects2:\n",
    "            width = rect.get_width()\n",
    "            text = f\"{width:.{precision}f}\"\n",
    "            x = width + offset\n",
    "            y = rect.get_y() + rect.get_height() / 2\n",
    "            axesi.text(x, y, text, ha='left', va='center', fontsize=ticksize)\n",
    "            \n",
    "    add_annotations()\n",
    "    \n",
    "    # Add some text for labels, title and custom x-axis tick labels, etc.\n",
    "    axesi.set_ylabel('affiliation rank', fontsize=labelsize)\n",
    "    axesi.set_xlabel('% authors', fontsize=labelsize)\n",
    "\n",
    "    #axesi.set_title('Impact for the last 5 years (2015-2019)', fontsize=20, pad=15)\n",
    "\n",
    "    #ax.set_xticks(x, labels)\n",
    "    # ax.legend()\n",
    "    axesi.set_facecolor('white')\n",
    "\n",
    "    yticks = [(yi+yj)/2 for (yi,yj) in zip(r1,r2)]\n",
    "\n",
    "    axesi.set_yticks(yticks)\n",
    "    \n",
    "    axesi.set_xticks([0,20,40, 60])\n",
    "    \n",
    "    axesi.tick_params(labelsize=ticksize)\n",
    "    \n",
    "    yticklabels = df_nonattrited_percent[field_of_interest].tolist()\n",
    "    \n",
    "    axesi.set_yticklabels(yticklabels)\n",
    "    \n",
    "    axesi.spines[['right', 'top', 'left']].set_visible(False)\n",
    "\n",
    "    axesi.invert_yaxis()\n",
    "    \n",
    "    plt.tight_layout()\n",
    "    #plt.savefig('affrank.pdf',format='pdf')"
   ]
  },
  {
   "cell_type": "code",
   "execution_count": 37,
   "id": "fa43d223",
   "metadata": {},
   "outputs": [
    {
     "data": {
      "image/png": "[encoded data removed]",
      "text/plain": [
       "<Figure size 182.16x180 with 1 Axes>"
      ]
     },
     "metadata": {
      "needs_background": "light"
     },
     "output_type": "display_data"
    }
   ],
   "source": [
    "attrited_color = '#8EA7E9'#'#FFD93D'\n",
    "nonattrited_color = \"#fb7285\"\n",
    "other_color = 'gray'\n",
    "\n",
    "plt.rcParams[\"figure.figsize\"] = (2.53,2.5)\n",
    "\n",
    "fig, axesi = plt.subplots()\n",
    "\n",
    "ticksize = 8\n",
    "labelsize = 9\n",
    "\n",
    "barwidth = 0.35\n",
    "\n",
    "create_affrank_plot(axesi, barwidth, ticksize, labelsize,\n",
    "                       attrited_color, nonattrited_color, other_color)"
   ]
  },
  {
   "cell_type": "code",
   "execution_count": 38,
   "id": "f4875729",
   "metadata": {},
   "outputs": [
    {
     "data": {
      "text/plain": [
       "MAGRetractionYearAffRank\n",
       ">1000       5936\n",
       "101-500     4663\n",
       "1-100       3230\n",
       "501-1000    2184\n",
       "Name: count, dtype: int64"
      ]
     },
     "execution_count": 38,
     "metadata": {},
     "output_type": "execute_result"
    }
   ],
   "source": [
    "df_nonattrited.MAGRetractionYearAffRank.value_counts()"
   ]
  },
  {
   "cell_type": "markdown",
   "id": "a9bc34cb",
   "metadata": {},
   "source": [
    "## Plotting Continuous: KDE plot"
   ]
  },
  {
   "cell_type": "code",
   "execution_count": 39,
   "id": "84a36041",
   "metadata": {},
   "outputs": [],
   "source": [
    "def plotPvalue(ax, x, y, pVal, gap, lw=0.2, c='black'):\n",
    "    \"\"\"\n",
    "    This function will be used to plot the p-values. \n",
    "    \"\"\"\n",
    "    \n",
    "    height = max(y[0], y[1])\n",
    "    \n",
    "    handles_y0 = height + gap[0]\n",
    "    handles_y1 = height + gap[1]\n",
    "    \n",
    "    ax.hlines(handles_y1, x[0], x[1], color=c, lw=lw)\n",
    "    ax.vlines(x[0], handles_y0, handles_y1, color=c, lw=lw)\n",
    "    ax.vlines(x[1], handles_y0, handles_y1, color=c, lw=lw)\n",
    "    \n",
    "    stars = '***' if pVal < 0.001 else '**' if pVal < 0.01 else '*' if pVal < 0.05 else f'p={round(pVal, 2)}'\n",
    "    offset = 0.01 if pVal < 0.05 else 0.04\n",
    "    \n",
    "    ax.text((x[0] + x[1])/2, handles_y1, stars, ha='center', color=c)"
   ]
  },
  {
   "cell_type": "code",
   "execution_count": 40,
   "id": "b7ab48fb",
   "metadata": {},
   "outputs": [],
   "source": [
    "## Code for plotting continuous values as well as the means and statistical significance test\n",
    "\n",
    "def create_continuous_plot(field_of_interest, xlabel, axesi, barwidth, ticksize, labelsize, \n",
    "                           attrited_color, nonattrited_color, other_color, remove_outliers=True, xlim=False,\n",
    "                          handle_gaps=[0,0]):\n",
    "    \n",
    "    # Extracting number of authors and their percentage in each gender\n",
    "    # For attrited\n",
    "    df_relevant_attrited = df_attrited[['MAGAID',field_of_interest]]\\\n",
    "                                    .drop_duplicates()\n",
    "    \n",
    "    df_relevant_attrited['AuthorType'] = 'attrited'\n",
    "    \n",
    "    # For nonattrited\n",
    "    df_relevant_nonattrited = df_nonattrited[['MAGAID',field_of_interest]]\\\n",
    "                                    .drop_duplicates()\n",
    "    \n",
    "    df_relevant_nonattrited['AuthorType'] = 'nonattrited'\n",
    "    \n",
    "    print(\"Attrited:\",df_relevant_attrited.MAGAID.nunique())\n",
    "    print(\"NonAttrited:\",df_relevant_nonattrited.MAGAID.nunique())\n",
    "    \n",
    "    \n",
    "    # Removing outliers (top 1%)\n",
    "    \n",
    "    if(remove_outliers):\n",
    "    \n",
    "        df_relevant_attrited = df_relevant_attrited[df_relevant_attrited[field_of_interest].\\\n",
    "                                            le(df_relevant_attrited[field_of_interest].quantile(.99))]\n",
    "\n",
    "        df_relevant_nonattrited = df_relevant_nonattrited[df_relevant_nonattrited[field_of_interest].\\\n",
    "                                            le(df_relevant_nonattrited[field_of_interest].quantile(.99))]\n",
    "    \n",
    "    df_relevant_all = pd.concat([df_relevant_attrited,df_relevant_nonattrited])\n",
    "    \n",
    "    \n",
    "    sns.kdeplot(data=df_relevant_all, x=field_of_interest,\n",
    "                fill=True, alpha=0.6, linewidth=0, palette=[attrited_color, nonattrited_color],\n",
    "                ax=axesi, hue='AuthorType', hue_order=['attrited','nonattrited'], cut=0)\n",
    "    \n",
    "    # Plotting means\n",
    "    \n",
    "    min_ylim, max_ylim = axesi.get_ylim()\n",
    "    min_xlim, max_xlim = axesi.get_xlim()\n",
    "    \n",
    "    print(min_ylim, max_ylim)\n",
    "    print(min_xlim, max_xlim)\n",
    "    \n",
    "    axesi.axvline(df_relevant_attrited[field_of_interest].mean(), \n",
    "                  0,0.85, color=attrited_color, \n",
    "                  linestyle='dashed', linewidth=1.5)\n",
    "    \n",
    "    axesi.axvline(df_relevant_nonattrited[field_of_interest].mean(), \n",
    "                  0,0.85,color=nonattrited_color, \n",
    "                  linestyle='dashed', linewidth=1.5)\n",
    "    \n",
    "    \n",
    "    # Now we plot p-values\n",
    "    _, pval = ttest_ind(df_relevant_attrited[field_of_interest], \n",
    "                     df_relevant_nonattrited[field_of_interest], equal_var=False)\n",
    "    \n",
    "    plotPvalue(axesi, [df_relevant_attrited[field_of_interest].mean(),\n",
    "                      df_relevant_nonattrited[field_of_interest].mean()], \n",
    "                     [max_ylim,max_ylim], pval, handle_gaps, lw=0.1, c='black')\n",
    "    \n",
    "    # Add some text for labels, title and custom x-axis tick labels, etc.\n",
    "    axesi.set_ylabel('Author Density', fontsize=labelsize)\n",
    "    axesi.set_xlabel(xlabel, fontsize=labelsize)\n",
    "    \n",
    "    #axesi.set_title('Impact for the last 5 years (2015-2019)', fontsize=20, pad=15)\n",
    "    \n",
    "    axesi.set_facecolor('white')\n",
    "    axesi.get_legend().remove()\n",
    "\n",
    "    if(xlim):\n",
    "        axesi.set_xlim(xlim[0],xlim[1])\n",
    "    \n",
    "    axesi.tick_params(labelsize=ticksize)\n",
    "    \n",
    "    # Fixing xticks to remove anything below 0\n",
    "    \n",
    "    new_xticks = list(filter(lambda xtick: xtick >=0, axesi.get_xticks()))\n",
    "    axesi.set_xticks(new_xticks)\n",
    "    \n",
    "    axesi.spines[['right', 'top', 'left']].set_visible(False)\n",
    "    "
   ]
  },
  {
   "cell_type": "markdown",
   "id": "83d1f38e",
   "metadata": {},
   "source": [
    "## Distribution of Papers"
   ]
  },
  {
   "cell_type": "code",
   "execution_count": 41,
   "id": "be133830",
   "metadata": {},
   "outputs": [
    {
     "name": "stdout",
     "output_type": "stream",
     "text": [
      "Attrited: 2400\n",
      "NonAttrited: 10342\n",
      "0.0 0.04130447608104163\n",
      "-25.8 563.8\n"
     ]
    },
    {
     "data": {
      "image/png": "[encoded data removed]",
      "text/plain": [
       "<Figure size 288x144 with 1 Axes>"
      ]
     },
     "metadata": {
      "needs_background": "light"
     },
     "output_type": "display_data"
    }
   ],
   "source": [
    "attrited_color = '#8EA7E9'#'#FFD93D'\n",
    "nonattrited_color = \"#fb7285\"\n",
    "other_color = 'gray'\n",
    "\n",
    "plt.rcParams[\"figure.figsize\"] = (4,2)\n",
    "\n",
    "fig, axesi = plt.subplots()\n",
    "\n",
    "def create_papers_plot():\n",
    "\n",
    "    ticksize = 8\n",
    "    labelsize = 9\n",
    "\n",
    "    barwidth = 0.35\n",
    "\n",
    "    field_of_interest = 'MAGCumPapersAtRetraction'\n",
    "    xlabel = 'Number of Papers'\n",
    "\n",
    "    create_continuous_plot(field_of_interest, xlabel, axesi, barwidth, ticksize, labelsize,\n",
    "                           attrited_color, nonattrited_color, other_color, remove_outliers=True, xlim=[-50,300],\n",
    "                          handle_gaps=[0.001,0.002])\n",
    "    \n",
    "\n",
    "create_papers_plot()\n",
    "plt.tight_layout()\n",
    "plt.savefig('papers.pdf',format='pdf')"
   ]
  },
  {
   "cell_type": "markdown",
   "id": "5e91f50d",
   "metadata": {},
   "source": [
    "## Distribution of Citations"
   ]
  },
  {
   "cell_type": "code",
   "execution_count": 42,
   "id": "f5b25956",
   "metadata": {},
   "outputs": [
    {
     "name": "stdout",
     "output_type": "stream",
     "text": [
      "Attrited: 2400\n",
      "NonAttrited: 10342\n",
      "0.0 0.003728802905544883\n",
      "-680.35 14287.35\n"
     ]
    },
    {
     "data": {
      "image/png": "[encoded data removed]",
      "text/plain": [
       "<Figure size 288x144 with 1 Axes>"
      ]
     },
     "metadata": {
      "needs_background": "light"
     },
     "output_type": "display_data"
    }
   ],
   "source": [
    "attrited_color = '#8EA7E9'#'#FFD93D'\n",
    "nonattrited_color = \"#fb7285\"\n",
    "other_color = 'gray'\n",
    "\n",
    "plt.rcParams[\"figure.figsize\"] = (4,2)\n",
    "\n",
    "fig, axesi = plt.subplots()\n",
    "\n",
    "def create_citations_plot():\n",
    "\n",
    "    ticksize = 8\n",
    "    labelsize = 9\n",
    "\n",
    "    barwidth = 0.35\n",
    "\n",
    "    field_of_interest = 'MAGCumCitationsAtRetraction'\n",
    "    xlabel = 'Number of Citations'\n",
    "\n",
    "    create_continuous_plot(field_of_interest, xlabel, axesi, barwidth, ticksize, labelsize,\n",
    "                           attrited_color, nonattrited_color, other_color, remove_outliers=True, xlim=[-2000,5000],\n",
    "                          handle_gaps=[0.0001,0.00015])\n",
    "\n",
    "create_citations_plot()\n",
    "plt.tight_layout()\n",
    "plt.savefig('citations.pdf',format='pdf')"
   ]
  },
  {
   "cell_type": "markdown",
   "id": "80c4a5d8",
   "metadata": {},
   "source": [
    "## Distribution of Collaborators"
   ]
  },
  {
   "cell_type": "code",
   "execution_count": 43,
   "id": "5b252fa7",
   "metadata": {},
   "outputs": [
    {
     "name": "stdout",
     "output_type": "stream",
     "text": [
      "Attrited: 2400\n",
      "NonAttrited: 10342\n",
      "0.0 0.01335951997295728\n",
      "-95.9 2013.9\n"
     ]
    },
    {
     "data": {
      "image/png": "[encoded data removed]",
      "text/plain": [
       "<Figure size 216x144 with 1 Axes>"
      ]
     },
     "metadata": {
      "needs_background": "light"
     },
     "output_type": "display_data"
    }
   ],
   "source": [
    "attrited_color = '#8EA7E9'#'#FFD93D'\n",
    "nonattrited_color = \"#fb7285\"\n",
    "other_color = 'gray'\n",
    "\n",
    "plt.rcParams[\"figure.figsize\"] = (3,2)\n",
    "\n",
    "fig, axesi = plt.subplots()\n",
    "\n",
    "def create_collaborators_plot():\n",
    "\n",
    "    ticksize = 8\n",
    "    labelsize = 9\n",
    "\n",
    "    field_of_interest = 'MAGCumCollaboratorsAtRetraction'\n",
    "    xlabel = 'Number of Collaborators'\n",
    "\n",
    "    create_continuous_plot(field_of_interest, xlabel, axesi, barwidth, ticksize, labelsize,\n",
    "                           attrited_color, nonattrited_color, other_color, remove_outliers=True, xlim=[-250,750],\n",
    "                          handle_gaps=[0.001,0.0015])\n",
    "\n",
    "\n",
    "create_collaborators_plot()\n",
    "    \n",
    "plt.tight_layout()\n",
    "plt.savefig('collaborators.pdf',format='pdf')"
   ]
  },
  {
   "cell_type": "markdown",
   "id": "46756ac4",
   "metadata": {},
   "source": [
    "## Distribution of Career Age"
   ]
  },
  {
   "cell_type": "code",
   "execution_count": 44,
   "id": "3a510034",
   "metadata": {},
   "outputs": [
    {
     "name": "stdout",
     "output_type": "stream",
     "text": [
      "Attrited: 2400\n",
      "NonAttrited: 10342\n",
      "0.0 0.055932217322749604\n",
      "-2.25 47.25\n"
     ]
    },
    {
     "data": {
      "image/png": "[encoded data removed]",
      "text/plain": [
       "<Figure size 288x144 with 1 Axes>"
      ]
     },
     "metadata": {
      "needs_background": "light"
     },
     "output_type": "display_data"
    }
   ],
   "source": [
    "attrited_color = '#8EA7E9'#'#FFD93D'\n",
    "nonattrited_color = \"#fb7285\"\n",
    "other_color = 'gray'\n",
    "\n",
    "plt.rcParams[\"figure.figsize\"] = (4,2)\n",
    "\n",
    "fig, axesi = plt.subplots()\n",
    "\n",
    "def create_age_plot():\n",
    "\n",
    "    ticksize = 8\n",
    "    labelsize = 9\n",
    "\n",
    "    barwidth = 0.35\n",
    "\n",
    "    field_of_interest = 'AcademicAgeAtRetraction'\n",
    "    xlabel = 'Career Age'\n",
    "\n",
    "    create_continuous_plot(field_of_interest, xlabel, axesi, barwidth, ticksize, labelsize,\n",
    "                           attrited_color, nonattrited_color, other_color, remove_outliers=True,\n",
    "                          handle_gaps=[0.005,0.008])\n",
    "\n",
    "    \n",
    "create_age_plot()\n",
    "plt.tight_layout()\n",
    "plt.savefig('age.pdf',format='pdf')"
   ]
  },
  {
   "cell_type": "markdown",
   "id": "66b4d964",
   "metadata": {},
   "source": [
    "## Plotting Continuous: Boxplots"
   ]
  },
  {
   "cell_type": "code",
   "execution_count": 45,
   "id": "050a244f",
   "metadata": {},
   "outputs": [
    {
     "data": {
      "text/plain": [
       "count    16013.000000\n",
       "mean       225.902454\n",
       "std        751.729453\n",
       "min          0.000000\n",
       "25%         19.000000\n",
       "50%         57.000000\n",
       "75%        178.000000\n",
       "max      20543.000000\n",
       "Name: MAGCumCollaboratorsAtRetraction, dtype: float64"
      ]
     },
     "execution_count": 45,
     "metadata": {},
     "output_type": "execute_result"
    }
   ],
   "source": [
    "df_nonattrited['MAGCumCollaboratorsAtRetraction'].describe()"
   ]
  },
  {
   "cell_type": "code",
   "execution_count": 46,
   "id": "9a81c239",
   "metadata": {},
   "outputs": [
    {
     "data": {
      "text/plain": [
       "count    5483.000000\n",
       "mean       10.519241\n",
       "std        29.294224\n",
       "min         0.000000\n",
       "25%         3.000000\n",
       "50%         6.000000\n",
       "75%        10.000000\n",
       "max      1158.000000\n",
       "Name: MAGCumCollaboratorsAtRetraction, dtype: float64"
      ]
     },
     "execution_count": 46,
     "metadata": {},
     "output_type": "execute_result"
    }
   ],
   "source": [
    "df_attrited['MAGCumCollaboratorsAtRetraction'].describe()"
   ]
  },
  {
   "cell_type": "code",
   "execution_count": 47,
   "id": "ae5b8aaf",
   "metadata": {},
   "outputs": [],
   "source": [
    "## Code for plotting continuous values as well as the means and statistical significance test\n",
    "\n",
    "def create_box_plot(field_of_interest, ylabel, axesi, barwidth, ticksize, labelsize, \n",
    "                           attrited_color, nonattrited_color, other_color, remove_outliers=True, xlim=False,\n",
    "                          handle_gaps=[0,0]):\n",
    "    \n",
    "    # Extracting number of authors and their percentage in each gender\n",
    "    # For attrited\n",
    "    df_relevant_attrited = df_attrited[['MAGAID',field_of_interest]]\\\n",
    "                                    .drop_duplicates()\n",
    "    \n",
    "    # For nonattrited\n",
    "    df_relevant_nonattrited = df_nonattrited[['MAGAID',field_of_interest]]\\\n",
    "                                    .drop_duplicates()\n",
    "    \n",
    "    \n",
    "    linewidth = 1\n",
    "    width = 0.20\n",
    "\n",
    "    bp_attrited = dict(color=attrited_color, linestyle='-', linewidth=linewidth)\n",
    "    bp_nonattrited = dict(color=nonattrited_color, linestyle='-', linewidth=linewidth)\n",
    "\n",
    "    # median props\n",
    "    mp_attrited = dict(linestyle='-', linewidth=linewidth, color=attrited_color)\n",
    "    mp_nonattrited = dict(linestyle='-', linewidth=linewidth, color=nonattrited_color)\n",
    "\n",
    "    # mean props\n",
    "    mep_attrited = dict(marker='s', markerfacecolor=attrited_color, markeredgecolor=attrited_color)\n",
    "    mep_nonattrited = dict(marker='s', markerfacecolor=nonattrited_color, markeredgecolor=nonattrited_color)\n",
    "    \n",
    "    axesi.boxplot(df_relevant_attrited[field_of_interest], \n",
    "                  positions=[0], labels=['attrited'], \n",
    "            boxprops=bp_attrited, medianprops=mp_attrited, showfliers=False, showmeans=True, \n",
    "            meanprops=mep_attrited, widths=width)\n",
    "\n",
    "    axesi.boxplot(df_relevant_nonattrited[field_of_interest], \n",
    "                  positions=[1], labels=['non-attrited'], \n",
    "            boxprops=bp_nonattrited, medianprops=mp_nonattrited, showfliers=False, showmeans=True, \n",
    "            meanprops=mep_nonattrited, widths=width)\n",
    "    \n",
    "    # Now we plot p-values\n",
    "    _, pval = ttest_ind(df_relevant_attrited[field_of_interest], \n",
    "                     df_relevant_nonattrited[field_of_interest], equal_var=False)\n",
    "    \n",
    "    q1_attrited = df_relevant_attrited[field_of_interest].quantile(.25)\n",
    "    q3_attrited = df_relevant_attrited[field_of_interest].quantile(.75)\n",
    "    iqr_attrited = q3_attrited-q1_attrited\n",
    "    \n",
    "    q1_nonattrited = df_relevant_nonattrited[field_of_interest].quantile(.25)\n",
    "    q3_nonattrited = df_relevant_nonattrited[field_of_interest].quantile(.75)\n",
    "    iqr_nonattrited = q3_nonattrited-q1_nonattrited\n",
    "    \n",
    "    plotPvalue(axesi, [0,1], \n",
    "               [q3_attrited+1.5*iqr_attrited,\n",
    "                q3_nonattrited+1.5*iqr_nonattrited],\n",
    "                pval, handle_gaps, lw=0.1, c='black')\n",
    "    \n",
    "    # Add some text for labels, title and custom x-axis tick labels, etc.\n",
    "    axesi.set_ylabel(ylabel, fontsize=ticksize)\n",
    "    \n",
    "    #axesi.set_title('Impact for the last 5 years (2015-2019)', fontsize=20, pad=15)\n",
    "    \n",
    "    axesi.tick_params(labelsize=ticksize)\n",
    "    \n",
    "    axesi.get_xaxis().set_ticks([])\n",
    "    \n",
    "    axesi.set_facecolor('white')\n",
    "    \n",
    "    axesi.spines[['right', 'top']].set_visible(False)"
   ]
  },
  {
   "cell_type": "markdown",
   "id": "13531506",
   "metadata": {},
   "source": [
    "## Distribution of Papers"
   ]
  },
  {
   "cell_type": "code",
   "execution_count": 48,
   "id": "65537918",
   "metadata": {},
   "outputs": [
    {
     "data": {
      "image/png": "[encoded data removed]",
      "text/plain": [
       "<Figure size 180x108 with 1 Axes>"
      ]
     },
     "metadata": {
      "needs_background": "light"
     },
     "output_type": "display_data"
    }
   ],
   "source": [
    "attrited_color = '#8EA7E9'#'#FFD93D'\n",
    "nonattrited_color = \"#fb7285\"\n",
    "other_color = 'gray'\n",
    "\n",
    "plt.rcParams[\"figure.figsize\"] = (2.5,1.5)\n",
    "\n",
    "fig, axesi = plt.subplots()\n",
    "\n",
    "def create_papers_boxplot(axesi):\n",
    "\n",
    "    ticksize = 8\n",
    "    labelsize = 9\n",
    "\n",
    "    barwidth = 0.35\n",
    "\n",
    "    field_of_interest = 'MAGCumPapersAtRetraction'\n",
    "    ylabel = 'number of papers'\n",
    "\n",
    "    create_box_plot(field_of_interest, ylabel, axesi, barwidth, ticksize, labelsize,\n",
    "                           attrited_color, nonattrited_color, other_color, remove_outliers=True,\n",
    "                          handle_gaps=[25,40])\n",
    "\n",
    "create_papers_boxplot(axesi)\n",
    "plt.tight_layout()\n",
    "plt.savefig('papers.pdf',format='pdf')"
   ]
  },
  {
   "cell_type": "markdown",
   "id": "4050da66",
   "metadata": {},
   "source": [
    "## Distribution of Citations"
   ]
  },
  {
   "cell_type": "code",
   "execution_count": 49,
   "id": "d43eab3a",
   "metadata": {},
   "outputs": [
    {
     "data": {
      "image/png": "[encoded data removed]",
      "text/plain": [
       "<Figure size 180x108 with 1 Axes>"
      ]
     },
     "metadata": {
      "needs_background": "light"
     },
     "output_type": "display_data"
    }
   ],
   "source": [
    "attrited_color = '#8EA7E9'#'#FFD93D'\n",
    "nonattrited_color = \"#fb7285\"\n",
    "other_color = 'gray'\n",
    "\n",
    "plt.rcParams[\"figure.figsize\"] = (2.5,1.5)\n",
    "\n",
    "fig, axesi = plt.subplots()\n",
    "\n",
    "def create_citations_boxplot(axesi):\n",
    "\n",
    "    ticksize = 8\n",
    "    labelsize = 9\n",
    "\n",
    "    barwidth = 0.35\n",
    "\n",
    "    field_of_interest = 'MAGCumCitationsAtRetraction'\n",
    "    ylabel = 'number of citations'\n",
    "\n",
    "    create_box_plot(field_of_interest, ylabel, axesi, barwidth, ticksize, labelsize,\n",
    "                           attrited_color, nonattrited_color, other_color, remove_outliers=True,\n",
    "                          handle_gaps=[500,700])\n",
    "\n",
    "create_citations_boxplot(axesi)\n",
    "plt.tight_layout()\n",
    "plt.savefig('citations.pdf',format='pdf')"
   ]
  },
  {
   "cell_type": "markdown",
   "id": "90d63942",
   "metadata": {},
   "source": [
    "## Distribution of Collaborators"
   ]
  },
  {
   "cell_type": "code",
   "execution_count": 50,
   "id": "752e4329",
   "metadata": {},
   "outputs": [
    {
     "data": {
      "image/png": "[encoded data removed]",
      "text/plain": [
       "<Figure size 180x108 with 1 Axes>"
      ]
     },
     "metadata": {
      "needs_background": "light"
     },
     "output_type": "display_data"
    }
   ],
   "source": [
    "attrited_color = '#8EA7E9'#'#FFD93D'\n",
    "nonattrited_color = \"#fb7285\"\n",
    "other_color = 'gray'\n",
    "\n",
    "plt.rcParams[\"figure.figsize\"] = (2.5,1.5)\n",
    "\n",
    "fig, axesi = plt.subplots()\n",
    "\n",
    "def create_collaborators_boxplot(axesi):\n",
    "\n",
    "    ticksize = 8\n",
    "    labelsize = 9\n",
    "\n",
    "    barwidth = 0.35\n",
    "\n",
    "    field_of_interest = 'MAGCumCollaboratorsAtRetraction'\n",
    "    ylabel = 'number of \\ncollaborators'\n",
    "\n",
    "    create_box_plot(field_of_interest, ylabel, axesi, barwidth, ticksize, labelsize,\n",
    "                           attrited_color, nonattrited_color, other_color, remove_outliers=True,\n",
    "                          handle_gaps=[100,130])\n",
    "\n",
    "create_collaborators_boxplot(axesi)\n",
    "plt.tight_layout()\n",
    "plt.savefig('collaborators.pdf',format='pdf')"
   ]
  },
  {
   "cell_type": "markdown",
   "id": "054de5fb",
   "metadata": {},
   "source": [
    "## Distribution of Career Age"
   ]
  },
  {
   "cell_type": "code",
   "execution_count": 51,
   "id": "bef6296b",
   "metadata": {},
   "outputs": [
    {
     "data": {
      "image/png": "[encoded data removed]",
      "text/plain": [
       "<Figure size 180x108 with 1 Axes>"
      ]
     },
     "metadata": {
      "needs_background": "light"
     },
     "output_type": "display_data"
    }
   ],
   "source": [
    "attrited_color = '#8EA7E9'#'#FFD93D'\n",
    "nonattrited_color = \"#fb7285\"\n",
    "other_color = 'gray'\n",
    "\n",
    "plt.rcParams[\"figure.figsize\"] = (2.5,1.5)\n",
    "\n",
    "fig, axesi = plt.subplots()\n",
    "\n",
    "def create_age_boxplot(axesi):\n",
    "\n",
    "    ticksize = 8\n",
    "    labelsize = 9\n",
    "\n",
    "    barwidth = 0.35\n",
    "\n",
    "    field_of_interest = 'AcademicAgeAtRetraction'\n",
    "    ylabel = 'academic age'\n",
    "\n",
    "    create_box_plot(field_of_interest, ylabel, axesi, barwidth, ticksize, labelsize,\n",
    "                           attrited_color, nonattrited_color, other_color, remove_outliers=True,\n",
    "                          handle_gaps=[5,7])\n",
    "\n",
    "create_age_boxplot(axesi)\n",
    "plt.tight_layout()\n",
    "plt.savefig('age.pdf',format='pdf')"
   ]
  },
  {
   "cell_type": "markdown",
   "id": "334ab00b",
   "metadata": {},
   "source": [
    "# Paper related features"
   ]
  },
  {
   "cell_type": "markdown",
   "id": "ad541beb",
   "metadata": {},
   "source": [
    "## Intersection of Papers"
   ]
  },
  {
   "cell_type": "code",
   "execution_count": 52,
   "id": "178a97ba",
   "metadata": {},
   "outputs": [],
   "source": [
    "from matplotlib_venn import venn2"
   ]
  },
  {
   "cell_type": "code",
   "execution_count": 53,
   "id": "e85b1360",
   "metadata": {},
   "outputs": [],
   "source": [
    "def create_venn(axesi, attrited_color, nonattrited_color):\n",
    "\n",
    "    num_intersection = len(set(df_attrited.MAGPID.unique()).intersection(set(df_nonattrited.MAGPID.unique())))\n",
    "    num_papers_attrited = df_attrited.MAGPID.nunique()-num_intersection\n",
    "    num_papers_nonattrited = df_nonattrited.MAGPID.nunique()-num_intersection\n",
    "    total = len(set(df_attrited.MAGPID.unique()).union(set(df_nonattrited.MAGPID.unique())))\n",
    "\n",
    "    v = venn2(subsets = {'10':num_papers_attrited,\n",
    "                           '01':num_papers_nonattrited, \n",
    "                           '11': num_intersection}, \n",
    "                  set_labels = ('A', 'B'),\n",
    "#                 set_labels = ('Papers with \\nattrited authors', \n",
    "#                             'Papers with \\nnon-attrited authors'),\n",
    "                set_colors = (attrited_color, nonattrited_color),\n",
    "                subset_label_formatter=lambda x: str(x) + \"\\n(\" + f\"{(x/total):1.0%}\" + \")\",\n",
    "                ax = axesi)\n",
    "    # formatting\n",
    "    v.get_patch_by_id('10').set_alpha(0.9)\n",
    "    v.get_patch_by_id('01').set_alpha(0.9)\n",
    "    v.get_patch_by_id('11').set_alpha(0.25)\n",
    "    \n",
    "    # Label for attrited\n",
    "    v.get_label_by_id('10').set_text('')\n",
    "    v.get_label_by_id('01').set_color('white')\n",
    "    v.get_label_by_id('01').set_weight('bold')\n",
    "#     v.get_label_by_id('01').set_text('')\n",
    "    v.get_label_by_id('A').set_text('')\n",
    "    v.get_label_by_id('B').set_text('')\n",
    "    \n",
    "    label_attrited = str(num_papers_attrited) + \"\\n(\" + f\"{(num_papers_attrited/total):1.0%}\" + \")\"\n",
    "#     label_nonattrited = str(num_papers_nonattrited) + \"\\n(\" + f\"{(num_papers_nonattrited/total):1.0%}\" + \")\"\n",
    "    \n",
    "    axesi.annotate(label_attrited, xy = v.get_label_by_id('10').get_position(), xytext = (-20,-10), size = 8,\n",
    "            ha = 'center', textcoords = 'offset points')\n",
    "    \n",
    "#     axesi.annotate(label_nonattrited, xy = v.get_label_by_id('01').get_position(), xytext = (30,-40), size = 8,\n",
    "#             ha = 'center', textcoords = 'offset points',\n",
    "#             arrowprops = dict(arrowstyle = '->', connectionstyle = 'arc3,rad = -0.5',color = 'gray'))\n",
    "    \n",
    "    axesi.set_title('number of papers \\nwith overlap', fontsize=9, y=1.3, pad=-5, verticalalignment=\"top\", loc='center')\n",
    "#     axesi.set_xlabel('Title', rotation=90)\n",
    "    for text in v.subset_labels:\n",
    "        text.set_fontsize(8)\n",
    "        \n",
    "#     for text in v.set_labels:\n",
    "#         text.set_fontsize(9)\n"
   ]
  },
  {
   "cell_type": "code",
   "execution_count": 54,
   "id": "839981bc",
   "metadata": {},
   "outputs": [
    {
     "data": {
      "image/png": "[encoded data removed]",
      "text/plain": [
       "<Figure size 180x144 with 1 Axes>"
      ]
     },
     "metadata": {},
     "output_type": "display_data"
    }
   ],
   "source": [
    "attrited_color = '#8EA7E9'#'#FFD93D'\n",
    "nonattrited_color = \"#fb7285\"\n",
    "other_color = 'gray'\n",
    "\n",
    "plt.rcParams[\"figure.figsize\"] = (2.5,2)\n",
    "\n",
    "fig, axesi = plt.subplots()\n",
    "\n",
    "create_venn(axesi, attrited_color, nonattrited_color)\n",
    "\n",
    "plt.tight_layout()\n",
    "plt.savefig('venn.pdf', format='pdf')"
   ]
  },
  {
   "cell_type": "markdown",
   "id": "db42412e",
   "metadata": {},
   "source": [
    "## Reasons of retraction"
   ]
  },
  {
   "cell_type": "code",
   "execution_count": 55,
   "id": "9f1b5d8e",
   "metadata": {},
   "outputs": [],
   "source": [
    "def create_reasons_plot(axesi, barwidth, ticksize, labelsize, \n",
    "                           attrited_color, nonattrited_color, other_color):\n",
    "    \n",
    "    field_of_interest = 'ReasonPropagatedMajorityOfMajority'\n",
    "    \n",
    "    # Extracting number of authors and their percentage in each gender\n",
    "    # For attrited\n",
    "    num_authors_attrited = df_attrited[['MAGPID',field_of_interest]]\\\n",
    "                                    .drop_duplicates().shape[0]\n",
    "\n",
    "    df_attrited_percent = (df_attrited[['MAGPID',field_of_interest]]\\\n",
    "        .drop_duplicates()[field_of_interest].value_counts()*100/num_authors_attrited)\\\n",
    "        .reset_index().rename(columns={'index':field_of_interest,'count':'Percentage'})\n",
    "    # For nonattrited\n",
    "    num_authors_nonattrited = df_nonattrited[['MAGPID',field_of_interest]]\\\n",
    "                                    .drop_duplicates().shape[0]\n",
    "    \n",
    "    df_nonattrited_percent = (df_nonattrited[['MAGPID',field_of_interest]]\\\n",
    "            .drop_duplicates()[field_of_interest].value_counts()*100/num_authors_nonattrited)\\\n",
    "            .reset_index().rename(columns={'index':field_of_interest,'count':'Percentage'})\n",
    "    \n",
    "    # Creating an order\n",
    "    reasons = ['misconduct','plagiarism','mistake','other']\n",
    "    mapping = {elem: i for i, elem in enumerate(reasons)}\n",
    "    key_attrited = df_attrited_percent[field_of_interest].map(mapping)\n",
    "    key_nonattrited = df_nonattrited_percent[field_of_interest].map(mapping)\n",
    "    \n",
    "    df_attrited_percent = df_attrited_percent.iloc[key_attrited.argsort()]\n",
    "    df_nonattrited_percent = df_nonattrited_percent.iloc[key_nonattrited.argsort()]\n",
    "    \n",
    "    \n",
    "    # set the position of the bars on the x-axis\n",
    "    # For attrited\n",
    "    r1 = np.arange(df_nonattrited_percent[field_of_interest].nunique())\n",
    "    # For non attrited\n",
    "    r2 = [x + barwidth for x in r1]\n",
    "    \n",
    "    # plotting the bars\n",
    "    # for attrited\n",
    "    rects1 = axesi.barh(r1, df_attrited_percent['Percentage'], \n",
    "                     height=barwidth, color = attrited_color, \n",
    "                     )\n",
    "\n",
    "    rects2 = axesi.barh(r2, df_nonattrited_percent['Percentage'], \n",
    "                     height=barwidth, color = nonattrited_color, \n",
    "                     )\n",
    "    \n",
    "    def add_annotations():\n",
    "        # Set up variables for the annotations\n",
    "        precision = 1  # number of decimal places for the annotations\n",
    "        offset = 3  # distance of the annotation from the bar\n",
    "\n",
    "        # Add annotations to the first set of bars\n",
    "        for rect in rects1:\n",
    "            width = rect.get_width()\n",
    "            text = f\"{width:.{precision}f}\"\n",
    "            x = width + offset\n",
    "            y = rect.get_y() + rect.get_height() / 2\n",
    "            axesi.text(x, y, text, ha='left', va='center', fontsize=ticksize)\n",
    "\n",
    "        # Add annotations to the second set of bars\n",
    "        for rect in rects2:\n",
    "            width = rect.get_width()\n",
    "            text = f\"{width:.{precision}f}\"\n",
    "            x = width + offset\n",
    "            y = rect.get_y() + rect.get_height() / 2\n",
    "            axesi.text(x, y, text, ha='left', va='center', fontsize=ticksize)\n",
    "            \n",
    "    add_annotations()\n",
    "    \n",
    "    # Add some text for labels, title and custom x-axis tick labels, etc.\n",
    "    axesi.set_ylabel('reason of retraction', fontsize=labelsize)\n",
    "    axesi.set_xlabel('% papers', fontsize=labelsize)\n",
    "\n",
    "    #axesi.set_title('Impact for the last 5 years (2015-2019)', fontsize=20, pad=15)\n",
    "\n",
    "    #ax.set_xticks(x, labels)\n",
    "    # ax.legend()\n",
    "    axesi.set_facecolor('white')\n",
    "\n",
    "    yticks = [(yi+yj)/2 for (yi,yj) in zip(r1,r2)]\n",
    "\n",
    "    axesi.set_yticks(yticks)\n",
    "    \n",
    "    axesi.set_xticks([0,10,20,30,40])\n",
    "    \n",
    "    axesi.tick_params(labelsize=ticksize)\n",
    "    \n",
    "    yticklabels = df_nonattrited_percent[field_of_interest].tolist()\n",
    "    \n",
    "    axesi.set_yticklabels(yticklabels)\n",
    "    \n",
    "    axesi.spines[['right', 'top', 'left']].set_visible(False)\n",
    "\n",
    "    axesi.invert_yaxis()"
   ]
  },
  {
   "cell_type": "code",
   "execution_count": 56,
   "id": "5f06489b",
   "metadata": {},
   "outputs": [
    {
     "data": {
      "image/png": "[encoded data removed]",
      "text/plain": [
       "<Figure size 182.16x180 with 1 Axes>"
      ]
     },
     "metadata": {
      "needs_background": "light"
     },
     "output_type": "display_data"
    }
   ],
   "source": [
    "attrited_color = '#8EA7E9'#'#FFD93D'\n",
    "nonattrited_color = \"#fb7285\"\n",
    "other_color = 'gray'\n",
    "\n",
    "plt.rcParams[\"figure.figsize\"] = (2.53,2.5)\n",
    "\n",
    "fig, axesi = plt.subplots()\n",
    "\n",
    "ticksize = 8\n",
    "labelsize = 9\n",
    "\n",
    "barwidth = 0.35\n",
    "\n",
    "create_reasons_plot(axesi, barwidth, ticksize, labelsize,\n",
    "                       attrited_color, nonattrited_color, other_color)\n",
    "\n",
    "plt.tight_layout()\n",
    "plt.savefig('reasons.pdf',format='pdf')"
   ]
  },
  {
   "cell_type": "code",
   "execution_count": 57,
   "id": "2fe25d42",
   "metadata": {},
   "outputs": [
    {
     "name": "stdout",
     "output_type": "stream",
     "text": [
      "4267\n"
     ]
    },
    {
     "data": {
      "text/html": [
       "<div>\n",
       "<style scoped>\n",
       "    .dataframe tbody tr th:only-of-type {\n",
       "        vertical-align: middle;\n",
       "    }\n",
       "\n",
       "    .dataframe tbody tr th {\n",
       "        vertical-align: top;\n",
       "    }\n",
       "\n",
       "    .dataframe thead th {\n",
       "        text-align: right;\n",
       "    }\n",
       "</style>\n",
       "<table border=\"1\" class=\"dataframe\">\n",
       "  <thead>\n",
       "    <tr style=\"text-align: right;\">\n",
       "      <th></th>\n",
       "      <th>Percentage</th>\n",
       "      <th>count</th>\n",
       "    </tr>\n",
       "  </thead>\n",
       "  <tbody>\n",
       "    <tr>\n",
       "      <th>0</th>\n",
       "      <td>plagiarism</td>\n",
       "      <td>32.927115</td>\n",
       "    </tr>\n",
       "    <tr>\n",
       "      <th>1</th>\n",
       "      <td>mistake</td>\n",
       "      <td>24.209046</td>\n",
       "    </tr>\n",
       "    <tr>\n",
       "      <th>2</th>\n",
       "      <td>misconduct</td>\n",
       "      <td>23.060698</td>\n",
       "    </tr>\n",
       "    <tr>\n",
       "      <th>3</th>\n",
       "      <td>other</td>\n",
       "      <td>19.803140</td>\n",
       "    </tr>\n",
       "  </tbody>\n",
       "</table>\n",
       "</div>"
      ],
      "text/plain": [
       "   Percentage      count\n",
       "0  plagiarism  32.927115\n",
       "1     mistake  24.209046\n",
       "2  misconduct  23.060698\n",
       "3       other  19.803140"
      ]
     },
     "execution_count": 57,
     "metadata": {},
     "output_type": "execute_result"
    }
   ],
   "source": [
    "num_authors_reason_concatenated = df_concatenated[['MAGPID','ReasonPropagatedMajorityOfMajority']]\\\n",
    "                                    .drop_duplicates().shape[0]\n",
    "\n",
    "print(num_authors_reason_concatenated)\n",
    "\n",
    "(df_concatenated[['MAGPID','ReasonPropagatedMajorityOfMajority']]\\\n",
    "            .drop_duplicates().ReasonPropagatedMajorityOfMajority.value_counts()*100/num_authors_reason_concatenated)\\\n",
    "            .reset_index().rename(columns={'index':'ReasonPropagatedMajorityOfMajority','ReasonPropagatedMajorityOfMajority':'Percentage'})\n",
    "\n",
    "\n"
   ]
  },
  {
   "cell_type": "markdown",
   "id": "997653d7",
   "metadata": {},
   "source": [
    "## Year of Retraction"
   ]
  },
  {
   "cell_type": "code",
   "execution_count": 58,
   "id": "e7591206",
   "metadata": {},
   "outputs": [],
   "source": [
    "def create_retractionyear_plot(axesi, barwidth, ticksize, labelsize, \n",
    "                           attrited_color, nonattrited_color, other_color):\n",
    "    \n",
    "    field_of_interest = 'DemiDecade'\n",
    "    \n",
    "    # Extracting number of authors and their percentage in each gender\n",
    "    # For attrited\n",
    "    num_authors_attrited = df_attrited[['MAGPID',field_of_interest]]\\\n",
    "                                    .drop_duplicates().shape[0]\n",
    "\n",
    "    df_attrited_percent = (df_attrited[['MAGPID',field_of_interest]]\\\n",
    "        .drop_duplicates()[field_of_interest].value_counts()*100/num_authors_attrited)\\\n",
    "        .reset_index().rename(columns={'index':field_of_interest,'count':'Percentage'})\n",
    "    # For nonattrited\n",
    "    num_authors_nonattrited = df_nonattrited[['MAGPID',field_of_interest]]\\\n",
    "                                    .drop_duplicates().shape[0]\n",
    "    \n",
    "    df_nonattrited_percent = (df_nonattrited[['MAGPID',field_of_interest]]\\\n",
    "            .drop_duplicates()[field_of_interest].value_counts()*100/num_authors_nonattrited)\\\n",
    "            .reset_index().rename(columns={'index':field_of_interest,'count':'Percentage'})\n",
    "    \n",
    "    # Creating an order\n",
    "    elements = ['1990-1995','1996-2000','2001-2005','2006-2010','2011-2015']\n",
    "    mapping = {elem: i for i, elem in enumerate(elements)}\n",
    "    key_attrited = df_attrited_percent[field_of_interest].map(mapping)\n",
    "    key_nonattrited = df_nonattrited_percent[field_of_interest].map(mapping)\n",
    "    \n",
    "    df_attrited_percent = df_attrited_percent.iloc[key_attrited.argsort()]\n",
    "    df_nonattrited_percent = df_nonattrited_percent.iloc[key_nonattrited.argsort()]\n",
    "    \n",
    "    \n",
    "    # set the position of the bars on the x-axis\n",
    "    # For attrited\n",
    "    r1 = np.arange(df_nonattrited_percent[field_of_interest].nunique())\n",
    "    # For non attrited\n",
    "    r2 = [x + barwidth for x in r1]\n",
    "    \n",
    "    # plotting the bars\n",
    "    # for attrited\n",
    "    rects1 = axesi.barh(r1, df_attrited_percent['Percentage'], \n",
    "                     height=barwidth, color = attrited_color, \n",
    "                     )\n",
    "\n",
    "    rects2 = axesi.barh(r2, df_nonattrited_percent['Percentage'], \n",
    "                     height=barwidth, color = nonattrited_color, \n",
    "                     )\n",
    "    \n",
    "    def add_annotations():\n",
    "        # Set up variables for the annotations\n",
    "        precision = 1  # number of decimal places for the annotations\n",
    "        offset = 3  # distance of the annotation from the bar\n",
    "\n",
    "        # Add annotations to the first set of bars\n",
    "        for rect in rects1:\n",
    "            width = rect.get_width()\n",
    "            text = f\"{width:.{precision}f}\"\n",
    "            x = width + offset\n",
    "            y = rect.get_y() + rect.get_height() / 2\n",
    "            axesi.text(x, y, text, ha='left', va='center', fontsize=ticksize)\n",
    "\n",
    "        # Add annotations to the second set of bars\n",
    "        for rect in rects2:\n",
    "            width = rect.get_width()\n",
    "            text = f\"{width:.{precision}f}\"\n",
    "            x = width + offset\n",
    "            y = rect.get_y() + rect.get_height() / 2\n",
    "            axesi.text(x, y, text, ha='left', va='center', fontsize=ticksize)\n",
    "            \n",
    "    add_annotations()\n",
    "    \n",
    "    # Add some text for labels, title and custom x-axis tick labels, etc.\n",
    "    axesi.set_ylabel('year of retraction', fontsize=labelsize)\n",
    "    axesi.set_xlabel('% papers', fontsize=labelsize)\n",
    "\n",
    "    #axesi.set_title('Impact for the last 5 years (2015-2019)', fontsize=20, pad=15)\n",
    "\n",
    "    #ax.set_xticks(x, labels)\n",
    "    # ax.legend()\n",
    "    axesi.set_facecolor('white')\n",
    "\n",
    "    yticks = [(yi+yj)/2 for (yi,yj) in zip(r1,r2)]\n",
    "\n",
    "    axesi.set_yticks(yticks)\n",
    "    \n",
    "    axesi.set_xticks([0,20,40,60,80])\n",
    "    \n",
    "    axesi.tick_params(labelsize=ticksize)\n",
    "    \n",
    "    yticklabels = df_nonattrited_percent[field_of_interest].tolist()\n",
    "    \n",
    "    axesi.set_yticklabels(yticklabels)\n",
    "    \n",
    "    axesi.spines[['right', 'top', 'left']].set_visible(False)\n",
    "\n",
    "    axesi.invert_yaxis()\n",
    "    \n",
    "    "
   ]
  },
  {
   "cell_type": "code",
   "execution_count": 59,
   "id": "a3f88de5",
   "metadata": {
    "scrolled": true
   },
   "outputs": [
    {
     "data": {
      "image/png": "[encoded data removed]",
      "text/plain": [
       "<Figure size 182.16x180 with 1 Axes>"
      ]
     },
     "metadata": {
      "needs_background": "light"
     },
     "output_type": "display_data"
    }
   ],
   "source": [
    "attrited_color = '#8EA7E9'#'#FFD93D'\n",
    "nonattrited_color = \"#fb7285\"\n",
    "other_color = 'gray'\n",
    "\n",
    "plt.rcParams[\"figure.figsize\"] = (2.53,2.5)\n",
    "\n",
    "fig, axesi = plt.subplots()\n",
    "\n",
    "ticksize = 8\n",
    "labelsize = 9\n",
    "\n",
    "barwidth = 0.35\n",
    "\n",
    "create_retractionyear_plot(axesi, barwidth, ticksize, labelsize,\n",
    "                       attrited_color, nonattrited_color, other_color)\n",
    "\n",
    "plt.tight_layout()\n",
    "plt.savefig('yearofretraction.pdf',format='pdf')"
   ]
  },
  {
   "cell_type": "markdown",
   "id": "dbc90b4b",
   "metadata": {},
   "source": [
    "## Venue"
   ]
  },
  {
   "cell_type": "code",
   "execution_count": 60,
   "id": "50b6612d",
   "metadata": {},
   "outputs": [],
   "source": [
    "def create_venue_plot(axesi, barwidth, ticksize, labelsize, \n",
    "                           attrited_color, nonattrited_color, other_color):\n",
    "    \n",
    "    field_of_interest = 'MAGJournalType'\n",
    "    \n",
    "    # Extracting number of authors and their percentage in each gender\n",
    "    # For attrited\n",
    "    num_authors_attrited = df_attrited[['MAGPID',field_of_interest]]\\\n",
    "                                    .drop_duplicates().shape[0]\n",
    "\n",
    "    df_attrited_percent = (df_attrited[['MAGPID',field_of_interest]]\\\n",
    "        .drop_duplicates()[field_of_interest].value_counts()*100/num_authors_attrited)\\\n",
    "        .reset_index().rename(columns={'index':field_of_interest,'count':'Percentage'})\n",
    "    # For nonattrited\n",
    "    num_authors_nonattrited = df_nonattrited[['MAGPID',field_of_interest]]\\\n",
    "                                    .drop_duplicates().shape[0]\n",
    "    \n",
    "    df_nonattrited_percent = (df_nonattrited[['MAGPID',field_of_interest]]\\\n",
    "            .drop_duplicates()[field_of_interest].value_counts()*100/num_authors_nonattrited)\\\n",
    "            .reset_index().rename(columns={'index':field_of_interest,'count':'Percentage'})\n",
    "    \n",
    "    # Creating an order\n",
    "    elements = ['journal','conference']\n",
    "    mapping = {elem: i for i, elem in enumerate(elements)}\n",
    "    key_attrited = df_attrited_percent[field_of_interest].map(mapping)\n",
    "    key_nonattrited = df_nonattrited_percent[field_of_interest].map(mapping)\n",
    "    \n",
    "    df_attrited_percent = df_attrited_percent.iloc[key_attrited.argsort()]\n",
    "    df_nonattrited_percent = df_nonattrited_percent.iloc[key_nonattrited.argsort()]\n",
    "    \n",
    "    \n",
    "    # set the position of the bars on the x-axis\n",
    "    # For attrited\n",
    "    r1 = np.arange(df_nonattrited_percent[field_of_interest].nunique())\n",
    "    # For non attrited\n",
    "    r2 = [x + barwidth for x in r1]\n",
    "    \n",
    "    # plotting the bars\n",
    "    # for attrited\n",
    "    rects1 = axesi.barh(r1, df_attrited_percent['Percentage'], \n",
    "                     height=barwidth, color = attrited_color, \n",
    "                     )\n",
    "\n",
    "    rects2 = axesi.barh(r2, df_nonattrited_percent['Percentage'], \n",
    "                     height=barwidth, color = nonattrited_color, \n",
    "                     )\n",
    "    def add_annotations():\n",
    "        # Set up variables for the annotations\n",
    "        precision = 1  # number of decimal places for the annotations\n",
    "        offset = 3  # distance of the annotation from the bar\n",
    "\n",
    "        # Add annotations to the first set of bars\n",
    "        for rect in rects1:\n",
    "            width = rect.get_width()\n",
    "            text = f\"{width:.{precision}f}\"\n",
    "            x = width + offset\n",
    "            y = rect.get_y() + rect.get_height() / 2\n",
    "            axesi.text(x, y, text, ha='left', va='center', fontsize=ticksize)\n",
    "\n",
    "        # Add annotations to the second set of bars\n",
    "        for rect in rects2:\n",
    "            width = rect.get_width()\n",
    "            text = f\"{width:.{precision}f}\"\n",
    "            x = width + offset\n",
    "            y = rect.get_y() + rect.get_height() / 2\n",
    "            axesi.text(x, y, text, ha='left', va='center', fontsize=ticksize)\n",
    "            \n",
    "    add_annotations()\n",
    "    \n",
    "    # Add some text for labels, title and custom x-axis tick labels, etc.\n",
    "    axesi.set_ylabel('venue', fontsize=labelsize)\n",
    "    axesi.set_xlabel('% papers', fontsize=labelsize)\n",
    "\n",
    "    #axesi.set_title('Impact for the last 5 years (2015-2019)', fontsize=20, pad=15)\n",
    "\n",
    "    #ax.set_xticks(x, labels)\n",
    "    # ax.legend()\n",
    "    axesi.set_facecolor('white')\n",
    "\n",
    "    yticks = [(yi+yj)/2 for (yi,yj) in zip(r1,r2)]\n",
    "\n",
    "    axesi.set_yticks(yticks)\n",
    "    \n",
    "    axesi.set_xticks([0,20,40,60,80,100])\n",
    "    \n",
    "    axesi.tick_params(labelsize=ticksize)\n",
    "    \n",
    "    yticklabels = df_nonattrited_percent[field_of_interest].tolist()\n",
    "    \n",
    "    axesi.set_yticklabels(yticklabels)\n",
    "    \n",
    "    axesi.spines[['right', 'top', 'left']].set_visible(False)\n",
    "\n",
    "    axesi.invert_yaxis()\n",
    "    \n",
    "    plt.tight_layout()\n",
    "    plt.savefig('venue.pdf',format='pdf')"
   ]
  },
  {
   "cell_type": "code",
   "execution_count": 61,
   "id": "c12f5475",
   "metadata": {},
   "outputs": [],
   "source": [
    "def create_venue_plot_horizontal(axesi, barwidth, ticksize, labelsize, \n",
    "                           attrited_color, nonattrited_color, other_color):\n",
    "    \n",
    "    field_of_interest = 'MAGJournalType'\n",
    "    \n",
    "    # Extracting number of authors and their percentage in each gender\n",
    "    # For attrited\n",
    "    num_authors_attrited = df_attrited[['MAGPID',field_of_interest]]\\\n",
    "                                    .drop_duplicates().shape[0]\n",
    "\n",
    "    df_attrited_percent = (df_attrited[['MAGPID',field_of_interest]]\\\n",
    "        .drop_duplicates()[field_of_interest].value_counts()*100/num_authors_attrited)\\\n",
    "        .reset_index().rename(columns={'index':field_of_interest,'count':'Percentage'})\n",
    "    # For nonattrited\n",
    "    num_authors_nonattrited = df_nonattrited[['MAGPID',field_of_interest]]\\\n",
    "                                    .drop_duplicates().shape[0]\n",
    "    \n",
    "    df_nonattrited_percent = (df_nonattrited[['MAGPID',field_of_interest]]\\\n",
    "            .drop_duplicates()[field_of_interest].value_counts()*100/num_authors_nonattrited)\\\n",
    "            .reset_index().rename(columns={'index':field_of_interest,'count':'Percentage'})\n",
    "    \n",
    "    # Creating an order\n",
    "    elements = ['journal','conference']\n",
    "    mapping = {elem: i for i, elem in enumerate(elements)}\n",
    "    key_attrited = df_attrited_percent[field_of_interest].map(mapping)\n",
    "    key_nonattrited = df_nonattrited_percent[field_of_interest].map(mapping)\n",
    "    \n",
    "    df_attrited_percent = df_attrited_percent.iloc[key_attrited.argsort()]\n",
    "    df_nonattrited_percent = df_nonattrited_percent.iloc[key_nonattrited.argsort()]\n",
    "    \n",
    "    \n",
    "    # set the position of the bars on the x-axis\n",
    "    # For attrited\n",
    "    r1 = np.arange(df_nonattrited_percent[field_of_interest].nunique())\n",
    "    # For non attrited\n",
    "    r2 = [x + barwidth for x in r1]\n",
    "    \n",
    "    # plotting the bars\n",
    "    # for attrited\n",
    "    rects1 = axesi.bar(r1, df_attrited_percent['Percentage'], \n",
    "                     width=barwidth, color = attrited_color, \n",
    "                     )\n",
    "\n",
    "    rects2 = axesi.bar(r2, df_nonattrited_percent['Percentage'], \n",
    "                     width=barwidth, color = nonattrited_color, \n",
    "                     )\n",
    "    def add_annotations():\n",
    "        # Set up variables for the annotations\n",
    "        precision = 1  # number of decimal places for the annotations\n",
    "        offset = 10  # distance of the annotation from the bar\n",
    "\n",
    "        # Add annotations to the first set of bars\n",
    "        for rect in rects1:\n",
    "            height = rect.get_height()\n",
    "            text = f\"{height:.{precision}f}\"\n",
    "            x = rect.get_x() + rect.get_width() / 2\n",
    "            y = height + offset\n",
    "            axesi.text(x, y, text, ha='center', va='center', fontsize=ticksize)\n",
    "            \n",
    "        for rect in rects2:\n",
    "            height = rect.get_height()\n",
    "            text = f\"{height:.{precision}f}\"\n",
    "            x = rect.get_x() + rect.get_width() / 2\n",
    "            y = height + offset\n",
    "            axesi.text(x, y, text, ha='center', va='center', fontsize=ticksize)\n",
    "\n",
    "#         # Add annotations to the second set of bars\n",
    "#         for rect in rects2:\n",
    "#             width = rect.get_width()\n",
    "#             text = f\"{width:.{precision}f}\"\n",
    "#             x = width + offset\n",
    "#             y = rect.get_y() + rect.get_height() / 2\n",
    "#             axesi.text(x, y, text, ha='left', va='center', fontsize=ticksize)\n",
    "\n",
    "            \n",
    "    add_annotations()\n",
    "    \n",
    "    # Add some text for labels, title and custom x-axis tick labels, etc.\n",
    "    axesi.set_ylabel('% papers', fontsize=labelsize)\n",
    "    axesi.set_xlabel('venue', fontsize=labelsize)\n",
    "\n",
    "    #axesi.set_title('Impact for the last 5 years (2015-2019)', fontsize=20, pad=15)\n",
    "\n",
    "    #ax.set_xticks(x, labels)\n",
    "    # ax.legend()\n",
    "    axesi.set_facecolor('white')\n",
    "\n",
    "    xticks = [(xi+xj)/2 for (xi,xj) in zip(r1,r2)]\n",
    "\n",
    "    axesi.set_xticks(xticks)\n",
    "    \n",
    "#     axesi.set_yticks([0,20,40,60,80,100])\n",
    "    \n",
    "    axesi.tick_params(labelsize=ticksize)\n",
    "    \n",
    "    xticklabels = df_nonattrited_percent[field_of_interest].tolist()\n",
    "    \n",
    "    axesi.set_xticklabels(xticklabels)\n",
    "    \n",
    "    axesi.spines[['right', 'top', 'left']].set_visible(False)\n",
    "\n",
    "#     axesi.invert_yaxis()\n",
    "    \n",
    "    plt.tight_layout()\n",
    "    plt.savefig('venue_h.pdf',format='pdf')"
   ]
  },
  {
   "cell_type": "code",
   "execution_count": 62,
   "id": "db0e1c9d",
   "metadata": {},
   "outputs": [
    {
     "data": {
      "image/png": "[encoded data removed]",
      "text/plain": [
       "<Figure size 182.16x108 with 1 Axes>"
      ]
     },
     "metadata": {
      "needs_background": "light"
     },
     "output_type": "display_data"
    }
   ],
   "source": [
    "attrited_color = '#8EA7E9'#'#FFD93D'\n",
    "nonattrited_color = \"#fb7285\"\n",
    "other_color = 'gray'\n",
    "\n",
    "plt.rcParams[\"figure.figsize\"] = (2.53,1.5)\n",
    "\n",
    "fig, axesi = plt.subplots()\n",
    "\n",
    "ticksize = 8\n",
    "labelsize = 9\n",
    "\n",
    "barwidth = 0.35\n",
    "\n",
    "create_venue_plot(axesi, barwidth, ticksize, labelsize,\n",
    "                       attrited_color, nonattrited_color, other_color)"
   ]
  },
  {
   "cell_type": "code",
   "execution_count": 63,
   "id": "1f212099",
   "metadata": {},
   "outputs": [
    {
     "data": {
      "image/png": "[encoded data removed]",
      "text/plain": [
       "<Figure size 182.16x108 with 1 Axes>"
      ]
     },
     "metadata": {
      "needs_background": "light"
     },
     "output_type": "display_data"
    }
   ],
   "source": [
    "attrited_color = '#8EA7E9'#'#FFD93D'\n",
    "nonattrited_color = \"#fb7285\"\n",
    "other_color = 'gray'\n",
    "\n",
    "plt.rcParams[\"figure.figsize\"] = (2.53,1.5)\n",
    "\n",
    "fig, axesi = plt.subplots()\n",
    "\n",
    "ticksize = 8\n",
    "labelsize = 9\n",
    "\n",
    "barwidth = 0.35\n",
    "\n",
    "create_venue_plot_horizontal(axesi, barwidth, ticksize, labelsize,\n",
    "                       attrited_color, nonattrited_color, other_color)"
   ]
  },
  {
   "cell_type": "markdown",
   "id": "873a232f",
   "metadata": {},
   "source": [
    "## Journal Ranking"
   ]
  },
  {
   "cell_type": "code",
   "execution_count": 64,
   "id": "0ac0d265",
   "metadata": {},
   "outputs": [],
   "source": [
    "def create_journalranking_plot(axesi, barwidth, ticksize, labelsize, \n",
    "                           attrited_color, nonattrited_color, other_color):\n",
    "    \n",
    "    field_of_interest = 'SJRQuartileRetractedPaperYear'\n",
    "    \n",
    "    # Extracting number of authors and their percentage in each gender\n",
    "    # For attrited\n",
    "    num_authors_attrited = df_attrited[['MAGPID',field_of_interest]]\\\n",
    "                                    .drop_duplicates().shape[0]\n",
    "\n",
    "    df_attrited_percent = (df_attrited[['MAGPID',field_of_interest]]\\\n",
    "        .drop_duplicates()[field_of_interest].value_counts()*100/num_authors_attrited)\\\n",
    "        .reset_index().rename(columns={'index':field_of_interest,'count':'Percentage'})\n",
    "    # For nonattrited\n",
    "    num_authors_nonattrited = df_nonattrited[['MAGPID',field_of_interest]]\\\n",
    "                                    .drop_duplicates().shape[0]\n",
    "    \n",
    "    df_nonattrited_percent = (df_nonattrited[['MAGPID',field_of_interest]]\\\n",
    "            .drop_duplicates()[field_of_interest].value_counts()*100/num_authors_nonattrited)\\\n",
    "            .reset_index().rename(columns={'index':field_of_interest,'count':'Percentage'})\n",
    "    \n",
    "    \n",
    "    # Creating an order\n",
    "    elements = ['Q1','Q2','Q3','Q4','NA']\n",
    "    mapping = {elem: i for i, elem in enumerate(elements)}\n",
    "    key_attrited = df_attrited_percent[field_of_interest].map(mapping)\n",
    "    key_nonattrited = df_nonattrited_percent[field_of_interest].map(mapping)\n",
    "    \n",
    "    df_attrited_percent = df_attrited_percent.iloc[key_attrited.argsort()]\n",
    "    df_nonattrited_percent = df_nonattrited_percent.iloc[key_nonattrited.argsort()]\n",
    "    \n",
    "    \n",
    "    # set the position of the bars on the x-axis\n",
    "    # For attrited\n",
    "    r1 = np.arange(df_nonattrited_percent[field_of_interest].nunique())\n",
    "    # For non attrited\n",
    "    r2 = [x + barwidth for x in r1]\n",
    "    \n",
    "    # plotting the bars\n",
    "    # for attrited\n",
    "    rects1 = axesi.barh(r1, df_attrited_percent['Percentage'], \n",
    "                     height=barwidth, color = attrited_color, \n",
    "                     )\n",
    "\n",
    "    rects2 = axesi.barh(r2, df_nonattrited_percent['Percentage'], \n",
    "                     height=barwidth, color = nonattrited_color, \n",
    "                     )\n",
    "    \n",
    "    def add_annotations():\n",
    "        # Set up variables for the annotations\n",
    "        precision = 1  # number of decimal places for the annotations\n",
    "        offset = 3  # distance of the annotation from the bar\n",
    "\n",
    "        # Add annotations to the first set of bars\n",
    "        for rect in rects1:\n",
    "            width = rect.get_width()\n",
    "            text = f\"{width:.{precision}f}\"\n",
    "            x = width + offset\n",
    "            y = rect.get_y() + rect.get_height() / 2\n",
    "            axesi.text(x, y, text, ha='left', va='center', fontsize=ticksize)\n",
    "\n",
    "        # Add annotations to the second set of bars\n",
    "        for rect in rects2:\n",
    "            width = rect.get_width()\n",
    "            text = f\"{width:.{precision}f}\"\n",
    "            x = width + offset\n",
    "            y = rect.get_y() + rect.get_height() / 2\n",
    "            axesi.text(x, y, text, ha='left', va='center', fontsize=ticksize)\n",
    "            \n",
    "    add_annotations()\n",
    "    \n",
    "    # Add some text for labels, title and custom x-axis tick labels, etc.\n",
    "    axesi.set_ylabel('journal or conference\\nranking', fontsize=labelsize)\n",
    "    axesi.set_xlabel('% papers', fontsize=labelsize)\n",
    "\n",
    "    #axesi.set_title('Impact for the last 5 years (2015-2019)', fontsize=20, pad=15)\n",
    "\n",
    "    #ax.set_xticks(x, labels)\n",
    "    # ax.legend()\n",
    "    axesi.set_facecolor('white')\n",
    "\n",
    "    yticks = [(yi+yj)/2 for (yi,yj) in zip(r1,r2)]\n",
    "\n",
    "    axesi.set_yticks(yticks)\n",
    "    \n",
    "    axesi.set_xticks([0,20,40,60])\n",
    "    \n",
    "    axesi.tick_params(labelsize=ticksize)\n",
    "    \n",
    "    yticklabels = df_nonattrited_percent[field_of_interest].tolist()\n",
    "    \n",
    "    axesi.set_yticklabels(yticklabels)\n",
    "    \n",
    "    axesi.spines[['right', 'top', 'left']].set_visible(False)\n",
    "\n",
    "    axesi.invert_yaxis()"
   ]
  },
  {
   "cell_type": "code",
   "execution_count": 65,
   "id": "c222ad9b",
   "metadata": {},
   "outputs": [],
   "source": [
    "def create_journalranking_plot_horizontal(axesi, barwidth, ticksize, labelsize, \n",
    "                           attrited_color, nonattrited_color, other_color):\n",
    "    \n",
    "    field_of_interest = 'SJRQuartileRetractedPaperYear'\n",
    "    \n",
    "    # Extracting number of authors and their percentage in each gender\n",
    "    # For attrited\n",
    "    num_authors_attrited = df_attrited[['MAGPID',field_of_interest]]\\\n",
    "                                    .drop_duplicates().shape[0]\n",
    "\n",
    "    df_attrited_percent = (df_attrited[['MAGPID',field_of_interest]]\\\n",
    "        .drop_duplicates()[field_of_interest].value_counts()*100/num_authors_attrited)\\\n",
    "        .reset_index().rename(columns={'index':field_of_interest,'count':'Percentage'})\n",
    "    # For nonattrited\n",
    "    num_authors_nonattrited = df_nonattrited[['MAGPID',field_of_interest]]\\\n",
    "                                    .drop_duplicates().shape[0]\n",
    "    \n",
    "    df_nonattrited_percent = (df_nonattrited[['MAGPID',field_of_interest]]\\\n",
    "            .drop_duplicates()[field_of_interest].value_counts()*100/num_authors_nonattrited)\\\n",
    "            .reset_index().rename(columns={'index':field_of_interest,'count':'Percentage'})\n",
    "    \n",
    "    \n",
    "    # Creating an order\n",
    "    elements = ['Q1','Q2','Q3','Q4','NA']\n",
    "    mapping = {elem: i for i, elem in enumerate(elements)}\n",
    "    key_attrited = df_attrited_percent[field_of_interest].map(mapping)\n",
    "    key_nonattrited = df_nonattrited_percent[field_of_interest].map(mapping)\n",
    "    \n",
    "    df_attrited_percent = df_attrited_percent.iloc[key_attrited.argsort()]\n",
    "    df_nonattrited_percent = df_nonattrited_percent.iloc[key_nonattrited.argsort()]\n",
    "    \n",
    "    \n",
    "    # set the position of the bars on the x-axis\n",
    "    # For attrited\n",
    "    r1 = np.arange(df_nonattrited_percent[field_of_interest].nunique())\n",
    "    # For non attrited\n",
    "    r2 = [x + barwidth for x in r1]\n",
    "    \n",
    "    # plotting the bars\n",
    "    # for attrited\n",
    "    rects1 = axesi.bar(r1, df_attrited_percent['Percentage'], \n",
    "                     width=barwidth, color = attrited_color, \n",
    "                     )\n",
    "\n",
    "    rects2 = axesi.bar(r2, df_nonattrited_percent['Percentage'], \n",
    "                     width=barwidth, color = nonattrited_color, \n",
    "                     )\n",
    "    \n",
    "    def add_annotations():\n",
    "        # Set up variables for the annotations\n",
    "        precision = 1  # number of decimal places for the annotations\n",
    "        offset = 10  # distance of the annotation from the bar\n",
    "\n",
    "        # Add annotations to the first set of bars\n",
    "        for rect in rects1:\n",
    "            height = rect.get_height()\n",
    "            text = f\"{height:.{precision}f}\"\n",
    "            x = rect.get_x() + rect.get_width() / 2\n",
    "            y = height + offset\n",
    "            axesi.text(x, y, text, ha='center', va='center', fontsize=ticksize)\n",
    "            \n",
    "        for rect in rects2:\n",
    "            height = rect.get_height()\n",
    "            text = f\"{height:.{precision}f}\"\n",
    "            x = rect.get_x() + rect.get_width() / 2\n",
    "            y = height + offset\n",
    "            axesi.text(x, y, text, ha='center', va='center', fontsize=ticksize)\n",
    "            \n",
    "    add_annotations()\n",
    "    \n",
    "    # Add some text for labels, title and custom x-axis tick labels, etc.\n",
    "    axesi.set_xlabel('journal or conference\\nranking', fontsize=labelsize)\n",
    "    axesi.set_ylabel('% papers', fontsize=labelsize)\n",
    "\n",
    "    axesi.set_facecolor('white')\n",
    "\n",
    "    xticks = [(xi+xj)/2 for (xi,xj) in zip(r1,r2)]\n",
    "\n",
    "    axesi.set_xticks(xticks)\n",
    "    \n",
    "    axesi.tick_params(labelsize=ticksize)\n",
    "    \n",
    "    xticklabels = df_nonattrited_percent[field_of_interest].tolist()\n",
    "    \n",
    "    axesi.set_xticklabels(xticklabels)\n",
    "    \n",
    "    axesi.spines[['right', 'top']].set_visible(False)\n"
   ]
  },
  {
   "cell_type": "code",
   "execution_count": 66,
   "id": "d92c752c",
   "metadata": {},
   "outputs": [
    {
     "data": {
      "image/png": "[encoded data removed]",
      "text/plain": [
       "<Figure size 165.6x180 with 1 Axes>"
      ]
     },
     "metadata": {
      "needs_background": "light"
     },
     "output_type": "display_data"
    }
   ],
   "source": [
    "attrited_color = '#8EA7E9'#'#FFD93D'\n",
    "nonattrited_color = \"#fb7285\"\n",
    "other_color = 'gray'\n",
    "\n",
    "plt.rcParams[\"figure.figsize\"] = (2.3,2.5)\n",
    "\n",
    "fig, axesi = plt.subplots()\n",
    "\n",
    "ticksize = 8\n",
    "labelsize = 9\n",
    "\n",
    "barwidth = 0.35\n",
    "\n",
    "create_journalranking_plot(axesi, barwidth, ticksize, labelsize,\n",
    "                       attrited_color, nonattrited_color, other_color)\n",
    "\n",
    "\n",
    "plt.tight_layout()\n",
    "plt.savefig('journalranking.pdf',format='pdf')"
   ]
  },
  {
   "cell_type": "code",
   "execution_count": 67,
   "id": "b9bacba7",
   "metadata": {},
   "outputs": [
    {
     "data": {
      "image/png": "[encoded data removed]",
      "text/plain": [
       "<Figure size 288x216 with 1 Axes>"
      ]
     },
     "metadata": {
      "needs_background": "light"
     },
     "output_type": "display_data"
    }
   ],
   "source": [
    "attrited_color = '#8EA7E9'#'#FFD93D'\n",
    "nonattrited_color = \"#fb7285\"\n",
    "other_color = 'gray'\n",
    "\n",
    "plt.rcParams[\"figure.figsize\"] = (4,3)\n",
    "\n",
    "fig, axesi = plt.subplots()\n",
    "\n",
    "ticksize = 7\n",
    "labelsize = 8\n",
    "\n",
    "barwidth = 0.35\n",
    "\n",
    "create_journalranking_plot_horizontal(axesi, barwidth, ticksize, labelsize,\n",
    "                       attrited_color, nonattrited_color, other_color)"
   ]
  },
  {
   "cell_type": "code",
   "execution_count": 68,
   "id": "9d9fd33d",
   "metadata": {},
   "outputs": [
    {
     "data": {
      "text/plain": [
       "9099"
      ]
     },
     "execution_count": 68,
     "metadata": {},
     "output_type": "execute_result"
    }
   ],
   "source": [
    "df_main[~df_main.SJRQuartileRetractedPaperYear.isna() & ~df_main.AttritedClass.eq(-1)].MAGAID.nunique()"
   ]
  },
  {
   "cell_type": "code",
   "execution_count": 69,
   "id": "40306749",
   "metadata": {},
   "outputs": [
    {
     "data": {
      "text/plain": [
       "2954"
      ]
     },
     "execution_count": 69,
     "metadata": {},
     "output_type": "execute_result"
    }
   ],
   "source": [
    "df_main[~df_main.SJRQuartileRetractedPaperYear.isna() & ~df_main.AttritedClass.eq(-1)]['Record ID'].nunique()"
   ]
  },
  {
   "cell_type": "code",
   "execution_count": 70,
   "id": "685188dc",
   "metadata": {},
   "outputs": [
    {
     "data": {
      "text/plain": [
       "AttritedClass\n",
       " 0    7461\n",
       " 1    1638\n",
       "-1    1280\n",
       "Name: count, dtype: int64"
      ]
     },
     "execution_count": 70,
     "metadata": {},
     "output_type": "execute_result"
    }
   ],
   "source": [
    "df_main[~df_main.SJRQuartileRetractedPaperYear.isna()][['MAGAID','AttritedClass']].drop_duplicates()\\\n",
    "        .AttritedClass.value_counts()"
   ]
  },
  {
   "cell_type": "code",
   "execution_count": 71,
   "id": "91f38332",
   "metadata": {},
   "outputs": [
    {
     "data": {
      "text/plain": [
       "3801"
      ]
     },
     "execution_count": 71,
     "metadata": {},
     "output_type": "execute_result"
    }
   ],
   "source": [
    "df_main[~df_main.AttritedClass.isin([1,-1])]['Record ID'].nunique()"
   ]
  },
  {
   "cell_type": "code",
   "execution_count": 72,
   "id": "12c1ace4",
   "metadata": {},
   "outputs": [
    {
     "data": {
      "text/plain": [
       "10342"
      ]
     },
     "execution_count": 72,
     "metadata": {},
     "output_type": "execute_result"
    }
   ],
   "source": [
    "df_main[~df_main.AttritedClass.isin([1,-1])].MAGAID.nunique()"
   ]
  },
  {
   "cell_type": "markdown",
   "id": "0ae94d7d",
   "metadata": {},
   "source": [
    "## Number of authors"
   ]
  },
  {
   "cell_type": "code",
   "execution_count": 73,
   "id": "f2a47d74",
   "metadata": {},
   "outputs": [
    {
     "data": {
      "image/png": "[encoded data removed]",
      "text/plain": [
       "<Figure size 180x144 with 1 Axes>"
      ]
     },
     "metadata": {
      "needs_background": "light"
     },
     "output_type": "display_data"
    }
   ],
   "source": [
    "attrited_color = '#8EA7E9'#'#FFD93D'\n",
    "nonattrited_color = \"#fb7285\"\n",
    "other_color = 'gray'\n",
    "\n",
    "plt.rcParams[\"figure.figsize\"] = (2.5,2)\n",
    "\n",
    "fig, axesi = plt.subplots()\n",
    "\n",
    "def create_numauthors_boxplot(axesi):\n",
    "\n",
    "    ticksize = 8\n",
    "    labelsize = 9\n",
    "\n",
    "    barwidth = 0.35\n",
    "\n",
    "    field_of_interest = 'NumAuthorsInRetractedPaper'\n",
    "    ylabel = 'number of coauthors\\n on the retracted paper'\n",
    "\n",
    "    create_box_plot(field_of_interest, ylabel, axesi, barwidth, ticksize, labelsize,\n",
    "                           attrited_color, nonattrited_color, other_color, remove_outliers=True,\n",
    "                          handle_gaps=[1,2])\n",
    "\n",
    "create_numauthors_boxplot(axesi)\n",
    "plt.tight_layout()\n",
    "plt.savefig('numauthors.pdf',format='pdf')"
   ]
  },
  {
   "cell_type": "markdown",
   "id": "10f9165a",
   "metadata": {},
   "source": [
    "# Attrition bar plot (Figure a)"
   ]
  },
  {
   "cell_type": "code",
   "execution_count": 74,
   "id": "668836db",
   "metadata": {},
   "outputs": [
    {
     "name": "stdout",
     "output_type": "stream",
     "text": [
      "    YearsActiveNew  MAGAID  Percentage of Retracted Scientists\n",
      "55            -9.0      57                            1.090909\n",
      "58            -6.0      86                            1.645933\n",
      "59            -5.0     134                            2.564593\n",
      "60            -4.0     184                            3.521531\n",
      "61            -3.0     259                            4.956938\n",
      "62            -2.0     426                            8.153110\n",
      "63            -1.0     884                           16.918660\n",
      "64             0.0    1516                           29.014354\n",
      "65             1.0     352                            6.736842\n",
      "66             2.0     243                            4.650718\n",
      "67             3.0     152                            2.909091\n",
      "68             4.0      92                            1.760766\n",
      "Percentage outside of range 11.081339713000002\n"
     ]
    },
    {
     "data": {
      "image/png": "[encoded data removed]",
      "text/plain": [
       "<Figure size 597.6x122.4 with 1 Axes>"
      ]
     },
     "metadata": {
      "needs_background": "light"
     },
     "output_type": "display_data"
    }
   ],
   "source": [
    "from matplotlib.gridspec import GridSpec\n",
    "attrited_color = '#8EA7E9'#'#FFD93D'\n",
    "nonattrited_color = \"#fb7285\"\n",
    "other_color = 'gray'\n",
    "import matplotlib.patches as patches\n",
    "\n",
    "ticksize = 8\n",
    "labelsize = 9\n",
    "\n",
    "ticksize = 7\n",
    "labelsize = 8\n",
    "\n",
    "# Define a 1x1 grid\n",
    "fig = plt.figure(figsize=(8.3,1.7))\n",
    "\n",
    "\n",
    "gs = fig.add_gridspec(1,1)\n",
    "\n",
    "# Discipline plot 12 bars\n",
    "axesi = fig.add_subplot(gs[:, :])\n",
    "\n",
    "create_attrition_barplot(axesi, ticksize, labelsize, attrited_color,\n",
    "                        nonattrited_color, other_color)\n",
    "\n",
    "legend_handles = [patches.Rectangle((0,0),1,1, color=attrited_color),\n",
    "                  patches.Rectangle((0,0),1,1, color=nonattrited_color)]\n",
    "legend_labels = ['left publishing', 'did not leave publishing']\n",
    "\n",
    "fig.legend(handles=legend_handles, labels=legend_labels, loc='upper center', ncol=2,\n",
    "          bbox_to_anchor=(0.5, 1.3), frameon=False)\n",
    "\n",
    "rect = Rectangle((0, 0), 1, 1.1, transform=fig.transFigure, fill=False, edgecolor='black')\n",
    "fig.patches.append(rect)\n",
    "\n",
    "fig.text(rect.get_x()+0.01, rect.get_y() + rect.get_height()-0.02, 'a', fontsize=16, weight='bold',\n",
    "        ha='left', va='top')\n",
    "\n",
    "plt.tight_layout()\n",
    "\n",
    "plt.savefig('plots/attrition_barplot_a.pdf',format='pdf', bbox_inches='tight')\n",
    "\n"
   ]
  },
  {
   "cell_type": "markdown",
   "id": "c042e259",
   "metadata": {},
   "source": [
    "# Merged plot: Author attributes (Figure b)"
   ]
  },
  {
   "cell_type": "code",
   "execution_count": 75,
   "id": "5cd59978",
   "metadata": {},
   "outputs": [
    {
     "name": "stdout",
     "output_type": "stream",
     "text": [
      "        MAGFieldName  Percentage\n",
      "0            biology   28.965517\n",
      "2          chemistry   20.041797\n",
      "1           medicine   22.528736\n",
      "4            physics    8.213166\n",
      "3  other STEM fields   18.307210\n",
      "5    non-STEM fields    1.943574\n"
     ]
    },
    {
     "data": {
      "image/png": "[encoded data removed]",
      "text/plain": [
       "<Figure size 597.6x360 with 8 Axes>"
      ]
     },
     "metadata": {
      "needs_background": "light"
     },
     "output_type": "display_data"
    }
   ],
   "source": [
    "# tickfontsize = 7\n",
    "# labelfontsize = 8\n",
    "# subtitlefontsize = 8\n",
    "# panellabelsize = 9\n",
    "from matplotlib.patches import Rectangle\n",
    "\n",
    "attrited_color = '#8EA7E9'\n",
    "# attrited_color ='#FFD93D'\n",
    "# attrited_color = '#B2A4FF' #purple\n",
    "# attrited_color = '#D7C0AE' # beige\n",
    "nonattrited_color = \"#fb7285\"\n",
    "other_color = 'gray'\n",
    "\n",
    "# plt.rcParams[\"figure.figsize\"] = (8.3,4)\n",
    "\n",
    "fig = plt.figure(figsize=(8.3,5))\n",
    "\n",
    "ticksize = 7\n",
    "labelsize = 8\n",
    "\n",
    "gs = fig.add_gridspec(8,6)\n",
    "# Discipline plot 12 bars\n",
    "ax1 = fig.add_subplot(gs[:5, :2])\n",
    "# Affiliation rank 8 bars\n",
    "ax2 = fig.add_subplot(gs[5:, :2])\n",
    "# Gender 4 bars\n",
    "ax3 = fig.add_subplot(gs[:2, 2:4])\n",
    "# Career age box \n",
    "ax4 = fig.add_subplot(gs[2:5, 2:4])\n",
    "# Papers box\n",
    "ax5 = fig.add_subplot(gs[5:, 2:4])\n",
    "# Author order 4 bars\n",
    "ax6 = fig.add_subplot(gs[:2, 4:])\n",
    "# Citationx box\n",
    "ax7 = fig.add_subplot(gs[2:5, 4:])\n",
    "# Collab box\n",
    "ax8 = fig.add_subplot(gs[5:, 4:])\n",
    "\n",
    "# create_attrition_barplot(ax1, ticksize, labelsize, attrited_color,\n",
    "#                         nonattrited_color, other_color)\n",
    "\n",
    "\n",
    "barwidth = 0.35\n",
    "\n",
    "create_discipline_plot(ax1, barwidth, ticksize, labelsize,\n",
    "                       attrited_color, nonattrited_color, other_color)\n",
    "\n",
    "\n",
    "create_affrank_plot(ax2, barwidth, ticksize, labelsize,\n",
    "                       attrited_color, nonattrited_color, other_color)\n",
    "\n",
    "\n",
    "create_gender_plot(ax3, barwidth, ticksize, labelsize,\n",
    "                       attrited_color, nonattrited_color, other_color)\n",
    "\n",
    "\n",
    "create_age_boxplot(ax4)\n",
    "\n",
    "create_papers_boxplot(ax5)\n",
    "\n",
    "create_authororder_plot(ax6, barwidth, ticksize, labelsize,\n",
    "                       attrited_color, nonattrited_color, other_color)\n",
    "\n",
    "create_citations_boxplot(ax7)\n",
    "\n",
    "create_collaborators_boxplot(ax8)\n",
    "\n",
    "\n",
    "rect = Rectangle((0, 0), 1, 1, transform=fig.transFigure, fill=False, edgecolor='black')\n",
    "fig.patches.append(rect)\n",
    "# rect_ax = fig.add_subplot(gs[:, :])\n",
    "# ax1.text(-0.5, 1, 'b', fontweight='bold', fontsize=16, verticalalignment='top', horizontalalignment='left',\n",
    "#         transform=ax1.transAxes)\n",
    "fig.text(rect.get_x()+0.01, rect.get_y() + rect.get_height()-0.02, 'b', fontsize=16, weight='bold',\n",
    "        ha='left', va='top')\n",
    "\n",
    "# for ax in fig.get_axes():\n",
    "#     ax.tick_params(bottom=False, labelbottom=False, left=False, labelleft=False)\n",
    "plt.savefig('plots/merged_author_features.pdf',format='pdf', bbox_inches='tight')"
   ]
  },
  {
   "cell_type": "markdown",
   "id": "27192479",
   "metadata": {},
   "source": [
    "## Merged Plot: Paper Attributes"
   ]
  },
  {
   "cell_type": "code",
   "execution_count": 76,
   "id": "7e485004",
   "metadata": {},
   "outputs": [
    {
     "data": {
      "image/png": "[encoded data removed]",
      "text/plain": [
       "<Figure size 597.6x288 with 6 Axes>"
      ]
     },
     "metadata": {
      "needs_background": "light"
     },
     "output_type": "display_data"
    }
   ],
   "source": [
    "attrited_color = '#8EA7E9'#'#FFD93D'\n",
    "nonattrited_color = \"#fb7285\"\n",
    "other_color = 'gray'\n",
    "\n",
    "# plt.rcParams[\"figure.figsize\"] = (8.3,4)\n",
    "\n",
    "fig = plt.figure(figsize=(8.3,4))\n",
    "\n",
    "ticksize = 7\n",
    "labelsize = 8\n",
    "\n",
    "gs = fig.add_gridspec(6,3)\n",
    "# Venn diagram\n",
    "ax1 = fig.add_subplot(gs[:3, :1])\n",
    "# Venue\n",
    "ax2 = fig.add_subplot(gs[3:, :1])\n",
    "# num coauthors\n",
    "ax3 = fig.add_subplot(gs[:2, 1:2])\n",
    "# reason\n",
    "ax4 = fig.add_subplot(gs[2:, 1:2])\n",
    "# decade\n",
    "ax5 = fig.add_subplot(gs[:3, 2:])\n",
    "# journal ranking\n",
    "ax6 = fig.add_subplot(gs[3:, 2:])\n",
    "\n",
    "# create_attrition_barplot(ax1, ticksize, labelsize, attrited_color,\n",
    "#                         nonattrited_color, other_color)\n",
    "\n",
    "\n",
    "barwidth = 0.35\n",
    "\n",
    "\n",
    "create_venn(ax1, attrited_color, nonattrited_color)\n",
    "\n",
    "create_numauthors_boxplot(ax2)\n",
    "\n",
    "create_venue_plot(ax3, barwidth, ticksize, labelsize,\n",
    "                       attrited_color, nonattrited_color, other_color)\n",
    "\n",
    "# create_venue_plot(ax4, barwidth, ticksize, labelsize,\n",
    "#                        attrited_color, nonattrited_color, other_color)\n",
    "\n",
    "# create_venue_plot(ax5, barwidth, ticksize, labelsize,\n",
    "#                        attrited_color, nonattrited_color, other_color)\n",
    "\n",
    "create_reasons_plot(ax5, barwidth, ticksize, labelsize,\n",
    "                       attrited_color, nonattrited_color, other_color)\n",
    "\n",
    "create_retractionyear_plot(ax4, barwidth, ticksize, labelsize,\n",
    "                       attrited_color, nonattrited_color, other_color)\n",
    "\n",
    "create_journalranking_plot(ax6, barwidth, ticksize, labelsize,\n",
    "                       attrited_color, nonattrited_color, other_color)\n",
    "\n",
    "rect = Rectangle((0, 0), 1, 1, transform=fig.transFigure, fill=False, edgecolor='black')\n",
    "fig.patches.append(rect)\n",
    "\n",
    "fig.text(rect.get_x()+0.01, rect.get_y() + rect.get_height()-0.02, 'c', fontsize=20, weight='bold',\n",
    "        ha='left', va='top')\n",
    "\n",
    "\n",
    "plt.tight_layout()\n",
    "\n",
    "plt.savefig('plots/merged_paper_features.pdf',format='pdf', bbox_inches='tight')\n",
    "\n",
    "\n"
   ]
  },
  {
   "cell_type": "code",
   "execution_count": null,
   "id": "6ee7c2b7",
   "metadata": {},
   "outputs": [],
   "source": []
  },
  {
   "cell_type": "code",
   "execution_count": null,
   "id": "4e3254d4",
   "metadata": {},
   "outputs": [],
   "source": []
  }
 ],
 "metadata": {
  "kernelspec": {
   "display_name": "Python 3 (ipykernel)",
   "language": "python",
   "name": "python3"
  },
  "language_info": {
   "codemirror_mode": {
    "name": "ipython",
    "version": 3
   },
   "file_extension": ".py",
   "mimetype": "text/x-python",
   "name": "python",
   "nbconvert_exporter": "python",
   "pygments_lexer": "ipython3",
   "version": "3.9.4"
  }
 },
 "nbformat": 4,
 "nbformat_minor": 5
}
